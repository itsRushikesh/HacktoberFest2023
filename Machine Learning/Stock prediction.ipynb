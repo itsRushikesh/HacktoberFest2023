{
 "cells": [
  {
   "cell_type": "markdown",
   "metadata": {},
   "source": [
    "# Stock Prediction using linear regression"
   ]
  },
  {
   "cell_type": "markdown",
   "metadata": {},
   "source": [
    "## Importing pakages"
   ]
  },
  {
   "cell_type": "code",
   "execution_count": 41,
   "metadata": {},
   "outputs": [],
   "source": [
    "import matplotlib.pyplot as plt\n",
    "import pandas as pd\n",
    "import pylab as pl\n",
    "import numpy as np\n",
    "%matplotlib inline"
   ]
  },
  {
   "cell_type": "markdown",
   "metadata": {},
   "source": [
    "## Reading Data"
   ]
  },
  {
   "cell_type": "code",
   "execution_count": 42,
   "metadata": {},
   "outputs": [
    {
     "data": {
      "text/html": [
       "<div>\n",
       "<style scoped>\n",
       "    .dataframe tbody tr th:only-of-type {\n",
       "        vertical-align: middle;\n",
       "    }\n",
       "\n",
       "    .dataframe tbody tr th {\n",
       "        vertical-align: top;\n",
       "    }\n",
       "\n",
       "    .dataframe thead th {\n",
       "        text-align: right;\n",
       "    }\n",
       "</style>\n",
       "<table border=\"1\" class=\"dataframe\">\n",
       "  <thead>\n",
       "    <tr style=\"text-align: right;\">\n",
       "      <th></th>\n",
       "      <th>Date</th>\n",
       "      <th>Open</th>\n",
       "      <th>High</th>\n",
       "      <th>Low</th>\n",
       "      <th>Last</th>\n",
       "      <th>Close</th>\n",
       "      <th>Total Trade Quantity</th>\n",
       "      <th>Turnover (Lacs)</th>\n",
       "    </tr>\n",
       "  </thead>\n",
       "  <tbody>\n",
       "    <tr>\n",
       "      <th>0</th>\n",
       "      <td>2018-12-03</td>\n",
       "      <td>1984.00</td>\n",
       "      <td>1990.0</td>\n",
       "      <td>1968.3</td>\n",
       "      <td>1984.00</td>\n",
       "      <td>1982.40</td>\n",
       "      <td>1610576.0</td>\n",
       "      <td>31868.00</td>\n",
       "    </tr>\n",
       "    <tr>\n",
       "      <th>1</th>\n",
       "      <td>2018-12-04</td>\n",
       "      <td>1983.00</td>\n",
       "      <td>2019.4</td>\n",
       "      <td>1971.0</td>\n",
       "      <td>2009.85</td>\n",
       "      <td>2010.85</td>\n",
       "      <td>3270615.0</td>\n",
       "      <td>65568.23</td>\n",
       "    </tr>\n",
       "    <tr>\n",
       "      <th>2</th>\n",
       "      <td>2018-12-05</td>\n",
       "      <td>2006.00</td>\n",
       "      <td>2018.0</td>\n",
       "      <td>1985.0</td>\n",
       "      <td>2003.90</td>\n",
       "      <td>2006.75</td>\n",
       "      <td>2501539.0</td>\n",
       "      <td>50131.23</td>\n",
       "    </tr>\n",
       "    <tr>\n",
       "      <th>3</th>\n",
       "      <td>2018-12-06</td>\n",
       "      <td>1998.00</td>\n",
       "      <td>2017.0</td>\n",
       "      <td>1979.6</td>\n",
       "      <td>1990.00</td>\n",
       "      <td>1992.70</td>\n",
       "      <td>2321216.0</td>\n",
       "      <td>46373.71</td>\n",
       "    </tr>\n",
       "    <tr>\n",
       "      <th>4</th>\n",
       "      <td>2018-12-07</td>\n",
       "      <td>1985.05</td>\n",
       "      <td>2003.9</td>\n",
       "      <td>1973.0</td>\n",
       "      <td>1999.85</td>\n",
       "      <td>1995.20</td>\n",
       "      <td>1680420.0</td>\n",
       "      <td>33463.26</td>\n",
       "    </tr>\n",
       "  </tbody>\n",
       "</table>\n",
       "</div>"
      ],
      "text/plain": [
       "         Date     Open    High     Low     Last    Close  \\\n",
       "0  2018-12-03  1984.00  1990.0  1968.3  1984.00  1982.40   \n",
       "1  2018-12-04  1983.00  2019.4  1971.0  2009.85  2010.85   \n",
       "2  2018-12-05  2006.00  2018.0  1985.0  2003.90  2006.75   \n",
       "3  2018-12-06  1998.00  2017.0  1979.6  1990.00  1992.70   \n",
       "4  2018-12-07  1985.05  2003.9  1973.0  1999.85  1995.20   \n",
       "\n",
       "   Total Trade Quantity  Turnover (Lacs)  \n",
       "0             1610576.0         31868.00  \n",
       "1             3270615.0         65568.23  \n",
       "2             2501539.0         50131.23  \n",
       "3             2321216.0         46373.71  \n",
       "4             1680420.0         33463.26  "
      ]
     },
     "execution_count": 42,
     "metadata": {},
     "output_type": "execute_result"
    }
   ],
   "source": [
    "df=pd.read_csv(\"TCS.csv\")\n",
    "df.head()"
   ]
  },
  {
   "cell_type": "markdown",
   "metadata": {},
   "source": [
    "# Data Exploration"
   ]
  },
  {
   "cell_type": "code",
   "execution_count": 43,
   "metadata": {},
   "outputs": [
    {
     "data": {
      "text/html": [
       "<div>\n",
       "<style scoped>\n",
       "    .dataframe tbody tr th:only-of-type {\n",
       "        vertical-align: middle;\n",
       "    }\n",
       "\n",
       "    .dataframe tbody tr th {\n",
       "        vertical-align: top;\n",
       "    }\n",
       "\n",
       "    .dataframe thead th {\n",
       "        text-align: right;\n",
       "    }\n",
       "</style>\n",
       "<table border=\"1\" class=\"dataframe\">\n",
       "  <thead>\n",
       "    <tr style=\"text-align: right;\">\n",
       "      <th></th>\n",
       "      <th>Open</th>\n",
       "      <th>High</th>\n",
       "      <th>Low</th>\n",
       "      <th>Last</th>\n",
       "      <th>Close</th>\n",
       "      <th>Total Trade Quantity</th>\n",
       "      <th>Turnover (Lacs)</th>\n",
       "    </tr>\n",
       "  </thead>\n",
       "  <tbody>\n",
       "    <tr>\n",
       "      <th>count</th>\n",
       "      <td>20.000000</td>\n",
       "      <td>20.0000</td>\n",
       "      <td>20.000000</td>\n",
       "      <td>20.00000</td>\n",
       "      <td>20.000000</td>\n",
       "      <td>2.000000e+01</td>\n",
       "      <td>20.000000</td>\n",
       "    </tr>\n",
       "    <tr>\n",
       "      <th>mean</th>\n",
       "      <td>1967.312500</td>\n",
       "      <td>1983.3975</td>\n",
       "      <td>1945.655000</td>\n",
       "      <td>1962.97750</td>\n",
       "      <td>1962.952500</td>\n",
       "      <td>2.467144e+06</td>\n",
       "      <td>48423.724000</td>\n",
       "    </tr>\n",
       "    <tr>\n",
       "      <th>std</th>\n",
       "      <td>36.938946</td>\n",
       "      <td>38.7280</td>\n",
       "      <td>42.023142</td>\n",
       "      <td>42.98135</td>\n",
       "      <td>44.704991</td>\n",
       "      <td>8.906054e+05</td>\n",
       "      <td>17225.204775</td>\n",
       "    </tr>\n",
       "    <tr>\n",
       "      <th>min</th>\n",
       "      <td>1905.800000</td>\n",
       "      <td>1909.0000</td>\n",
       "      <td>1870.250000</td>\n",
       "      <td>1892.00000</td>\n",
       "      <td>1889.200000</td>\n",
       "      <td>1.227921e+06</td>\n",
       "      <td>24482.950000</td>\n",
       "    </tr>\n",
       "    <tr>\n",
       "      <th>25%</th>\n",
       "      <td>1941.450000</td>\n",
       "      <td>1947.9250</td>\n",
       "      <td>1902.000000</td>\n",
       "      <td>1918.77500</td>\n",
       "      <td>1916.112500</td>\n",
       "      <td>1.875834e+06</td>\n",
       "      <td>35820.857500</td>\n",
       "    </tr>\n",
       "    <tr>\n",
       "      <th>50%</th>\n",
       "      <td>1983.000000</td>\n",
       "      <td>2000.4750</td>\n",
       "      <td>1964.650000</td>\n",
       "      <td>1982.97500</td>\n",
       "      <td>1982.500000</td>\n",
       "      <td>2.280173e+06</td>\n",
       "      <td>45388.200000</td>\n",
       "    </tr>\n",
       "    <tr>\n",
       "      <th>75%</th>\n",
       "      <td>1993.425000</td>\n",
       "      <td>2012.5000</td>\n",
       "      <td>1975.537500</td>\n",
       "      <td>1993.93750</td>\n",
       "      <td>1994.525000</td>\n",
       "      <td>2.611658e+06</td>\n",
       "      <td>52257.487500</td>\n",
       "    </tr>\n",
       "    <tr>\n",
       "      <th>max</th>\n",
       "      <td>2024.000000</td>\n",
       "      <td>2029.7000</td>\n",
       "      <td>1985.000000</td>\n",
       "      <td>2016.50000</td>\n",
       "      <td>2016.800000</td>\n",
       "      <td>4.968201e+06</td>\n",
       "      <td>95411.460000</td>\n",
       "    </tr>\n",
       "  </tbody>\n",
       "</table>\n",
       "</div>"
      ],
      "text/plain": [
       "              Open       High          Low        Last        Close  \\\n",
       "count    20.000000    20.0000    20.000000    20.00000    20.000000   \n",
       "mean   1967.312500  1983.3975  1945.655000  1962.97750  1962.952500   \n",
       "std      36.938946    38.7280    42.023142    42.98135    44.704991   \n",
       "min    1905.800000  1909.0000  1870.250000  1892.00000  1889.200000   \n",
       "25%    1941.450000  1947.9250  1902.000000  1918.77500  1916.112500   \n",
       "50%    1983.000000  2000.4750  1964.650000  1982.97500  1982.500000   \n",
       "75%    1993.425000  2012.5000  1975.537500  1993.93750  1994.525000   \n",
       "max    2024.000000  2029.7000  1985.000000  2016.50000  2016.800000   \n",
       "\n",
       "       Total Trade Quantity  Turnover (Lacs)  \n",
       "count          2.000000e+01        20.000000  \n",
       "mean           2.467144e+06     48423.724000  \n",
       "std            8.906054e+05     17225.204775  \n",
       "min            1.227921e+06     24482.950000  \n",
       "25%            1.875834e+06     35820.857500  \n",
       "50%            2.280173e+06     45388.200000  \n",
       "75%            2.611658e+06     52257.487500  \n",
       "max            4.968201e+06     95411.460000  "
      ]
     },
     "execution_count": 43,
     "metadata": {},
     "output_type": "execute_result"
    }
   ],
   "source": [
    "df.describe()"
   ]
  },
  {
   "cell_type": "code",
   "execution_count": 44,
   "metadata": {},
   "outputs": [
    {
     "data": {
      "image/png": "[encoded data removed]",
      "text/plain": [
       "<Figure size 640x480 with 4 Axes>"
      ]
     },
     "metadata": {},
     "output_type": "display_data"
    }
   ],
   "source": [
    "viz=df[['Open','High','Low','Close']]\n",
    "viz.hist()\n",
    "plt.show()"
   ]
  },
  {
   "cell_type": "markdown",
   "metadata": {},
   "source": [
    "# Creating test and train dataset"
   ]
  },
  {
   "cell_type": "code",
   "execution_count": 45,
   "metadata": {},
   "outputs": [
    {
     "name": "stdout",
     "output_type": "stream",
     "text": [
      "Train set: (16, 2) (16,)\n",
      "Test set: (4, 2) (4,)\n"
     ]
    }
   ],
   "source": [
    "from sklearn.model_selection import train_test_split\n",
    "x=df[['Open','Turnover (Lacs)']].values\n",
    "y=df['High'].values\n",
    "x_train,x_test,y_train,y_test=train_test_split(x,y,test_size=0.2,random_state=4)\n",
    "print(\"Train set:\",x_train.shape,y_train.shape)\n",
    "print(\"Test set:\",x_test.shape,y_test.shape)"
   ]
  },
  {
   "cell_type": "markdown",
   "metadata": {},
   "source": [
    "# Training the model"
   ]
  },
  {
   "cell_type": "code",
   "execution_count": 46,
   "metadata": {},
   "outputs": [
    {
     "name": "stdout",
     "output_type": "stream",
     "text": [
      "Predicted values: [1930.00342689 2011.16701355 1936.68729596 1986.84597997]\n",
      "Actual values: [1909. 2017. 1920. 2010.]\n",
      "Error: 4.7346674119246845\n"
     ]
    }
   ],
   "source": [
    "from sklearn import linear_model\n",
    "regr=linear_model.LinearRegression()\n",
    "regr.fit(x_train,y_train)\n",
    "predy=regr.predict(x_test)\n",
    "print(\"Predicted values:\",predy[0:5])\n",
    "print(\"Actual values:\",y_test[0:5])\n",
    "error=np.mean(predy-y_test)**2\n",
    "print(\"Error:\",error)\n"
   ]
  },
  {
   "cell_type": "markdown",
   "metadata": {},
   "source": [
    "### Therefore, we can see the eman squard error is 4.73"
   ]
  }
 ],
 "metadata": {
  "kernelspec": {
   "display_name": "Python 3",
   "language": "python",
   "name": "python3"
  },
  "language_info": {
   "codemirror_mode": {
    "name": "ipython",
    "version": 3
   },
   "file_extension": ".py",
   "mimetype": "text/x-python",
   "name": "python",
   "nbconvert_exporter": "python",
   "pygments_lexer": "ipython3",
   "version": "3.11.5"
  },
  "orig_nbformat": 4
 },
 "nbformat": 4,
 "nbformat_minor": 2
}
