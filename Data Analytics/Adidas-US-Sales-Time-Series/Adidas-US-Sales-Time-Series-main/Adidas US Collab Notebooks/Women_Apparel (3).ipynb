{
  "cells": [
    {
      "cell_type": "markdown",
      "metadata": {
        "id": "ZTeIsQVekfmy"
      },
      "source": [
        "#Imports\n"
      ]
    },
    {
      "cell_type": "code",
      "execution_count": 50,
      "metadata": {
        "colab": {
          "base_uri": "https://localhost:8080/"
        },
        "id": "e8Qi2Hnd7Hrk",
        "outputId": "3b4db784-253b-4ea1-af3e-67f64ca8f6d7"
      },
      "outputs": [
        {
          "output_type": "stream",
          "name": "stdout",
          "text": [
            "Requirement already satisfied: pmdarima in /usr/local/lib/python3.10/dist-packages (2.0.3)\n",
            "Requirement already satisfied: joblib>=0.11 in /usr/local/lib/python3.10/dist-packages (from pmdarima) (1.3.1)\n",
            "Requirement already satisfied: Cython!=0.29.18,!=0.29.31,>=0.29 in /usr/local/lib/python3.10/dist-packages (from pmdarima) (0.29.36)\n",
            "Requirement already satisfied: numpy>=1.21.2 in /usr/local/lib/python3.10/dist-packages (from pmdarima) (1.23.5)\n",
            "Requirement already satisfied: pandas>=0.19 in /usr/local/lib/python3.10/dist-packages (from pmdarima) (1.5.3)\n",
            "Requirement already satisfied: scikit-learn>=0.22 in /usr/local/lib/python3.10/dist-packages (from pmdarima) (1.2.2)\n",
            "Requirement already satisfied: scipy>=1.3.2 in /usr/local/lib/python3.10/dist-packages (from pmdarima) (1.10.1)\n",
            "Requirement already satisfied: statsmodels>=0.13.2 in /usr/local/lib/python3.10/dist-packages (from pmdarima) (0.13.5)\n",
            "Requirement already satisfied: urllib3 in /usr/local/lib/python3.10/dist-packages (from pmdarima) (1.26.16)\n",
            "Requirement already satisfied: setuptools!=50.0.0,>=38.6.0 in /usr/local/lib/python3.10/dist-packages (from pmdarima) (67.7.2)\n",
            "Requirement already satisfied: python-dateutil>=2.8.1 in /usr/local/lib/python3.10/dist-packages (from pandas>=0.19->pmdarima) (2.8.2)\n",
            "Requirement already satisfied: pytz>=2020.1 in /usr/local/lib/python3.10/dist-packages (from pandas>=0.19->pmdarima) (2022.7.1)\n",
            "Requirement already satisfied: threadpoolctl>=2.0.0 in /usr/local/lib/python3.10/dist-packages (from scikit-learn>=0.22->pmdarima) (3.2.0)\n",
            "Requirement already satisfied: patsy>=0.5.2 in /usr/local/lib/python3.10/dist-packages (from statsmodels>=0.13.2->pmdarima) (0.5.3)\n",
            "Requirement already satisfied: packaging>=21.3 in /usr/local/lib/python3.10/dist-packages (from statsmodels>=0.13.2->pmdarima) (23.1)\n",
            "Requirement already satisfied: six in /usr/local/lib/python3.10/dist-packages (from patsy>=0.5.2->statsmodels>=0.13.2->pmdarima) (1.16.0)\n"
          ]
        }
      ],
      "source": [
        "!pip install pmdarima"
      ]
    },
    {
      "cell_type": "code",
      "execution_count": 51,
      "metadata": {
        "colab": {
          "base_uri": "https://localhost:8080/"
        },
        "id": "qtQXujcrmp5w",
        "outputId": "f8f9e859-0d85-4c21-f20b-d183086e2614"
      },
      "outputs": [
        {
          "output_type": "stream",
          "name": "stdout",
          "text": [
            "Requirement already satisfied: pandas-profiling in /usr/local/lib/python3.10/dist-packages (3.6.6)\n",
            "Requirement already satisfied: ydata-profiling in /usr/local/lib/python3.10/dist-packages (from pandas-profiling) (4.4.0)\n",
            "Requirement already satisfied: scipy<1.12,>=1.4.1 in /usr/local/lib/python3.10/dist-packages (from ydata-profiling->pandas-profiling) (1.10.1)\n",
            "Requirement already satisfied: pandas!=1.4.0,<2.1,>1.1 in /usr/local/lib/python3.10/dist-packages (from ydata-profiling->pandas-profiling) (1.5.3)\n",
            "Requirement already satisfied: matplotlib<4,>=3.2 in /usr/local/lib/python3.10/dist-packages (from ydata-profiling->pandas-profiling) (3.7.1)\n",
            "Requirement already satisfied: pydantic<2,>=1.8.1 in /usr/local/lib/python3.10/dist-packages (from ydata-profiling->pandas-profiling) (1.10.12)\n",
            "Requirement already satisfied: PyYAML<6.1,>=5.0.0 in /usr/local/lib/python3.10/dist-packages (from ydata-profiling->pandas-profiling) (6.0.1)\n",
            "Requirement already satisfied: jinja2<3.2,>=2.11.1 in /usr/local/lib/python3.10/dist-packages (from ydata-profiling->pandas-profiling) (3.1.2)\n",
            "Requirement already satisfied: visions[type_image_path]==0.7.5 in /usr/local/lib/python3.10/dist-packages (from ydata-profiling->pandas-profiling) (0.7.5)\n",
            "Requirement already satisfied: numpy<1.24,>=1.16.0 in /usr/local/lib/python3.10/dist-packages (from ydata-profiling->pandas-profiling) (1.23.5)\n",
            "Requirement already satisfied: htmlmin==0.1.12 in /usr/local/lib/python3.10/dist-packages (from ydata-profiling->pandas-profiling) (0.1.12)\n",
            "Requirement already satisfied: phik<0.13,>=0.11.1 in /usr/local/lib/python3.10/dist-packages (from ydata-profiling->pandas-profiling) (0.12.3)\n",
            "Requirement already satisfied: requests<3,>=2.24.0 in /usr/local/lib/python3.10/dist-packages (from ydata-profiling->pandas-profiling) (2.31.0)\n",
            "Requirement already satisfied: tqdm<5,>=4.48.2 in /usr/local/lib/python3.10/dist-packages (from ydata-profiling->pandas-profiling) (4.65.0)\n",
            "Requirement already satisfied: seaborn<0.13,>=0.10.1 in /usr/local/lib/python3.10/dist-packages (from ydata-profiling->pandas-profiling) (0.12.2)\n",
            "Requirement already satisfied: multimethod<2,>=1.4 in /usr/local/lib/python3.10/dist-packages (from ydata-profiling->pandas-profiling) (1.9.1)\n",
            "Requirement already satisfied: statsmodels<1,>=0.13.2 in /usr/local/lib/python3.10/dist-packages (from ydata-profiling->pandas-profiling) (0.13.5)\n",
            "Requirement already satisfied: typeguard<3,>=2.13.2 in /usr/local/lib/python3.10/dist-packages (from ydata-profiling->pandas-profiling) (2.13.3)\n",
            "Requirement already satisfied: imagehash==4.3.1 in /usr/local/lib/python3.10/dist-packages (from ydata-profiling->pandas-profiling) (4.3.1)\n",
            "Requirement already satisfied: wordcloud>=1.9.1 in /usr/local/lib/python3.10/dist-packages (from ydata-profiling->pandas-profiling) (1.9.2)\n",
            "Requirement already satisfied: dacite>=1.8 in /usr/local/lib/python3.10/dist-packages (from ydata-profiling->pandas-profiling) (1.8.1)\n",
            "Requirement already satisfied: PyWavelets in /usr/local/lib/python3.10/dist-packages (from imagehash==4.3.1->ydata-profiling->pandas-profiling) (1.4.1)\n",
            "Requirement already satisfied: pillow in /usr/local/lib/python3.10/dist-packages (from imagehash==4.3.1->ydata-profiling->pandas-profiling) (9.4.0)\n",
            "Requirement already satisfied: attrs>=19.3.0 in /usr/local/lib/python3.10/dist-packages (from visions[type_image_path]==0.7.5->ydata-profiling->pandas-profiling) (23.1.0)\n",
            "Requirement already satisfied: networkx>=2.4 in /usr/local/lib/python3.10/dist-packages (from visions[type_image_path]==0.7.5->ydata-profiling->pandas-profiling) (3.1)\n",
            "Requirement already satisfied: tangled-up-in-unicode>=0.0.4 in /usr/local/lib/python3.10/dist-packages (from visions[type_image_path]==0.7.5->ydata-profiling->pandas-profiling) (0.2.0)\n",
            "Requirement already satisfied: MarkupSafe>=2.0 in /usr/local/lib/python3.10/dist-packages (from jinja2<3.2,>=2.11.1->ydata-profiling->pandas-profiling) (2.1.3)\n",
            "Requirement already satisfied: contourpy>=1.0.1 in /usr/local/lib/python3.10/dist-packages (from matplotlib<4,>=3.2->ydata-profiling->pandas-profiling) (1.1.0)\n",
            "Requirement already satisfied: cycler>=0.10 in /usr/local/lib/python3.10/dist-packages (from matplotlib<4,>=3.2->ydata-profiling->pandas-profiling) (0.11.0)\n",
            "Requirement already satisfied: fonttools>=4.22.0 in /usr/local/lib/python3.10/dist-packages (from matplotlib<4,>=3.2->ydata-profiling->pandas-profiling) (4.42.0)\n",
            "Requirement already satisfied: kiwisolver>=1.0.1 in /usr/local/lib/python3.10/dist-packages (from matplotlib<4,>=3.2->ydata-profiling->pandas-profiling) (1.4.4)\n",
            "Requirement already satisfied: packaging>=20.0 in /usr/local/lib/python3.10/dist-packages (from matplotlib<4,>=3.2->ydata-profiling->pandas-profiling) (23.1)\n",
            "Requirement already satisfied: pyparsing>=2.3.1 in /usr/local/lib/python3.10/dist-packages (from matplotlib<4,>=3.2->ydata-profiling->pandas-profiling) (3.1.1)\n",
            "Requirement already satisfied: python-dateutil>=2.7 in /usr/local/lib/python3.10/dist-packages (from matplotlib<4,>=3.2->ydata-profiling->pandas-profiling) (2.8.2)\n",
            "Requirement already satisfied: pytz>=2020.1 in /usr/local/lib/python3.10/dist-packages (from pandas!=1.4.0,<2.1,>1.1->ydata-profiling->pandas-profiling) (2022.7.1)\n",
            "Requirement already satisfied: joblib>=0.14.1 in /usr/local/lib/python3.10/dist-packages (from phik<0.13,>=0.11.1->ydata-profiling->pandas-profiling) (1.3.1)\n",
            "Requirement already satisfied: typing-extensions>=4.2.0 in /usr/local/lib/python3.10/dist-packages (from pydantic<2,>=1.8.1->ydata-profiling->pandas-profiling) (4.7.1)\n",
            "Requirement already satisfied: charset-normalizer<4,>=2 in /usr/local/lib/python3.10/dist-packages (from requests<3,>=2.24.0->ydata-profiling->pandas-profiling) (3.2.0)\n",
            "Requirement already satisfied: idna<4,>=2.5 in /usr/local/lib/python3.10/dist-packages (from requests<3,>=2.24.0->ydata-profiling->pandas-profiling) (3.4)\n",
            "Requirement already satisfied: urllib3<3,>=1.21.1 in /usr/local/lib/python3.10/dist-packages (from requests<3,>=2.24.0->ydata-profiling->pandas-profiling) (1.26.16)\n",
            "Requirement already satisfied: certifi>=2017.4.17 in /usr/local/lib/python3.10/dist-packages (from requests<3,>=2.24.0->ydata-profiling->pandas-profiling) (2023.7.22)\n",
            "Requirement already satisfied: patsy>=0.5.2 in /usr/local/lib/python3.10/dist-packages (from statsmodels<1,>=0.13.2->ydata-profiling->pandas-profiling) (0.5.3)\n",
            "Requirement already satisfied: six in /usr/local/lib/python3.10/dist-packages (from patsy>=0.5.2->statsmodels<1,>=0.13.2->ydata-profiling->pandas-profiling) (1.16.0)\n"
          ]
        }
      ],
      "source": [
        "!pip install pandas-profiling"
      ]
    },
    {
      "cell_type": "code",
      "execution_count": 52,
      "metadata": {
        "id": "cM6C9ay9nZO1",
        "colab": {
          "base_uri": "https://localhost:8080/"
        },
        "outputId": "f0923f86-7b59-4d56-d602-aac2bb21fb44"
      },
      "outputs": [
        {
          "output_type": "stream",
          "name": "stdout",
          "text": [
            "Requirement already satisfied: dtale in /usr/local/lib/python3.10/dist-packages (3.3.0)\n",
            "Requirement already satisfied: dash-colorscales in /usr/local/lib/python3.10/dist-packages (from dtale) (0.0.4)\n",
            "Requirement already satisfied: dash-daq in /usr/local/lib/python3.10/dist-packages (from dtale) (0.5.0)\n",
            "Requirement already satisfied: Flask-Compress in /usr/local/lib/python3.10/dist-packages (from dtale) (1.13)\n",
            "Requirement already satisfied: future>=0.14.0 in /usr/local/lib/python3.10/dist-packages (from dtale) (0.18.3)\n",
            "Requirement already satisfied: kaleido in /usr/local/lib/python3.10/dist-packages (from dtale) (0.2.1)\n",
            "Requirement already satisfied: missingno in /usr/local/lib/python3.10/dist-packages (from dtale) (0.5.2)\n",
            "Requirement already satisfied: pandas in /usr/local/lib/python3.10/dist-packages (from dtale) (1.5.3)\n",
            "Requirement already satisfied: squarify in /usr/local/lib/python3.10/dist-packages (from dtale) (0.4.3)\n",
            "Requirement already satisfied: strsimpy in /usr/local/lib/python3.10/dist-packages (from dtale) (0.2.1)\n",
            "Requirement already satisfied: six in /usr/local/lib/python3.10/dist-packages (from dtale) (1.16.0)\n",
            "Requirement already satisfied: xlrd in /usr/local/lib/python3.10/dist-packages (from dtale) (2.0.1)\n",
            "Requirement already satisfied: beautifulsoup4 in /usr/local/lib/python3.10/dist-packages (from dtale) (4.11.2)\n",
            "Requirement already satisfied: certifi in /usr/local/lib/python3.10/dist-packages (from dtale) (2023.7.22)\n",
            "Requirement already satisfied: cycler in /usr/local/lib/python3.10/dist-packages (from dtale) (0.11.0)\n",
            "Requirement already satisfied: flask-ngrok in /usr/local/lib/python3.10/dist-packages (from dtale) (0.0.25)\n",
            "Requirement already satisfied: lz4 in /usr/local/lib/python3.10/dist-packages (from dtale) (4.3.2)\n",
            "Requirement already satisfied: dash-bootstrap-components<=1.3.1 in /usr/local/lib/python3.10/dist-packages (from dtale) (1.3.1)\n",
            "Requirement already satisfied: seaborn in /usr/local/lib/python3.10/dist-packages (from dtale) (0.12.2)\n",
            "Requirement already satisfied: networkx in /usr/local/lib/python3.10/dist-packages (from dtale) (3.1)\n",
            "Requirement already satisfied: scikit-learn in /usr/local/lib/python3.10/dist-packages (from dtale) (1.2.2)\n",
            "Requirement already satisfied: statsmodels in /usr/local/lib/python3.10/dist-packages (from dtale) (0.13.5)\n",
            "Requirement already satisfied: numpy in /usr/local/lib/python3.10/dist-packages (from dtale) (1.23.5)\n",
            "Requirement already satisfied: openpyxl!=3.2.0b1 in /usr/local/lib/python3.10/dist-packages (from dtale) (3.0.10)\n",
            "Requirement already satisfied: xarray in /usr/local/lib/python3.10/dist-packages (from dtale) (2022.12.0)\n",
            "Requirement already satisfied: dash in /usr/local/lib/python3.10/dist-packages (from dtale) (2.11.1)\n",
            "Requirement already satisfied: et-xmlfile in /usr/local/lib/python3.10/dist-packages (from dtale) (1.1.0)\n",
            "Requirement already satisfied: plotly in /usr/local/lib/python3.10/dist-packages (from dtale) (5.13.1)\n",
            "Requirement already satisfied: Flask<2.3 in /usr/local/lib/python3.10/dist-packages (from dtale) (2.2.5)\n",
            "Requirement already satisfied: itsdangerous in /usr/local/lib/python3.10/dist-packages (from dtale) (2.1.2)\n",
            "Requirement already satisfied: requests in /usr/local/lib/python3.10/dist-packages (from dtale) (2.31.0)\n",
            "Requirement already satisfied: werkzeug<2.3 in /usr/local/lib/python3.10/dist-packages (from dtale) (2.2.3)\n",
            "Requirement already satisfied: matplotlib in /usr/local/lib/python3.10/dist-packages (from dtale) (3.7.1)\n",
            "Requirement already satisfied: scipy in /usr/local/lib/python3.10/dist-packages (from dtale) (1.10.1)\n",
            "Requirement already satisfied: dash-html-components==2.0.0 in /usr/local/lib/python3.10/dist-packages (from dash->dtale) (2.0.0)\n",
            "Requirement already satisfied: dash-core-components==2.0.0 in /usr/local/lib/python3.10/dist-packages (from dash->dtale) (2.0.0)\n",
            "Requirement already satisfied: dash-table==5.0.0 in /usr/local/lib/python3.10/dist-packages (from dash->dtale) (5.0.0)\n",
            "Requirement already satisfied: typing-extensions>=4.1.1 in /usr/local/lib/python3.10/dist-packages (from dash->dtale) (4.7.1)\n",
            "Requirement already satisfied: retrying in /usr/local/lib/python3.10/dist-packages (from dash->dtale) (1.3.4)\n",
            "Requirement already satisfied: ansi2html in /usr/local/lib/python3.10/dist-packages (from dash->dtale) (1.8.0)\n",
            "Requirement already satisfied: nest-asyncio in /usr/local/lib/python3.10/dist-packages (from dash->dtale) (1.5.7)\n",
            "Requirement already satisfied: Jinja2>=3.0 in /usr/local/lib/python3.10/dist-packages (from Flask<2.3->dtale) (3.1.2)\n",
            "Requirement already satisfied: click>=8.0 in /usr/local/lib/python3.10/dist-packages (from Flask<2.3->dtale) (8.1.6)\n",
            "Requirement already satisfied: tenacity>=6.2.0 in /usr/local/lib/python3.10/dist-packages (from plotly->dtale) (8.2.2)\n",
            "Requirement already satisfied: MarkupSafe>=2.1.1 in /usr/local/lib/python3.10/dist-packages (from werkzeug<2.3->dtale) (2.1.3)\n",
            "Requirement already satisfied: soupsieve>1.2 in /usr/local/lib/python3.10/dist-packages (from beautifulsoup4->dtale) (2.4.1)\n",
            "Requirement already satisfied: brotli in /usr/local/lib/python3.10/dist-packages (from Flask-Compress->dtale) (1.0.9)\n",
            "Requirement already satisfied: contourpy>=1.0.1 in /usr/local/lib/python3.10/dist-packages (from matplotlib->dtale) (1.1.0)\n",
            "Requirement already satisfied: fonttools>=4.22.0 in /usr/local/lib/python3.10/dist-packages (from matplotlib->dtale) (4.42.0)\n",
            "Requirement already satisfied: kiwisolver>=1.0.1 in /usr/local/lib/python3.10/dist-packages (from matplotlib->dtale) (1.4.4)\n",
            "Requirement already satisfied: packaging>=20.0 in /usr/local/lib/python3.10/dist-packages (from matplotlib->dtale) (23.1)\n",
            "Requirement already satisfied: pillow>=6.2.0 in /usr/local/lib/python3.10/dist-packages (from matplotlib->dtale) (9.4.0)\n",
            "Requirement already satisfied: pyparsing>=2.3.1 in /usr/local/lib/python3.10/dist-packages (from matplotlib->dtale) (3.1.1)\n",
            "Requirement already satisfied: python-dateutil>=2.7 in /usr/local/lib/python3.10/dist-packages (from matplotlib->dtale) (2.8.2)\n",
            "Requirement already satisfied: pytz>=2020.1 in /usr/local/lib/python3.10/dist-packages (from pandas->dtale) (2022.7.1)\n",
            "Requirement already satisfied: charset-normalizer<4,>=2 in /usr/local/lib/python3.10/dist-packages (from requests->dtale) (3.2.0)\n",
            "Requirement already satisfied: idna<4,>=2.5 in /usr/local/lib/python3.10/dist-packages (from requests->dtale) (3.4)\n",
            "Requirement already satisfied: urllib3<3,>=1.21.1 in /usr/local/lib/python3.10/dist-packages (from requests->dtale) (1.26.16)\n",
            "Requirement already satisfied: joblib>=1.1.1 in /usr/local/lib/python3.10/dist-packages (from scikit-learn->dtale) (1.3.1)\n",
            "Requirement already satisfied: threadpoolctl>=2.0.0 in /usr/local/lib/python3.10/dist-packages (from scikit-learn->dtale) (3.2.0)\n",
            "Requirement already satisfied: patsy>=0.5.2 in /usr/local/lib/python3.10/dist-packages (from statsmodels->dtale) (0.5.3)\n"
          ]
        }
      ],
      "source": [
        "!pip install dtale"
      ]
    },
    {
      "cell_type": "code",
      "execution_count": 53,
      "metadata": {
        "id": "iURY6mO6H8h9",
        "colab": {
          "base_uri": "https://localhost:8080/"
        },
        "outputId": "e84aac5f-92bb-4ce6-a13a-031406082b46"
      },
      "outputs": [
        {
          "output_type": "stream",
          "name": "stdout",
          "text": [
            "Requirement already satisfied: cmake in /usr/local/lib/python3.10/dist-packages (3.25.2)\n"
          ]
        }
      ],
      "source": [
        "pip install cmake"
      ]
    },
    {
      "cell_type": "code",
      "execution_count": 54,
      "metadata": {
        "colab": {
          "base_uri": "https://localhost:8080/"
        },
        "id": "nIapfJbzIfwx",
        "outputId": "f5b362ee-145b-4e4e-f24b-b054e231211b"
      },
      "outputs": [
        {
          "output_type": "stream",
          "name": "stdout",
          "text": [
            "Requirement already satisfied: pystan in /usr/local/lib/python3.10/dist-packages (3.7.0)\n",
            "Requirement already satisfied: aiohttp<4.0,>=3.6 in /usr/local/lib/python3.10/dist-packages (from pystan) (3.8.5)\n",
            "Requirement already satisfied: clikit<0.7,>=0.6 in /usr/local/lib/python3.10/dist-packages (from pystan) (0.6.2)\n",
            "Requirement already satisfied: httpstan<4.11,>=4.10 in /usr/local/lib/python3.10/dist-packages (from pystan) (4.10.1)\n",
            "Requirement already satisfied: numpy<2.0,>=1.19 in /usr/local/lib/python3.10/dist-packages (from pystan) (1.23.5)\n",
            "Requirement already satisfied: pysimdjson<6.0.0,>=5.0.2 in /usr/local/lib/python3.10/dist-packages (from pystan) (5.0.2)\n",
            "Requirement already satisfied: setuptools in /usr/local/lib/python3.10/dist-packages (from pystan) (67.7.2)\n",
            "Requirement already satisfied: attrs>=17.3.0 in /usr/local/lib/python3.10/dist-packages (from aiohttp<4.0,>=3.6->pystan) (23.1.0)\n",
            "Requirement already satisfied: charset-normalizer<4.0,>=2.0 in /usr/local/lib/python3.10/dist-packages (from aiohttp<4.0,>=3.6->pystan) (3.2.0)\n",
            "Requirement already satisfied: multidict<7.0,>=4.5 in /usr/local/lib/python3.10/dist-packages (from aiohttp<4.0,>=3.6->pystan) (6.0.4)\n",
            "Requirement already satisfied: async-timeout<5.0,>=4.0.0a3 in /usr/local/lib/python3.10/dist-packages (from aiohttp<4.0,>=3.6->pystan) (4.0.2)\n",
            "Requirement already satisfied: yarl<2.0,>=1.0 in /usr/local/lib/python3.10/dist-packages (from aiohttp<4.0,>=3.6->pystan) (1.9.2)\n",
            "Requirement already satisfied: frozenlist>=1.1.1 in /usr/local/lib/python3.10/dist-packages (from aiohttp<4.0,>=3.6->pystan) (1.4.0)\n",
            "Requirement already satisfied: aiosignal>=1.1.2 in /usr/local/lib/python3.10/dist-packages (from aiohttp<4.0,>=3.6->pystan) (1.3.1)\n",
            "Requirement already satisfied: crashtest<0.4.0,>=0.3.0 in /usr/local/lib/python3.10/dist-packages (from clikit<0.7,>=0.6->pystan) (0.3.1)\n",
            "Requirement already satisfied: pastel<0.3.0,>=0.2.0 in /usr/local/lib/python3.10/dist-packages (from clikit<0.7,>=0.6->pystan) (0.2.1)\n",
            "Requirement already satisfied: pylev<2.0,>=1.3 in /usr/local/lib/python3.10/dist-packages (from clikit<0.7,>=0.6->pystan) (1.4.0)\n",
            "Requirement already satisfied: appdirs<2.0,>=1.4 in /usr/local/lib/python3.10/dist-packages (from httpstan<4.11,>=4.10->pystan) (1.4.4)\n",
            "Requirement already satisfied: marshmallow<4.0,>=3.10 in /usr/local/lib/python3.10/dist-packages (from httpstan<4.11,>=4.10->pystan) (3.20.1)\n",
            "Requirement already satisfied: webargs<9.0,>=8.0 in /usr/local/lib/python3.10/dist-packages (from httpstan<4.11,>=4.10->pystan) (8.3.0)\n",
            "Requirement already satisfied: packaging>=17.0 in /usr/local/lib/python3.10/dist-packages (from marshmallow<4.0,>=3.10->httpstan<4.11,>=4.10->pystan) (23.1)\n",
            "Requirement already satisfied: idna>=2.0 in /usr/local/lib/python3.10/dist-packages (from yarl<2.0,>=1.0->aiohttp<4.0,>=3.6->pystan) (3.4)\n"
          ]
        }
      ],
      "source": [
        "pip install pystan"
      ]
    },
    {
      "cell_type": "code",
      "execution_count": 55,
      "metadata": {
        "colab": {
          "base_uri": "https://localhost:8080/"
        },
        "id": "GaNhKXX9IgVy",
        "outputId": "05796dd7-f9f3-40c3-819d-222c6326e610"
      },
      "outputs": [
        {
          "output_type": "stream",
          "name": "stdout",
          "text": [
            "Requirement already satisfied: wheel in /usr/local/lib/python3.10/dist-packages (0.41.0)\n",
            "Requirement already satisfied: setuptools in /usr/local/lib/python3.10/dist-packages (67.7.2)\n"
          ]
        }
      ],
      "source": [
        "pip install wheel setuptools"
      ]
    },
    {
      "cell_type": "code",
      "execution_count": 56,
      "metadata": {
        "colab": {
          "base_uri": "https://localhost:8080/"
        },
        "id": "vivm3nD7Ii4Y",
        "outputId": "da2dfdca-ba05-46ba-ce1c-f55bceed9586"
      },
      "outputs": [
        {
          "output_type": "stream",
          "name": "stdout",
          "text": [
            "Collecting fbprophet\n",
            "  Using cached fbprophet-0.7.1.tar.gz (64 kB)\n",
            "  Preparing metadata (setup.py) ... \u001b[?25l\u001b[?25hdone\n",
            "Requirement already satisfied: Cython>=0.22 in /usr/local/lib/python3.10/dist-packages (from fbprophet) (0.29.36)\n",
            "Collecting cmdstanpy==0.9.5 (from fbprophet)\n",
            "  Using cached cmdstanpy-0.9.5-py3-none-any.whl (37 kB)\n",
            "Requirement already satisfied: pystan>=2.14 in /usr/local/lib/python3.10/dist-packages (from fbprophet) (3.7.0)\n",
            "Requirement already satisfied: numpy>=1.15.4 in /usr/local/lib/python3.10/dist-packages (from fbprophet) (1.23.5)\n",
            "Requirement already satisfied: pandas>=1.0.4 in /usr/local/lib/python3.10/dist-packages (from fbprophet) (1.5.3)\n",
            "Requirement already satisfied: matplotlib>=2.0.0 in /usr/local/lib/python3.10/dist-packages (from fbprophet) (3.7.1)\n",
            "Requirement already satisfied: LunarCalendar>=0.0.9 in /usr/local/lib/python3.10/dist-packages (from fbprophet) (0.0.9)\n",
            "Requirement already satisfied: convertdate>=2.1.2 in /usr/local/lib/python3.10/dist-packages (from fbprophet) (2.4.0)\n",
            "Requirement already satisfied: holidays>=0.10.2 in /usr/local/lib/python3.10/dist-packages (from fbprophet) (0.29)\n",
            "Collecting setuptools-git>=1.2 (from fbprophet)\n",
            "  Using cached setuptools_git-1.2-py2.py3-none-any.whl (10 kB)\n",
            "Requirement already satisfied: python-dateutil>=2.8.0 in /usr/local/lib/python3.10/dist-packages (from fbprophet) (2.8.2)\n",
            "Requirement already satisfied: tqdm>=4.36.1 in /usr/local/lib/python3.10/dist-packages (from fbprophet) (4.65.0)\n",
            "Requirement already satisfied: pymeeus<=1,>=0.3.13 in /usr/local/lib/python3.10/dist-packages (from convertdate>=2.1.2->fbprophet) (0.5.12)\n",
            "Requirement already satisfied: ephem>=3.7.5.3 in /usr/local/lib/python3.10/dist-packages (from LunarCalendar>=0.0.9->fbprophet) (4.1.4)\n",
            "Requirement already satisfied: pytz in /usr/local/lib/python3.10/dist-packages (from LunarCalendar>=0.0.9->fbprophet) (2022.7.1)\n",
            "Requirement already satisfied: contourpy>=1.0.1 in /usr/local/lib/python3.10/dist-packages (from matplotlib>=2.0.0->fbprophet) (1.1.0)\n",
            "Requirement already satisfied: cycler>=0.10 in /usr/local/lib/python3.10/dist-packages (from matplotlib>=2.0.0->fbprophet) (0.11.0)\n",
            "Requirement already satisfied: fonttools>=4.22.0 in /usr/local/lib/python3.10/dist-packages (from matplotlib>=2.0.0->fbprophet) (4.42.0)\n",
            "Requirement already satisfied: kiwisolver>=1.0.1 in /usr/local/lib/python3.10/dist-packages (from matplotlib>=2.0.0->fbprophet) (1.4.4)\n",
            "Requirement already satisfied: packaging>=20.0 in /usr/local/lib/python3.10/dist-packages (from matplotlib>=2.0.0->fbprophet) (23.1)\n",
            "Requirement already satisfied: pillow>=6.2.0 in /usr/local/lib/python3.10/dist-packages (from matplotlib>=2.0.0->fbprophet) (9.4.0)\n",
            "Requirement already satisfied: pyparsing>=2.3.1 in /usr/local/lib/python3.10/dist-packages (from matplotlib>=2.0.0->fbprophet) (3.1.1)\n",
            "Requirement already satisfied: aiohttp<4.0,>=3.6 in /usr/local/lib/python3.10/dist-packages (from pystan>=2.14->fbprophet) (3.8.5)\n",
            "Requirement already satisfied: clikit<0.7,>=0.6 in /usr/local/lib/python3.10/dist-packages (from pystan>=2.14->fbprophet) (0.6.2)\n",
            "Requirement already satisfied: httpstan<4.11,>=4.10 in /usr/local/lib/python3.10/dist-packages (from pystan>=2.14->fbprophet) (4.10.1)\n",
            "Requirement already satisfied: pysimdjson<6.0.0,>=5.0.2 in /usr/local/lib/python3.10/dist-packages (from pystan>=2.14->fbprophet) (5.0.2)\n",
            "Requirement already satisfied: setuptools in /usr/local/lib/python3.10/dist-packages (from pystan>=2.14->fbprophet) (67.7.2)\n",
            "Requirement already satisfied: six>=1.5 in /usr/local/lib/python3.10/dist-packages (from python-dateutil>=2.8.0->fbprophet) (1.16.0)\n",
            "Requirement already satisfied: attrs>=17.3.0 in /usr/local/lib/python3.10/dist-packages (from aiohttp<4.0,>=3.6->pystan>=2.14->fbprophet) (23.1.0)\n",
            "Requirement already satisfied: charset-normalizer<4.0,>=2.0 in /usr/local/lib/python3.10/dist-packages (from aiohttp<4.0,>=3.6->pystan>=2.14->fbprophet) (3.2.0)\n",
            "Requirement already satisfied: multidict<7.0,>=4.5 in /usr/local/lib/python3.10/dist-packages (from aiohttp<4.0,>=3.6->pystan>=2.14->fbprophet) (6.0.4)\n",
            "Requirement already satisfied: async-timeout<5.0,>=4.0.0a3 in /usr/local/lib/python3.10/dist-packages (from aiohttp<4.0,>=3.6->pystan>=2.14->fbprophet) (4.0.2)\n",
            "Requirement already satisfied: yarl<2.0,>=1.0 in /usr/local/lib/python3.10/dist-packages (from aiohttp<4.0,>=3.6->pystan>=2.14->fbprophet) (1.9.2)\n",
            "Requirement already satisfied: frozenlist>=1.1.1 in /usr/local/lib/python3.10/dist-packages (from aiohttp<4.0,>=3.6->pystan>=2.14->fbprophet) (1.4.0)\n",
            "Requirement already satisfied: aiosignal>=1.1.2 in /usr/local/lib/python3.10/dist-packages (from aiohttp<4.0,>=3.6->pystan>=2.14->fbprophet) (1.3.1)\n",
            "Requirement already satisfied: crashtest<0.4.0,>=0.3.0 in /usr/local/lib/python3.10/dist-packages (from clikit<0.7,>=0.6->pystan>=2.14->fbprophet) (0.3.1)\n",
            "Requirement already satisfied: pastel<0.3.0,>=0.2.0 in /usr/local/lib/python3.10/dist-packages (from clikit<0.7,>=0.6->pystan>=2.14->fbprophet) (0.2.1)\n",
            "Requirement already satisfied: pylev<2.0,>=1.3 in /usr/local/lib/python3.10/dist-packages (from clikit<0.7,>=0.6->pystan>=2.14->fbprophet) (1.4.0)\n",
            "Requirement already satisfied: appdirs<2.0,>=1.4 in /usr/local/lib/python3.10/dist-packages (from httpstan<4.11,>=4.10->pystan>=2.14->fbprophet) (1.4.4)\n",
            "Requirement already satisfied: marshmallow<4.0,>=3.10 in /usr/local/lib/python3.10/dist-packages (from httpstan<4.11,>=4.10->pystan>=2.14->fbprophet) (3.20.1)\n",
            "Requirement already satisfied: webargs<9.0,>=8.0 in /usr/local/lib/python3.10/dist-packages (from httpstan<4.11,>=4.10->pystan>=2.14->fbprophet) (8.3.0)\n",
            "Requirement already satisfied: idna>=2.0 in /usr/local/lib/python3.10/dist-packages (from yarl<2.0,>=1.0->aiohttp<4.0,>=3.6->pystan>=2.14->fbprophet) (3.4)\n",
            "Building wheels for collected packages: fbprophet\n",
            "  \u001b[1;31merror\u001b[0m: \u001b[1msubprocess-exited-with-error\u001b[0m\n",
            "  \n",
            "  \u001b[31m×\u001b[0m \u001b[32mpython setup.py bdist_wheel\u001b[0m did not run successfully.\n",
            "  \u001b[31m│\u001b[0m exit code: \u001b[1;36m1\u001b[0m\n",
            "  \u001b[31m╰─>\u001b[0m See above for output.\n",
            "  \n",
            "  \u001b[1;35mnote\u001b[0m: This error originates from a subprocess, and is likely not a problem with pip.\n",
            "  Building wheel for fbprophet (setup.py) ... \u001b[?25lerror\n",
            "\u001b[31m  ERROR: Failed building wheel for fbprophet\u001b[0m\u001b[31m\n",
            "\u001b[0m\u001b[?25h  Running setup.py clean for fbprophet\n",
            "Failed to build fbprophet\n",
            "\u001b[31mERROR: Could not build wheels for fbprophet, which is required to install pyproject.toml-based projects\u001b[0m\u001b[31m\n",
            "\u001b[0m"
          ]
        }
      ],
      "source": [
        "pip install fbprophet"
      ]
    },
    {
      "cell_type": "code",
      "execution_count": 57,
      "metadata": {
        "id": "Drt7-q7zIoL2"
      },
      "outputs": [],
      "source": [
        "from prophet import  Prophet"
      ]
    },
    {
      "cell_type": "code",
      "execution_count": 58,
      "metadata": {
        "id": "mvenAvI-aIHQ"
      },
      "outputs": [],
      "source": [
        "import numpy as np\n",
        "import matplotlib.pyplot as plt\n",
        "import pandas as pd\n",
        "import seaborn as sns\n",
        "from statsmodels.tsa.seasonal import seasonal_decompose\n",
        "from pmdarima import auto_arima\n",
        "from statsmodels.tsa.ar_model import AR,ARResults\n",
        "from statsmodels.tsa.ar_model import AutoReg\n",
        "from statsmodels.tsa.statespace.sarimax import SARIMAX\n",
        "from statsmodels.tools.eval_measures import rmse\n",
        "from statsmodels.tsa.arima.model import ARIMA\n",
        "from statsmodels.graphics.tsaplots import plot_acf, plot_pacf\n",
        "from statsmodels.tsa.statespace.sarimax import SARIMAX\n",
        "from statsmodels.tsa.api import VAR\n",
        "from sklearn.pipeline import Pipeline\n",
        "from pandas_profiling import ProfileReport\n",
        "\n",
        "\n",
        "import warnings\n",
        "warnings.filterwarnings('ignore')\n",
        "\n"
      ]
    },
    {
      "cell_type": "markdown",
      "metadata": {
        "id": "itCKPwnLQsci"
      },
      "source": [
        "#Loading data"
      ]
    },
    {
      "cell_type": "code",
      "execution_count": 59,
      "metadata": {
        "id": "uNsSSYIHaLnn"
      },
      "outputs": [],
      "source": [
        "df = pd.read_excel('/content/Women Apparel.xlsx')"
      ]
    },
    {
      "cell_type": "code",
      "execution_count": 60,
      "metadata": {
        "colab": {
          "base_uri": "https://localhost:8080/",
          "height": 371
        },
        "id": "la9bj5M8RkPU",
        "outputId": "f81df00e-b3b5-48c1-c843-89d7d8aa359f"
      },
      "outputs": [
        {
          "output_type": "execute_result",
          "data": {
            "text/plain": [
              "        Retailer  Retailer ID Invoice Date Region      State       City  \\\n",
              "0  Sports Direct      1197831   2021-03-16  South  Tennessee  Knoxville   \n",
              "1  Sports Direct      1197831   2021-03-17  South  Tennessee  Knoxville   \n",
              "2  Sports Direct      1197831   2021-03-18  South  Tennessee  Knoxville   \n",
              "3  Sports Direct      1197831   2021-03-19  South  Tennessee  Knoxville   \n",
              "4  Sports Direct      1197831   2021-03-20  South  Tennessee  Knoxville   \n",
              "\n",
              "           Product  Price per Unit  Units Sold  Total Sales  Operating Profit  \\\n",
              "0  Women's Apparel              24         169         4056           2028.00   \n",
              "1  Women's Apparel              33         181         5973           2867.04   \n",
              "2  Women's Apparel              32         122         3904           1873.92   \n",
              "3  Women's Apparel              33         108         3564           2138.40   \n",
              "4  Women's Apparel              37          83         3071           1259.11   \n",
              "\n",
              "   Operating Margin Sales Method  \n",
              "0              0.50       Online  \n",
              "1              0.48       Online  \n",
              "2              0.48       Online  \n",
              "3              0.60       Online  \n",
              "4              0.41       Online  "
            ],
            "text/html": [
              "\n",
              "\n",
              "  <div id=\"df-ed267037-50a6-4411-9ecc-86c396aed78b\">\n",
              "    <div class=\"colab-df-container\">\n",
              "      <div>\n",
              "<style scoped>\n",
              "    .dataframe tbody tr th:only-of-type {\n",
              "        vertical-align: middle;\n",
              "    }\n",
              "\n",
              "    .dataframe tbody tr th {\n",
              "        vertical-align: top;\n",
              "    }\n",
              "\n",
              "    .dataframe thead th {\n",
              "        text-align: right;\n",
              "    }\n",
              "</style>\n",
              "<table border=\"1\" class=\"dataframe\">\n",
              "  <thead>\n",
              "    <tr style=\"text-align: right;\">\n",
              "      <th></th>\n",
              "      <th>Retailer</th>\n",
              "      <th>Retailer ID</th>\n",
              "      <th>Invoice Date</th>\n",
              "      <th>Region</th>\n",
              "      <th>State</th>\n",
              "      <th>City</th>\n",
              "      <th>Product</th>\n",
              "      <th>Price per Unit</th>\n",
              "      <th>Units Sold</th>\n",
              "      <th>Total Sales</th>\n",
              "      <th>Operating Profit</th>\n",
              "      <th>Operating Margin</th>\n",
              "      <th>Sales Method</th>\n",
              "    </tr>\n",
              "  </thead>\n",
              "  <tbody>\n",
              "    <tr>\n",
              "      <th>0</th>\n",
              "      <td>Sports Direct</td>\n",
              "      <td>1197831</td>\n",
              "      <td>2021-03-16</td>\n",
              "      <td>South</td>\n",
              "      <td>Tennessee</td>\n",
              "      <td>Knoxville</td>\n",
              "      <td>Women's Apparel</td>\n",
              "      <td>24</td>\n",
              "      <td>169</td>\n",
              "      <td>4056</td>\n",
              "      <td>2028.00</td>\n",
              "      <td>0.50</td>\n",
              "      <td>Online</td>\n",
              "    </tr>\n",
              "    <tr>\n",
              "      <th>1</th>\n",
              "      <td>Sports Direct</td>\n",
              "      <td>1197831</td>\n",
              "      <td>2021-03-17</td>\n",
              "      <td>South</td>\n",
              "      <td>Tennessee</td>\n",
              "      <td>Knoxville</td>\n",
              "      <td>Women's Apparel</td>\n",
              "      <td>33</td>\n",
              "      <td>181</td>\n",
              "      <td>5973</td>\n",
              "      <td>2867.04</td>\n",
              "      <td>0.48</td>\n",
              "      <td>Online</td>\n",
              "    </tr>\n",
              "    <tr>\n",
              "      <th>2</th>\n",
              "      <td>Sports Direct</td>\n",
              "      <td>1197831</td>\n",
              "      <td>2021-03-18</td>\n",
              "      <td>South</td>\n",
              "      <td>Tennessee</td>\n",
              "      <td>Knoxville</td>\n",
              "      <td>Women's Apparel</td>\n",
              "      <td>32</td>\n",
              "      <td>122</td>\n",
              "      <td>3904</td>\n",
              "      <td>1873.92</td>\n",
              "      <td>0.48</td>\n",
              "      <td>Online</td>\n",
              "    </tr>\n",
              "    <tr>\n",
              "      <th>3</th>\n",
              "      <td>Sports Direct</td>\n",
              "      <td>1197831</td>\n",
              "      <td>2021-03-19</td>\n",
              "      <td>South</td>\n",
              "      <td>Tennessee</td>\n",
              "      <td>Knoxville</td>\n",
              "      <td>Women's Apparel</td>\n",
              "      <td>33</td>\n",
              "      <td>108</td>\n",
              "      <td>3564</td>\n",
              "      <td>2138.40</td>\n",
              "      <td>0.60</td>\n",
              "      <td>Online</td>\n",
              "    </tr>\n",
              "    <tr>\n",
              "      <th>4</th>\n",
              "      <td>Sports Direct</td>\n",
              "      <td>1197831</td>\n",
              "      <td>2021-03-20</td>\n",
              "      <td>South</td>\n",
              "      <td>Tennessee</td>\n",
              "      <td>Knoxville</td>\n",
              "      <td>Women's Apparel</td>\n",
              "      <td>37</td>\n",
              "      <td>83</td>\n",
              "      <td>3071</td>\n",
              "      <td>1259.11</td>\n",
              "      <td>0.41</td>\n",
              "      <td>Online</td>\n",
              "    </tr>\n",
              "  </tbody>\n",
              "</table>\n",
              "</div>\n",
              "      <button class=\"colab-df-convert\" onclick=\"convertToInteractive('df-ed267037-50a6-4411-9ecc-86c396aed78b')\"\n",
              "              title=\"Convert this dataframe to an interactive table.\"\n",
              "              style=\"display:none;\">\n",
              "\n",
              "  <svg xmlns=\"http://www.w3.org/2000/svg\" height=\"24px\"viewBox=\"0 0 24 24\"\n",
              "       width=\"24px\">\n",
              "    <path d=\"M0 0h24v24H0V0z\" fill=\"none\"/>\n",
              "    <path d=\"M18.56 5.44l.94 2.06.94-2.06 2.06-.94-2.06-.94-.94-2.06-.94 2.06-2.06.94zm-11 1L8.5 8.5l.94-2.06 2.06-.94-2.06-.94L8.5 2.5l-.94 2.06-2.06.94zm10 10l.94 2.06.94-2.06 2.06-.94-2.06-.94-.94-2.06-.94 2.06-2.06.94z\"/><path d=\"M17.41 7.96l-1.37-1.37c-.4-.4-.92-.59-1.43-.59-.52 0-1.04.2-1.43.59L10.3 9.45l-7.72 7.72c-.78.78-.78 2.05 0 2.83L4 21.41c.39.39.9.59 1.41.59.51 0 1.02-.2 1.41-.59l7.78-7.78 2.81-2.81c.8-.78.8-2.07 0-2.86zM5.41 20L4 18.59l7.72-7.72 1.47 1.35L5.41 20z\"/>\n",
              "  </svg>\n",
              "      </button>\n",
              "\n",
              "\n",
              "\n",
              "    <div id=\"df-ce1401b7-c9ad-475e-83b7-c1cced64b69f\">\n",
              "      <button class=\"colab-df-quickchart\" onclick=\"quickchart('df-ce1401b7-c9ad-475e-83b7-c1cced64b69f')\"\n",
              "              title=\"Suggest charts.\"\n",
              "              style=\"display:none;\">\n",
              "\n",
              "<svg xmlns=\"http://www.w3.org/2000/svg\" height=\"24px\"viewBox=\"0 0 24 24\"\n",
              "     width=\"24px\">\n",
              "    <g>\n",
              "        <path d=\"M19 3H5c-1.1 0-2 .9-2 2v14c0 1.1.9 2 2 2h14c1.1 0 2-.9 2-2V5c0-1.1-.9-2-2-2zM9 17H7v-7h2v7zm4 0h-2V7h2v10zm4 0h-2v-4h2v4z\"/>\n",
              "    </g>\n",
              "</svg>\n",
              "      </button>\n",
              "    </div>\n",
              "\n",
              "<style>\n",
              "  .colab-df-quickchart {\n",
              "    background-color: #E8F0FE;\n",
              "    border: none;\n",
              "    border-radius: 50%;\n",
              "    cursor: pointer;\n",
              "    display: none;\n",
              "    fill: #1967D2;\n",
              "    height: 32px;\n",
              "    padding: 0 0 0 0;\n",
              "    width: 32px;\n",
              "  }\n",
              "\n",
              "  .colab-df-quickchart:hover {\n",
              "    background-color: #E2EBFA;\n",
              "    box-shadow: 0px 1px 2px rgba(60, 64, 67, 0.3), 0px 1px 3px 1px rgba(60, 64, 67, 0.15);\n",
              "    fill: #174EA6;\n",
              "  }\n",
              "\n",
              "  [theme=dark] .colab-df-quickchart {\n",
              "    background-color: #3B4455;\n",
              "    fill: #D2E3FC;\n",
              "  }\n",
              "\n",
              "  [theme=dark] .colab-df-quickchart:hover {\n",
              "    background-color: #434B5C;\n",
              "    box-shadow: 0px 1px 3px 1px rgba(0, 0, 0, 0.15);\n",
              "    filter: drop-shadow(0px 1px 2px rgba(0, 0, 0, 0.3));\n",
              "    fill: #FFFFFF;\n",
              "  }\n",
              "</style>\n",
              "\n",
              "    <script>\n",
              "      async function quickchart(key) {\n",
              "        const containerElement = document.querySelector('#' + key);\n",
              "        const charts = await google.colab.kernel.invokeFunction(\n",
              "            'suggestCharts', [key], {});\n",
              "      }\n",
              "    </script>\n",
              "\n",
              "      <script>\n",
              "\n",
              "function displayQuickchartButton(domScope) {\n",
              "  let quickchartButtonEl =\n",
              "    domScope.querySelector('#df-ce1401b7-c9ad-475e-83b7-c1cced64b69f button.colab-df-quickchart');\n",
              "  quickchartButtonEl.style.display =\n",
              "    google.colab.kernel.accessAllowed ? 'block' : 'none';\n",
              "}\n",
              "\n",
              "        displayQuickchartButton(document);\n",
              "      </script>\n",
              "      <style>\n",
              "    .colab-df-container {\n",
              "      display:flex;\n",
              "      flex-wrap:wrap;\n",
              "      gap: 12px;\n",
              "    }\n",
              "\n",
              "    .colab-df-convert {\n",
              "      background-color: #E8F0FE;\n",
              "      border: none;\n",
              "      border-radius: 50%;\n",
              "      cursor: pointer;\n",
              "      display: none;\n",
              "      fill: #1967D2;\n",
              "      height: 32px;\n",
              "      padding: 0 0 0 0;\n",
              "      width: 32px;\n",
              "    }\n",
              "\n",
              "    .colab-df-convert:hover {\n",
              "      background-color: #E2EBFA;\n",
              "      box-shadow: 0px 1px 2px rgba(60, 64, 67, 0.3), 0px 1px 3px 1px rgba(60, 64, 67, 0.15);\n",
              "      fill: #174EA6;\n",
              "    }\n",
              "\n",
              "    [theme=dark] .colab-df-convert {\n",
              "      background-color: #3B4455;\n",
              "      fill: #D2E3FC;\n",
              "    }\n",
              "\n",
              "    [theme=dark] .colab-df-convert:hover {\n",
              "      background-color: #434B5C;\n",
              "      box-shadow: 0px 1px 3px 1px rgba(0, 0, 0, 0.15);\n",
              "      filter: drop-shadow(0px 1px 2px rgba(0, 0, 0, 0.3));\n",
              "      fill: #FFFFFF;\n",
              "    }\n",
              "  </style>\n",
              "\n",
              "      <script>\n",
              "        const buttonEl =\n",
              "          document.querySelector('#df-ed267037-50a6-4411-9ecc-86c396aed78b button.colab-df-convert');\n",
              "        buttonEl.style.display =\n",
              "          google.colab.kernel.accessAllowed ? 'block' : 'none';\n",
              "\n",
              "        async function convertToInteractive(key) {\n",
              "          const element = document.querySelector('#df-ed267037-50a6-4411-9ecc-86c396aed78b');\n",
              "          const dataTable =\n",
              "            await google.colab.kernel.invokeFunction('convertToInteractive',\n",
              "                                                     [key], {});\n",
              "          if (!dataTable) return;\n",
              "\n",
              "          const docLinkHtml = 'Like what you see? Visit the ' +\n",
              "            '<a target=\"_blank\" href=https://colab.research.google.com/notebooks/data_table.ipynb>data table notebook</a>'\n",
              "            + ' to learn more about interactive tables.';\n",
              "          element.innerHTML = '';\n",
              "          dataTable['output_type'] = 'display_data';\n",
              "          await google.colab.output.renderOutput(dataTable, element);\n",
              "          const docLink = document.createElement('div');\n",
              "          docLink.innerHTML = docLinkHtml;\n",
              "          element.appendChild(docLink);\n",
              "        }\n",
              "      </script>\n",
              "    </div>\n",
              "  </div>\n"
            ]
          },
          "metadata": {},
          "execution_count": 60
        }
      ],
      "source": [
        "df.head()"
      ]
    },
    {
      "cell_type": "markdown",
      "metadata": {
        "id": "DDcHzJqn-zPd"
      },
      "source": [
        "#Business Goal\n",
        "\n",
        "To build a model that can predict sales of Adidas product provided the range of dates"
      ]
    },
    {
      "cell_type": "markdown",
      "metadata": {
        "id": "Wg9TTr2LSEsS"
      },
      "source": [
        "#Data Preprocessing"
      ]
    },
    {
      "cell_type": "markdown",
      "metadata": {
        "id": "7KTgec5VSLrp"
      },
      "source": [
        "Removing delimiters"
      ]
    },
    {
      "cell_type": "code",
      "execution_count": 61,
      "metadata": {
        "id": "v457bEktI5G_"
      },
      "outputs": [],
      "source": [
        "# df = df.replace(',', '', regex = True)\n",
        "# df['Price per Unit'] = str(df['Price per Unit'])\n",
        "# df['Operating Profit'] = str(df['Operating Profit'])\n",
        "# df['Units Sold'] = str(df['Units Sold'])\n",
        "# df['Total Sales'] = str(df['Total Sales'])\n",
        "# df['Price per Unit'] = df['Price per Unit'].str.replace('$', '')\n",
        "# df['Operating Profit'] = df['Operating Profit'].str.replace('$', '')\n",
        "# df['Units Sold'] = df['Units Sold'].str.replace('$', '')\n",
        "# df['Total Sales'] = df['Total Sales'].str.replace('$', '')\n",
        "\n"
      ]
    },
    {
      "cell_type": "markdown",
      "metadata": {
        "id": "XSwX1GVAlTpn"
      },
      "source": [
        "Handling categorical values"
      ]
    },
    {
      "cell_type": "code",
      "execution_count": 62,
      "metadata": {
        "colab": {
          "base_uri": "https://localhost:8080/"
        },
        "id": "4HZkC63ReWxb",
        "outputId": "4b486589-790e-4923-8918-cdb09c450764"
      },
      "outputs": [
        {
          "output_type": "stream",
          "name": "stdout",
          "text": [
            "['Retailer', 'Retailer ID', 'Invoice Date', 'Price per Unit', 'Units Sold', 'Total Sales', 'Operating Profit', 'Operating Margin', 'Region_Midwest', 'Region_Northeast', 'Region_South', 'Region_Southeast', 'Region_West', 'State_Alabama', 'State_Alaska', 'State_Arizona', 'State_Florida', 'State_Georgia', 'State_Hawaii', 'State_Idaho', 'State_Kentucky', 'State_Louisiana', 'State_Maine', 'State_Michigan', 'State_Missouri', 'State_Nebraska', 'State_New Mexico', 'State_New York', 'State_North Carolina', 'State_Ohio', 'State_Oregon', 'State_South Carolina', 'State_Tennessee', 'State_Utah', 'State_Virginia', 'State_Wyoming', 'City_Albany', 'City_Albuquerque', 'City_Anchorage', 'City_Atlanta', 'City_Birmingham', 'City_Boise', 'City_Charleston', 'City_Charlotte', 'City_Cheyenne', 'City_Columbus', 'City_Detroit', 'City_Honolulu', 'City_Knoxville', 'City_Louisville', 'City_New Orleans', 'City_Omaha', 'City_Orlando', 'City_Phoenix', 'City_Portland', 'City_Richmond', 'City_Salt Lake City', 'City_St. Louis', \"Product_Women's Apparel\", 'Sales Method_Online']\n"
          ]
        }
      ],
      "source": [
        "columns_to_encode = ['Region', 'State', 'City', 'Product', 'Sales Method']\n",
        "encoded_df = pd.get_dummies(df, columns=columns_to_encode)\n",
        "print(list(encoded_df))"
      ]
    },
    {
      "cell_type": "code",
      "execution_count": 63,
      "metadata": {
        "colab": {
          "base_uri": "https://localhost:8080/"
        },
        "id": "n1iaR_wn9Ocp",
        "outputId": "a23557b3-6d85-4f0e-d9c1-2ca4327173b9"
      },
      "outputs": [
        {
          "output_type": "stream",
          "name": "stdout",
          "text": [
            "['Retailer', 'Retailer ID', 'Invoice Date', 'Price per Unit', 'Units Sold', 'Total Sales', 'Operating Profit', 'Operating Margin', 'Region_Midwest', 'Region_Northeast', 'Region_South', 'Region_Southeast', 'Region_West', 'State_Alabama', 'State_Alaska', 'State_Arizona', 'State_Florida', 'State_Georgia', 'State_Hawaii', 'State_Idaho', 'State_Kentucky', 'State_Louisiana', 'State_Maine', 'State_Michigan', 'State_Missouri', 'State_Nebraska', 'State_New Mexico', 'State_New York', 'State_North Carolina', 'State_Ohio', 'State_Oregon', 'State_South Carolina', 'State_Tennessee', 'State_Utah', 'State_Virginia', 'State_Wyoming', 'City_Albany', 'City_Albuquerque', 'City_Anchorage', 'City_Atlanta', 'City_Birmingham', 'City_Boise', 'City_Charleston', 'City_Charlotte', 'City_Cheyenne', 'City_Columbus', 'City_Detroit', 'City_Honolulu', 'City_Knoxville', 'City_Louisville', 'City_New Orleans', 'City_Omaha', 'City_Orlando', 'City_Phoenix', 'City_Portland', 'City_Richmond', 'City_Salt Lake City', 'City_St. Louis', \"Product_Women's Apparel\", 'Sales Method_Online']\n"
          ]
        }
      ],
      "source": [
        "print(list(encoded_df))"
      ]
    },
    {
      "cell_type": "markdown",
      "metadata": {
        "id": "4LXrJhSFlcpj"
      },
      "source": [
        "Converting dataframe to time stamped dataframe"
      ]
    },
    {
      "cell_type": "code",
      "execution_count": 64,
      "metadata": {
        "id": "R2rJia44ot07"
      },
      "outputs": [],
      "source": [
        "encoded_df.set_index('Invoice Date', inplace = True)"
      ]
    },
    {
      "cell_type": "code",
      "execution_count": 65,
      "metadata": {
        "id": "1m6jPI-Eper3"
      },
      "outputs": [],
      "source": [
        "encoded_df.index = pd.to_datetime(encoded_df.index)"
      ]
    },
    {
      "cell_type": "code",
      "execution_count": 66,
      "metadata": {
        "id": "___5x8YIqMHL"
      },
      "outputs": [],
      "source": [
        "encoded_df.sort_index(inplace = True)"
      ]
    },
    {
      "cell_type": "code",
      "execution_count": 67,
      "metadata": {
        "colab": {
          "base_uri": "https://localhost:8080/",
          "height": 744
        },
        "id": "PaEeuhO0gevp",
        "outputId": "71c286f9-ad35-49fb-92fc-8fc6d8a35192"
      },
      "outputs": [
        {
          "output_type": "execute_result",
          "data": {
            "text/plain": [
              "                 Retailer  Retailer ID  Price per Unit  Units Sold  \\\n",
              "Invoice Date                                                         \n",
              "2021-01-05      West Gear      1197831              34         143   \n",
              "2021-01-05    Foot Locker      1197831              36          85   \n",
              "2021-01-05    Foot Locker      1197831              33         133   \n",
              "2021-01-05    Foot Locker      1197831              28         119   \n",
              "2021-01-05    Foot Locker      1197831              28         196   \n",
              "...                   ...          ...             ...         ...   \n",
              "2021-12-27         Amazon      1185732              53         122   \n",
              "2021-12-28         Amazon      1185732              46          70   \n",
              "2021-12-29         Amazon      1185732              41          38   \n",
              "2021-12-30         Amazon      1185732              42          36   \n",
              "2021-12-31         Amazon      1185732              52          36   \n",
              "\n",
              "              Total Sales  Operating Profit  Operating Margin  Region_Midwest  \\\n",
              "Invoice Date                                                                    \n",
              "2021-01-05           4862           2917.20              0.60               0   \n",
              "2021-01-05           3060           1132.20              0.37               0   \n",
              "2021-01-05           4389           2326.17              0.53               0   \n",
              "2021-01-05           3332           1332.80              0.40               0   \n",
              "2021-01-05           5488           2469.60              0.45               0   \n",
              "...                   ...               ...               ...             ...   \n",
              "2021-12-27           6466           3103.68              0.48               0   \n",
              "2021-12-28           3220           1513.40              0.47               0   \n",
              "2021-12-29           1558            856.90              0.55               0   \n",
              "2021-12-30           1512            680.40              0.45               0   \n",
              "2021-12-31           1872            692.64              0.37               0   \n",
              "\n",
              "              Region_Northeast  Region_South  ...  City_New Orleans  \\\n",
              "Invoice Date                                  ...                     \n",
              "2021-01-05                   0             1  ...                 1   \n",
              "2021-01-05                   0             1  ...                 1   \n",
              "2021-01-05                   0             1  ...                 1   \n",
              "2021-01-05                   0             1  ...                 1   \n",
              "2021-01-05                   0             1  ...                 1   \n",
              "...                        ...           ...  ...               ...   \n",
              "2021-12-27                   1             0  ...                 0   \n",
              "2021-12-28                   1             0  ...                 0   \n",
              "2021-12-29                   1             0  ...                 0   \n",
              "2021-12-30                   1             0  ...                 0   \n",
              "2021-12-31                   1             0  ...                 0   \n",
              "\n",
              "              City_Omaha  City_Orlando  City_Phoenix  City_Portland  \\\n",
              "Invoice Date                                                          \n",
              "2021-01-05             0             0             0              0   \n",
              "2021-01-05             0             0             0              0   \n",
              "2021-01-05             0             0             0              0   \n",
              "2021-01-05             0             0             0              0   \n",
              "2021-01-05             0             0             0              0   \n",
              "...                  ...           ...           ...            ...   \n",
              "2021-12-27             0             0             0              1   \n",
              "2021-12-28             0             0             0              1   \n",
              "2021-12-29             0             0             0              1   \n",
              "2021-12-30             0             0             0              1   \n",
              "2021-12-31             0             0             0              1   \n",
              "\n",
              "              City_Richmond  City_Salt Lake City  City_St. Louis  \\\n",
              "Invoice Date                                                       \n",
              "2021-01-05                0                    0               0   \n",
              "2021-01-05                0                    0               0   \n",
              "2021-01-05                0                    0               0   \n",
              "2021-01-05                0                    0               0   \n",
              "2021-01-05                0                    0               0   \n",
              "...                     ...                  ...             ...   \n",
              "2021-12-27                0                    0               0   \n",
              "2021-12-28                0                    0               0   \n",
              "2021-12-29                0                    0               0   \n",
              "2021-12-30                0                    0               0   \n",
              "2021-12-31                0                    0               0   \n",
              "\n",
              "              Product_Women's Apparel  Sales Method_Online  \n",
              "Invoice Date                                                \n",
              "2021-01-05                          1                    1  \n",
              "2021-01-05                          1                    1  \n",
              "2021-01-05                          1                    1  \n",
              "2021-01-05                          1                    1  \n",
              "2021-01-05                          1                    1  \n",
              "...                               ...                  ...  \n",
              "2021-12-27                          1                    1  \n",
              "2021-12-28                          1                    1  \n",
              "2021-12-29                          1                    1  \n",
              "2021-12-30                          1                    1  \n",
              "2021-12-31                          1                    1  \n",
              "\n",
              "[1608 rows x 59 columns]"
            ],
            "text/html": [
              "\n",
              "\n",
              "  <div id=\"df-36c2ff09-5a94-4265-a13b-8ab4670b2c29\">\n",
              "    <div class=\"colab-df-container\">\n",
              "      <div>\n",
              "<style scoped>\n",
              "    .dataframe tbody tr th:only-of-type {\n",
              "        vertical-align: middle;\n",
              "    }\n",
              "\n",
              "    .dataframe tbody tr th {\n",
              "        vertical-align: top;\n",
              "    }\n",
              "\n",
              "    .dataframe thead th {\n",
              "        text-align: right;\n",
              "    }\n",
              "</style>\n",
              "<table border=\"1\" class=\"dataframe\">\n",
              "  <thead>\n",
              "    <tr style=\"text-align: right;\">\n",
              "      <th></th>\n",
              "      <th>Retailer</th>\n",
              "      <th>Retailer ID</th>\n",
              "      <th>Price per Unit</th>\n",
              "      <th>Units Sold</th>\n",
              "      <th>Total Sales</th>\n",
              "      <th>Operating Profit</th>\n",
              "      <th>Operating Margin</th>\n",
              "      <th>Region_Midwest</th>\n",
              "      <th>Region_Northeast</th>\n",
              "      <th>Region_South</th>\n",
              "      <th>...</th>\n",
              "      <th>City_New Orleans</th>\n",
              "      <th>City_Omaha</th>\n",
              "      <th>City_Orlando</th>\n",
              "      <th>City_Phoenix</th>\n",
              "      <th>City_Portland</th>\n",
              "      <th>City_Richmond</th>\n",
              "      <th>City_Salt Lake City</th>\n",
              "      <th>City_St. Louis</th>\n",
              "      <th>Product_Women's Apparel</th>\n",
              "      <th>Sales Method_Online</th>\n",
              "    </tr>\n",
              "    <tr>\n",
              "      <th>Invoice Date</th>\n",
              "      <th></th>\n",
              "      <th></th>\n",
              "      <th></th>\n",
              "      <th></th>\n",
              "      <th></th>\n",
              "      <th></th>\n",
              "      <th></th>\n",
              "      <th></th>\n",
              "      <th></th>\n",
              "      <th></th>\n",
              "      <th></th>\n",
              "      <th></th>\n",
              "      <th></th>\n",
              "      <th></th>\n",
              "      <th></th>\n",
              "      <th></th>\n",
              "      <th></th>\n",
              "      <th></th>\n",
              "      <th></th>\n",
              "      <th></th>\n",
              "      <th></th>\n",
              "    </tr>\n",
              "  </thead>\n",
              "  <tbody>\n",
              "    <tr>\n",
              "      <th>2021-01-05</th>\n",
              "      <td>West Gear</td>\n",
              "      <td>1197831</td>\n",
              "      <td>34</td>\n",
              "      <td>143</td>\n",
              "      <td>4862</td>\n",
              "      <td>2917.20</td>\n",
              "      <td>0.60</td>\n",
              "      <td>0</td>\n",
              "      <td>0</td>\n",
              "      <td>1</td>\n",
              "      <td>...</td>\n",
              "      <td>1</td>\n",
              "      <td>0</td>\n",
              "      <td>0</td>\n",
              "      <td>0</td>\n",
              "      <td>0</td>\n",
              "      <td>0</td>\n",
              "      <td>0</td>\n",
              "      <td>0</td>\n",
              "      <td>1</td>\n",
              "      <td>1</td>\n",
              "    </tr>\n",
              "    <tr>\n",
              "      <th>2021-01-05</th>\n",
              "      <td>Foot Locker</td>\n",
              "      <td>1197831</td>\n",
              "      <td>36</td>\n",
              "      <td>85</td>\n",
              "      <td>3060</td>\n",
              "      <td>1132.20</td>\n",
              "      <td>0.37</td>\n",
              "      <td>0</td>\n",
              "      <td>0</td>\n",
              "      <td>1</td>\n",
              "      <td>...</td>\n",
              "      <td>1</td>\n",
              "      <td>0</td>\n",
              "      <td>0</td>\n",
              "      <td>0</td>\n",
              "      <td>0</td>\n",
              "      <td>0</td>\n",
              "      <td>0</td>\n",
              "      <td>0</td>\n",
              "      <td>1</td>\n",
              "      <td>1</td>\n",
              "    </tr>\n",
              "    <tr>\n",
              "      <th>2021-01-05</th>\n",
              "      <td>Foot Locker</td>\n",
              "      <td>1197831</td>\n",
              "      <td>33</td>\n",
              "      <td>133</td>\n",
              "      <td>4389</td>\n",
              "      <td>2326.17</td>\n",
              "      <td>0.53</td>\n",
              "      <td>0</td>\n",
              "      <td>0</td>\n",
              "      <td>1</td>\n",
              "      <td>...</td>\n",
              "      <td>1</td>\n",
              "      <td>0</td>\n",
              "      <td>0</td>\n",
              "      <td>0</td>\n",
              "      <td>0</td>\n",
              "      <td>0</td>\n",
              "      <td>0</td>\n",
              "      <td>0</td>\n",
              "      <td>1</td>\n",
              "      <td>1</td>\n",
              "    </tr>\n",
              "    <tr>\n",
              "      <th>2021-01-05</th>\n",
              "      <td>Foot Locker</td>\n",
              "      <td>1197831</td>\n",
              "      <td>28</td>\n",
              "      <td>119</td>\n",
              "      <td>3332</td>\n",
              "      <td>1332.80</td>\n",
              "      <td>0.40</td>\n",
              "      <td>0</td>\n",
              "      <td>0</td>\n",
              "      <td>1</td>\n",
              "      <td>...</td>\n",
              "      <td>1</td>\n",
              "      <td>0</td>\n",
              "      <td>0</td>\n",
              "      <td>0</td>\n",
              "      <td>0</td>\n",
              "      <td>0</td>\n",
              "      <td>0</td>\n",
              "      <td>0</td>\n",
              "      <td>1</td>\n",
              "      <td>1</td>\n",
              "    </tr>\n",
              "    <tr>\n",
              "      <th>2021-01-05</th>\n",
              "      <td>Foot Locker</td>\n",
              "      <td>1197831</td>\n",
              "      <td>28</td>\n",
              "      <td>196</td>\n",
              "      <td>5488</td>\n",
              "      <td>2469.60</td>\n",
              "      <td>0.45</td>\n",
              "      <td>0</td>\n",
              "      <td>0</td>\n",
              "      <td>1</td>\n",
              "      <td>...</td>\n",
              "      <td>1</td>\n",
              "      <td>0</td>\n",
              "      <td>0</td>\n",
              "      <td>0</td>\n",
              "      <td>0</td>\n",
              "      <td>0</td>\n",
              "      <td>0</td>\n",
              "      <td>0</td>\n",
              "      <td>1</td>\n",
              "      <td>1</td>\n",
              "    </tr>\n",
              "    <tr>\n",
              "      <th>...</th>\n",
              "      <td>...</td>\n",
              "      <td>...</td>\n",
              "      <td>...</td>\n",
              "      <td>...</td>\n",
              "      <td>...</td>\n",
              "      <td>...</td>\n",
              "      <td>...</td>\n",
              "      <td>...</td>\n",
              "      <td>...</td>\n",
              "      <td>...</td>\n",
              "      <td>...</td>\n",
              "      <td>...</td>\n",
              "      <td>...</td>\n",
              "      <td>...</td>\n",
              "      <td>...</td>\n",
              "      <td>...</td>\n",
              "      <td>...</td>\n",
              "      <td>...</td>\n",
              "      <td>...</td>\n",
              "      <td>...</td>\n",
              "      <td>...</td>\n",
              "    </tr>\n",
              "    <tr>\n",
              "      <th>2021-12-27</th>\n",
              "      <td>Amazon</td>\n",
              "      <td>1185732</td>\n",
              "      <td>53</td>\n",
              "      <td>122</td>\n",
              "      <td>6466</td>\n",
              "      <td>3103.68</td>\n",
              "      <td>0.48</td>\n",
              "      <td>0</td>\n",
              "      <td>1</td>\n",
              "      <td>0</td>\n",
              "      <td>...</td>\n",
              "      <td>0</td>\n",
              "      <td>0</td>\n",
              "      <td>0</td>\n",
              "      <td>0</td>\n",
              "      <td>1</td>\n",
              "      <td>0</td>\n",
              "      <td>0</td>\n",
              "      <td>0</td>\n",
              "      <td>1</td>\n",
              "      <td>1</td>\n",
              "    </tr>\n",
              "    <tr>\n",
              "      <th>2021-12-28</th>\n",
              "      <td>Amazon</td>\n",
              "      <td>1185732</td>\n",
              "      <td>46</td>\n",
              "      <td>70</td>\n",
              "      <td>3220</td>\n",
              "      <td>1513.40</td>\n",
              "      <td>0.47</td>\n",
              "      <td>0</td>\n",
              "      <td>1</td>\n",
              "      <td>0</td>\n",
              "      <td>...</td>\n",
              "      <td>0</td>\n",
              "      <td>0</td>\n",
              "      <td>0</td>\n",
              "      <td>0</td>\n",
              "      <td>1</td>\n",
              "      <td>0</td>\n",
              "      <td>0</td>\n",
              "      <td>0</td>\n",
              "      <td>1</td>\n",
              "      <td>1</td>\n",
              "    </tr>\n",
              "    <tr>\n",
              "      <th>2021-12-29</th>\n",
              "      <td>Amazon</td>\n",
              "      <td>1185732</td>\n",
              "      <td>41</td>\n",
              "      <td>38</td>\n",
              "      <td>1558</td>\n",
              "      <td>856.90</td>\n",
              "      <td>0.55</td>\n",
              "      <td>0</td>\n",
              "      <td>1</td>\n",
              "      <td>0</td>\n",
              "      <td>...</td>\n",
              "      <td>0</td>\n",
              "      <td>0</td>\n",
              "      <td>0</td>\n",
              "      <td>0</td>\n",
              "      <td>1</td>\n",
              "      <td>0</td>\n",
              "      <td>0</td>\n",
              "      <td>0</td>\n",
              "      <td>1</td>\n",
              "      <td>1</td>\n",
              "    </tr>\n",
              "    <tr>\n",
              "      <th>2021-12-30</th>\n",
              "      <td>Amazon</td>\n",
              "      <td>1185732</td>\n",
              "      <td>42</td>\n",
              "      <td>36</td>\n",
              "      <td>1512</td>\n",
              "      <td>680.40</td>\n",
              "      <td>0.45</td>\n",
              "      <td>0</td>\n",
              "      <td>1</td>\n",
              "      <td>0</td>\n",
              "      <td>...</td>\n",
              "      <td>0</td>\n",
              "      <td>0</td>\n",
              "      <td>0</td>\n",
              "      <td>0</td>\n",
              "      <td>1</td>\n",
              "      <td>0</td>\n",
              "      <td>0</td>\n",
              "      <td>0</td>\n",
              "      <td>1</td>\n",
              "      <td>1</td>\n",
              "    </tr>\n",
              "    <tr>\n",
              "      <th>2021-12-31</th>\n",
              "      <td>Amazon</td>\n",
              "      <td>1185732</td>\n",
              "      <td>52</td>\n",
              "      <td>36</td>\n",
              "      <td>1872</td>\n",
              "      <td>692.64</td>\n",
              "      <td>0.37</td>\n",
              "      <td>0</td>\n",
              "      <td>1</td>\n",
              "      <td>0</td>\n",
              "      <td>...</td>\n",
              "      <td>0</td>\n",
              "      <td>0</td>\n",
              "      <td>0</td>\n",
              "      <td>0</td>\n",
              "      <td>1</td>\n",
              "      <td>0</td>\n",
              "      <td>0</td>\n",
              "      <td>0</td>\n",
              "      <td>1</td>\n",
              "      <td>1</td>\n",
              "    </tr>\n",
              "  </tbody>\n",
              "</table>\n",
              "<p>1608 rows × 59 columns</p>\n",
              "</div>\n",
              "      <button class=\"colab-df-convert\" onclick=\"convertToInteractive('df-36c2ff09-5a94-4265-a13b-8ab4670b2c29')\"\n",
              "              title=\"Convert this dataframe to an interactive table.\"\n",
              "              style=\"display:none;\">\n",
              "\n",
              "  <svg xmlns=\"http://www.w3.org/2000/svg\" height=\"24px\"viewBox=\"0 0 24 24\"\n",
              "       width=\"24px\">\n",
              "    <path d=\"M0 0h24v24H0V0z\" fill=\"none\"/>\n",
              "    <path d=\"M18.56 5.44l.94 2.06.94-2.06 2.06-.94-2.06-.94-.94-2.06-.94 2.06-2.06.94zm-11 1L8.5 8.5l.94-2.06 2.06-.94-2.06-.94L8.5 2.5l-.94 2.06-2.06.94zm10 10l.94 2.06.94-2.06 2.06-.94-2.06-.94-.94-2.06-.94 2.06-2.06.94z\"/><path d=\"M17.41 7.96l-1.37-1.37c-.4-.4-.92-.59-1.43-.59-.52 0-1.04.2-1.43.59L10.3 9.45l-7.72 7.72c-.78.78-.78 2.05 0 2.83L4 21.41c.39.39.9.59 1.41.59.51 0 1.02-.2 1.41-.59l7.78-7.78 2.81-2.81c.8-.78.8-2.07 0-2.86zM5.41 20L4 18.59l7.72-7.72 1.47 1.35L5.41 20z\"/>\n",
              "  </svg>\n",
              "      </button>\n",
              "\n",
              "\n",
              "\n",
              "    <div id=\"df-c80826bd-dc4e-46dc-942b-336ed5075ed7\">\n",
              "      <button class=\"colab-df-quickchart\" onclick=\"quickchart('df-c80826bd-dc4e-46dc-942b-336ed5075ed7')\"\n",
              "              title=\"Suggest charts.\"\n",
              "              style=\"display:none;\">\n",
              "\n",
              "<svg xmlns=\"http://www.w3.org/2000/svg\" height=\"24px\"viewBox=\"0 0 24 24\"\n",
              "     width=\"24px\">\n",
              "    <g>\n",
              "        <path d=\"M19 3H5c-1.1 0-2 .9-2 2v14c0 1.1.9 2 2 2h14c1.1 0 2-.9 2-2V5c0-1.1-.9-2-2-2zM9 17H7v-7h2v7zm4 0h-2V7h2v10zm4 0h-2v-4h2v4z\"/>\n",
              "    </g>\n",
              "</svg>\n",
              "      </button>\n",
              "    </div>\n",
              "\n",
              "<style>\n",
              "  .colab-df-quickchart {\n",
              "    background-color: #E8F0FE;\n",
              "    border: none;\n",
              "    border-radius: 50%;\n",
              "    cursor: pointer;\n",
              "    display: none;\n",
              "    fill: #1967D2;\n",
              "    height: 32px;\n",
              "    padding: 0 0 0 0;\n",
              "    width: 32px;\n",
              "  }\n",
              "\n",
              "  .colab-df-quickchart:hover {\n",
              "    background-color: #E2EBFA;\n",
              "    box-shadow: 0px 1px 2px rgba(60, 64, 67, 0.3), 0px 1px 3px 1px rgba(60, 64, 67, 0.15);\n",
              "    fill: #174EA6;\n",
              "  }\n",
              "\n",
              "  [theme=dark] .colab-df-quickchart {\n",
              "    background-color: #3B4455;\n",
              "    fill: #D2E3FC;\n",
              "  }\n",
              "\n",
              "  [theme=dark] .colab-df-quickchart:hover {\n",
              "    background-color: #434B5C;\n",
              "    box-shadow: 0px 1px 3px 1px rgba(0, 0, 0, 0.15);\n",
              "    filter: drop-shadow(0px 1px 2px rgba(0, 0, 0, 0.3));\n",
              "    fill: #FFFFFF;\n",
              "  }\n",
              "</style>\n",
              "\n",
              "    <script>\n",
              "      async function quickchart(key) {\n",
              "        const containerElement = document.querySelector('#' + key);\n",
              "        const charts = await google.colab.kernel.invokeFunction(\n",
              "            'suggestCharts', [key], {});\n",
              "      }\n",
              "    </script>\n",
              "\n",
              "      <script>\n",
              "\n",
              "function displayQuickchartButton(domScope) {\n",
              "  let quickchartButtonEl =\n",
              "    domScope.querySelector('#df-c80826bd-dc4e-46dc-942b-336ed5075ed7 button.colab-df-quickchart');\n",
              "  quickchartButtonEl.style.display =\n",
              "    google.colab.kernel.accessAllowed ? 'block' : 'none';\n",
              "}\n",
              "\n",
              "        displayQuickchartButton(document);\n",
              "      </script>\n",
              "      <style>\n",
              "    .colab-df-container {\n",
              "      display:flex;\n",
              "      flex-wrap:wrap;\n",
              "      gap: 12px;\n",
              "    }\n",
              "\n",
              "    .colab-df-convert {\n",
              "      background-color: #E8F0FE;\n",
              "      border: none;\n",
              "      border-radius: 50%;\n",
              "      cursor: pointer;\n",
              "      display: none;\n",
              "      fill: #1967D2;\n",
              "      height: 32px;\n",
              "      padding: 0 0 0 0;\n",
              "      width: 32px;\n",
              "    }\n",
              "\n",
              "    .colab-df-convert:hover {\n",
              "      background-color: #E2EBFA;\n",
              "      box-shadow: 0px 1px 2px rgba(60, 64, 67, 0.3), 0px 1px 3px 1px rgba(60, 64, 67, 0.15);\n",
              "      fill: #174EA6;\n",
              "    }\n",
              "\n",
              "    [theme=dark] .colab-df-convert {\n",
              "      background-color: #3B4455;\n",
              "      fill: #D2E3FC;\n",
              "    }\n",
              "\n",
              "    [theme=dark] .colab-df-convert:hover {\n",
              "      background-color: #434B5C;\n",
              "      box-shadow: 0px 1px 3px 1px rgba(0, 0, 0, 0.15);\n",
              "      filter: drop-shadow(0px 1px 2px rgba(0, 0, 0, 0.3));\n",
              "      fill: #FFFFFF;\n",
              "    }\n",
              "  </style>\n",
              "\n",
              "      <script>\n",
              "        const buttonEl =\n",
              "          document.querySelector('#df-36c2ff09-5a94-4265-a13b-8ab4670b2c29 button.colab-df-convert');\n",
              "        buttonEl.style.display =\n",
              "          google.colab.kernel.accessAllowed ? 'block' : 'none';\n",
              "\n",
              "        async function convertToInteractive(key) {\n",
              "          const element = document.querySelector('#df-36c2ff09-5a94-4265-a13b-8ab4670b2c29');\n",
              "          const dataTable =\n",
              "            await google.colab.kernel.invokeFunction('convertToInteractive',\n",
              "                                                     [key], {});\n",
              "          if (!dataTable) return;\n",
              "\n",
              "          const docLinkHtml = 'Like what you see? Visit the ' +\n",
              "            '<a target=\"_blank\" href=https://colab.research.google.com/notebooks/data_table.ipynb>data table notebook</a>'\n",
              "            + ' to learn more about interactive tables.';\n",
              "          element.innerHTML = '';\n",
              "          dataTable['output_type'] = 'display_data';\n",
              "          await google.colab.output.renderOutput(dataTable, element);\n",
              "          const docLink = document.createElement('div');\n",
              "          docLink.innerHTML = docLinkHtml;\n",
              "          element.appendChild(docLink);\n",
              "        }\n",
              "      </script>\n",
              "    </div>\n",
              "  </div>\n"
            ]
          },
          "metadata": {},
          "execution_count": 67
        }
      ],
      "source": [
        "encoded_df"
      ]
    },
    {
      "cell_type": "markdown",
      "metadata": {
        "id": "Itjm8epOTho6"
      },
      "source": [
        "#Exploratory Data Analysis"
      ]
    },
    {
      "cell_type": "code",
      "execution_count": 68,
      "metadata": {
        "colab": {
          "base_uri": "https://localhost:8080/"
        },
        "id": "SuPiY2GEXj9B",
        "outputId": "b5f45efe-1ea8-42bb-e995-0102027fc7ec"
      },
      "outputs": [
        {
          "output_type": "stream",
          "name": "stdout",
          "text": [
            "<class 'pandas.core.frame.DataFrame'>\n",
            "RangeIndex: 1608 entries, 0 to 1607\n",
            "Data columns (total 13 columns):\n",
            " #   Column            Non-Null Count  Dtype         \n",
            "---  ------            --------------  -----         \n",
            " 0   Retailer          1608 non-null   object        \n",
            " 1   Retailer ID       1608 non-null   int64         \n",
            " 2   Invoice Date      1608 non-null   datetime64[ns]\n",
            " 3   Region            1608 non-null   object        \n",
            " 4   State             1608 non-null   object        \n",
            " 5   City              1608 non-null   object        \n",
            " 6   Product           1608 non-null   object        \n",
            " 7   Price per Unit    1608 non-null   int64         \n",
            " 8   Units Sold        1608 non-null   int64         \n",
            " 9   Total Sales       1608 non-null   int64         \n",
            " 10  Operating Profit  1608 non-null   float64       \n",
            " 11  Operating Margin  1608 non-null   float64       \n",
            " 12  Sales Method      1608 non-null   object        \n",
            "dtypes: datetime64[ns](1), float64(2), int64(4), object(6)\n",
            "memory usage: 163.4+ KB\n"
          ]
        }
      ],
      "source": [
        "df.info()"
      ]
    },
    {
      "cell_type": "code",
      "execution_count": 69,
      "metadata": {
        "colab": {
          "base_uri": "https://localhost:8080/"
        },
        "id": "Bjte08ar0GGp",
        "outputId": "d4007efb-cbec-4eff-b622-50803f8154d3"
      },
      "outputs": [
        {
          "output_type": "stream",
          "name": "stdout",
          "text": [
            "<class 'pandas.core.frame.DataFrame'>\n",
            "DatetimeIndex: 1608 entries, 2021-01-05 to 2021-12-31\n",
            "Data columns (total 59 columns):\n",
            " #   Column                   Non-Null Count  Dtype  \n",
            "---  ------                   --------------  -----  \n",
            " 0   Retailer                 1608 non-null   object \n",
            " 1   Retailer ID              1608 non-null   int64  \n",
            " 2   Price per Unit           1608 non-null   int64  \n",
            " 3   Units Sold               1608 non-null   int64  \n",
            " 4   Total Sales              1608 non-null   int64  \n",
            " 5   Operating Profit         1608 non-null   float64\n",
            " 6   Operating Margin         1608 non-null   float64\n",
            " 7   Region_Midwest           1608 non-null   uint8  \n",
            " 8   Region_Northeast         1608 non-null   uint8  \n",
            " 9   Region_South             1608 non-null   uint8  \n",
            " 10  Region_Southeast         1608 non-null   uint8  \n",
            " 11  Region_West              1608 non-null   uint8  \n",
            " 12  State_Alabama            1608 non-null   uint8  \n",
            " 13  State_Alaska             1608 non-null   uint8  \n",
            " 14  State_Arizona            1608 non-null   uint8  \n",
            " 15  State_Florida            1608 non-null   uint8  \n",
            " 16  State_Georgia            1608 non-null   uint8  \n",
            " 17  State_Hawaii             1608 non-null   uint8  \n",
            " 18  State_Idaho              1608 non-null   uint8  \n",
            " 19  State_Kentucky           1608 non-null   uint8  \n",
            " 20  State_Louisiana          1608 non-null   uint8  \n",
            " 21  State_Maine              1608 non-null   uint8  \n",
            " 22  State_Michigan           1608 non-null   uint8  \n",
            " 23  State_Missouri           1608 non-null   uint8  \n",
            " 24  State_Nebraska           1608 non-null   uint8  \n",
            " 25  State_New Mexico         1608 non-null   uint8  \n",
            " 26  State_New York           1608 non-null   uint8  \n",
            " 27  State_North Carolina     1608 non-null   uint8  \n",
            " 28  State_Ohio               1608 non-null   uint8  \n",
            " 29  State_Oregon             1608 non-null   uint8  \n",
            " 30  State_South Carolina     1608 non-null   uint8  \n",
            " 31  State_Tennessee          1608 non-null   uint8  \n",
            " 32  State_Utah               1608 non-null   uint8  \n",
            " 33  State_Virginia           1608 non-null   uint8  \n",
            " 34  State_Wyoming            1608 non-null   uint8  \n",
            " 35  City_Albany              1608 non-null   uint8  \n",
            " 36  City_Albuquerque         1608 non-null   uint8  \n",
            " 37  City_Anchorage           1608 non-null   uint8  \n",
            " 38  City_Atlanta             1608 non-null   uint8  \n",
            " 39  City_Birmingham          1608 non-null   uint8  \n",
            " 40  City_Boise               1608 non-null   uint8  \n",
            " 41  City_Charleston          1608 non-null   uint8  \n",
            " 42  City_Charlotte           1608 non-null   uint8  \n",
            " 43  City_Cheyenne            1608 non-null   uint8  \n",
            " 44  City_Columbus            1608 non-null   uint8  \n",
            " 45  City_Detroit             1608 non-null   uint8  \n",
            " 46  City_Honolulu            1608 non-null   uint8  \n",
            " 47  City_Knoxville           1608 non-null   uint8  \n",
            " 48  City_Louisville          1608 non-null   uint8  \n",
            " 49  City_New Orleans         1608 non-null   uint8  \n",
            " 50  City_Omaha               1608 non-null   uint8  \n",
            " 51  City_Orlando             1608 non-null   uint8  \n",
            " 52  City_Phoenix             1608 non-null   uint8  \n",
            " 53  City_Portland            1608 non-null   uint8  \n",
            " 54  City_Richmond            1608 non-null   uint8  \n",
            " 55  City_Salt Lake City      1608 non-null   uint8  \n",
            " 56  City_St. Louis           1608 non-null   uint8  \n",
            " 57  Product_Women's Apparel  1608 non-null   uint8  \n",
            " 58  Sales Method_Online      1608 non-null   uint8  \n",
            "dtypes: float64(2), int64(4), object(1), uint8(52)\n",
            "memory usage: 182.2+ KB\n"
          ]
        }
      ],
      "source": [
        "encoded_df.info()"
      ]
    },
    {
      "cell_type": "code",
      "execution_count": 70,
      "metadata": {
        "colab": {
          "base_uri": "https://localhost:8080/",
          "height": 300
        },
        "id": "hiPSj_pOaNBK",
        "outputId": "7f6b502c-fcbd-4ed4-f89f-69a3cb6f09c9"
      },
      "outputs": [
        {
          "output_type": "execute_result",
          "data": {
            "text/plain": [
              "        Retailer ID  Price per Unit   Units Sold   Total Sales  \\\n",
              "count  1.608000e+03     1608.000000  1608.000000   1608.000000   \n",
              "mean   1.166596e+06       46.718284   133.200871   6398.218284   \n",
              "std    2.903857e+04       15.113044    56.168673   3842.116708   \n",
              "min    1.128299e+06        9.000000     0.000000      0.000000   \n",
              "25%    1.128299e+06       37.000000    91.000000   3579.750000   \n",
              "50%    1.185732e+06       46.000000   131.000000   5647.500000   \n",
              "75%    1.185732e+06       55.000000   169.000000   8372.000000   \n",
              "max    1.197831e+06      103.000000   326.000000  23220.000000   \n",
              "\n",
              "       Operating Profit  Operating Margin  \n",
              "count       1608.000000       1608.000000  \n",
              "mean        3193.028526          0.494596  \n",
              "std         2089.211481          0.083291  \n",
              "min            0.000000          0.260000  \n",
              "25%         1709.380000          0.450000  \n",
              "50%         2720.800000          0.490000  \n",
              "75%         4055.265000          0.540000  \n",
              "max        12574.240000          0.800000  "
            ],
            "text/html": [
              "\n",
              "\n",
              "  <div id=\"df-c15b27fc-66fa-45a6-b70b-ca51d7978ea9\">\n",
              "    <div class=\"colab-df-container\">\n",
              "      <div>\n",
              "<style scoped>\n",
              "    .dataframe tbody tr th:only-of-type {\n",
              "        vertical-align: middle;\n",
              "    }\n",
              "\n",
              "    .dataframe tbody tr th {\n",
              "        vertical-align: top;\n",
              "    }\n",
              "\n",
              "    .dataframe thead th {\n",
              "        text-align: right;\n",
              "    }\n",
              "</style>\n",
              "<table border=\"1\" class=\"dataframe\">\n",
              "  <thead>\n",
              "    <tr style=\"text-align: right;\">\n",
              "      <th></th>\n",
              "      <th>Retailer ID</th>\n",
              "      <th>Price per Unit</th>\n",
              "      <th>Units Sold</th>\n",
              "      <th>Total Sales</th>\n",
              "      <th>Operating Profit</th>\n",
              "      <th>Operating Margin</th>\n",
              "    </tr>\n",
              "  </thead>\n",
              "  <tbody>\n",
              "    <tr>\n",
              "      <th>count</th>\n",
              "      <td>1.608000e+03</td>\n",
              "      <td>1608.000000</td>\n",
              "      <td>1608.000000</td>\n",
              "      <td>1608.000000</td>\n",
              "      <td>1608.000000</td>\n",
              "      <td>1608.000000</td>\n",
              "    </tr>\n",
              "    <tr>\n",
              "      <th>mean</th>\n",
              "      <td>1.166596e+06</td>\n",
              "      <td>46.718284</td>\n",
              "      <td>133.200871</td>\n",
              "      <td>6398.218284</td>\n",
              "      <td>3193.028526</td>\n",
              "      <td>0.494596</td>\n",
              "    </tr>\n",
              "    <tr>\n",
              "      <th>std</th>\n",
              "      <td>2.903857e+04</td>\n",
              "      <td>15.113044</td>\n",
              "      <td>56.168673</td>\n",
              "      <td>3842.116708</td>\n",
              "      <td>2089.211481</td>\n",
              "      <td>0.083291</td>\n",
              "    </tr>\n",
              "    <tr>\n",
              "      <th>min</th>\n",
              "      <td>1.128299e+06</td>\n",
              "      <td>9.000000</td>\n",
              "      <td>0.000000</td>\n",
              "      <td>0.000000</td>\n",
              "      <td>0.000000</td>\n",
              "      <td>0.260000</td>\n",
              "    </tr>\n",
              "    <tr>\n",
              "      <th>25%</th>\n",
              "      <td>1.128299e+06</td>\n",
              "      <td>37.000000</td>\n",
              "      <td>91.000000</td>\n",
              "      <td>3579.750000</td>\n",
              "      <td>1709.380000</td>\n",
              "      <td>0.450000</td>\n",
              "    </tr>\n",
              "    <tr>\n",
              "      <th>50%</th>\n",
              "      <td>1.185732e+06</td>\n",
              "      <td>46.000000</td>\n",
              "      <td>131.000000</td>\n",
              "      <td>5647.500000</td>\n",
              "      <td>2720.800000</td>\n",
              "      <td>0.490000</td>\n",
              "    </tr>\n",
              "    <tr>\n",
              "      <th>75%</th>\n",
              "      <td>1.185732e+06</td>\n",
              "      <td>55.000000</td>\n",
              "      <td>169.000000</td>\n",
              "      <td>8372.000000</td>\n",
              "      <td>4055.265000</td>\n",
              "      <td>0.540000</td>\n",
              "    </tr>\n",
              "    <tr>\n",
              "      <th>max</th>\n",
              "      <td>1.197831e+06</td>\n",
              "      <td>103.000000</td>\n",
              "      <td>326.000000</td>\n",
              "      <td>23220.000000</td>\n",
              "      <td>12574.240000</td>\n",
              "      <td>0.800000</td>\n",
              "    </tr>\n",
              "  </tbody>\n",
              "</table>\n",
              "</div>\n",
              "      <button class=\"colab-df-convert\" onclick=\"convertToInteractive('df-c15b27fc-66fa-45a6-b70b-ca51d7978ea9')\"\n",
              "              title=\"Convert this dataframe to an interactive table.\"\n",
              "              style=\"display:none;\">\n",
              "\n",
              "  <svg xmlns=\"http://www.w3.org/2000/svg\" height=\"24px\"viewBox=\"0 0 24 24\"\n",
              "       width=\"24px\">\n",
              "    <path d=\"M0 0h24v24H0V0z\" fill=\"none\"/>\n",
              "    <path d=\"M18.56 5.44l.94 2.06.94-2.06 2.06-.94-2.06-.94-.94-2.06-.94 2.06-2.06.94zm-11 1L8.5 8.5l.94-2.06 2.06-.94-2.06-.94L8.5 2.5l-.94 2.06-2.06.94zm10 10l.94 2.06.94-2.06 2.06-.94-2.06-.94-.94-2.06-.94 2.06-2.06.94z\"/><path d=\"M17.41 7.96l-1.37-1.37c-.4-.4-.92-.59-1.43-.59-.52 0-1.04.2-1.43.59L10.3 9.45l-7.72 7.72c-.78.78-.78 2.05 0 2.83L4 21.41c.39.39.9.59 1.41.59.51 0 1.02-.2 1.41-.59l7.78-7.78 2.81-2.81c.8-.78.8-2.07 0-2.86zM5.41 20L4 18.59l7.72-7.72 1.47 1.35L5.41 20z\"/>\n",
              "  </svg>\n",
              "      </button>\n",
              "\n",
              "\n",
              "\n",
              "    <div id=\"df-73f3da36-a9e8-4999-aa4a-d143618a9bd0\">\n",
              "      <button class=\"colab-df-quickchart\" onclick=\"quickchart('df-73f3da36-a9e8-4999-aa4a-d143618a9bd0')\"\n",
              "              title=\"Suggest charts.\"\n",
              "              style=\"display:none;\">\n",
              "\n",
              "<svg xmlns=\"http://www.w3.org/2000/svg\" height=\"24px\"viewBox=\"0 0 24 24\"\n",
              "     width=\"24px\">\n",
              "    <g>\n",
              "        <path d=\"M19 3H5c-1.1 0-2 .9-2 2v14c0 1.1.9 2 2 2h14c1.1 0 2-.9 2-2V5c0-1.1-.9-2-2-2zM9 17H7v-7h2v7zm4 0h-2V7h2v10zm4 0h-2v-4h2v4z\"/>\n",
              "    </g>\n",
              "</svg>\n",
              "      </button>\n",
              "    </div>\n",
              "\n",
              "<style>\n",
              "  .colab-df-quickchart {\n",
              "    background-color: #E8F0FE;\n",
              "    border: none;\n",
              "    border-radius: 50%;\n",
              "    cursor: pointer;\n",
              "    display: none;\n",
              "    fill: #1967D2;\n",
              "    height: 32px;\n",
              "    padding: 0 0 0 0;\n",
              "    width: 32px;\n",
              "  }\n",
              "\n",
              "  .colab-df-quickchart:hover {\n",
              "    background-color: #E2EBFA;\n",
              "    box-shadow: 0px 1px 2px rgba(60, 64, 67, 0.3), 0px 1px 3px 1px rgba(60, 64, 67, 0.15);\n",
              "    fill: #174EA6;\n",
              "  }\n",
              "\n",
              "  [theme=dark] .colab-df-quickchart {\n",
              "    background-color: #3B4455;\n",
              "    fill: #D2E3FC;\n",
              "  }\n",
              "\n",
              "  [theme=dark] .colab-df-quickchart:hover {\n",
              "    background-color: #434B5C;\n",
              "    box-shadow: 0px 1px 3px 1px rgba(0, 0, 0, 0.15);\n",
              "    filter: drop-shadow(0px 1px 2px rgba(0, 0, 0, 0.3));\n",
              "    fill: #FFFFFF;\n",
              "  }\n",
              "</style>\n",
              "\n",
              "    <script>\n",
              "      async function quickchart(key) {\n",
              "        const containerElement = document.querySelector('#' + key);\n",
              "        const charts = await google.colab.kernel.invokeFunction(\n",
              "            'suggestCharts', [key], {});\n",
              "      }\n",
              "    </script>\n",
              "\n",
              "      <script>\n",
              "\n",
              "function displayQuickchartButton(domScope) {\n",
              "  let quickchartButtonEl =\n",
              "    domScope.querySelector('#df-73f3da36-a9e8-4999-aa4a-d143618a9bd0 button.colab-df-quickchart');\n",
              "  quickchartButtonEl.style.display =\n",
              "    google.colab.kernel.accessAllowed ? 'block' : 'none';\n",
              "}\n",
              "\n",
              "        displayQuickchartButton(document);\n",
              "      </script>\n",
              "      <style>\n",
              "    .colab-df-container {\n",
              "      display:flex;\n",
              "      flex-wrap:wrap;\n",
              "      gap: 12px;\n",
              "    }\n",
              "\n",
              "    .colab-df-convert {\n",
              "      background-color: #E8F0FE;\n",
              "      border: none;\n",
              "      border-radius: 50%;\n",
              "      cursor: pointer;\n",
              "      display: none;\n",
              "      fill: #1967D2;\n",
              "      height: 32px;\n",
              "      padding: 0 0 0 0;\n",
              "      width: 32px;\n",
              "    }\n",
              "\n",
              "    .colab-df-convert:hover {\n",
              "      background-color: #E2EBFA;\n",
              "      box-shadow: 0px 1px 2px rgba(60, 64, 67, 0.3), 0px 1px 3px 1px rgba(60, 64, 67, 0.15);\n",
              "      fill: #174EA6;\n",
              "    }\n",
              "\n",
              "    [theme=dark] .colab-df-convert {\n",
              "      background-color: #3B4455;\n",
              "      fill: #D2E3FC;\n",
              "    }\n",
              "\n",
              "    [theme=dark] .colab-df-convert:hover {\n",
              "      background-color: #434B5C;\n",
              "      box-shadow: 0px 1px 3px 1px rgba(0, 0, 0, 0.15);\n",
              "      filter: drop-shadow(0px 1px 2px rgba(0, 0, 0, 0.3));\n",
              "      fill: #FFFFFF;\n",
              "    }\n",
              "  </style>\n",
              "\n",
              "      <script>\n",
              "        const buttonEl =\n",
              "          document.querySelector('#df-c15b27fc-66fa-45a6-b70b-ca51d7978ea9 button.colab-df-convert');\n",
              "        buttonEl.style.display =\n",
              "          google.colab.kernel.accessAllowed ? 'block' : 'none';\n",
              "\n",
              "        async function convertToInteractive(key) {\n",
              "          const element = document.querySelector('#df-c15b27fc-66fa-45a6-b70b-ca51d7978ea9');\n",
              "          const dataTable =\n",
              "            await google.colab.kernel.invokeFunction('convertToInteractive',\n",
              "                                                     [key], {});\n",
              "          if (!dataTable) return;\n",
              "\n",
              "          const docLinkHtml = 'Like what you see? Visit the ' +\n",
              "            '<a target=\"_blank\" href=https://colab.research.google.com/notebooks/data_table.ipynb>data table notebook</a>'\n",
              "            + ' to learn more about interactive tables.';\n",
              "          element.innerHTML = '';\n",
              "          dataTable['output_type'] = 'display_data';\n",
              "          await google.colab.output.renderOutput(dataTable, element);\n",
              "          const docLink = document.createElement('div');\n",
              "          docLink.innerHTML = docLinkHtml;\n",
              "          element.appendChild(docLink);\n",
              "        }\n",
              "      </script>\n",
              "    </div>\n",
              "  </div>\n"
            ]
          },
          "metadata": {},
          "execution_count": 70
        }
      ],
      "source": [
        "df.describe()"
      ]
    },
    {
      "cell_type": "code",
      "execution_count": 71,
      "metadata": {
        "colab": {
          "base_uri": "https://localhost:8080/"
        },
        "id": "w9vGvFOnapaz",
        "outputId": "c001b257-23cb-44f5-9c94-9d6a4addad2b"
      },
      "outputs": [
        {
          "output_type": "execute_result",
          "data": {
            "text/plain": [
              "Retailer                    object\n",
              "Retailer ID                  int64\n",
              "Price per Unit               int64\n",
              "Units Sold                   int64\n",
              "Total Sales                  int64\n",
              "Operating Profit           float64\n",
              "Operating Margin           float64\n",
              "Region_Midwest               uint8\n",
              "Region_Northeast             uint8\n",
              "Region_South                 uint8\n",
              "Region_Southeast             uint8\n",
              "Region_West                  uint8\n",
              "State_Alabama                uint8\n",
              "State_Alaska                 uint8\n",
              "State_Arizona                uint8\n",
              "State_Florida                uint8\n",
              "State_Georgia                uint8\n",
              "State_Hawaii                 uint8\n",
              "State_Idaho                  uint8\n",
              "State_Kentucky               uint8\n",
              "State_Louisiana              uint8\n",
              "State_Maine                  uint8\n",
              "State_Michigan               uint8\n",
              "State_Missouri               uint8\n",
              "State_Nebraska               uint8\n",
              "State_New Mexico             uint8\n",
              "State_New York               uint8\n",
              "State_North Carolina         uint8\n",
              "State_Ohio                   uint8\n",
              "State_Oregon                 uint8\n",
              "State_South Carolina         uint8\n",
              "State_Tennessee              uint8\n",
              "State_Utah                   uint8\n",
              "State_Virginia               uint8\n",
              "State_Wyoming                uint8\n",
              "City_Albany                  uint8\n",
              "City_Albuquerque             uint8\n",
              "City_Anchorage               uint8\n",
              "City_Atlanta                 uint8\n",
              "City_Birmingham              uint8\n",
              "City_Boise                   uint8\n",
              "City_Charleston              uint8\n",
              "City_Charlotte               uint8\n",
              "City_Cheyenne                uint8\n",
              "City_Columbus                uint8\n",
              "City_Detroit                 uint8\n",
              "City_Honolulu                uint8\n",
              "City_Knoxville               uint8\n",
              "City_Louisville              uint8\n",
              "City_New Orleans             uint8\n",
              "City_Omaha                   uint8\n",
              "City_Orlando                 uint8\n",
              "City_Phoenix                 uint8\n",
              "City_Portland                uint8\n",
              "City_Richmond                uint8\n",
              "City_Salt Lake City          uint8\n",
              "City_St. Louis               uint8\n",
              "Product_Women's Apparel      uint8\n",
              "Sales Method_Online          uint8\n",
              "dtype: object"
            ]
          },
          "metadata": {},
          "execution_count": 71
        }
      ],
      "source": [
        "encoded_df.dtypes"
      ]
    },
    {
      "cell_type": "markdown",
      "metadata": {
        "id": "20gfRVA8a491"
      },
      "source": [
        "Missing Values"
      ]
    },
    {
      "cell_type": "code",
      "execution_count": 72,
      "metadata": {
        "colab": {
          "base_uri": "https://localhost:8080/"
        },
        "id": "16gU1ftna2ia",
        "outputId": "7128840e-d687-4880-9db2-566aebcb41ca"
      },
      "outputs": [
        {
          "output_type": "execute_result",
          "data": {
            "text/plain": [
              "Retailer                   0\n",
              "Retailer ID                0\n",
              "Price per Unit             0\n",
              "Units Sold                 0\n",
              "Total Sales                0\n",
              "Operating Profit           0\n",
              "Operating Margin           0\n",
              "Region_Midwest             0\n",
              "Region_Northeast           0\n",
              "Region_South               0\n",
              "Region_Southeast           0\n",
              "Region_West                0\n",
              "State_Alabama              0\n",
              "State_Alaska               0\n",
              "State_Arizona              0\n",
              "State_Florida              0\n",
              "State_Georgia              0\n",
              "State_Hawaii               0\n",
              "State_Idaho                0\n",
              "State_Kentucky             0\n",
              "State_Louisiana            0\n",
              "State_Maine                0\n",
              "State_Michigan             0\n",
              "State_Missouri             0\n",
              "State_Nebraska             0\n",
              "State_New Mexico           0\n",
              "State_New York             0\n",
              "State_North Carolina       0\n",
              "State_Ohio                 0\n",
              "State_Oregon               0\n",
              "State_South Carolina       0\n",
              "State_Tennessee            0\n",
              "State_Utah                 0\n",
              "State_Virginia             0\n",
              "State_Wyoming              0\n",
              "City_Albany                0\n",
              "City_Albuquerque           0\n",
              "City_Anchorage             0\n",
              "City_Atlanta               0\n",
              "City_Birmingham            0\n",
              "City_Boise                 0\n",
              "City_Charleston            0\n",
              "City_Charlotte             0\n",
              "City_Cheyenne              0\n",
              "City_Columbus              0\n",
              "City_Detroit               0\n",
              "City_Honolulu              0\n",
              "City_Knoxville             0\n",
              "City_Louisville            0\n",
              "City_New Orleans           0\n",
              "City_Omaha                 0\n",
              "City_Orlando               0\n",
              "City_Phoenix               0\n",
              "City_Portland              0\n",
              "City_Richmond              0\n",
              "City_Salt Lake City        0\n",
              "City_St. Louis             0\n",
              "Product_Women's Apparel    0\n",
              "Sales Method_Online        0\n",
              "dtype: int64"
            ]
          },
          "metadata": {},
          "execution_count": 72
        }
      ],
      "source": [
        "encoded_df.isnull().sum()"
      ]
    },
    {
      "cell_type": "code",
      "execution_count": 79,
      "metadata": {
        "colab": {
          "base_uri": "https://localhost:8080/",
          "height": 237
        },
        "id": "3RqulI562MST",
        "outputId": "7f8e5c46-ca4a-4946-e4fa-c99137cfc9e3"
      },
      "outputs": [
        {
          "output_type": "execute_result",
          "data": {
            "text/plain": [
              "                  Retailer ID  Price per Unit  Units Sold  Total Sales  \\\n",
              "Retailer ID          1.000000       -0.455232    0.152001    -0.150141   \n",
              "Price per Unit      -0.455232        1.000000    0.206639     0.713673   \n",
              "Units Sold           0.152001        0.206639    1.000000     0.803171   \n",
              "Total Sales         -0.150141        0.713673    0.803171     1.000000   \n",
              "Operating Profit    -0.020493        0.605365    0.812952     0.946128   \n",
              "Operating Margin     0.362555       -0.186661    0.252376     0.089104   \n",
              "\n",
              "                  Operating Profit  Operating Margin  \n",
              "Retailer ID              -0.020493          0.362555  \n",
              "Price per Unit            0.605365         -0.186661  \n",
              "Units Sold                0.812952          0.252376  \n",
              "Total Sales               0.946128          0.089104  \n",
              "Operating Profit          1.000000          0.369073  \n",
              "Operating Margin          0.369073          1.000000  "
            ],
            "text/html": [
              "\n",
              "\n",
              "  <div id=\"df-b9b3d4da-d747-469f-a9d1-393463448bf8\">\n",
              "    <div class=\"colab-df-container\">\n",
              "      <div>\n",
              "<style scoped>\n",
              "    .dataframe tbody tr th:only-of-type {\n",
              "        vertical-align: middle;\n",
              "    }\n",
              "\n",
              "    .dataframe tbody tr th {\n",
              "        vertical-align: top;\n",
              "    }\n",
              "\n",
              "    .dataframe thead th {\n",
              "        text-align: right;\n",
              "    }\n",
              "</style>\n",
              "<table border=\"1\" class=\"dataframe\">\n",
              "  <thead>\n",
              "    <tr style=\"text-align: right;\">\n",
              "      <th></th>\n",
              "      <th>Retailer ID</th>\n",
              "      <th>Price per Unit</th>\n",
              "      <th>Units Sold</th>\n",
              "      <th>Total Sales</th>\n",
              "      <th>Operating Profit</th>\n",
              "      <th>Operating Margin</th>\n",
              "    </tr>\n",
              "  </thead>\n",
              "  <tbody>\n",
              "    <tr>\n",
              "      <th>Retailer ID</th>\n",
              "      <td>1.000000</td>\n",
              "      <td>-0.455232</td>\n",
              "      <td>0.152001</td>\n",
              "      <td>-0.150141</td>\n",
              "      <td>-0.020493</td>\n",
              "      <td>0.362555</td>\n",
              "    </tr>\n",
              "    <tr>\n",
              "      <th>Price per Unit</th>\n",
              "      <td>-0.455232</td>\n",
              "      <td>1.000000</td>\n",
              "      <td>0.206639</td>\n",
              "      <td>0.713673</td>\n",
              "      <td>0.605365</td>\n",
              "      <td>-0.186661</td>\n",
              "    </tr>\n",
              "    <tr>\n",
              "      <th>Units Sold</th>\n",
              "      <td>0.152001</td>\n",
              "      <td>0.206639</td>\n",
              "      <td>1.000000</td>\n",
              "      <td>0.803171</td>\n",
              "      <td>0.812952</td>\n",
              "      <td>0.252376</td>\n",
              "    </tr>\n",
              "    <tr>\n",
              "      <th>Total Sales</th>\n",
              "      <td>-0.150141</td>\n",
              "      <td>0.713673</td>\n",
              "      <td>0.803171</td>\n",
              "      <td>1.000000</td>\n",
              "      <td>0.946128</td>\n",
              "      <td>0.089104</td>\n",
              "    </tr>\n",
              "    <tr>\n",
              "      <th>Operating Profit</th>\n",
              "      <td>-0.020493</td>\n",
              "      <td>0.605365</td>\n",
              "      <td>0.812952</td>\n",
              "      <td>0.946128</td>\n",
              "      <td>1.000000</td>\n",
              "      <td>0.369073</td>\n",
              "    </tr>\n",
              "    <tr>\n",
              "      <th>Operating Margin</th>\n",
              "      <td>0.362555</td>\n",
              "      <td>-0.186661</td>\n",
              "      <td>0.252376</td>\n",
              "      <td>0.089104</td>\n",
              "      <td>0.369073</td>\n",
              "      <td>1.000000</td>\n",
              "    </tr>\n",
              "  </tbody>\n",
              "</table>\n",
              "</div>\n",
              "      <button class=\"colab-df-convert\" onclick=\"convertToInteractive('df-b9b3d4da-d747-469f-a9d1-393463448bf8')\"\n",
              "              title=\"Convert this dataframe to an interactive table.\"\n",
              "              style=\"display:none;\">\n",
              "\n",
              "  <svg xmlns=\"http://www.w3.org/2000/svg\" height=\"24px\"viewBox=\"0 0 24 24\"\n",
              "       width=\"24px\">\n",
              "    <path d=\"M0 0h24v24H0V0z\" fill=\"none\"/>\n",
              "    <path d=\"M18.56 5.44l.94 2.06.94-2.06 2.06-.94-2.06-.94-.94-2.06-.94 2.06-2.06.94zm-11 1L8.5 8.5l.94-2.06 2.06-.94-2.06-.94L8.5 2.5l-.94 2.06-2.06.94zm10 10l.94 2.06.94-2.06 2.06-.94-2.06-.94-.94-2.06-.94 2.06-2.06.94z\"/><path d=\"M17.41 7.96l-1.37-1.37c-.4-.4-.92-.59-1.43-.59-.52 0-1.04.2-1.43.59L10.3 9.45l-7.72 7.72c-.78.78-.78 2.05 0 2.83L4 21.41c.39.39.9.59 1.41.59.51 0 1.02-.2 1.41-.59l7.78-7.78 2.81-2.81c.8-.78.8-2.07 0-2.86zM5.41 20L4 18.59l7.72-7.72 1.47 1.35L5.41 20z\"/>\n",
              "  </svg>\n",
              "      </button>\n",
              "\n",
              "\n",
              "\n",
              "    <div id=\"df-d84ddd87-2466-47b5-a1ef-b560e0a5fb1b\">\n",
              "      <button class=\"colab-df-quickchart\" onclick=\"quickchart('df-d84ddd87-2466-47b5-a1ef-b560e0a5fb1b')\"\n",
              "              title=\"Suggest charts.\"\n",
              "              style=\"display:none;\">\n",
              "\n",
              "<svg xmlns=\"http://www.w3.org/2000/svg\" height=\"24px\"viewBox=\"0 0 24 24\"\n",
              "     width=\"24px\">\n",
              "    <g>\n",
              "        <path d=\"M19 3H5c-1.1 0-2 .9-2 2v14c0 1.1.9 2 2 2h14c1.1 0 2-.9 2-2V5c0-1.1-.9-2-2-2zM9 17H7v-7h2v7zm4 0h-2V7h2v10zm4 0h-2v-4h2v4z\"/>\n",
              "    </g>\n",
              "</svg>\n",
              "      </button>\n",
              "    </div>\n",
              "\n",
              "<style>\n",
              "  .colab-df-quickchart {\n",
              "    background-color: #E8F0FE;\n",
              "    border: none;\n",
              "    border-radius: 50%;\n",
              "    cursor: pointer;\n",
              "    display: none;\n",
              "    fill: #1967D2;\n",
              "    height: 32px;\n",
              "    padding: 0 0 0 0;\n",
              "    width: 32px;\n",
              "  }\n",
              "\n",
              "  .colab-df-quickchart:hover {\n",
              "    background-color: #E2EBFA;\n",
              "    box-shadow: 0px 1px 2px rgba(60, 64, 67, 0.3), 0px 1px 3px 1px rgba(60, 64, 67, 0.15);\n",
              "    fill: #174EA6;\n",
              "  }\n",
              "\n",
              "  [theme=dark] .colab-df-quickchart {\n",
              "    background-color: #3B4455;\n",
              "    fill: #D2E3FC;\n",
              "  }\n",
              "\n",
              "  [theme=dark] .colab-df-quickchart:hover {\n",
              "    background-color: #434B5C;\n",
              "    box-shadow: 0px 1px 3px 1px rgba(0, 0, 0, 0.15);\n",
              "    filter: drop-shadow(0px 1px 2px rgba(0, 0, 0, 0.3));\n",
              "    fill: #FFFFFF;\n",
              "  }\n",
              "</style>\n",
              "\n",
              "    <script>\n",
              "      async function quickchart(key) {\n",
              "        const containerElement = document.querySelector('#' + key);\n",
              "        const charts = await google.colab.kernel.invokeFunction(\n",
              "            'suggestCharts', [key], {});\n",
              "      }\n",
              "    </script>\n",
              "\n",
              "      <script>\n",
              "\n",
              "function displayQuickchartButton(domScope) {\n",
              "  let quickchartButtonEl =\n",
              "    domScope.querySelector('#df-d84ddd87-2466-47b5-a1ef-b560e0a5fb1b button.colab-df-quickchart');\n",
              "  quickchartButtonEl.style.display =\n",
              "    google.colab.kernel.accessAllowed ? 'block' : 'none';\n",
              "}\n",
              "\n",
              "        displayQuickchartButton(document);\n",
              "      </script>\n",
              "      <style>\n",
              "    .colab-df-container {\n",
              "      display:flex;\n",
              "      flex-wrap:wrap;\n",
              "      gap: 12px;\n",
              "    }\n",
              "\n",
              "    .colab-df-convert {\n",
              "      background-color: #E8F0FE;\n",
              "      border: none;\n",
              "      border-radius: 50%;\n",
              "      cursor: pointer;\n",
              "      display: none;\n",
              "      fill: #1967D2;\n",
              "      height: 32px;\n",
              "      padding: 0 0 0 0;\n",
              "      width: 32px;\n",
              "    }\n",
              "\n",
              "    .colab-df-convert:hover {\n",
              "      background-color: #E2EBFA;\n",
              "      box-shadow: 0px 1px 2px rgba(60, 64, 67, 0.3), 0px 1px 3px 1px rgba(60, 64, 67, 0.15);\n",
              "      fill: #174EA6;\n",
              "    }\n",
              "\n",
              "    [theme=dark] .colab-df-convert {\n",
              "      background-color: #3B4455;\n",
              "      fill: #D2E3FC;\n",
              "    }\n",
              "\n",
              "    [theme=dark] .colab-df-convert:hover {\n",
              "      background-color: #434B5C;\n",
              "      box-shadow: 0px 1px 3px 1px rgba(0, 0, 0, 0.15);\n",
              "      filter: drop-shadow(0px 1px 2px rgba(0, 0, 0, 0.3));\n",
              "      fill: #FFFFFF;\n",
              "    }\n",
              "  </style>\n",
              "\n",
              "      <script>\n",
              "        const buttonEl =\n",
              "          document.querySelector('#df-b9b3d4da-d747-469f-a9d1-393463448bf8 button.colab-df-convert');\n",
              "        buttonEl.style.display =\n",
              "          google.colab.kernel.accessAllowed ? 'block' : 'none';\n",
              "\n",
              "        async function convertToInteractive(key) {\n",
              "          const element = document.querySelector('#df-b9b3d4da-d747-469f-a9d1-393463448bf8');\n",
              "          const dataTable =\n",
              "            await google.colab.kernel.invokeFunction('convertToInteractive',\n",
              "                                                     [key], {});\n",
              "          if (!dataTable) return;\n",
              "\n",
              "          const docLinkHtml = 'Like what you see? Visit the ' +\n",
              "            '<a target=\"_blank\" href=https://colab.research.google.com/notebooks/data_table.ipynb>data table notebook</a>'\n",
              "            + ' to learn more about interactive tables.';\n",
              "          element.innerHTML = '';\n",
              "          dataTable['output_type'] = 'display_data';\n",
              "          await google.colab.output.renderOutput(dataTable, element);\n",
              "          const docLink = document.createElement('div');\n",
              "          docLink.innerHTML = docLinkHtml;\n",
              "          element.appendChild(docLink);\n",
              "        }\n",
              "      </script>\n",
              "    </div>\n",
              "  </div>\n"
            ]
          },
          "metadata": {},
          "execution_count": 79
        }
      ],
      "source": [
        "corr=df.corr()\n",
        "corr"
      ]
    },
    {
      "cell_type": "code",
      "execution_count": 80,
      "metadata": {
        "id": "Z58_g6rM5X9n"
      },
      "outputs": [],
      "source": [
        "df['Units Sold'] = df['Units Sold'].astype(int)\n",
        "df['Total Sales'] = df['Total Sales'].astype(int)\n",
        "df['Operating Profit'] = df['Operating Profit'].astype(int)"
      ]
    },
    {
      "cell_type": "code",
      "execution_count": 81,
      "metadata": {
        "colab": {
          "base_uri": "https://localhost:8080/",
          "height": 560
        },
        "id": "a3vmJFej8dgK",
        "outputId": "f81c433c-d8e7-43f8-fa02-24fed49a28f1"
      },
      "outputs": [
        {
          "output_type": "execute_result",
          "data": {
            "text/plain": [
              "<Axes: >"
            ]
          },
          "metadata": {},
          "execution_count": 81
        },
        {
          "output_type": "display_data",
          "data": {
            "text/plain": [
              "<Figure size 640x480 with 2 Axes>"
            ],
            "image/png": "[encoded data removed]"
          },
          "metadata": {}
        }
      ],
      "source": [
        "sns.heatmap(df.corr())"
      ]
    },
    {
      "cell_type": "markdown",
      "source": [
        "Granger causality test"
      ],
      "metadata": {
        "id": "CTnnTP7Tmeq9"
      }
    },
    {
      "cell_type": "code",
      "source": [
        "from statsmodels.tsa.stattools import grangercausalitytests\n",
        "\n",
        "maxlag = 1\n",
        "test   = 'ssr_chi2test'\n",
        "\n",
        "def grangers_causation_matrix(data, variables, test='ssr_chi2test', verbose=False):\n",
        "    df = pd.DataFrame(np.zeros((len(variables), len(variables))), columns=variables, index=variables)\n",
        "    for c in df.columns:\n",
        "        for r in df.index:\n",
        "            test_result = grangercausalitytests(data[[r, c]], maxlag=maxlag, verbose=False)\n",
        "            p_values = [round(test_result[i+1][0][test][1],4) for i in range(maxlag)]\n",
        "            if verbose: print(f'Y = {r}, X = {c}, P Values = {p_values}')\n",
        "            min_p_value = np.min(p_values)\n",
        "            df.loc[r, c] = min_p_value\n",
        "    df.columns = [var + '_x' for var in variables]\n",
        "    df.index = [var + '_y' for var in variables]\n",
        "    return df\n",
        "\n",
        ""
      ],
      "metadata": {
        "id": "jTDTZhEMmZUM"
      },
      "execution_count": null,
      "outputs": []
    },
    {
      "cell_type": "code",
      "source": [
        "new = encoded_df[['Total Sales','Region_Midwest', 'Region_Northeast', 'Region_South', 'Region_Southeast', 'Region_West', 'Sales Method_In-store', 'Sales Method_Outlet']].copy()\n",
        "\n",
        "grangers_causation_matrix(new, variables = new.columns)"
      ],
      "metadata": {
        "id": "2Eq_mYETmdNE"
      },
      "execution_count": null,
      "outputs": []
    },
    {
      "cell_type": "markdown",
      "metadata": {
        "id": "fGcoTUsem2A5"
      },
      "source": [
        "#Automated EDA"
      ]
    },
    {
      "cell_type": "code",
      "execution_count": 82,
      "metadata": {
        "colab": {
          "base_uri": "https://localhost:8080/",
          "height": 744
        },
        "id": "6COKEP2hz-w_",
        "outputId": "8dfe3d84-640e-45ab-a971-f88a1d459599"
      },
      "outputs": [
        {
          "output_type": "execute_result",
          "data": {
            "text/plain": [
              "                 Retailer  Retailer ID  Price per Unit  Units Sold  \\\n",
              "Invoice Date                                                         \n",
              "2021-01-05      West Gear      1197831              34         143   \n",
              "2021-01-05    Foot Locker      1197831              36          85   \n",
              "2021-01-05    Foot Locker      1197831              33         133   \n",
              "2021-01-05    Foot Locker      1197831              28         119   \n",
              "2021-01-05    Foot Locker      1197831              28         196   \n",
              "...                   ...          ...             ...         ...   \n",
              "2021-12-27         Amazon      1185732              53         122   \n",
              "2021-12-28         Amazon      1185732              46          70   \n",
              "2021-12-29         Amazon      1185732              41          38   \n",
              "2021-12-30         Amazon      1185732              42          36   \n",
              "2021-12-31         Amazon      1185732              52          36   \n",
              "\n",
              "              Total Sales  Operating Profit  Operating Margin  Region_Midwest  \\\n",
              "Invoice Date                                                                    \n",
              "2021-01-05           4862           2917.20              0.60               0   \n",
              "2021-01-05           3060           1132.20              0.37               0   \n",
              "2021-01-05           4389           2326.17              0.53               0   \n",
              "2021-01-05           3332           1332.80              0.40               0   \n",
              "2021-01-05           5488           2469.60              0.45               0   \n",
              "...                   ...               ...               ...             ...   \n",
              "2021-12-27           6466           3103.68              0.48               0   \n",
              "2021-12-28           3220           1513.40              0.47               0   \n",
              "2021-12-29           1558            856.90              0.55               0   \n",
              "2021-12-30           1512            680.40              0.45               0   \n",
              "2021-12-31           1872            692.64              0.37               0   \n",
              "\n",
              "              Region_Northeast  Region_South  ...  City_New Orleans  \\\n",
              "Invoice Date                                  ...                     \n",
              "2021-01-05                   0             1  ...                 1   \n",
              "2021-01-05                   0             1  ...                 1   \n",
              "2021-01-05                   0             1  ...                 1   \n",
              "2021-01-05                   0             1  ...                 1   \n",
              "2021-01-05                   0             1  ...                 1   \n",
              "...                        ...           ...  ...               ...   \n",
              "2021-12-27                   1             0  ...                 0   \n",
              "2021-12-28                   1             0  ...                 0   \n",
              "2021-12-29                   1             0  ...                 0   \n",
              "2021-12-30                   1             0  ...                 0   \n",
              "2021-12-31                   1             0  ...                 0   \n",
              "\n",
              "              City_Omaha  City_Orlando  City_Phoenix  City_Portland  \\\n",
              "Invoice Date                                                          \n",
              "2021-01-05             0             0             0              0   \n",
              "2021-01-05             0             0             0              0   \n",
              "2021-01-05             0             0             0              0   \n",
              "2021-01-05             0             0             0              0   \n",
              "2021-01-05             0             0             0              0   \n",
              "...                  ...           ...           ...            ...   \n",
              "2021-12-27             0             0             0              1   \n",
              "2021-12-28             0             0             0              1   \n",
              "2021-12-29             0             0             0              1   \n",
              "2021-12-30             0             0             0              1   \n",
              "2021-12-31             0             0             0              1   \n",
              "\n",
              "              City_Richmond  City_Salt Lake City  City_St. Louis  \\\n",
              "Invoice Date                                                       \n",
              "2021-01-05                0                    0               0   \n",
              "2021-01-05                0                    0               0   \n",
              "2021-01-05                0                    0               0   \n",
              "2021-01-05                0                    0               0   \n",
              "2021-01-05                0                    0               0   \n",
              "...                     ...                  ...             ...   \n",
              "2021-12-27                0                    0               0   \n",
              "2021-12-28                0                    0               0   \n",
              "2021-12-29                0                    0               0   \n",
              "2021-12-30                0                    0               0   \n",
              "2021-12-31                0                    0               0   \n",
              "\n",
              "              Product_Women's Apparel  Sales Method_Online  \n",
              "Invoice Date                                                \n",
              "2021-01-05                          1                    1  \n",
              "2021-01-05                          1                    1  \n",
              "2021-01-05                          1                    1  \n",
              "2021-01-05                          1                    1  \n",
              "2021-01-05                          1                    1  \n",
              "...                               ...                  ...  \n",
              "2021-12-27                          1                    1  \n",
              "2021-12-28                          1                    1  \n",
              "2021-12-29                          1                    1  \n",
              "2021-12-30                          1                    1  \n",
              "2021-12-31                          1                    1  \n",
              "\n",
              "[1608 rows x 59 columns]"
            ],
            "text/html": [
              "\n",
              "\n",
              "  <div id=\"df-b1d991f8-e8fa-4a7b-b357-a66bd5a03c5e\">\n",
              "    <div class=\"colab-df-container\">\n",
              "      <div>\n",
              "<style scoped>\n",
              "    .dataframe tbody tr th:only-of-type {\n",
              "        vertical-align: middle;\n",
              "    }\n",
              "\n",
              "    .dataframe tbody tr th {\n",
              "        vertical-align: top;\n",
              "    }\n",
              "\n",
              "    .dataframe thead th {\n",
              "        text-align: right;\n",
              "    }\n",
              "</style>\n",
              "<table border=\"1\" class=\"dataframe\">\n",
              "  <thead>\n",
              "    <tr style=\"text-align: right;\">\n",
              "      <th></th>\n",
              "      <th>Retailer</th>\n",
              "      <th>Retailer ID</th>\n",
              "      <th>Price per Unit</th>\n",
              "      <th>Units Sold</th>\n",
              "      <th>Total Sales</th>\n",
              "      <th>Operating Profit</th>\n",
              "      <th>Operating Margin</th>\n",
              "      <th>Region_Midwest</th>\n",
              "      <th>Region_Northeast</th>\n",
              "      <th>Region_South</th>\n",
              "      <th>...</th>\n",
              "      <th>City_New Orleans</th>\n",
              "      <th>City_Omaha</th>\n",
              "      <th>City_Orlando</th>\n",
              "      <th>City_Phoenix</th>\n",
              "      <th>City_Portland</th>\n",
              "      <th>City_Richmond</th>\n",
              "      <th>City_Salt Lake City</th>\n",
              "      <th>City_St. Louis</th>\n",
              "      <th>Product_Women's Apparel</th>\n",
              "      <th>Sales Method_Online</th>\n",
              "    </tr>\n",
              "    <tr>\n",
              "      <th>Invoice Date</th>\n",
              "      <th></th>\n",
              "      <th></th>\n",
              "      <th></th>\n",
              "      <th></th>\n",
              "      <th></th>\n",
              "      <th></th>\n",
              "      <th></th>\n",
              "      <th></th>\n",
              "      <th></th>\n",
              "      <th></th>\n",
              "      <th></th>\n",
              "      <th></th>\n",
              "      <th></th>\n",
              "      <th></th>\n",
              "      <th></th>\n",
              "      <th></th>\n",
              "      <th></th>\n",
              "      <th></th>\n",
              "      <th></th>\n",
              "      <th></th>\n",
              "      <th></th>\n",
              "    </tr>\n",
              "  </thead>\n",
              "  <tbody>\n",
              "    <tr>\n",
              "      <th>2021-01-05</th>\n",
              "      <td>West Gear</td>\n",
              "      <td>1197831</td>\n",
              "      <td>34</td>\n",
              "      <td>143</td>\n",
              "      <td>4862</td>\n",
              "      <td>2917.20</td>\n",
              "      <td>0.60</td>\n",
              "      <td>0</td>\n",
              "      <td>0</td>\n",
              "      <td>1</td>\n",
              "      <td>...</td>\n",
              "      <td>1</td>\n",
              "      <td>0</td>\n",
              "      <td>0</td>\n",
              "      <td>0</td>\n",
              "      <td>0</td>\n",
              "      <td>0</td>\n",
              "      <td>0</td>\n",
              "      <td>0</td>\n",
              "      <td>1</td>\n",
              "      <td>1</td>\n",
              "    </tr>\n",
              "    <tr>\n",
              "      <th>2021-01-05</th>\n",
              "      <td>Foot Locker</td>\n",
              "      <td>1197831</td>\n",
              "      <td>36</td>\n",
              "      <td>85</td>\n",
              "      <td>3060</td>\n",
              "      <td>1132.20</td>\n",
              "      <td>0.37</td>\n",
              "      <td>0</td>\n",
              "      <td>0</td>\n",
              "      <td>1</td>\n",
              "      <td>...</td>\n",
              "      <td>1</td>\n",
              "      <td>0</td>\n",
              "      <td>0</td>\n",
              "      <td>0</td>\n",
              "      <td>0</td>\n",
              "      <td>0</td>\n",
              "      <td>0</td>\n",
              "      <td>0</td>\n",
              "      <td>1</td>\n",
              "      <td>1</td>\n",
              "    </tr>\n",
              "    <tr>\n",
              "      <th>2021-01-05</th>\n",
              "      <td>Foot Locker</td>\n",
              "      <td>1197831</td>\n",
              "      <td>33</td>\n",
              "      <td>133</td>\n",
              "      <td>4389</td>\n",
              "      <td>2326.17</td>\n",
              "      <td>0.53</td>\n",
              "      <td>0</td>\n",
              "      <td>0</td>\n",
              "      <td>1</td>\n",
              "      <td>...</td>\n",
              "      <td>1</td>\n",
              "      <td>0</td>\n",
              "      <td>0</td>\n",
              "      <td>0</td>\n",
              "      <td>0</td>\n",
              "      <td>0</td>\n",
              "      <td>0</td>\n",
              "      <td>0</td>\n",
              "      <td>1</td>\n",
              "      <td>1</td>\n",
              "    </tr>\n",
              "    <tr>\n",
              "      <th>2021-01-05</th>\n",
              "      <td>Foot Locker</td>\n",
              "      <td>1197831</td>\n",
              "      <td>28</td>\n",
              "      <td>119</td>\n",
              "      <td>3332</td>\n",
              "      <td>1332.80</td>\n",
              "      <td>0.40</td>\n",
              "      <td>0</td>\n",
              "      <td>0</td>\n",
              "      <td>1</td>\n",
              "      <td>...</td>\n",
              "      <td>1</td>\n",
              "      <td>0</td>\n",
              "      <td>0</td>\n",
              "      <td>0</td>\n",
              "      <td>0</td>\n",
              "      <td>0</td>\n",
              "      <td>0</td>\n",
              "      <td>0</td>\n",
              "      <td>1</td>\n",
              "      <td>1</td>\n",
              "    </tr>\n",
              "    <tr>\n",
              "      <th>2021-01-05</th>\n",
              "      <td>Foot Locker</td>\n",
              "      <td>1197831</td>\n",
              "      <td>28</td>\n",
              "      <td>196</td>\n",
              "      <td>5488</td>\n",
              "      <td>2469.60</td>\n",
              "      <td>0.45</td>\n",
              "      <td>0</td>\n",
              "      <td>0</td>\n",
              "      <td>1</td>\n",
              "      <td>...</td>\n",
              "      <td>1</td>\n",
              "      <td>0</td>\n",
              "      <td>0</td>\n",
              "      <td>0</td>\n",
              "      <td>0</td>\n",
              "      <td>0</td>\n",
              "      <td>0</td>\n",
              "      <td>0</td>\n",
              "      <td>1</td>\n",
              "      <td>1</td>\n",
              "    </tr>\n",
              "    <tr>\n",
              "      <th>...</th>\n",
              "      <td>...</td>\n",
              "      <td>...</td>\n",
              "      <td>...</td>\n",
              "      <td>...</td>\n",
              "      <td>...</td>\n",
              "      <td>...</td>\n",
              "      <td>...</td>\n",
              "      <td>...</td>\n",
              "      <td>...</td>\n",
              "      <td>...</td>\n",
              "      <td>...</td>\n",
              "      <td>...</td>\n",
              "      <td>...</td>\n",
              "      <td>...</td>\n",
              "      <td>...</td>\n",
              "      <td>...</td>\n",
              "      <td>...</td>\n",
              "      <td>...</td>\n",
              "      <td>...</td>\n",
              "      <td>...</td>\n",
              "      <td>...</td>\n",
              "    </tr>\n",
              "    <tr>\n",
              "      <th>2021-12-27</th>\n",
              "      <td>Amazon</td>\n",
              "      <td>1185732</td>\n",
              "      <td>53</td>\n",
              "      <td>122</td>\n",
              "      <td>6466</td>\n",
              "      <td>3103.68</td>\n",
              "      <td>0.48</td>\n",
              "      <td>0</td>\n",
              "      <td>1</td>\n",
              "      <td>0</td>\n",
              "      <td>...</td>\n",
              "      <td>0</td>\n",
              "      <td>0</td>\n",
              "      <td>0</td>\n",
              "      <td>0</td>\n",
              "      <td>1</td>\n",
              "      <td>0</td>\n",
              "      <td>0</td>\n",
              "      <td>0</td>\n",
              "      <td>1</td>\n",
              "      <td>1</td>\n",
              "    </tr>\n",
              "    <tr>\n",
              "      <th>2021-12-28</th>\n",
              "      <td>Amazon</td>\n",
              "      <td>1185732</td>\n",
              "      <td>46</td>\n",
              "      <td>70</td>\n",
              "      <td>3220</td>\n",
              "      <td>1513.40</td>\n",
              "      <td>0.47</td>\n",
              "      <td>0</td>\n",
              "      <td>1</td>\n",
              "      <td>0</td>\n",
              "      <td>...</td>\n",
              "      <td>0</td>\n",
              "      <td>0</td>\n",
              "      <td>0</td>\n",
              "      <td>0</td>\n",
              "      <td>1</td>\n",
              "      <td>0</td>\n",
              "      <td>0</td>\n",
              "      <td>0</td>\n",
              "      <td>1</td>\n",
              "      <td>1</td>\n",
              "    </tr>\n",
              "    <tr>\n",
              "      <th>2021-12-29</th>\n",
              "      <td>Amazon</td>\n",
              "      <td>1185732</td>\n",
              "      <td>41</td>\n",
              "      <td>38</td>\n",
              "      <td>1558</td>\n",
              "      <td>856.90</td>\n",
              "      <td>0.55</td>\n",
              "      <td>0</td>\n",
              "      <td>1</td>\n",
              "      <td>0</td>\n",
              "      <td>...</td>\n",
              "      <td>0</td>\n",
              "      <td>0</td>\n",
              "      <td>0</td>\n",
              "      <td>0</td>\n",
              "      <td>1</td>\n",
              "      <td>0</td>\n",
              "      <td>0</td>\n",
              "      <td>0</td>\n",
              "      <td>1</td>\n",
              "      <td>1</td>\n",
              "    </tr>\n",
              "    <tr>\n",
              "      <th>2021-12-30</th>\n",
              "      <td>Amazon</td>\n",
              "      <td>1185732</td>\n",
              "      <td>42</td>\n",
              "      <td>36</td>\n",
              "      <td>1512</td>\n",
              "      <td>680.40</td>\n",
              "      <td>0.45</td>\n",
              "      <td>0</td>\n",
              "      <td>1</td>\n",
              "      <td>0</td>\n",
              "      <td>...</td>\n",
              "      <td>0</td>\n",
              "      <td>0</td>\n",
              "      <td>0</td>\n",
              "      <td>0</td>\n",
              "      <td>1</td>\n",
              "      <td>0</td>\n",
              "      <td>0</td>\n",
              "      <td>0</td>\n",
              "      <td>1</td>\n",
              "      <td>1</td>\n",
              "    </tr>\n",
              "    <tr>\n",
              "      <th>2021-12-31</th>\n",
              "      <td>Amazon</td>\n",
              "      <td>1185732</td>\n",
              "      <td>52</td>\n",
              "      <td>36</td>\n",
              "      <td>1872</td>\n",
              "      <td>692.64</td>\n",
              "      <td>0.37</td>\n",
              "      <td>0</td>\n",
              "      <td>1</td>\n",
              "      <td>0</td>\n",
              "      <td>...</td>\n",
              "      <td>0</td>\n",
              "      <td>0</td>\n",
              "      <td>0</td>\n",
              "      <td>0</td>\n",
              "      <td>1</td>\n",
              "      <td>0</td>\n",
              "      <td>0</td>\n",
              "      <td>0</td>\n",
              "      <td>1</td>\n",
              "      <td>1</td>\n",
              "    </tr>\n",
              "  </tbody>\n",
              "</table>\n",
              "<p>1608 rows × 59 columns</p>\n",
              "</div>\n",
              "      <button class=\"colab-df-convert\" onclick=\"convertToInteractive('df-b1d991f8-e8fa-4a7b-b357-a66bd5a03c5e')\"\n",
              "              title=\"Convert this dataframe to an interactive table.\"\n",
              "              style=\"display:none;\">\n",
              "\n",
              "  <svg xmlns=\"http://www.w3.org/2000/svg\" height=\"24px\"viewBox=\"0 0 24 24\"\n",
              "       width=\"24px\">\n",
              "    <path d=\"M0 0h24v24H0V0z\" fill=\"none\"/>\n",
              "    <path d=\"M18.56 5.44l.94 2.06.94-2.06 2.06-.94-2.06-.94-.94-2.06-.94 2.06-2.06.94zm-11 1L8.5 8.5l.94-2.06 2.06-.94-2.06-.94L8.5 2.5l-.94 2.06-2.06.94zm10 10l.94 2.06.94-2.06 2.06-.94-2.06-.94-.94-2.06-.94 2.06-2.06.94z\"/><path d=\"M17.41 7.96l-1.37-1.37c-.4-.4-.92-.59-1.43-.59-.52 0-1.04.2-1.43.59L10.3 9.45l-7.72 7.72c-.78.78-.78 2.05 0 2.83L4 21.41c.39.39.9.59 1.41.59.51 0 1.02-.2 1.41-.59l7.78-7.78 2.81-2.81c.8-.78.8-2.07 0-2.86zM5.41 20L4 18.59l7.72-7.72 1.47 1.35L5.41 20z\"/>\n",
              "  </svg>\n",
              "      </button>\n",
              "\n",
              "\n",
              "\n",
              "    <div id=\"df-59963686-1b6d-48ce-97f7-52bf8c066b8a\">\n",
              "      <button class=\"colab-df-quickchart\" onclick=\"quickchart('df-59963686-1b6d-48ce-97f7-52bf8c066b8a')\"\n",
              "              title=\"Suggest charts.\"\n",
              "              style=\"display:none;\">\n",
              "\n",
              "<svg xmlns=\"http://www.w3.org/2000/svg\" height=\"24px\"viewBox=\"0 0 24 24\"\n",
              "     width=\"24px\">\n",
              "    <g>\n",
              "        <path d=\"M19 3H5c-1.1 0-2 .9-2 2v14c0 1.1.9 2 2 2h14c1.1 0 2-.9 2-2V5c0-1.1-.9-2-2-2zM9 17H7v-7h2v7zm4 0h-2V7h2v10zm4 0h-2v-4h2v4z\"/>\n",
              "    </g>\n",
              "</svg>\n",
              "      </button>\n",
              "    </div>\n",
              "\n",
              "<style>\n",
              "  .colab-df-quickchart {\n",
              "    background-color: #E8F0FE;\n",
              "    border: none;\n",
              "    border-radius: 50%;\n",
              "    cursor: pointer;\n",
              "    display: none;\n",
              "    fill: #1967D2;\n",
              "    height: 32px;\n",
              "    padding: 0 0 0 0;\n",
              "    width: 32px;\n",
              "  }\n",
              "\n",
              "  .colab-df-quickchart:hover {\n",
              "    background-color: #E2EBFA;\n",
              "    box-shadow: 0px 1px 2px rgba(60, 64, 67, 0.3), 0px 1px 3px 1px rgba(60, 64, 67, 0.15);\n",
              "    fill: #174EA6;\n",
              "  }\n",
              "\n",
              "  [theme=dark] .colab-df-quickchart {\n",
              "    background-color: #3B4455;\n",
              "    fill: #D2E3FC;\n",
              "  }\n",
              "\n",
              "  [theme=dark] .colab-df-quickchart:hover {\n",
              "    background-color: #434B5C;\n",
              "    box-shadow: 0px 1px 3px 1px rgba(0, 0, 0, 0.15);\n",
              "    filter: drop-shadow(0px 1px 2px rgba(0, 0, 0, 0.3));\n",
              "    fill: #FFFFFF;\n",
              "  }\n",
              "</style>\n",
              "\n",
              "    <script>\n",
              "      async function quickchart(key) {\n",
              "        const containerElement = document.querySelector('#' + key);\n",
              "        const charts = await google.colab.kernel.invokeFunction(\n",
              "            'suggestCharts', [key], {});\n",
              "      }\n",
              "    </script>\n",
              "\n",
              "      <script>\n",
              "\n",
              "function displayQuickchartButton(domScope) {\n",
              "  let quickchartButtonEl =\n",
              "    domScope.querySelector('#df-59963686-1b6d-48ce-97f7-52bf8c066b8a button.colab-df-quickchart');\n",
              "  quickchartButtonEl.style.display =\n",
              "    google.colab.kernel.accessAllowed ? 'block' : 'none';\n",
              "}\n",
              "\n",
              "        displayQuickchartButton(document);\n",
              "      </script>\n",
              "      <style>\n",
              "    .colab-df-container {\n",
              "      display:flex;\n",
              "      flex-wrap:wrap;\n",
              "      gap: 12px;\n",
              "    }\n",
              "\n",
              "    .colab-df-convert {\n",
              "      background-color: #E8F0FE;\n",
              "      border: none;\n",
              "      border-radius: 50%;\n",
              "      cursor: pointer;\n",
              "      display: none;\n",
              "      fill: #1967D2;\n",
              "      height: 32px;\n",
              "      padding: 0 0 0 0;\n",
              "      width: 32px;\n",
              "    }\n",
              "\n",
              "    .colab-df-convert:hover {\n",
              "      background-color: #E2EBFA;\n",
              "      box-shadow: 0px 1px 2px rgba(60, 64, 67, 0.3), 0px 1px 3px 1px rgba(60, 64, 67, 0.15);\n",
              "      fill: #174EA6;\n",
              "    }\n",
              "\n",
              "    [theme=dark] .colab-df-convert {\n",
              "      background-color: #3B4455;\n",
              "      fill: #D2E3FC;\n",
              "    }\n",
              "\n",
              "    [theme=dark] .colab-df-convert:hover {\n",
              "      background-color: #434B5C;\n",
              "      box-shadow: 0px 1px 3px 1px rgba(0, 0, 0, 0.15);\n",
              "      filter: drop-shadow(0px 1px 2px rgba(0, 0, 0, 0.3));\n",
              "      fill: #FFFFFF;\n",
              "    }\n",
              "  </style>\n",
              "\n",
              "      <script>\n",
              "        const buttonEl =\n",
              "          document.querySelector('#df-b1d991f8-e8fa-4a7b-b357-a66bd5a03c5e button.colab-df-convert');\n",
              "        buttonEl.style.display =\n",
              "          google.colab.kernel.accessAllowed ? 'block' : 'none';\n",
              "\n",
              "        async function convertToInteractive(key) {\n",
              "          const element = document.querySelector('#df-b1d991f8-e8fa-4a7b-b357-a66bd5a03c5e');\n",
              "          const dataTable =\n",
              "            await google.colab.kernel.invokeFunction('convertToInteractive',\n",
              "                                                     [key], {});\n",
              "          if (!dataTable) return;\n",
              "\n",
              "          const docLinkHtml = 'Like what you see? Visit the ' +\n",
              "            '<a target=\"_blank\" href=https://colab.research.google.com/notebooks/data_table.ipynb>data table notebook</a>'\n",
              "            + ' to learn more about interactive tables.';\n",
              "          element.innerHTML = '';\n",
              "          dataTable['output_type'] = 'display_data';\n",
              "          await google.colab.output.renderOutput(dataTable, element);\n",
              "          const docLink = document.createElement('div');\n",
              "          docLink.innerHTML = docLinkHtml;\n",
              "          element.appendChild(docLink);\n",
              "        }\n",
              "      </script>\n",
              "    </div>\n",
              "  </div>\n"
            ]
          },
          "metadata": {},
          "execution_count": 82
        }
      ],
      "source": [
        "encoded_df"
      ]
    },
    {
      "cell_type": "code",
      "execution_count": 83,
      "metadata": {
        "colab": {
          "base_uri": "https://localhost:8080/",
          "height": 145,
          "referenced_widgets": [
            "4f26c3ec5a8249798be36ad1bc32c3ea",
            "8883730abdea46b885af3d8a63de3669",
            "5c460bff9dd84b1d9f2da853bfcfaeeb",
            "328a6d59b80947a6a2a106a0bf25e190",
            "09258124f2c8481b80a00bcffb043bf4",
            "c927f5855de8478ca45dc5bcda7c08f6",
            "bc39759388a041c7b148e899f8cc3dcd",
            "05306663c8a9486d8ef65b15741b1d29",
            "052f2fa13d224491999a062c9426a0c2",
            "fdfbbfb9d0d24da0a434de6524f6c45c",
            "eaf76b75a1424c7fa58d7364dffa2e3a",
            "d847db1efeaf4b299790bb5e27e4a5ca",
            "d93d1fad6f3442b29f22f5af92132c62",
            "77b4a25494304bf0b068adf668f1662a",
            "7097688713f6463f9923656494afc699",
            "cdd5cf3f407c4867a2259dda3c9c6083",
            "c7da22807e2b477899aacc2b310143c1",
            "397bc75782c14691bbd74802f04f85f7",
            "ac735fc815844f5491d53f51dbf49c4f",
            "a6dfa1f462c6446d90ee6c04188e6e89",
            "6650f2d03eb649faba3bc70b0c6ff1e7",
            "9aaeae330b7a40379a8ad155eb9b8c78",
            "54cb14ea4ac54fc1ba717cc4074b84f7",
            "bdfdbc57bb90428fa84598df819b11f5",
            "d4c355ef624d4133ace883eede770b00",
            "0f9e967a2b3e47089028f7d93bb3d072",
            "c10a07d7c7b744938357ef7867b8ad5f",
            "28428b5c196f43ea82a29aed9433c696",
            "294e1d81f1624307919dca417e822a9c",
            "5477e16121fc4c96b8b6338cc3fc54e8",
            "d42b0b5d2b6847c4a87c8bd28b1ca067",
            "c6dcc198f78f4a4eb4096d260597737e",
            "e9c16ed2cd8d45c1b3e9f156c6526a22",
            "81794215397b4a608b77a9336d6ab02d",
            "bd3eee35170645d38d4ae9467e900ec7",
            "798dc6c35720484b818072793623fd68",
            "154afdfa08964dbea4b3a5c243bea40f",
            "5cf47719804d4255b4f0310180b2704b",
            "77571b53ed35486381008de147f5052f",
            "4f69c3d181eb43a784b37cb48215a575",
            "2976607d523f4f6c9b76d4c37920dff6",
            "44757b8457fb427d85beba05986b5943",
            "fff020af28ca4b53a1dff72b8f4d3ed8",
            "3d062d4d737d4f43ba858ed9496c0ad5"
          ]
        },
        "id": "8TXrjrvPRnRF",
        "outputId": "94f876f6-144d-457e-f249-22b918fc7ef2"
      },
      "outputs": [
        {
          "output_type": "display_data",
          "data": {
            "text/plain": [
              "Summarize dataset:   0%|          | 0/5 [00:00<?, ?it/s]"
            ],
            "application/vnd.jupyter.widget-view+json": {
              "version_major": 2,
              "version_minor": 0,
              "model_id": "4f26c3ec5a8249798be36ad1bc32c3ea"
            }
          },
          "metadata": {}
        },
        {
          "output_type": "display_data",
          "data": {
            "text/plain": [
              "Generate report structure:   0%|          | 0/1 [00:00<?, ?it/s]"
            ],
            "application/vnd.jupyter.widget-view+json": {
              "version_major": 2,
              "version_minor": 0,
              "model_id": "d847db1efeaf4b299790bb5e27e4a5ca"
            }
          },
          "metadata": {}
        },
        {
          "output_type": "display_data",
          "data": {
            "text/plain": [
              "Render HTML:   0%|          | 0/1 [00:00<?, ?it/s]"
            ],
            "application/vnd.jupyter.widget-view+json": {
              "version_major": 2,
              "version_minor": 0,
              "model_id": "54cb14ea4ac54fc1ba717cc4074b84f7"
            }
          },
          "metadata": {}
        },
        {
          "output_type": "display_data",
          "data": {
            "text/plain": [
              "Export report to file:   0%|          | 0/1 [00:00<?, ?it/s]"
            ],
            "application/vnd.jupyter.widget-view+json": {
              "version_major": 2,
              "version_minor": 0,
              "model_id": "81794215397b4a608b77a9336d6ab02d"
            }
          },
          "metadata": {}
        }
      ],
      "source": [
        "report = ProfileReport(df, title = \"Pandas Profiling Report\", explorative = True)\n",
        "report.to_file('output.html')"
      ]
    },
    {
      "cell_type": "code",
      "execution_count": 84,
      "metadata": {
        "id": "EhrZVKN_lvDd"
      },
      "outputs": [],
      "source": [
        "import dtale\n",
        "import dtale.app as dtale_app\n",
        "dtale.app.USE_COLAB = True"
      ]
    },
    {
      "cell_type": "code",
      "execution_count": 85,
      "metadata": {
        "colab": {
          "base_uri": "https://localhost:8080/",
          "height": 34
        },
        "id": "YvKMvw_2ndhf",
        "outputId": "7036fc6a-73bc-425e-892d-fef2ebcc6ae4"
      },
      "outputs": [
        {
          "output_type": "execute_result",
          "data": {
            "text/plain": [
              "https://crswn29rtxh-496ff2e9c6d22116-40000-colab.googleusercontent.com/dtale/main/2"
            ]
          },
          "metadata": {},
          "execution_count": 85
        }
      ],
      "source": [
        "dtale.show(df)"
      ]
    },
    {
      "cell_type": "markdown",
      "metadata": {
        "id": "DNKGFQoYp1U6"
      },
      "source": [
        "#Stationarity Check"
      ]
    },
    {
      "cell_type": "code",
      "execution_count": 86,
      "metadata": {
        "id": "7g6rbJ-zhRwj"
      },
      "outputs": [],
      "source": [
        "encoded_df = encoded_df.resample(rule = 'W').mean()"
      ]
    },
    {
      "cell_type": "code",
      "execution_count": 87,
      "metadata": {
        "id": "gf-uEgx7ToCZ"
      },
      "outputs": [],
      "source": [
        "from statsmodels.tsa.stattools import adfuller\n",
        "\n",
        "def adf_test(series,title=''):\n",
        "    \"\"\"\n",
        "    Pass in a time series and an optional title, returns an ADF report\n",
        "    \"\"\"\n",
        "    print(f'Augmented Dickey-Fuller Test: {title}')\n",
        "    result = adfuller(series.dropna(),autolag='AIC')\n",
        "\n",
        "    labels = ['ADF test statistic','p-value','# lags used','# observations']\n",
        "    out = pd.Series(result[0:4],index=labels)\n",
        "\n",
        "    for key,val in result[4].items():\n",
        "        out[f'critical value ({key})']=val\n",
        "\n",
        "    print(out.to_string())\n",
        "\n",
        "    if result[1] <= 0.05:\n",
        "        print(\"Strong evidence against the null hypothesis\")\n",
        "        print(\"Reject the null hypothesis\")\n",
        "        print(\"Data has no unit root and is stationary\")\n",
        "    else:\n",
        "        print(\"Weak evidence against the null hypothesis\")\n",
        "        print(\"Fail to reject the null hypothesis\")\n",
        "        print(\"Data has a unit root and is non-stationary\")"
      ]
    },
    {
      "cell_type": "code",
      "execution_count": 88,
      "metadata": {
        "colab": {
          "base_uri": "https://localhost:8080/"
        },
        "id": "xhkFaQArjDyz",
        "outputId": "81c69f4a-72dc-45c0-ff5c-fd62c145dad7"
      },
      "outputs": [
        {
          "output_type": "stream",
          "name": "stdout",
          "text": [
            "Augmented Dickey-Fuller Test: \n",
            "ADF test statistic      -3.918892\n",
            "p-value                  0.001900\n",
            "# lags used              0.000000\n",
            "# observations          51.000000\n",
            "critical value (1%)     -3.565624\n",
            "critical value (5%)     -2.920142\n",
            "critical value (10%)    -2.598015\n",
            "Strong evidence against the null hypothesis\n",
            "Reject the null hypothesis\n",
            "Data has no unit root and is stationary\n"
          ]
        }
      ],
      "source": [
        "adf_test(encoded_df['Total Sales'])"
      ]
    },
    {
      "cell_type": "code",
      "execution_count": 89,
      "metadata": {
        "id": "H_nNzRLFToCZ"
      },
      "outputs": [],
      "source": [
        "# from statsmodels.tsa.statespace.tools import diff"
      ]
    },
    {
      "cell_type": "code",
      "execution_count": 90,
      "metadata": {
        "id": "jZxZLSlaToCZ"
      },
      "outputs": [],
      "source": [
        "# encoded_df['Total Sales(1)'] = diff(encoded_df['Total Sales'],k_diff=1)"
      ]
    },
    {
      "cell_type": "code",
      "execution_count": 91,
      "metadata": {
        "id": "Hpjc0pEdToCZ"
      },
      "outputs": [],
      "source": [
        "# adf_test(encoded_df['Total Sales(1)'])"
      ]
    },
    {
      "cell_type": "code",
      "execution_count": 92,
      "metadata": {
        "id": "Gdx9ZwZvToCZ"
      },
      "outputs": [],
      "source": [
        "# encoded_df['Total Sales(1)']"
      ]
    },
    {
      "cell_type": "markdown",
      "metadata": {
        "id": "2QjaqaaSzSlR"
      },
      "source": [
        "#Seasonal Decomposition"
      ]
    },
    {
      "cell_type": "code",
      "execution_count": 93,
      "metadata": {
        "id": "dZlT9AfOV6m3"
      },
      "outputs": [],
      "source": [
        "import statsmodels.api as sm\n",
        "from statsmodels.tsa.seasonal import seasonal_decompose"
      ]
    },
    {
      "cell_type": "code",
      "execution_count": 94,
      "metadata": {
        "colab": {
          "base_uri": "https://localhost:8080/",
          "height": 487
        },
        "id": "nbKjbxfvbHal",
        "outputId": "818f6ae4-f010-4f7c-b9c8-a1805b4184bc"
      },
      "outputs": [
        {
          "output_type": "display_data",
          "data": {
            "text/plain": [
              "<Figure size 640x480 with 4 Axes>"
            ],
            "image/png": "[encoded data removed]"
          },
          "metadata": {}
        }
      ],
      "source": [
        "result = seasonal_decompose(encoded_df['Total Sales'], model = 'additive',period = 1)\n",
        "result.plot();"
      ]
    },
    {
      "cell_type": "markdown",
      "metadata": {
        "id": "anJfq6C3zXoU"
      },
      "source": [
        "#SMA"
      ]
    },
    {
      "cell_type": "code",
      "execution_count": 95,
      "metadata": {
        "id": "mNLjdoUozZo-"
      },
      "outputs": [],
      "source": [
        "encoded_df['2-week-SMA'] = encoded_df['Total Sales'].rolling(window = 2).mean()\n",
        "encoded_df['3-week-SMA'] = encoded_df['Total Sales'].rolling(window = 3).mean()"
      ]
    },
    {
      "cell_type": "code",
      "execution_count": 96,
      "metadata": {
        "colab": {
          "base_uri": "https://localhost:8080/"
        },
        "id": "LsfxHFY51gkU",
        "outputId": "28c8e06d-5b9a-4b8c-e1db-73cc6af99c90"
      },
      "outputs": [
        {
          "output_type": "execute_result",
          "data": {
            "text/plain": [
              "Invoice Date\n",
              "2021-01-10             NaN\n",
              "2021-01-17     5087.125000\n",
              "2021-01-24     4173.916988\n",
              "2021-01-31     4109.536036\n",
              "2021-02-07     5448.777778\n",
              "2021-02-14     5353.875000\n",
              "2021-02-21     4315.180556\n",
              "2021-02-28     3719.013889\n",
              "2021-03-07     4189.819444\n",
              "2021-03-14     4809.222222\n",
              "2021-03-21     4366.880952\n",
              "2021-03-28     4093.101382\n",
              "2021-04-04     4057.040943\n",
              "2021-04-11     4514.031397\n",
              "2021-04-18     5111.472146\n",
              "2021-04-25     5029.364865\n",
              "2021-05-02     5991.007112\n",
              "2021-05-09     7095.962649\n",
              "2021-05-16     6701.779861\n",
              "2021-05-23     5871.364865\n",
              "2021-05-30     4963.520488\n",
              "2021-06-06     5471.578098\n",
              "2021-06-13     7008.001074\n",
              "2021-06-20     8069.939105\n",
              "2021-06-27     7950.877880\n",
              "2021-07-04     7548.186813\n",
              "2021-07-11     8382.880691\n",
              "2021-07-18     9334.684225\n",
              "2021-07-25     9399.675676\n",
              "2021-08-01     6085.613900\n",
              "2021-08-08     6302.957143\n",
              "2021-08-15     8711.030233\n",
              "2021-08-22     7778.295097\n",
              "2021-08-29     7997.445510\n",
              "2021-09-05     8484.780645\n",
              "2021-09-12     7700.118919\n",
              "2021-09-19     6182.037340\n",
              "2021-09-26     5267.505518\n",
              "2021-10-03     5149.079404\n",
              "2021-10-10     6576.584200\n",
              "2021-10-17     6409.187810\n",
              "2021-10-24     4493.005221\n",
              "2021-10-31     3855.516995\n",
              "2021-11-07     5718.507692\n",
              "2021-11-14     7078.304651\n",
              "2021-11-21     6268.523256\n",
              "2021-11-28     6597.897771\n",
              "2021-12-05     9774.840278\n",
              "2021-12-12    10721.402778\n",
              "2021-12-19     9122.108333\n",
              "2021-12-26     8911.824242\n",
              "2022-01-02     5811.057576\n",
              "Freq: W-SUN, Name: 2-week-SMA, dtype: float64"
            ]
          },
          "metadata": {},
          "execution_count": 96
        }
      ],
      "source": [
        "encoded_df['2-week-SMA']"
      ]
    },
    {
      "cell_type": "code",
      "execution_count": 97,
      "metadata": {
        "colab": {
          "base_uri": "https://localhost:8080/"
        },
        "id": "i9fKILKH0vYQ",
        "outputId": "80b1cdd7-a069-4e0a-af2d-8dfb4ba26b70"
      },
      "outputs": [
        {
          "output_type": "execute_result",
          "data": {
            "text/plain": [
              "Invoice Date\n",
              "2021-01-10             NaN\n",
              "2021-01-17             NaN\n",
              "2021-01-24     4541.551802\n",
              "2021-01-31     4372.166881\n",
              "2021-02-07     4782.653654\n",
              "2021-02-14     5158.805556\n",
              "2021-02-21     4919.750000\n",
              "2021-02-28     4005.629630\n",
              "2021-03-07     4143.712963\n",
              "2021-03-14     4334.990741\n",
              "2021-03-21     4575.624339\n",
              "2021-03-28     4270.512033\n",
              "2021-04-04     4074.170152\n",
              "2021-04-11     4368.612329\n",
              "2021-04-18     4753.083995\n",
              "2021-04-25     5016.828277\n",
              "2021-05-02     5737.734471\n",
              "2021-05-09     6339.821946\n",
              "2021-05-16     6852.677802\n",
              "2021-05-23     6260.060448\n",
              "2021-05-30     5431.049695\n",
              "2021-06-06     5439.925940\n",
              "2021-06-13     6188.807168\n",
              "2021-06-20     7510.871684\n",
              "2021-06-27     7841.673689\n",
              "2021-07-04     7870.995510\n",
              "2021-07-11     8050.301413\n",
              "2021-07-18     8793.533073\n",
              "2021-07-25     9284.627321\n",
              "2021-08-01     7262.021879\n",
              "2021-08-08     7263.475933\n",
              "2021-08-15     6802.924917\n",
              "2021-08-22     8391.930065\n",
              "2021-08-29     7932.583828\n",
              "2021-09-05     8241.097007\n",
              "2021-09-12     7880.466376\n",
              "2021-09-19     7030.824893\n",
              "2021-09-26     5735.616291\n",
              "2021-10-03     5330.131884\n",
              "2021-10-10     5998.647531\n",
              "2021-10-17     6091.253412\n",
              "2021-10-24     5561.264742\n",
              "2021-10-31     4277.208609\n",
              "2021-11-07     5100.811330\n",
              "2021-11-14     6000.741562\n",
              "2021-11-21     6709.482171\n",
              "2021-11-28     6587.001615\n",
              "2021-12-05     8507.172588\n",
              "2021-12-12     9555.587963\n",
              "2021-12-19    10189.979630\n",
              "2021-12-26     8980.243939\n",
              "2022-01-02     6916.416162\n",
              "Freq: W-SUN, Name: 3-week-SMA, dtype: float64"
            ]
          },
          "metadata": {},
          "execution_count": 97
        }
      ],
      "source": [
        "encoded_df['3-week-SMA']"
      ]
    },
    {
      "cell_type": "code",
      "execution_count": 98,
      "metadata": {
        "colab": {
          "base_uri": "https://localhost:8080/",
          "height": 483
        },
        "id": "-zwWWfRy0YVc",
        "outputId": "beeedfe3-e78f-4f45-92cc-bda839b25b76"
      },
      "outputs": [
        {
          "output_type": "execute_result",
          "data": {
            "text/plain": [
              "<Axes: xlabel='Invoice Date'>"
            ]
          },
          "metadata": {},
          "execution_count": 98
        },
        {
          "output_type": "display_data",
          "data": {
            "text/plain": [
              "<Figure size 640x480 with 1 Axes>"
            ],
            "image/png": "[encoded data removed]"
          },
          "metadata": {}
        }
      ],
      "source": [
        "encoded_df['2-week-SMA'].plot(legend = True)\n",
        "encoded_df['3-week-SMA'].plot(legend = True)\n",
        "encoded_df['Total Sales'].plot(legend = True)"
      ]
    },
    {
      "cell_type": "code",
      "execution_count": 99,
      "metadata": {
        "id": "iefRovbSBnV7"
      },
      "outputs": [],
      "source": [
        "encoded_df['6-week-SMA'] = encoded_df['Total Sales'].rolling(window = 6).mean()\n",
        "encoded_df['12-week-SMA'] = encoded_df['Total Sales'].rolling(window = 12).mean()"
      ]
    },
    {
      "cell_type": "code",
      "execution_count": 100,
      "metadata": {
        "colab": {
          "base_uri": "https://localhost:8080/",
          "height": 483
        },
        "id": "Klp8XwUCBq-C",
        "outputId": "f62e2e9d-ea85-4823-8fe1-0fc7f7d484ca"
      },
      "outputs": [
        {
          "output_type": "execute_result",
          "data": {
            "text/plain": [
              "<Axes: xlabel='Invoice Date'>"
            ]
          },
          "metadata": {},
          "execution_count": 100
        },
        {
          "output_type": "display_data",
          "data": {
            "text/plain": [
              "<Figure size 640x480 with 1 Axes>"
            ],
            "image/png": "[encoded data removed]"
          },
          "metadata": {}
        }
      ],
      "source": [
        "encoded_df['6-week-SMA'].plot(legend = True)\n",
        "encoded_df['12-week-SMA'].plot(legend = True)\n",
        "encoded_df['Total Sales'].plot(legend = True)"
      ]
    },
    {
      "cell_type": "markdown",
      "metadata": {
        "id": "3boZmHg_zaND"
      },
      "source": [
        "#EWMA"
      ]
    },
    {
      "cell_type": "markdown",
      "metadata": {
        "id": "NA0Kqg0heMTw"
      },
      "source": [
        "EWMA will allow us to reduce the lag effect from SMA and it will put more weight on values that occured more recently (by applying more weight to the more recent values, thus the name). The amount of weight applied to the most recent values will depend on the actual parameters used in the EWMA and the number of periods given a window size.\n",
        "\n",
        "\n",
        "The formula for EWMA is:\n",
        "### $y_t =   \\frac{\\sum\\limits_{i=0}^t w_i x_{t-i}}{\\sum\\limits_{i=0}^t w_i}$"
      ]
    },
    {
      "cell_type": "markdown",
      "metadata": {
        "id": "lB5PstO3eMTw"
      },
      "source": [
        "Where $x_t$ is the input value, $w_i$ is the applied weight (Note how it can change from $i=0$ to $t$), and $y_t$ is the output.\n",
        "\n",
        "Now the question is, how to we define the weight term $w_i$?\n",
        "\n",
        "This depends on the <tt>adjust</tt> parameter you provide to the <tt>.ewm()</tt> method.\n",
        "\n",
        "When <tt>adjust=True</tt> (default) is used, weighted averages are calculated using weights equal to $w_i = (1 - \\alpha)^i$\n",
        "\n",
        "which gives\n",
        "\n",
        "### $y_t = \\frac{x_t + (1 - \\alpha)x_{t-1} + (1 - \\alpha)^2 x_{t-2} + ...\n",
        "+ (1 - \\alpha)^t x_{0}}{1 + (1 - \\alpha) + (1 - \\alpha)^2 + ...\n",
        "+ (1 - \\alpha)^t}$"
      ]
    },
    {
      "cell_type": "code",
      "execution_count": 101,
      "metadata": {
        "id": "Dzl591pNycS8"
      },
      "outputs": [],
      "source": [
        "encoded_df['EWMA'] = encoded_df['Total Sales'].ewm(span = 1).mean()"
      ]
    },
    {
      "cell_type": "code",
      "execution_count": 102,
      "metadata": {
        "colab": {
          "base_uri": "https://localhost:8080/"
        },
        "id": "CL5c9vwG8nQg",
        "outputId": "06884762-492b-4111-ed81-fd7dfbada219"
      },
      "outputs": [
        {
          "output_type": "execute_result",
          "data": {
            "text/plain": [
              "Invoice Date\n",
              "2021-01-10     5276.821429\n",
              "2021-01-17     4897.428571\n",
              "2021-01-24     3450.405405\n",
              "2021-01-31     4768.666667\n",
              "2021-02-07     6128.888889\n",
              "2021-02-14     4578.861111\n",
              "2021-02-21     4051.500000\n",
              "2021-02-28     3386.527778\n",
              "2021-03-07     4993.111111\n",
              "2021-03-14     4625.333333\n",
              "2021-03-21     4108.428571\n",
              "2021-03-28     4077.774194\n",
              "2021-04-04     4036.307692\n",
              "2021-04-11     4991.755102\n",
              "2021-04-18     5231.189189\n",
              "2021-04-25     4827.540541\n",
              "2021-05-02     7154.473684\n",
              "2021-05-09     7037.451613\n",
              "2021-05-16     6366.108108\n",
              "2021-05-23     5376.621622\n",
              "2021-05-30     4550.419355\n",
              "2021-06-06     6392.736842\n",
              "2021-06-13     7623.265306\n",
              "2021-06-20     8516.612903\n",
              "2021-06-27     7385.142857\n",
              "2021-07-04     7711.230769\n",
              "2021-07-11     9054.530612\n",
              "2021-07-18     9614.837838\n",
              "2021-07-25     9184.513514\n",
              "2021-08-01     2986.714286\n",
              "2021-08-08     9619.200000\n",
              "2021-08-15     7802.860465\n",
              "2021-08-22     7753.729730\n",
              "2021-08-29     8241.161290\n",
              "2021-09-05     8728.400000\n",
              "2021-09-12     6671.837838\n",
              "2021-09-19     5692.236842\n",
              "2021-09-26     4842.774194\n",
              "2021-10-03     5455.384615\n",
              "2021-10-10     7697.783784\n",
              "2021-10-17     5120.591837\n",
              "2021-10-24     3865.418605\n",
              "2021-10-31     3845.615385\n",
              "2021-11-07     7591.400000\n",
              "2021-11-14     6565.209302\n",
              "2021-11-21     5971.837209\n",
              "2021-11-28     7223.958333\n",
              "2021-12-05    12325.722222\n",
              "2021-12-12     9117.083333\n",
              "2021-12-19     9127.133333\n",
              "2021-12-26     8696.515152\n",
              "2022-01-02     2925.600000\n",
              "Freq: W-SUN, Name: EWMA, dtype: float64"
            ]
          },
          "metadata": {},
          "execution_count": 102
        }
      ],
      "source": [
        "encoded_df['EWMA']"
      ]
    },
    {
      "cell_type": "code",
      "execution_count": 103,
      "metadata": {
        "colab": {
          "base_uri": "https://localhost:8080/",
          "height": 466
        },
        "id": "AXZ9PnpKyyxh",
        "outputId": "c5516023-07ad-4da5-b673-e7fb0db5bb07"
      },
      "outputs": [
        {
          "output_type": "display_data",
          "data": {
            "text/plain": [
              "<Figure size 640x480 with 1 Axes>"
            ],
            "image/png": "[encoded data removed]"
          },
          "metadata": {}
        }
      ],
      "source": [
        "encoded_df['Total Sales'].plot(legend = True)\n",
        "encoded_df['EWMA'].plot(legend = True);\n"
      ]
    },
    {
      "cell_type": "markdown",
      "metadata": {
        "id": "WaKvXjY8ywbZ"
      },
      "source": [
        "#Evaluation Metrics"
      ]
    },
    {
      "cell_type": "markdown",
      "metadata": {
        "id": "nM8WQJUey238"
      },
      "source": [
        "SMA"
      ]
    },
    {
      "cell_type": "code",
      "execution_count": 104,
      "metadata": {
        "id": "yi1_Pqa_y_6C"
      },
      "outputs": [],
      "source": [
        "from sklearn.metrics import mean_squared_error,mean_absolute_error"
      ]
    },
    {
      "cell_type": "code",
      "execution_count": 105,
      "metadata": {
        "colab": {
          "base_uri": "https://localhost:8080/"
        },
        "id": "bSdOGeaMzJfX",
        "outputId": "aa365673-b649-4953-f089-3cbe72fe6e3a"
      },
      "outputs": [
        {
          "output_type": "execute_result",
          "data": {
            "text/plain": [
              "995.6182354984207"
            ]
          },
          "metadata": {},
          "execution_count": 105
        }
      ],
      "source": [
        "mean_absolute_error(encoded_df['Total Sales'][2:],encoded_df['3-week-SMA'][2:])"
      ]
    },
    {
      "cell_type": "code",
      "execution_count": 106,
      "metadata": {
        "colab": {
          "base_uri": "https://localhost:8080/"
        },
        "id": "WvvFRawEzJfX",
        "outputId": "39a20dc4-9068-4c53-c426-99bfd82859b8"
      },
      "outputs": [
        {
          "output_type": "execute_result",
          "data": {
            "text/plain": [
              "1848916.928315745"
            ]
          },
          "metadata": {},
          "execution_count": 106
        }
      ],
      "source": [
        "mean_squared_error(encoded_df['Total Sales'][2:],encoded_df['3-week-SMA'][2:])"
      ]
    },
    {
      "cell_type": "code",
      "execution_count": 107,
      "metadata": {
        "colab": {
          "base_uri": "https://localhost:8080/"
        },
        "id": "EaJAFODHzJfY",
        "outputId": "294f52a0-8ab3-4a4c-d7fa-cd13c5ea9e63"
      },
      "outputs": [
        {
          "output_type": "execute_result",
          "data": {
            "text/plain": [
              "1359.7488475140344"
            ]
          },
          "metadata": {},
          "execution_count": 107
        }
      ],
      "source": [
        "np.sqrt(mean_squared_error(encoded_df['Total Sales'][2:],encoded_df['3-week-SMA'][2:]))"
      ]
    },
    {
      "cell_type": "code",
      "execution_count": 108,
      "metadata": {
        "colab": {
          "base_uri": "https://localhost:8080/"
        },
        "id": "LryPzg8dyzBk",
        "outputId": "df694724-6125-4a34-fb6a-c52d398c9908"
      },
      "outputs": [
        {
          "output_type": "execute_result",
          "data": {
            "text/plain": [
              "700.9856059574898"
            ]
          },
          "metadata": {},
          "execution_count": 108
        }
      ],
      "source": [
        "mean_absolute_error(encoded_df['Total Sales'][1:],encoded_df['2-week-SMA'][1:])"
      ]
    },
    {
      "cell_type": "code",
      "execution_count": 109,
      "metadata": {
        "colab": {
          "base_uri": "https://localhost:8080/"
        },
        "id": "QNImss1Ly3_Q",
        "outputId": "df4a9b9c-59fc-4f96-8f03-a8884a1e37fd"
      },
      "outputs": [
        {
          "output_type": "execute_result",
          "data": {
            "text/plain": [
              "1090846.5181264612"
            ]
          },
          "metadata": {},
          "execution_count": 109
        }
      ],
      "source": [
        "mean_squared_error(encoded_df['Total Sales'][1:],encoded_df['2-week-SMA'][1:])"
      ]
    },
    {
      "cell_type": "code",
      "execution_count": 110,
      "metadata": {
        "colab": {
          "base_uri": "https://localhost:8080/"
        },
        "id": "rn1ilrJPzA4R",
        "outputId": "a8a8f597-102e-4b36-ead3-0341c04e2754"
      },
      "outputs": [
        {
          "output_type": "execute_result",
          "data": {
            "text/plain": [
              "1044.4359808654915"
            ]
          },
          "metadata": {},
          "execution_count": 110
        }
      ],
      "source": [
        "np.sqrt(mean_squared_error(encoded_df['Total Sales'][1:],encoded_df['2-week-SMA'][1:]))"
      ]
    },
    {
      "cell_type": "markdown",
      "metadata": {
        "id": "HiRh6oLi0FQP"
      },
      "source": [
        "EWMA Evaluation"
      ]
    },
    {
      "cell_type": "code",
      "execution_count": 111,
      "metadata": {
        "colab": {
          "base_uri": "https://localhost:8080/"
        },
        "id": "44bB8YFW0FQQ",
        "outputId": "ad236d8e-1623-491a-f534-424d8766418b"
      },
      "outputs": [
        {
          "output_type": "execute_result",
          "data": {
            "text/plain": [
              "52"
            ]
          },
          "metadata": {},
          "execution_count": 111
        }
      ],
      "source": [
        "len(encoded_df)"
      ]
    },
    {
      "cell_type": "code",
      "source": [
        "test_data = encoded_df.iloc[:40]\n",
        "train_data = encoded_df.iloc[40:]"
      ],
      "metadata": {
        "id": "Db5LxSkDCh6G"
      },
      "execution_count": 112,
      "outputs": []
    },
    {
      "cell_type": "code",
      "execution_count": 113,
      "metadata": {
        "colab": {
          "base_uri": "https://localhost:8080/"
        },
        "id": "QB1s3wC00FQQ",
        "outputId": "8fccde8e-9495-43f6-a190-f12f41db638c"
      },
      "outputs": [
        {
          "output_type": "execute_result",
          "data": {
            "text/plain": [
              "1039.2465637975604"
            ]
          },
          "metadata": {},
          "execution_count": 113
        }
      ],
      "source": [
        "mean_absolute_error(test_data['Total Sales'][:6],encoded_df['EWMA']['2021-10-17': '2021-11-21'])"
      ]
    },
    {
      "cell_type": "code",
      "execution_count": 49,
      "metadata": {
        "colab": {
          "base_uri": "https://localhost:8080/",
          "height": 175
        },
        "id": "vbqY6_Pj0FQQ",
        "outputId": "ef2787b7-7e65-4195-e68e-598186224b37"
      },
      "outputs": [
        {
          "output_type": "error",
          "ename": "NameError",
          "evalue": "ignored",
          "traceback": [
            "\u001b[0;31m---------------------------------------------------------------------------\u001b[0m",
            "\u001b[0;31mNameError\u001b[0m                                 Traceback (most recent call last)",
            "\u001b[0;32m<ipython-input-49-47aa8828992a>\u001b[0m in \u001b[0;36m<cell line: 1>\u001b[0;34m()\u001b[0m\n\u001b[0;32m----> 1\u001b[0;31m \u001b[0mmean_squared_error\u001b[0m\u001b[0;34m(\u001b[0m\u001b[0mtest_data\u001b[0m\u001b[0;34m[\u001b[0m\u001b[0;34m'Total Sales'\u001b[0m\u001b[0;34m]\u001b[0m\u001b[0;34m[\u001b[0m\u001b[0;34m:\u001b[0m\u001b[0;36m6\u001b[0m\u001b[0;34m]\u001b[0m\u001b[0;34m,\u001b[0m\u001b[0mencoded_df\u001b[0m\u001b[0;34m[\u001b[0m\u001b[0;34m'EWMA'\u001b[0m\u001b[0;34m]\u001b[0m\u001b[0;34m[\u001b[0m\u001b[0;34m'2021-10-17'\u001b[0m\u001b[0;34m:\u001b[0m \u001b[0;34m'2021-11-21'\u001b[0m\u001b[0;34m]\u001b[0m\u001b[0;34m)\u001b[0m\u001b[0;34m\u001b[0m\u001b[0;34m\u001b[0m\u001b[0m\n\u001b[0m",
            "\u001b[0;31mNameError\u001b[0m: name 'mean_squared_error' is not defined"
          ]
        }
      ],
      "source": [
        "mean_squared_error(test_data['Total Sales'][:6],encoded_df['EWMA']['2021-10-17': '2021-11-21'])"
      ]
    },
    {
      "cell_type": "code",
      "execution_count": null,
      "metadata": {
        "id": "00jGlh8_0FQR"
      },
      "outputs": [],
      "source": [
        "np.sqrt(mean_squared_error(test_data['Total Sales'][:6],encoded_df['EWMA']['2021-10-17': '2021-11-21']))"
      ]
    },
    {
      "cell_type": "code",
      "execution_count": null,
      "metadata": {
        "id": "cA9485_B0FQR"
      },
      "outputs": [],
      "source": [
        "encoded_df['Total Sales'].mean()"
      ]
    },
    {
      "cell_type": "markdown",
      "metadata": {
        "id": "tN1Crbn4Otch"
      },
      "source": [
        "#Holt Winters Method"
      ]
    },
    {
      "cell_type": "code",
      "execution_count": null,
      "metadata": {
        "id": "4yKHcq91FVwi"
      },
      "outputs": [],
      "source": [
        "from statsmodels.tsa.holtwinters import SimpleExpSmoothing"
      ]
    },
    {
      "cell_type": "code",
      "execution_count": null,
      "metadata": {
        "id": "aiiQsadmGGIs"
      },
      "outputs": [],
      "source": [
        "span = 2\n",
        "alpha = 2 / (span + 1)"
      ]
    },
    {
      "cell_type": "code",
      "execution_count": null,
      "metadata": {
        "id": "l2F37kqiGM0u"
      },
      "outputs": [],
      "source": [
        "encoded_df['EWMA'] = encoded_df['Total Sales'].ewm(alpha = alpha, adjust = False).mean()"
      ]
    },
    {
      "cell_type": "code",
      "execution_count": null,
      "metadata": {
        "id": "GQGe70QgGcQ0"
      },
      "outputs": [],
      "source": [
        "encoded_df['EWMA']"
      ]
    },
    {
      "cell_type": "code",
      "execution_count": null,
      "metadata": {
        "id": "y41Maw9WGjNA"
      },
      "outputs": [],
      "source": [
        "model = SimpleExpSmoothing(encoded_df['Total Sales'])"
      ]
    },
    {
      "cell_type": "code",
      "execution_count": null,
      "metadata": {
        "id": "xOQSwmyQ0eGb"
      },
      "outputs": [],
      "source": [
        "encoded_df['Total Sales']"
      ]
    },
    {
      "cell_type": "code",
      "execution_count": null,
      "metadata": {
        "id": "umcFyop8GwNr"
      },
      "outputs": [],
      "source": [
        "fitted_model = model.fit(smoothing_level = alpha, optimized = False)"
      ]
    },
    {
      "cell_type": "code",
      "execution_count": null,
      "metadata": {
        "id": "KObuESQNHD0l"
      },
      "outputs": [],
      "source": [
        "encoded_df['SES7'] = fitted_model.fittedvalues.shift(-1)"
      ]
    },
    {
      "cell_type": "code",
      "execution_count": null,
      "metadata": {
        "id": "1b4qLtyS0ORA"
      },
      "outputs": [],
      "source": [
        "encoded_df['SES7']"
      ]
    },
    {
      "cell_type": "markdown",
      "metadata": {
        "id": "4aQzTIYiInSV"
      },
      "source": [
        "Double Exponential Smoothing"
      ]
    },
    {
      "cell_type": "code",
      "execution_count": null,
      "metadata": {
        "id": "zogotEZLbqpp"
      },
      "outputs": [],
      "source": [
        "from statsmodels.tsa.holtwinters import ExponentialSmoothing"
      ]
    },
    {
      "cell_type": "code",
      "execution_count": null,
      "metadata": {
        "id": "8AAzjabaImlQ"
      },
      "outputs": [],
      "source": [
        "encoded_df['DES7'] = ExponentialSmoothing(encoded_df['Total Sales'], trend = 'add').fit().fittedvalues.shift(-1)"
      ]
    },
    {
      "cell_type": "code",
      "execution_count": null,
      "metadata": {
        "id": "yLY7ZmBbLbHf"
      },
      "outputs": [],
      "source": [
        "encoded_df[['Total Sales','EWMA', 'SES7', 'DES7']].plot()\n"
      ]
    },
    {
      "cell_type": "code",
      "execution_count": null,
      "metadata": {
        "id": "ZEiCcNUQAQID"
      },
      "outputs": [],
      "source": [
        "train_data = encoded_df.iloc[:40]\n",
        "test_data = encoded_df.iloc[40:]"
      ]
    },
    {
      "cell_type": "code",
      "execution_count": null,
      "metadata": {
        "id": "eogepMwaAQIE"
      },
      "outputs": [],
      "source": [
        "test_predictions = fitted_model.forecast(6)"
      ]
    },
    {
      "cell_type": "code",
      "execution_count": null,
      "metadata": {
        "id": "2K7oAZjgAQIF"
      },
      "outputs": [],
      "source": [
        "test_predictions"
      ]
    },
    {
      "cell_type": "markdown",
      "metadata": {
        "id": "IiRqbMBAK5YY"
      },
      "source": [
        "Triple Exponential Smoothing"
      ]
    },
    {
      "cell_type": "code",
      "execution_count": null,
      "metadata": {
        "id": "4G5X0okqKfo-"
      },
      "outputs": [],
      "source": [
        "encoded_df['TES7'] = ExponentialSmoothing(encoded_df['Total Sales'], trend = 'add', seasonal_periods = 1).fit().fittedvalues.shift(-1)"
      ]
    },
    {
      "cell_type": "code",
      "execution_count": null,
      "metadata": {
        "id": "PJ1_fmCk2WIS"
      },
      "outputs": [],
      "source": [
        "encoded_df[['Total Sales','EWMA', 'SES7', 'DES7', 'TES7']].plot()"
      ]
    },
    {
      "cell_type": "markdown",
      "metadata": {
        "id": "xJMd9N9yNZ3A"
      },
      "source": [
        "#Evaluation Metrics"
      ]
    },
    {
      "cell_type": "markdown",
      "metadata": {
        "id": "oM9WJvqaKSYG"
      },
      "source": [
        "Triple Exponential Smoothing"
      ]
    },
    {
      "cell_type": "code",
      "execution_count": null,
      "metadata": {
        "id": "axGbeMfLNlQj"
      },
      "outputs": [],
      "source": [
        "fitted_model  =  ExponentialSmoothing(train_data['Total Sales'], trend = 'add', seasonal_periods = 1).fit()"
      ]
    },
    {
      "cell_type": "code",
      "execution_count": null,
      "metadata": {
        "id": "VkbhnUarN43m"
      },
      "outputs": [],
      "source": [
        "test_predictions = fitted_model.forecast(6)"
      ]
    },
    {
      "cell_type": "code",
      "execution_count": null,
      "metadata": {
        "id": "kcic97OHRHkV"
      },
      "outputs": [],
      "source": [
        "test_predictions"
      ]
    },
    {
      "cell_type": "code",
      "execution_count": null,
      "metadata": {
        "id": "tHTrb61BlNpa"
      },
      "outputs": [],
      "source": [
        " train_data['Total Sales']\n"
      ]
    },
    {
      "cell_type": "code",
      "execution_count": null,
      "metadata": {
        "id": "fpSFvtwzwQ7A"
      },
      "outputs": [],
      "source": [
        "test_predictions"
      ]
    },
    {
      "cell_type": "code",
      "execution_count": null,
      "metadata": {
        "id": "dd1u9YwDVMGP"
      },
      "outputs": [],
      "source": [
        "from sklearn.metrics import mean_squared_error,mean_absolute_error"
      ]
    },
    {
      "cell_type": "code",
      "execution_count": null,
      "metadata": {
        "id": "vx5BYZb6vJ78"
      },
      "outputs": [],
      "source": [
        "test_data['Total Sales'][:6]"
      ]
    },
    {
      "cell_type": "code",
      "execution_count": null,
      "metadata": {
        "id": "I3-xXnaaNplw"
      },
      "outputs": [],
      "source": [
        "mean_absolute_error(test_data['Total Sales'][:6],test_predictions)"
      ]
    },
    {
      "cell_type": "code",
      "execution_count": null,
      "metadata": {
        "id": "nszITndqp_FS"
      },
      "outputs": [],
      "source": [
        "np.sqrt(mean_squared_error(test_data['Total Sales'][:6],test_predictions))"
      ]
    },
    {
      "cell_type": "code",
      "execution_count": null,
      "metadata": {
        "id": "4izQnWHJqBjd"
      },
      "outputs": [],
      "source": []
    },
    {
      "cell_type": "markdown",
      "metadata": {
        "id": "4-v_nzJkzGnu"
      },
      "source": [
        "SES Evaluation"
      ]
    },
    {
      "cell_type": "code",
      "execution_count": null,
      "metadata": {
        "id": "sMwSVQRIzRNq"
      },
      "outputs": [],
      "source": [
        "mean_absolute_error(test_data['Total Sales'][:6],encoded_df['SES7']['2021-10-17': '2021-11-21'])"
      ]
    },
    {
      "cell_type": "code",
      "execution_count": null,
      "metadata": {
        "id": "x0ngSWOizROL"
      },
      "outputs": [],
      "source": [
        "mean_squared_error(test_data['Total Sales'][:6],encoded_df['SES7']['2021-10-17': '2021-11-21'])"
      ]
    },
    {
      "cell_type": "code",
      "execution_count": null,
      "metadata": {
        "id": "7Ou_qxW-zROM"
      },
      "outputs": [],
      "source": [
        "np.sqrt(mean_squared_error(test_data['Total Sales'][:6],encoded_df['SES7']['2021-10-17': '2021-11-21']))"
      ]
    },
    {
      "cell_type": "code",
      "execution_count": null,
      "metadata": {
        "id": "feFeE0cfzRON"
      },
      "outputs": [],
      "source": [
        "encoded_df['Total Sales'].mean()"
      ]
    },
    {
      "cell_type": "markdown",
      "metadata": {
        "id": "oNRUW9jYKQaj"
      },
      "source": [
        "DES Evaluation\n"
      ]
    },
    {
      "cell_type": "code",
      "execution_count": null,
      "metadata": {
        "id": "oGX8eLolK7rV"
      },
      "outputs": [],
      "source": [
        "mean_absolute_error(test_data['Total Sales'][:6],encoded_df['DES7']['2021-10-17': '2021-11-21'])"
      ]
    },
    {
      "cell_type": "code",
      "execution_count": null,
      "metadata": {
        "id": "GpGWvKMDK7r4"
      },
      "outputs": [],
      "source": [
        "mean_squared_error(test_data['Total Sales'][:6],encoded_df['DES7']['2021-10-17': '2021-11-21'])"
      ]
    },
    {
      "cell_type": "code",
      "execution_count": null,
      "metadata": {
        "id": "3ok9Co-TK7r5"
      },
      "outputs": [],
      "source": [
        "np.sqrt(mean_squared_error(test_data['Total Sales'][:6],encoded_df['DES7']['2021-10-17': '2021-11-21']))"
      ]
    },
    {
      "cell_type": "code",
      "execution_count": null,
      "metadata": {
        "id": "iNHJwjw5K7r7"
      },
      "outputs": [],
      "source": [
        "encoded_df['Total Sales'].mean()"
      ]
    },
    {
      "cell_type": "code",
      "execution_count": null,
      "metadata": {
        "id": "imJOQJMAnSvL"
      },
      "outputs": [],
      "source": [
        "result.plot();"
      ]
    },
    {
      "cell_type": "code",
      "execution_count": null,
      "metadata": {
        "id": "iQuIh8pKhuOK"
      },
      "outputs": [],
      "source": [
        "len(encoded_df)"
      ]
    },
    {
      "cell_type": "code",
      "execution_count": null,
      "metadata": {
        "id": "_aDJfMQzhvzy"
      },
      "outputs": [],
      "source": [
        "encoded_df['Total Sales'].plot()"
      ]
    },
    {
      "cell_type": "code",
      "execution_count": null,
      "metadata": {
        "id": "O0cq2vnXi3kM"
      },
      "outputs": [],
      "source": [
        "from statsmodels.tsa.stattools import adfuller\n",
        "\n",
        "def adf_test(series,title=''):\n",
        "    \"\"\"\n",
        "    Pass in a time series and an optional title, returns an ADF report\n",
        "    \"\"\"\n",
        "    print(f'Augmented Dickey-Fuller Test: {title}')\n",
        "    result = adfuller(series.dropna(),autolag='AIC')\n",
        "\n",
        "    labels = ['ADF test statistic','p-value','# lags used','# observations']\n",
        "    out = pd.Series(result[0:4],index=labels)\n",
        "\n",
        "    for key,val in result[4].items():\n",
        "        out[f'critical value ({key})']=val\n",
        "\n",
        "    print(out.to_string())\n",
        "\n",
        "    if result[1] <= 0.05:\n",
        "        print(\"Strong evidence against the null hypothesis\")\n",
        "        print(\"Reject the null hypothesis\")\n",
        "        print(\"Data has no unit root and is stationary\")\n",
        "    else:\n",
        "        print(\"Weak evidence against the null hypothesis\")\n",
        "        print(\"Fail to reject the null hypothesis\")\n",
        "        print(\"Data has a unit root and is non-stationary\")"
      ]
    },
    {
      "cell_type": "code",
      "execution_count": null,
      "metadata": {
        "id": "TConL-FyjM6f"
      },
      "outputs": [],
      "source": [
        "# from statsmodels.tsa.statespace.tools import diff"
      ]
    },
    {
      "cell_type": "code",
      "execution_count": null,
      "metadata": {
        "id": "UXWulR2ijF_c"
      },
      "outputs": [],
      "source": [
        "# encoded_df['Total Sales(1)'] = diff(encoded_df['Total Sales'],k_diff=1)"
      ]
    },
    {
      "cell_type": "code",
      "execution_count": null,
      "metadata": {
        "id": "jgkBucoUjWfZ"
      },
      "outputs": [],
      "source": [
        "# adf_test(encoded_df['Total Sales(1)'])"
      ]
    },
    {
      "cell_type": "code",
      "execution_count": null,
      "metadata": {
        "id": "iPtsiOFIjb8T"
      },
      "outputs": [],
      "source": [
        "# encoded_df['Total Sales(1)']"
      ]
    },
    {
      "cell_type": "markdown",
      "metadata": {
        "id": "H9DE0nwqOdAT"
      },
      "source": [
        "#AR,ARIMA"
      ]
    },
    {
      "cell_type": "markdown",
      "metadata": {
        "id": "ddc1LxJ8aRcE"
      },
      "source": [
        "AR(1)"
      ]
    },
    {
      "cell_type": "code",
      "execution_count": null,
      "metadata": {
        "id": "yK1zM0hnanBG"
      },
      "outputs": [],
      "source": [
        "len(encoded_df)"
      ]
    },
    {
      "cell_type": "code",
      "execution_count": null,
      "metadata": {
        "id": "ljKgsPkoapP7"
      },
      "outputs": [],
      "source": [
        "train_data = encoded_df.iloc[:40]\n",
        "test_data = encoded_df.iloc[40:]"
      ]
    },
    {
      "cell_type": "code",
      "execution_count": null,
      "metadata": {
        "id": "Er1-cyHIaTug"
      },
      "outputs": [],
      "source": [
        "model = AutoReg(train_data['Total Sales'], lags=1)\n",
        "AR1fit = model.fit()"
      ]
    },
    {
      "cell_type": "code",
      "execution_count": null,
      "metadata": {
        "id": "Kittdi3Cb-e0"
      },
      "outputs": [],
      "source": [
        "start=len(train_data)\n",
        "end=len(train_data)+len(test_data)-1\n",
        "predictions1 = AR1fit.predict(start=start, end=end, dynamic=False).rename('AR(1) Predictions')"
      ]
    },
    {
      "cell_type": "code",
      "execution_count": null,
      "metadata": {
        "id": "HlZTuyLKcIeR"
      },
      "outputs": [],
      "source": [
        "predictions1"
      ]
    },
    {
      "cell_type": "code",
      "execution_count": null,
      "metadata": {
        "id": "TCSZ4JJmcbjK"
      },
      "outputs": [],
      "source": [
        "test_data['Total Sales'].plot(legend=True)\n",
        "predictions1.plot(legend=True,figsize=(5,3));"
      ]
    },
    {
      "cell_type": "markdown",
      "metadata": {
        "id": "6HZvo9bjcnBZ"
      },
      "source": [
        "AR(2) Model"
      ]
    },
    {
      "cell_type": "code",
      "execution_count": null,
      "metadata": {
        "id": "kj9RO76Zcoc9"
      },
      "outputs": [],
      "source": [
        "model = AutoReg(train_data['Total Sales'], lags=2)\n",
        "AR2fit = model.fit()"
      ]
    },
    {
      "cell_type": "code",
      "execution_count": null,
      "metadata": {
        "id": "D4Rl9DKYcy5h"
      },
      "outputs": [],
      "source": [
        "start=len(train_data)\n",
        "end=len(train_data)+len(test_data)-1\n",
        "predictions2 = AR2fit.predict(start=start, end=end, dynamic=False).rename('AR(2) Predictions')"
      ]
    },
    {
      "cell_type": "code",
      "execution_count": null,
      "metadata": {
        "id": "5F3zM7rCc2C7"
      },
      "outputs": [],
      "source": [
        "test_data['Total Sales'].plot(legend=True)\n",
        "predictions1.plot(legend=True)\n",
        "predictions2.plot(legend=True,figsize=(5,2));"
      ]
    },
    {
      "cell_type": "markdown",
      "metadata": {
        "id": "gwC1Us5YdXNb"
      },
      "source": [
        "AR(p) model where statsmodels chooses p"
      ]
    },
    {
      "cell_type": "code",
      "execution_count": null,
      "metadata": {
        "id": "IjOdFDZ7dW6-"
      },
      "outputs": [],
      "source": [
        "for i in range(1,10):\n",
        "  model = AutoReg(train_data['Total Sales'], lags=i)\n",
        "  ARfit = model.fit()\n",
        "  predictions = ARfit.predict(start=start, end=end, dynamic=False)\n",
        "  error = np.sqrt(mean_squared_error(test_data['Total Sales'], predictions))\n",
        "  print(f'Lag {i} Error : {error}')\n",
        "  min_error = float('inf')\n",
        "  min_error = min(min_error, error)\n",
        "\n",
        "print(min_error)\n",
        "\n"
      ]
    },
    {
      "cell_type": "code",
      "execution_count": null,
      "metadata": {
        "id": "PuuLKaIlm0aA"
      },
      "outputs": [],
      "source": [
        "model = AutoReg(train_data['Total Sales'], lags=4)\n",
        "AR4fit = model.fit()"
      ]
    },
    {
      "cell_type": "code",
      "execution_count": null,
      "metadata": {
        "id": "t3rrgEFRmphQ"
      },
      "outputs": [],
      "source": [
        "start=len(train_data)\n",
        "end=len(train_data)+len(test_data)-1\n",
        "predictions4 = AR4fit.predict(start=start, end=end, dynamic=False).rename('AR(4)')"
      ]
    },
    {
      "cell_type": "code",
      "execution_count": null,
      "metadata": {
        "id": "Pun10_4xm6_Z"
      },
      "outputs": [],
      "source": [
        "test_data['Total Sales'].plot(legend=True)\n",
        "predictions1.plot(legend=True)\n",
        "predictions2.plot(legend=True);\n",
        "predictions4.plot(legend=True);"
      ]
    },
    {
      "cell_type": "markdown",
      "metadata": {
        "id": "tZg31TIYiO_i"
      },
      "source": [
        "Evaluation"
      ]
    },
    {
      "cell_type": "code",
      "execution_count": null,
      "metadata": {
        "id": "bPcX9pAZiQS5"
      },
      "outputs": [],
      "source": [
        "from sklearn.metrics import mean_squared_error\n",
        "\n",
        "labels = ['AR(1)','AR(2)','AR(4)']\n",
        "preds = [predictions1, predictions2, predictions4]\n",
        "\n",
        "for i in range(3):\n",
        "    error = np.sqrt(mean_squared_error(test_data['Total Sales'], preds[i]))\n",
        "    print(f'{labels[i]} Error: {error}')"
      ]
    },
    {
      "cell_type": "markdown",
      "metadata": {
        "id": "83yTGHd-n4f_"
      },
      "source": [
        "Forecast"
      ]
    },
    {
      "cell_type": "code",
      "execution_count": null,
      "metadata": {
        "id": "7o1dwX_3n5k2"
      },
      "outputs": [],
      "source": [
        "model = AutoReg(encoded_df['Total Sales'], lags = 4)\n",
        "ARfit = model.fit()\n",
        "fcast = ARfit.predict(start=len(encoded_df), end=len(encoded_df)+ 10, dynamic=False).rename('Forecast')\n",
        "encoded_df['Total Sales'].plot(legend=True)\n",
        "fcast.plot(legend=True,figsize=(10,5));"
      ]
    },
    {
      "cell_type": "code",
      "execution_count": null,
      "metadata": {
        "id": "AE33IYcaoSv8"
      },
      "outputs": [],
      "source": [
        "fcast"
      ]
    },
    {
      "cell_type": "markdown",
      "metadata": {
        "id": "rssZ77uahSM7"
      },
      "source": [
        "ARIMA"
      ]
    },
    {
      "cell_type": "code",
      "execution_count": null,
      "metadata": {
        "id": "Ln5V-fDgQxgK"
      },
      "outputs": [],
      "source": [
        "auto_arima(encoded_df['Total Sales'], seasonal = False).summary()"
      ]
    },
    {
      "cell_type": "code",
      "execution_count": null,
      "metadata": {
        "id": "Gyv5F8t_QxgS"
      },
      "outputs": [],
      "source": [
        "model2 = ARIMA(encoded_df['Total Sales'], order = (0,1,1))"
      ]
    },
    {
      "cell_type": "code",
      "execution_count": null,
      "metadata": {
        "id": "bVcnf_UcQxgS"
      },
      "outputs": [],
      "source": [
        "results = model2.fit()"
      ]
    },
    {
      "cell_type": "code",
      "execution_count": null,
      "metadata": {
        "id": "_GEaYQMeQxgS"
      },
      "outputs": [],
      "source": [
        "len(encoded_df)"
      ]
    },
    {
      "cell_type": "code",
      "execution_count": null,
      "metadata": {
        "id": "fNya1NKlQxgS"
      },
      "outputs": [],
      "source": [
        "train_data = encoded_df[:40]\n",
        "test_data = encoded_df[40:]"
      ]
    },
    {
      "cell_type": "code",
      "execution_count": null,
      "metadata": {
        "id": "eTlHOqhQQxgS"
      },
      "outputs": [],
      "source": [
        "start = len(train_data)\n",
        "end = len(train_data) + len(test_data) - 1"
      ]
    },
    {
      "cell_type": "code",
      "execution_count": null,
      "metadata": {
        "id": "3xN-yQYZQxgT"
      },
      "outputs": [],
      "source": [
        "predictions = results.predict(start,end).rename('ARIMA Model')"
      ]
    },
    {
      "cell_type": "code",
      "execution_count": null,
      "metadata": {
        "id": "bHV3eHlyQxgT"
      },
      "outputs": [],
      "source": [
        "test_data['Total Sales'].plot(legend = True)\n",
        "predictions.plot(legend = True)"
      ]
    },
    {
      "cell_type": "code",
      "execution_count": null,
      "metadata": {
        "id": "SXbe4Th4QxgT"
      },
      "outputs": [],
      "source": [
        "from statsmodels.tools.eval_measures import rmse"
      ]
    },
    {
      "cell_type": "code",
      "execution_count": null,
      "metadata": {
        "id": "Oo2j-VJGQxgT"
      },
      "outputs": [],
      "source": [
        "error = rmse(test_data['Total Sales'],predictions)\n",
        "error"
      ]
    },
    {
      "cell_type": "code",
      "execution_count": null,
      "metadata": {
        "id": "zHpsJB80QxgT"
      },
      "outputs": [],
      "source": [
        "test_data['Total Sales'].mean()"
      ]
    },
    {
      "cell_type": "code",
      "execution_count": null,
      "metadata": {
        "id": "PiZyvPzmQxgT"
      },
      "outputs": [],
      "source": [
        "fcast = results.predict(len(encoded_df),len(encoded_df)+10).rename(' ARIMA Forecast')"
      ]
    },
    {
      "cell_type": "code",
      "execution_count": null,
      "metadata": {
        "id": "E52uAOdgQxgU"
      },
      "outputs": [],
      "source": [
        "fcast"
      ]
    },
    {
      "cell_type": "code",
      "execution_count": null,
      "metadata": {
        "id": "0qTRvfZeQxgV"
      },
      "outputs": [],
      "source": [
        "test_data['Total Sales'].plot(legend = True)\n",
        "predictions.plot(legend = True)"
      ]
    },
    {
      "cell_type": "markdown",
      "metadata": {
        "id": "VRE1urggCQeG"
      },
      "source": [
        "#ARIMAX"
      ]
    },
    {
      "cell_type": "code",
      "execution_count": null,
      "metadata": {
        "id": "LcPzgY1JKd4H"
      },
      "outputs": [],
      "source": [
        "train_data = encoded_df[:40]\n",
        "test_data = encoded_df[40:]"
      ]
    },
    {
      "cell_type": "code",
      "execution_count": null,
      "metadata": {
        "id": "t5gmrWmKKd4Q"
      },
      "outputs": [],
      "source": [
        "model2 = ARIMA(endog = train_data['Total Sales'],exog = train_data.iloc[:, 7:57],  order = (0,1,1))"
      ]
    },
    {
      "cell_type": "code",
      "execution_count": null,
      "metadata": {
        "id": "vMtfDEzEKd4Q"
      },
      "outputs": [],
      "source": [
        "results = model2.fit()"
      ]
    },
    {
      "cell_type": "code",
      "execution_count": null,
      "metadata": {
        "id": "YnWDe8j0Kd4Q"
      },
      "outputs": [],
      "source": [
        "len(encoded_df)"
      ]
    },
    {
      "cell_type": "code",
      "execution_count": null,
      "metadata": {
        "id": "pLiEA59mKd4Q"
      },
      "outputs": [],
      "source": [
        "start = len(train_data)\n",
        "end = len(train_data) + len(test_data) - 1"
      ]
    },
    {
      "cell_type": "code",
      "execution_count": null,
      "metadata": {
        "id": "h7fQsu6yKd4R"
      },
      "outputs": [],
      "source": [
        "predictions = results.predict(start = start, end = end, exog = test_data.iloc[:, 7:57]).rename('ARIMAX Predictions')"
      ]
    },
    {
      "cell_type": "code",
      "execution_count": null,
      "metadata": {
        "id": "Bo5ZrsIkKd4R"
      },
      "outputs": [],
      "source": [
        "test_data['Total Sales'].plot(legend = True)\n",
        "predictions.plot(legend = True)"
      ]
    },
    {
      "cell_type": "code",
      "execution_count": null,
      "metadata": {
        "id": "8SGZkSNYKd4R"
      },
      "outputs": [],
      "source": [
        "from statsmodels.tools.eval_measures import rmse"
      ]
    },
    {
      "cell_type": "code",
      "execution_count": null,
      "metadata": {
        "id": "mjy8Z27PKd4R"
      },
      "outputs": [],
      "source": [
        "error = rmse(test_data['Total Sales'],predictions)\n",
        "error"
      ]
    },
    {
      "cell_type": "code",
      "execution_count": null,
      "metadata": {
        "id": "OczyjC1TKd4R"
      },
      "outputs": [],
      "source": [
        "test_data['Total Sales'].mean()"
      ]
    },
    {
      "cell_type": "markdown",
      "metadata": {
        "id": "1OJ9QTimKd4S"
      },
      "source": [
        "fcast"
      ]
    },
    {
      "cell_type": "code",
      "execution_count": null,
      "metadata": {
        "id": "UEZhXYWQKd4S"
      },
      "outputs": [],
      "source": [
        "test_data['Total Sales'].plot(legend = True)\n",
        "predictions.plot(legend = True)\n",
        "\n"
      ]
    },
    {
      "cell_type": "markdown",
      "metadata": {
        "id": "S_w2xmLxQxgV"
      },
      "source": [
        "#SARIMA"
      ]
    },
    {
      "cell_type": "code",
      "execution_count": null,
      "metadata": {
        "id": "ct3X1dpwQxgV"
      },
      "outputs": [],
      "source": [
        "result = seasonal_decompose(encoded_df['Total Sales'], model = 'add', period = 1)"
      ]
    },
    {
      "cell_type": "code",
      "execution_count": null,
      "metadata": {
        "id": "_m4qzY-OQxgV"
      },
      "outputs": [],
      "source": [
        "result.plot()"
      ]
    },
    {
      "cell_type": "code",
      "execution_count": null,
      "metadata": {
        "id": "_Xhz3SN7QxgW"
      },
      "outputs": [],
      "source": [
        "model = SARIMAX(train_data['Total Sales'], order = (0, 1, 1), seasonal_order=(0,1,1,7))"
      ]
    },
    {
      "cell_type": "code",
      "execution_count": null,
      "metadata": {
        "id": "bV95I2eRQxgW"
      },
      "outputs": [],
      "source": [
        "results = model.fit()"
      ]
    },
    {
      "cell_type": "code",
      "execution_count": null,
      "metadata": {
        "id": "y_LGBKNlQxgW"
      },
      "outputs": [],
      "source": [
        "results.summary()"
      ]
    },
    {
      "cell_type": "code",
      "execution_count": null,
      "metadata": {
        "id": "o0BMC_yuQxgW"
      },
      "outputs": [],
      "source": [
        "start = len(train_data)\n",
        "end = len(train_data) + len(test_data) - 1"
      ]
    },
    {
      "cell_type": "code",
      "execution_count": null,
      "metadata": {
        "id": "Nk3noaK7QxgW"
      },
      "outputs": [],
      "source": [
        "predictions = results.predict(start, end).rename('SARIMA Predictions')"
      ]
    },
    {
      "cell_type": "code",
      "execution_count": null,
      "metadata": {
        "id": "Sd4B4JO8QxgX"
      },
      "outputs": [],
      "source": [
        "from statsmodels.tools.eval_measures import rmse"
      ]
    },
    {
      "cell_type": "code",
      "execution_count": null,
      "metadata": {
        "id": "fiWze_KVQxgX"
      },
      "outputs": [],
      "source": [
        "error = rmse(test_data['Total Sales'],predictions)"
      ]
    },
    {
      "cell_type": "code",
      "execution_count": null,
      "metadata": {
        "id": "h0tHnBFiQxgX"
      },
      "outputs": [],
      "source": [
        "error"
      ]
    },
    {
      "cell_type": "code",
      "execution_count": null,
      "metadata": {
        "id": "75LFJ787QxgX"
      },
      "outputs": [],
      "source": [
        "test_data['Total Sales'].mean()"
      ]
    },
    {
      "cell_type": "code",
      "execution_count": null,
      "metadata": {
        "id": "0YgDsU3wyOL4"
      },
      "outputs": [],
      "source": [
        "test_data.shape"
      ]
    },
    {
      "cell_type": "code",
      "execution_count": null,
      "metadata": {
        "id": "Y10gjWbtymVz"
      },
      "outputs": [],
      "source": [
        "test_data.iloc[:, 6:60]"
      ]
    },
    {
      "cell_type": "code",
      "execution_count": null,
      "metadata": {
        "id": "wrsREDtXHjb9"
      },
      "outputs": [],
      "source": [
        "test_data['Total Sales'].plot(legend = True)\n",
        "predictions.plot(legend = True)"
      ]
    },
    {
      "cell_type": "code",
      "execution_count": null,
      "metadata": {
        "id": "wpQQO04qxzgt"
      },
      "outputs": [],
      "source": [
        "fcast = results.predict(len(encoded_df),len(encoded_df)+10, exog = test_data.iloc[:, 6:60]).rename('Forecast')"
      ]
    },
    {
      "cell_type": "code",
      "source": [],
      "metadata": {
        "id": "CPvcfw3FKiS7"
      },
      "execution_count": null,
      "outputs": []
    },
    {
      "cell_type": "markdown",
      "metadata": {
        "id": "EGs_hUuaoxAa"
      },
      "source": [
        "#SARIMAX"
      ]
    },
    {
      "cell_type": "code",
      "execution_count": null,
      "metadata": {
        "id": "AXweeuQwilb3"
      },
      "outputs": [],
      "source": [
        "encoded_df.shape"
      ]
    },
    {
      "cell_type": "code",
      "execution_count": null,
      "metadata": {
        "id": "UbPkHu6PmZNS"
      },
      "outputs": [],
      "source": [
        "encoded_df.columns"
      ]
    },
    {
      "cell_type": "code",
      "execution_count": null,
      "metadata": {
        "id": "WTGRn2assjFt"
      },
      "outputs": [],
      "source": [
        "train = encoded_df[:40]\n",
        "test = encoded_df[40:]"
      ]
    },
    {
      "cell_type": "code",
      "execution_count": null,
      "metadata": {
        "id": "OyjpWQnB2y3A"
      },
      "outputs": [],
      "source": [
        "encoded_df.columns"
      ]
    },
    {
      "cell_type": "code",
      "execution_count": null,
      "metadata": {
        "id": "Ymq3wzr58hvO"
      },
      "outputs": [],
      "source": [
        "selected_cols = ['3-week-SMA'\t,'6-week-SMA',\t'12-week-SMA',\t'EWMA',\t'SES7'\t,'DES7',\t'TES7', '2-week-SMA']"
      ]
    },
    {
      "cell_type": "code",
      "execution_count": null,
      "metadata": {
        "id": "4TqWqJAH8K2r"
      },
      "outputs": [],
      "source": [
        "train.drop(selected_cols, axis = 1, inplace = True)"
      ]
    },
    {
      "cell_type": "code",
      "execution_count": null,
      "metadata": {
        "id": "KsVi4Ddz81L1"
      },
      "outputs": [],
      "source": [
        "len(train.columns)"
      ]
    },
    {
      "cell_type": "code",
      "execution_count": null,
      "metadata": {
        "id": "IE6sCS4U8-vT"
      },
      "outputs": [],
      "source": [
        "train.columns"
      ]
    },
    {
      "cell_type": "code",
      "execution_count": null,
      "metadata": {
        "id": "NWkLVj83ihG8"
      },
      "outputs": [],
      "source": [
        "model = SARIMAX(train['Total Sales'],exog=train.iloc[: ,7:57],order=(0,1,1),enforce_invertibility=False)\n",
        "results = model.fit()\n",
        "results.summary()"
      ]
    },
    {
      "cell_type": "code",
      "execution_count": null,
      "metadata": {
        "id": "bXaP-vb33S2U"
      },
      "outputs": [],
      "source": [
        "start = len(train)\n",
        "end = len(train) + len(test) - 1"
      ]
    },
    {
      "cell_type": "code",
      "execution_count": null,
      "metadata": {
        "id": "97huUTmf3S2U"
      },
      "outputs": [],
      "source": [
        "predictions = results.predict(start = start, end = end, exog = test.iloc[:, 7:57]).rename('SARIMAX Predictions')"
      ]
    },
    {
      "cell_type": "code",
      "execution_count": null,
      "metadata": {
        "id": "nqTGK9JT3S2U"
      },
      "outputs": [],
      "source": [
        "test_data.columns"
      ]
    },
    {
      "cell_type": "code",
      "execution_count": null,
      "metadata": {
        "id": "hyDE_hm_3S2U"
      },
      "outputs": [],
      "source": [
        "from statsmodels.tools.eval_measures import rmse"
      ]
    },
    {
      "cell_type": "code",
      "execution_count": null,
      "metadata": {
        "id": "40siQqza3S2V"
      },
      "outputs": [],
      "source": [
        "error = rmse(test_data['Total Sales'],predictions)"
      ]
    },
    {
      "cell_type": "code",
      "execution_count": null,
      "metadata": {
        "id": "ky_qqF_2wG3B"
      },
      "outputs": [],
      "source": [
        "test_data['Total Sales']\n"
      ]
    },
    {
      "cell_type": "code",
      "execution_count": null,
      "metadata": {
        "id": "cuD0cyB_wIDu"
      },
      "outputs": [],
      "source": [
        "predictions"
      ]
    },
    {
      "cell_type": "code",
      "execution_count": null,
      "metadata": {
        "id": "NFavODPy3S2V"
      },
      "outputs": [],
      "source": [
        "error"
      ]
    },
    {
      "cell_type": "code",
      "execution_count": null,
      "metadata": {
        "id": "r2r1_-aE3S2V"
      },
      "outputs": [],
      "source": [
        "test_data['Total Sales'].mean()"
      ]
    },
    {
      "cell_type": "code",
      "execution_count": null,
      "metadata": {
        "id": "QKZuT4nDvKIj"
      },
      "outputs": [],
      "source": [
        "test_data['Total Sales'].plot(legend = True)\n",
        "predictions.plot(legend = True)\n"
      ]
    },
    {
      "cell_type": "markdown",
      "metadata": {
        "id": "M8NI6JHoZOsB"
      },
      "source": [
        "# VAR, VARIMA\n",
        "\n"
      ]
    },
    {
      "cell_type": "markdown",
      "metadata": {
        "id": "BLr_d0bQ1hCU"
      },
      "source": [
        "VAR"
      ]
    },
    {
      "cell_type": "code",
      "execution_count": null,
      "metadata": {
        "id": "n1iP_P1gdOOF"
      },
      "outputs": [],
      "source": [
        "transformed_df = encoded_df[['Price per Unit', 'Total Sales']]"
      ]
    },
    {
      "cell_type": "code",
      "execution_count": null,
      "metadata": {
        "id": "Pzug16o-1iZP"
      },
      "outputs": [],
      "source": [
        "train_data = transformed_df.iloc[:40]\n",
        "test_data = transformed_df.iloc[40:]"
      ]
    },
    {
      "cell_type": "code",
      "execution_count": null,
      "metadata": {
        "id": "X0pmf2581htp"
      },
      "outputs": [],
      "source": [
        "for i in [1,2,3,4,5,6,7]:\n",
        "    model = VAR(transformed_df)\n",
        "    results = model.fit(i)\n",
        "    print('Order =', i)\n",
        "    print('AIC: ', results.aic)\n",
        "    print('BIC: ', results.bic)\n",
        "    print()"
      ]
    },
    {
      "cell_type": "markdown",
      "metadata": {
        "id": "3rGj7S9V1G3w"
      },
      "source": [
        "## Fit the VAR(4) Model"
      ]
    },
    {
      "cell_type": "code",
      "execution_count": null,
      "metadata": {
        "id": "O-VYJSX-1G3w"
      },
      "outputs": [],
      "source": [
        "results = model.fit(4)\n",
        "results.summary()"
      ]
    },
    {
      "cell_type": "code",
      "execution_count": null,
      "metadata": {
        "id": "j-rj77Nz1G3w"
      },
      "outputs": [],
      "source": [
        "lag_order = results.k_ar\n",
        "lag_order"
      ]
    },
    {
      "cell_type": "code",
      "execution_count": null,
      "metadata": {
        "id": "41QorzmM1G3w"
      },
      "outputs": [],
      "source": [
        "z = results.forecast(y=train_data.values[-lag_order:], steps=10)\n",
        "z"
      ]
    },
    {
      "cell_type": "code",
      "execution_count": null,
      "metadata": {
        "id": "wj3I4kN91G3x"
      },
      "outputs": [],
      "source": [
        "test_data"
      ]
    },
    {
      "cell_type": "code",
      "execution_count": null,
      "metadata": {
        "id": "3tEwZNq51G3x"
      },
      "outputs": [],
      "source": [
        "idx = pd.date_range('2021-10-17', periods=10, freq='W')\n",
        "df_forecast = pd.DataFrame(z, index=idx, columns=['Price Per Unit','Total Sales'])\n",
        "df_forecast"
      ]
    },
    {
      "cell_type": "markdown",
      "metadata": {
        "id": "pFyi2iZH1G37"
      },
      "source": [
        "## Plot the results\n",
        "The VARResults object offers a couple of quick plotting tools:"
      ]
    },
    {
      "cell_type": "code",
      "execution_count": null,
      "metadata": {
        "id": "lbg7rgft1G38"
      },
      "outputs": [],
      "source": [
        "results.plot();"
      ]
    },
    {
      "cell_type": "code",
      "execution_count": null,
      "metadata": {
        "id": "swmI6zyC1G38"
      },
      "outputs": [],
      "source": [
        "results.plot_forecast(12);"
      ]
    },
    {
      "cell_type": "markdown",
      "metadata": {
        "id": "Pwc6FvGP1G38"
      },
      "source": [
        "But for our investigation we want to plot predicted values against our test set."
      ]
    },
    {
      "cell_type": "code",
      "execution_count": null,
      "metadata": {
        "id": "1_ZoN__b1G38"
      },
      "outputs": [],
      "source": [
        "transformed_df['Price per Unit']['2021-10-17':'2021-12-19'].plot(figsize=(12,5),legend=True)\n",
        "df_forecast['Price Per Unit'].plot(legend=True);"
      ]
    },
    {
      "cell_type": "code",
      "execution_count": null,
      "metadata": {
        "id": "Xj_NBsZX1G38"
      },
      "outputs": [],
      "source": [
        "transformed_df['Total Sales']['2021-10-17':'2021-12-19'].plot(figsize=(12,5),legend=True)\n",
        "df_forecast['Total Sales'].plot(legend=True);"
      ]
    },
    {
      "cell_type": "markdown",
      "metadata": {
        "id": "Q13wTAO01G39"
      },
      "source": [
        "### Evaluate the model\n",
        "\n",
        "&nbsp;&nbsp;&nbsp;&nbsp;$RMSE = \\sqrt{{\\frac 1 L} \\sum\\limits_{l=1}^L (y_{T+l} - \\hat y_{T+l})^2}$<br><br>\n",
        "where $T$ is the last observation period and $l$ is the lag."
      ]
    },
    {
      "cell_type": "code",
      "execution_count": null,
      "metadata": {
        "id": "jscX7IUK1G39"
      },
      "outputs": [],
      "source": [
        "RMSE1 = rmse(transformed_df['Price per Unit']['2021-10-17':'2021-12-19'], df_forecast['Price Per Unit']['2021-10-17':'2021-12-19'])\n",
        "RMSE1"
      ]
    },
    {
      "cell_type": "code",
      "execution_count": null,
      "metadata": {
        "id": "fiwuYWq71G39"
      },
      "outputs": [],
      "source": [
        "RMSE2 = rmse(transformed_df['Total Sales']['2021-10-17':'2021-12-19'], df_forecast['Total Sales']['2021-10-17':'2021-12-19'])\n",
        "RMSE2"
      ]
    },
    {
      "cell_type": "code",
      "execution_count": null,
      "metadata": {
        "id": "1uMptsqzQG9D"
      },
      "outputs": [],
      "source": [
        "transformed_df['Price per Unit'].mean()\n"
      ]
    },
    {
      "cell_type": "code",
      "execution_count": null,
      "metadata": {
        "id": "kSCvX7CmQMRH"
      },
      "outputs": [],
      "source": [
        "transformed_df['Total Sales'].mean()"
      ]
    },
    {
      "cell_type": "code",
      "execution_count": null,
      "metadata": {
        "id": "T4v_Z7PqLxMn"
      },
      "outputs": [],
      "source": []
    },
    {
      "cell_type": "markdown",
      "metadata": {
        "id": "I0g3lVShJHuO"
      },
      "source": [
        "#Facebook Prophet Forecasting"
      ]
    },
    {
      "cell_type": "code",
      "execution_count": null,
      "metadata": {
        "id": "S4zfmh3jYByx"
      },
      "outputs": [],
      "source": [
        "original = pd.read_excel('/content/Women Apparel.xlsx')"
      ]
    },
    {
      "cell_type": "code",
      "execution_count": null,
      "metadata": {
        "id": "Trl8-w7zkU_N"
      },
      "outputs": [],
      "source": [
        "original"
      ]
    },
    {
      "cell_type": "code",
      "execution_count": null,
      "metadata": {
        "id": "DnPxHJ5K6t6m"
      },
      "outputs": [],
      "source": [
        "columns_to_encode = ['Region', 'State', 'City', 'Product', 'Sales Method']\n",
        "original_df = pd.get_dummies(original, columns=columns_to_encode)\n",
        "print(list(original_df))"
      ]
    },
    {
      "cell_type": "code",
      "execution_count": null,
      "metadata": {
        "id": "Xrvzm1YyCYnk"
      },
      "outputs": [],
      "source": [
        "original_df.index = pd.to_datetime(original_df.index)\n",
        "original_df.set_index('Invoice Date', inplace = True)"
      ]
    },
    {
      "cell_type": "code",
      "execution_count": null,
      "metadata": {
        "id": "R8jxSwIcCg3s"
      },
      "outputs": [],
      "source": [
        "original_df = original_df.resample(rule = 'W').mean()"
      ]
    },
    {
      "cell_type": "code",
      "execution_count": null,
      "metadata": {
        "id": "gD90-TL6Crx8"
      },
      "outputs": [],
      "source": [
        "original_df"
      ]
    },
    {
      "cell_type": "code",
      "execution_count": null,
      "metadata": {
        "id": "0PY4V8S8nGS2"
      },
      "outputs": [],
      "source": [
        "df = original_df['Total Sales'].copy()"
      ]
    },
    {
      "cell_type": "code",
      "execution_count": null,
      "metadata": {
        "id": "HMx_hodsnUiz"
      },
      "outputs": [],
      "source": [
        "original_df.reset_index(drop=False, inplace=True)\n"
      ]
    },
    {
      "cell_type": "code",
      "execution_count": null,
      "metadata": {
        "id": "l2pl7N-JuMxM"
      },
      "outputs": [],
      "source": [
        "original_df"
      ]
    },
    {
      "cell_type": "code",
      "execution_count": null,
      "metadata": {
        "id": "LRyCdCzZuhXj"
      },
      "outputs": [],
      "source": [
        "selected_columns = ['Invoice Date', 'Total Sales']"
      ]
    },
    {
      "cell_type": "code",
      "execution_count": null,
      "metadata": {
        "id": "yNKT0qiJuQ1f"
      },
      "outputs": [],
      "source": [
        "df = original_df[selected_columns].copy()"
      ]
    },
    {
      "cell_type": "code",
      "execution_count": null,
      "metadata": {
        "id": "QYPaNfI0u-RT"
      },
      "outputs": [],
      "source": [
        "df"
      ]
    },
    {
      "cell_type": "code",
      "execution_count": null,
      "metadata": {
        "id": "2ltCVbc_vA77"
      },
      "outputs": [],
      "source": [
        "df.columns = ['ds', 'y']"
      ]
    },
    {
      "cell_type": "code",
      "execution_count": null,
      "metadata": {
        "id": "wWZhxRb669aP"
      },
      "outputs": [],
      "source": []
    },
    {
      "cell_type": "code",
      "execution_count": null,
      "metadata": {
        "id": "H4rV2zd360IY"
      },
      "outputs": [],
      "source": [
        "train = df.iloc[:40]\n",
        "test = df.iloc[40:]"
      ]
    },
    {
      "cell_type": "code",
      "execution_count": null,
      "metadata": {
        "id": "hi_HrefM567R"
      },
      "outputs": [],
      "source": [
        "m = Prophet()\n",
        "m.fit(train)\n",
        "future = m.make_future_dataframe(periods=10,freq='W')\n",
        "forecast = m.predict(future)"
      ]
    },
    {
      "cell_type": "code",
      "execution_count": null,
      "metadata": {
        "id": "KNDvChL2-ksa"
      },
      "outputs": [],
      "source": [
        "future"
      ]
    },
    {
      "cell_type": "code",
      "execution_count": null,
      "metadata": {
        "id": "jPIjjItL-sOX"
      },
      "outputs": [],
      "source": [
        "forecast.head()"
      ]
    },
    {
      "cell_type": "code",
      "execution_count": null,
      "metadata": {
        "id": "98KWXL8b-wCd"
      },
      "outputs": [],
      "source": [
        "forecast.tail()"
      ]
    },
    {
      "cell_type": "code",
      "execution_count": null,
      "metadata": {
        "id": "-7YMdWJS-zAq"
      },
      "outputs": [],
      "source": [
        "forecast.columns"
      ]
    },
    {
      "cell_type": "code",
      "execution_count": null,
      "metadata": {
        "id": "NEDu9bhd-48O"
      },
      "outputs": [],
      "source": [
        "forecast[['ds', 'yhat', 'yhat_lower', 'yhat_upper']].tail(12)"
      ]
    },
    {
      "cell_type": "code",
      "execution_count": null,
      "metadata": {
        "id": "5R0PaTHj_DX7"
      },
      "outputs": [],
      "source": [
        "import matplotlib.pyplot as plt\n",
        "m.plot(forecast);"
      ]
    },
    {
      "cell_type": "code",
      "execution_count": null,
      "metadata": {
        "id": "rxSFOd3r_RCQ"
      },
      "outputs": [],
      "source": [
        "forecast.plot(x='ds',y='yhat')"
      ]
    },
    {
      "cell_type": "code",
      "execution_count": null,
      "metadata": {
        "id": "kyV05zTw_Vv0"
      },
      "outputs": [],
      "source": [
        "m.plot_components(forecast);\n",
        "\n"
      ]
    },
    {
      "cell_type": "code",
      "execution_count": null,
      "metadata": {
        "id": "quiUd6VsEJC6"
      },
      "outputs": [],
      "source": [
        "df.plot(x= 'ds', y = 'y')"
      ]
    },
    {
      "cell_type": "code",
      "execution_count": null,
      "metadata": {
        "id": "fH2XaQmqFoEQ"
      },
      "outputs": [],
      "source": [
        "ax = forecast.plot(x='ds',y='yhat',label='Predictions',legend=True,figsize=(12,8))\n",
        "test.plot(x='ds',y='y',label='True Units Sold',legend=True,ax=ax)"
      ]
    },
    {
      "cell_type": "code",
      "execution_count": null,
      "metadata": {
        "id": "GSO1mi8_HK69"
      },
      "outputs": [],
      "source": [
        "from statsmodels.tools.eval_measures import rmse"
      ]
    },
    {
      "cell_type": "code",
      "execution_count": null,
      "metadata": {
        "id": "aKbpCl0JIsR6"
      },
      "outputs": [],
      "source": [
        "predictions = forecast.iloc[40:50]['yhat']"
      ]
    },
    {
      "cell_type": "code",
      "execution_count": null,
      "metadata": {
        "id": "KxCI1GVESuv5"
      },
      "outputs": [],
      "source": [
        "forecast\n"
      ]
    },
    {
      "cell_type": "code",
      "execution_count": null,
      "metadata": {
        "id": "D77qawaXI44C"
      },
      "outputs": [],
      "source": [
        "predictions"
      ]
    },
    {
      "cell_type": "code",
      "execution_count": null,
      "metadata": {
        "id": "l8zHHDFeI9YN"
      },
      "outputs": [],
      "source": [
        "test['y']"
      ]
    },
    {
      "cell_type": "code",
      "execution_count": null,
      "metadata": {
        "id": "9ZD06fNjTVKK"
      },
      "outputs": [],
      "source": [
        "test['y'].iloc[-1]\n"
      ]
    },
    {
      "cell_type": "code",
      "execution_count": null,
      "metadata": {
        "id": "54DUnW0yJBQB"
      },
      "outputs": [],
      "source": [
        "rmse(predictions,test['y'].iloc[-1])"
      ]
    },
    {
      "cell_type": "code",
      "execution_count": null,
      "metadata": {
        "id": "PBcTxqVdK3q6"
      },
      "outputs": [],
      "source": [
        "test['y'].mean()"
      ]
    },
    {
      "cell_type": "markdown",
      "metadata": {
        "id": "PYXn_VE0uYLu"
      },
      "source": [
        "#Multivariate Forecasting"
      ]
    },
    {
      "cell_type": "code",
      "execution_count": null,
      "metadata": {
        "id": "HNY722p95DiN"
      },
      "outputs": [],
      "source": [
        "original_df"
      ]
    },
    {
      "cell_type": "code",
      "execution_count": null,
      "metadata": {
        "id": "6xzAqZfH7PSs"
      },
      "outputs": [],
      "source": [
        "original_df.columns"
      ]
    },
    {
      "cell_type": "code",
      "execution_count": null,
      "metadata": {
        "id": "qckKF5me7Sa3"
      },
      "outputs": [],
      "source": [
        "new_column_names = {\n",
        "    'Invoice Date': 'ds',\n",
        "    'Total Sales': 'y'\n",
        "}\n",
        "original_df.rename(columns=new_column_names, inplace=True)\n",
        "\n",
        "original_df['y_original'] = original_df['y'].copy()"
      ]
    },
    {
      "cell_type": "code",
      "execution_count": null,
      "metadata": {
        "id": "LwNHhOKK7z3D"
      },
      "outputs": [],
      "source": [
        "train = original_df[:20]\n",
        "test = original_df[20:]"
      ]
    },
    {
      "cell_type": "code",
      "execution_count": null,
      "metadata": {
        "id": "-mrpADdO_oet"
      },
      "outputs": [],
      "source": [
        "train"
      ]
    },
    {
      "cell_type": "code",
      "execution_count": null,
      "metadata": {
        "id": "YnnxuijaA-ui"
      },
      "outputs": [],
      "source": [
        "original_df.info()"
      ]
    },
    {
      "cell_type": "code",
      "execution_count": null,
      "metadata": {
        "id": "m5aMAdoQBEYb"
      },
      "outputs": [],
      "source": [
        "original_df.columns"
      ]
    },
    {
      "cell_type": "code",
      "execution_count": null,
      "metadata": {
        "id": "FopSs3xqub9i"
      },
      "outputs": [],
      "source": [
        "m1= Prophet()\n",
        "m1.add_regressor('Sales Method_Online')\n",
        "m1.add_regressor('Region_Midwest')\n",
        "m1.add_regressor('Region_Northeast')\n",
        "m1.add_regressor('Region_South')\n",
        "m1.add_regressor('Region_Southeast')\n",
        "m1.add_regressor('Region_West')\n",
        "m1.fit(train)\n",
        "\n"
      ]
    },
    {
      "cell_type": "code",
      "execution_count": null,
      "metadata": {
        "id": "2HaanwQo_7Jw"
      },
      "outputs": [],
      "source": [
        "future = m1.make_future_dataframe(periods=7,freq='W')\n"
      ]
    },
    {
      "cell_type": "code",
      "execution_count": null,
      "metadata": {
        "id": "w8Qy9g_DATsi"
      },
      "outputs": [],
      "source": [
        "m1.component_modes"
      ]
    },
    {
      "cell_type": "code",
      "execution_count": null,
      "metadata": {
        "id": "Z0-S90yd_-Vc"
      },
      "outputs": [],
      "source": [
        "future['Sales Method_Online'] = 1\n",
        "future['Region_Northeast'] = 1\n",
        "future['Region_Midwest'] = 0\n",
        "future['Region_South'] = 0\n",
        "future['Region_Southeast'] = 0\n",
        "future['Region_West'] = 0"
      ]
    },
    {
      "cell_type": "code",
      "execution_count": null,
      "metadata": {
        "id": "RoboUSPBB9Po"
      },
      "outputs": [],
      "source": [
        "future"
      ]
    },
    {
      "cell_type": "code",
      "execution_count": null,
      "metadata": {
        "id": "2Y6rAG_GACCL"
      },
      "outputs": [],
      "source": [
        "forecast"
      ]
    },
    {
      "cell_type": "code",
      "execution_count": null,
      "metadata": {
        "id": "rs46IjBpAAlb"
      },
      "outputs": [],
      "source": [
        "forecast2 = m1.predict(future)"
      ]
    },
    {
      "cell_type": "code",
      "execution_count": null,
      "metadata": {
        "id": "SybCcyapHiO1"
      },
      "outputs": [],
      "source": [
        "test"
      ]
    },
    {
      "cell_type": "code",
      "execution_count": null,
      "metadata": {
        "id": "iEbQziMmG9lD"
      },
      "outputs": [],
      "source": [
        "m1.plot(forecast2);"
      ]
    }
  ],
  "metadata": {
    "colab": {
      "provenance": [],
      "toc_visible": true
    },
    "kernelspec": {
      "display_name": "Python 3",
      "name": "python3"
    },
    "language_info": {
      "name": "python"
    },
    "widgets": {
      "application/vnd.jupyter.widget-state+json": {
        "4f26c3ec5a8249798be36ad1bc32c3ea": {
          "model_module": "@jupyter-widgets/controls",
          "model_name": "HBoxModel",
          "model_module_version": "1.5.0",
          "state": {
            "_dom_classes": [],
            "_model_module": "@jupyter-widgets/controls",
            "_model_module_version": "1.5.0",
            "_model_name": "HBoxModel",
            "_view_count": null,
            "_view_module": "@jupyter-widgets/controls",
            "_view_module_version": "1.5.0",
            "_view_name": "HBoxView",
            "box_style": "",
            "children": [
              "IPY_MODEL_8883730abdea46b885af3d8a63de3669",
              "IPY_MODEL_5c460bff9dd84b1d9f2da853bfcfaeeb",
              "IPY_MODEL_328a6d59b80947a6a2a106a0bf25e190"
            ],
            "layout": "IPY_MODEL_09258124f2c8481b80a00bcffb043bf4"
          }
        },
        "8883730abdea46b885af3d8a63de3669": {
          "model_module": "@jupyter-widgets/controls",
          "model_name": "HTMLModel",
          "model_module_version": "1.5.0",
          "state": {
            "_dom_classes": [],
            "_model_module": "@jupyter-widgets/controls",
            "_model_module_version": "1.5.0",
            "_model_name": "HTMLModel",
            "_view_count": null,
            "_view_module": "@jupyter-widgets/controls",
            "_view_module_version": "1.5.0",
            "_view_name": "HTMLView",
            "description": "",
            "description_tooltip": null,
            "layout": "IPY_MODEL_c927f5855de8478ca45dc5bcda7c08f6",
            "placeholder": "​",
            "style": "IPY_MODEL_bc39759388a041c7b148e899f8cc3dcd",
            "value": "Summarize dataset: 100%"
          }
        },
        "5c460bff9dd84b1d9f2da853bfcfaeeb": {
          "model_module": "@jupyter-widgets/controls",
          "model_name": "FloatProgressModel",
          "model_module_version": "1.5.0",
          "state": {
            "_dom_classes": [],
            "_model_module": "@jupyter-widgets/controls",
            "_model_module_version": "1.5.0",
            "_model_name": "FloatProgressModel",
            "_view_count": null,
            "_view_module": "@jupyter-widgets/controls",
            "_view_module_version": "1.5.0",
            "_view_name": "ProgressView",
            "bar_style": "success",
            "description": "",
            "description_tooltip": null,
            "layout": "IPY_MODEL_05306663c8a9486d8ef65b15741b1d29",
            "max": 5,
            "min": 0,
            "orientation": "horizontal",
            "style": "IPY_MODEL_052f2fa13d224491999a062c9426a0c2",
            "value": 5
          }
        },
        "328a6d59b80947a6a2a106a0bf25e190": {
          "model_module": "@jupyter-widgets/controls",
          "model_name": "HTMLModel",
          "model_module_version": "1.5.0",
          "state": {
            "_dom_classes": [],
            "_model_module": "@jupyter-widgets/controls",
            "_model_module_version": "1.5.0",
            "_model_name": "HTMLModel",
            "_view_count": null,
            "_view_module": "@jupyter-widgets/controls",
            "_view_module_version": "1.5.0",
            "_view_name": "HTMLView",
            "description": "",
            "description_tooltip": null,
            "layout": "IPY_MODEL_fdfbbfb9d0d24da0a434de6524f6c45c",
            "placeholder": "​",
            "style": "IPY_MODEL_eaf76b75a1424c7fa58d7364dffa2e3a",
            "value": " 47/47 [00:15&lt;00:00,  1.19it/s, Completed]"
          }
        },
        "09258124f2c8481b80a00bcffb043bf4": {
          "model_module": "@jupyter-widgets/base",
          "model_name": "LayoutModel",
          "model_module_version": "1.2.0",
          "state": {
            "_model_module": "@jupyter-widgets/base",
            "_model_module_version": "1.2.0",
            "_model_name": "LayoutModel",
            "_view_count": null,
            "_view_module": "@jupyter-widgets/base",
            "_view_module_version": "1.2.0",
            "_view_name": "LayoutView",
            "align_content": null,
            "align_items": null,
            "align_self": null,
            "border": null,
            "bottom": null,
            "display": null,
            "flex": null,
            "flex_flow": null,
            "grid_area": null,
            "grid_auto_columns": null,
            "grid_auto_flow": null,
            "grid_auto_rows": null,
            "grid_column": null,
            "grid_gap": null,
            "grid_row": null,
            "grid_template_areas": null,
            "grid_template_columns": null,
            "grid_template_rows": null,
            "height": null,
            "justify_content": null,
            "justify_items": null,
            "left": null,
            "margin": null,
            "max_height": null,
            "max_width": null,
            "min_height": null,
            "min_width": null,
            "object_fit": null,
            "object_position": null,
            "order": null,
            "overflow": null,
            "overflow_x": null,
            "overflow_y": null,
            "padding": null,
            "right": null,
            "top": null,
            "visibility": null,
            "width": null
          }
        },
        "c927f5855de8478ca45dc5bcda7c08f6": {
          "model_module": "@jupyter-widgets/base",
          "model_name": "LayoutModel",
          "model_module_version": "1.2.0",
          "state": {
            "_model_module": "@jupyter-widgets/base",
            "_model_module_version": "1.2.0",
            "_model_name": "LayoutModel",
            "_view_count": null,
            "_view_module": "@jupyter-widgets/base",
            "_view_module_version": "1.2.0",
            "_view_name": "LayoutView",
            "align_content": null,
            "align_items": null,
            "align_self": null,
            "border": null,
            "bottom": null,
            "display": null,
            "flex": null,
            "flex_flow": null,
            "grid_area": null,
            "grid_auto_columns": null,
            "grid_auto_flow": null,
            "grid_auto_rows": null,
            "grid_column": null,
            "grid_gap": null,
            "grid_row": null,
            "grid_template_areas": null,
            "grid_template_columns": null,
            "grid_template_rows": null,
            "height": null,
            "justify_content": null,
            "justify_items": null,
            "left": null,
            "margin": null,
            "max_height": null,
            "max_width": null,
            "min_height": null,
            "min_width": null,
            "object_fit": null,
            "object_position": null,
            "order": null,
            "overflow": null,
            "overflow_x": null,
            "overflow_y": null,
            "padding": null,
            "right": null,
            "top": null,
            "visibility": null,
            "width": null
          }
        },
        "bc39759388a041c7b148e899f8cc3dcd": {
          "model_module": "@jupyter-widgets/controls",
          "model_name": "DescriptionStyleModel",
          "model_module_version": "1.5.0",
          "state": {
            "_model_module": "@jupyter-widgets/controls",
            "_model_module_version": "1.5.0",
            "_model_name": "DescriptionStyleModel",
            "_view_count": null,
            "_view_module": "@jupyter-widgets/base",
            "_view_module_version": "1.2.0",
            "_view_name": "StyleView",
            "description_width": ""
          }
        },
        "05306663c8a9486d8ef65b15741b1d29": {
          "model_module": "@jupyter-widgets/base",
          "model_name": "LayoutModel",
          "model_module_version": "1.2.0",
          "state": {
            "_model_module": "@jupyter-widgets/base",
            "_model_module_version": "1.2.0",
            "_model_name": "LayoutModel",
            "_view_count": null,
            "_view_module": "@jupyter-widgets/base",
            "_view_module_version": "1.2.0",
            "_view_name": "LayoutView",
            "align_content": null,
            "align_items": null,
            "align_self": null,
            "border": null,
            "bottom": null,
            "display": null,
            "flex": null,
            "flex_flow": null,
            "grid_area": null,
            "grid_auto_columns": null,
            "grid_auto_flow": null,
            "grid_auto_rows": null,
            "grid_column": null,
            "grid_gap": null,
            "grid_row": null,
            "grid_template_areas": null,
            "grid_template_columns": null,
            "grid_template_rows": null,
            "height": null,
            "justify_content": null,
            "justify_items": null,
            "left": null,
            "margin": null,
            "max_height": null,
            "max_width": null,
            "min_height": null,
            "min_width": null,
            "object_fit": null,
            "object_position": null,
            "order": null,
            "overflow": null,
            "overflow_x": null,
            "overflow_y": null,
            "padding": null,
            "right": null,
            "top": null,
            "visibility": null,
            "width": null
          }
        },
        "052f2fa13d224491999a062c9426a0c2": {
          "model_module": "@jupyter-widgets/controls",
          "model_name": "ProgressStyleModel",
          "model_module_version": "1.5.0",
          "state": {
            "_model_module": "@jupyter-widgets/controls",
            "_model_module_version": "1.5.0",
            "_model_name": "ProgressStyleModel",
            "_view_count": null,
            "_view_module": "@jupyter-widgets/base",
            "_view_module_version": "1.2.0",
            "_view_name": "StyleView",
            "bar_color": null,
            "description_width": ""
          }
        },
        "fdfbbfb9d0d24da0a434de6524f6c45c": {
          "model_module": "@jupyter-widgets/base",
          "model_name": "LayoutModel",
          "model_module_version": "1.2.0",
          "state": {
            "_model_module": "@jupyter-widgets/base",
            "_model_module_version": "1.2.0",
            "_model_name": "LayoutModel",
            "_view_count": null,
            "_view_module": "@jupyter-widgets/base",
            "_view_module_version": "1.2.0",
            "_view_name": "LayoutView",
            "align_content": null,
            "align_items": null,
            "align_self": null,
            "border": null,
            "bottom": null,
            "display": null,
            "flex": null,
            "flex_flow": null,
            "grid_area": null,
            "grid_auto_columns": null,
            "grid_auto_flow": null,
            "grid_auto_rows": null,
            "grid_column": null,
            "grid_gap": null,
            "grid_row": null,
            "grid_template_areas": null,
            "grid_template_columns": null,
            "grid_template_rows": null,
            "height": null,
            "justify_content": null,
            "justify_items": null,
            "left": null,
            "margin": null,
            "max_height": null,
            "max_width": null,
            "min_height": null,
            "min_width": null,
            "object_fit": null,
            "object_position": null,
            "order": null,
            "overflow": null,
            "overflow_x": null,
            "overflow_y": null,
            "padding": null,
            "right": null,
            "top": null,
            "visibility": null,
            "width": null
          }
        },
        "eaf76b75a1424c7fa58d7364dffa2e3a": {
          "model_module": "@jupyter-widgets/controls",
          "model_name": "DescriptionStyleModel",
          "model_module_version": "1.5.0",
          "state": {
            "_model_module": "@jupyter-widgets/controls",
            "_model_module_version": "1.5.0",
            "_model_name": "DescriptionStyleModel",
            "_view_count": null,
            "_view_module": "@jupyter-widgets/base",
            "_view_module_version": "1.2.0",
            "_view_name": "StyleView",
            "description_width": ""
          }
        },
        "d847db1efeaf4b299790bb5e27e4a5ca": {
          "model_module": "@jupyter-widgets/controls",
          "model_name": "HBoxModel",
          "model_module_version": "1.5.0",
          "state": {
            "_dom_classes": [],
            "_model_module": "@jupyter-widgets/controls",
            "_model_module_version": "1.5.0",
            "_model_name": "HBoxModel",
            "_view_count": null,
            "_view_module": "@jupyter-widgets/controls",
            "_view_module_version": "1.5.0",
            "_view_name": "HBoxView",
            "box_style": "",
            "children": [
              "IPY_MODEL_d93d1fad6f3442b29f22f5af92132c62",
              "IPY_MODEL_77b4a25494304bf0b068adf668f1662a",
              "IPY_MODEL_7097688713f6463f9923656494afc699"
            ],
            "layout": "IPY_MODEL_cdd5cf3f407c4867a2259dda3c9c6083"
          }
        },
        "d93d1fad6f3442b29f22f5af92132c62": {
          "model_module": "@jupyter-widgets/controls",
          "model_name": "HTMLModel",
          "model_module_version": "1.5.0",
          "state": {
            "_dom_classes": [],
            "_model_module": "@jupyter-widgets/controls",
            "_model_module_version": "1.5.0",
            "_model_name": "HTMLModel",
            "_view_count": null,
            "_view_module": "@jupyter-widgets/controls",
            "_view_module_version": "1.5.0",
            "_view_name": "HTMLView",
            "description": "",
            "description_tooltip": null,
            "layout": "IPY_MODEL_c7da22807e2b477899aacc2b310143c1",
            "placeholder": "​",
            "style": "IPY_MODEL_397bc75782c14691bbd74802f04f85f7",
            "value": "Generate report structure: 100%"
          }
        },
        "77b4a25494304bf0b068adf668f1662a": {
          "model_module": "@jupyter-widgets/controls",
          "model_name": "FloatProgressModel",
          "model_module_version": "1.5.0",
          "state": {
            "_dom_classes": [],
            "_model_module": "@jupyter-widgets/controls",
            "_model_module_version": "1.5.0",
            "_model_name": "FloatProgressModel",
            "_view_count": null,
            "_view_module": "@jupyter-widgets/controls",
            "_view_module_version": "1.5.0",
            "_view_name": "ProgressView",
            "bar_style": "success",
            "description": "",
            "description_tooltip": null,
            "layout": "IPY_MODEL_ac735fc815844f5491d53f51dbf49c4f",
            "max": 1,
            "min": 0,
            "orientation": "horizontal",
            "style": "IPY_MODEL_a6dfa1f462c6446d90ee6c04188e6e89",
            "value": 1
          }
        },
        "7097688713f6463f9923656494afc699": {
          "model_module": "@jupyter-widgets/controls",
          "model_name": "HTMLModel",
          "model_module_version": "1.5.0",
          "state": {
            "_dom_classes": [],
            "_model_module": "@jupyter-widgets/controls",
            "_model_module_version": "1.5.0",
            "_model_name": "HTMLModel",
            "_view_count": null,
            "_view_module": "@jupyter-widgets/controls",
            "_view_module_version": "1.5.0",
            "_view_name": "HTMLView",
            "description": "",
            "description_tooltip": null,
            "layout": "IPY_MODEL_6650f2d03eb649faba3bc70b0c6ff1e7",
            "placeholder": "​",
            "style": "IPY_MODEL_9aaeae330b7a40379a8ad155eb9b8c78",
            "value": " 1/1 [00:16&lt;00:00, 16.21s/it]"
          }
        },
        "cdd5cf3f407c4867a2259dda3c9c6083": {
          "model_module": "@jupyter-widgets/base",
          "model_name": "LayoutModel",
          "model_module_version": "1.2.0",
          "state": {
            "_model_module": "@jupyter-widgets/base",
            "_model_module_version": "1.2.0",
            "_model_name": "LayoutModel",
            "_view_count": null,
            "_view_module": "@jupyter-widgets/base",
            "_view_module_version": "1.2.0",
            "_view_name": "LayoutView",
            "align_content": null,
            "align_items": null,
            "align_self": null,
            "border": null,
            "bottom": null,
            "display": null,
            "flex": null,
            "flex_flow": null,
            "grid_area": null,
            "grid_auto_columns": null,
            "grid_auto_flow": null,
            "grid_auto_rows": null,
            "grid_column": null,
            "grid_gap": null,
            "grid_row": null,
            "grid_template_areas": null,
            "grid_template_columns": null,
            "grid_template_rows": null,
            "height": null,
            "justify_content": null,
            "justify_items": null,
            "left": null,
            "margin": null,
            "max_height": null,
            "max_width": null,
            "min_height": null,
            "min_width": null,
            "object_fit": null,
            "object_position": null,
            "order": null,
            "overflow": null,
            "overflow_x": null,
            "overflow_y": null,
            "padding": null,
            "right": null,
            "top": null,
            "visibility": null,
            "width": null
          }
        },
        "c7da22807e2b477899aacc2b310143c1": {
          "model_module": "@jupyter-widgets/base",
          "model_name": "LayoutModel",
          "model_module_version": "1.2.0",
          "state": {
            "_model_module": "@jupyter-widgets/base",
            "_model_module_version": "1.2.0",
            "_model_name": "LayoutModel",
            "_view_count": null,
            "_view_module": "@jupyter-widgets/base",
            "_view_module_version": "1.2.0",
            "_view_name": "LayoutView",
            "align_content": null,
            "align_items": null,
            "align_self": null,
            "border": null,
            "bottom": null,
            "display": null,
            "flex": null,
            "flex_flow": null,
            "grid_area": null,
            "grid_auto_columns": null,
            "grid_auto_flow": null,
            "grid_auto_rows": null,
            "grid_column": null,
            "grid_gap": null,
            "grid_row": null,
            "grid_template_areas": null,
            "grid_template_columns": null,
            "grid_template_rows": null,
            "height": null,
            "justify_content": null,
            "justify_items": null,
            "left": null,
            "margin": null,
            "max_height": null,
            "max_width": null,
            "min_height": null,
            "min_width": null,
            "object_fit": null,
            "object_position": null,
            "order": null,
            "overflow": null,
            "overflow_x": null,
            "overflow_y": null,
            "padding": null,
            "right": null,
            "top": null,
            "visibility": null,
            "width": null
          }
        },
        "397bc75782c14691bbd74802f04f85f7": {
          "model_module": "@jupyter-widgets/controls",
          "model_name": "DescriptionStyleModel",
          "model_module_version": "1.5.0",
          "state": {
            "_model_module": "@jupyter-widgets/controls",
            "_model_module_version": "1.5.0",
            "_model_name": "DescriptionStyleModel",
            "_view_count": null,
            "_view_module": "@jupyter-widgets/base",
            "_view_module_version": "1.2.0",
            "_view_name": "StyleView",
            "description_width": ""
          }
        },
        "ac735fc815844f5491d53f51dbf49c4f": {
          "model_module": "@jupyter-widgets/base",
          "model_name": "LayoutModel",
          "model_module_version": "1.2.0",
          "state": {
            "_model_module": "@jupyter-widgets/base",
            "_model_module_version": "1.2.0",
            "_model_name": "LayoutModel",
            "_view_count": null,
            "_view_module": "@jupyter-widgets/base",
            "_view_module_version": "1.2.0",
            "_view_name": "LayoutView",
            "align_content": null,
            "align_items": null,
            "align_self": null,
            "border": null,
            "bottom": null,
            "display": null,
            "flex": null,
            "flex_flow": null,
            "grid_area": null,
            "grid_auto_columns": null,
            "grid_auto_flow": null,
            "grid_auto_rows": null,
            "grid_column": null,
            "grid_gap": null,
            "grid_row": null,
            "grid_template_areas": null,
            "grid_template_columns": null,
            "grid_template_rows": null,
            "height": null,
            "justify_content": null,
            "justify_items": null,
            "left": null,
            "margin": null,
            "max_height": null,
            "max_width": null,
            "min_height": null,
            "min_width": null,
            "object_fit": null,
            "object_position": null,
            "order": null,
            "overflow": null,
            "overflow_x": null,
            "overflow_y": null,
            "padding": null,
            "right": null,
            "top": null,
            "visibility": null,
            "width": null
          }
        },
        "a6dfa1f462c6446d90ee6c04188e6e89": {
          "model_module": "@jupyter-widgets/controls",
          "model_name": "ProgressStyleModel",
          "model_module_version": "1.5.0",
          "state": {
            "_model_module": "@jupyter-widgets/controls",
            "_model_module_version": "1.5.0",
            "_model_name": "ProgressStyleModel",
            "_view_count": null,
            "_view_module": "@jupyter-widgets/base",
            "_view_module_version": "1.2.0",
            "_view_name": "StyleView",
            "bar_color": null,
            "description_width": ""
          }
        },
        "6650f2d03eb649faba3bc70b0c6ff1e7": {
          "model_module": "@jupyter-widgets/base",
          "model_name": "LayoutModel",
          "model_module_version": "1.2.0",
          "state": {
            "_model_module": "@jupyter-widgets/base",
            "_model_module_version": "1.2.0",
            "_model_name": "LayoutModel",
            "_view_count": null,
            "_view_module": "@jupyter-widgets/base",
            "_view_module_version": "1.2.0",
            "_view_name": "LayoutView",
            "align_content": null,
            "align_items": null,
            "align_self": null,
            "border": null,
            "bottom": null,
            "display": null,
            "flex": null,
            "flex_flow": null,
            "grid_area": null,
            "grid_auto_columns": null,
            "grid_auto_flow": null,
            "grid_auto_rows": null,
            "grid_column": null,
            "grid_gap": null,
            "grid_row": null,
            "grid_template_areas": null,
            "grid_template_columns": null,
            "grid_template_rows": null,
            "height": null,
            "justify_content": null,
            "justify_items": null,
            "left": null,
            "margin": null,
            "max_height": null,
            "max_width": null,
            "min_height": null,
            "min_width": null,
            "object_fit": null,
            "object_position": null,
            "order": null,
            "overflow": null,
            "overflow_x": null,
            "overflow_y": null,
            "padding": null,
            "right": null,
            "top": null,
            "visibility": null,
            "width": null
          }
        },
        "9aaeae330b7a40379a8ad155eb9b8c78": {
          "model_module": "@jupyter-widgets/controls",
          "model_name": "DescriptionStyleModel",
          "model_module_version": "1.5.0",
          "state": {
            "_model_module": "@jupyter-widgets/controls",
            "_model_module_version": "1.5.0",
            "_model_name": "DescriptionStyleModel",
            "_view_count": null,
            "_view_module": "@jupyter-widgets/base",
            "_view_module_version": "1.2.0",
            "_view_name": "StyleView",
            "description_width": ""
          }
        },
        "54cb14ea4ac54fc1ba717cc4074b84f7": {
          "model_module": "@jupyter-widgets/controls",
          "model_name": "HBoxModel",
          "model_module_version": "1.5.0",
          "state": {
            "_dom_classes": [],
            "_model_module": "@jupyter-widgets/controls",
            "_model_module_version": "1.5.0",
            "_model_name": "HBoxModel",
            "_view_count": null,
            "_view_module": "@jupyter-widgets/controls",
            "_view_module_version": "1.5.0",
            "_view_name": "HBoxView",
            "box_style": "",
            "children": [
              "IPY_MODEL_bdfdbc57bb90428fa84598df819b11f5",
              "IPY_MODEL_d4c355ef624d4133ace883eede770b00",
              "IPY_MODEL_0f9e967a2b3e47089028f7d93bb3d072"
            ],
            "layout": "IPY_MODEL_c10a07d7c7b744938357ef7867b8ad5f"
          }
        },
        "bdfdbc57bb90428fa84598df819b11f5": {
          "model_module": "@jupyter-widgets/controls",
          "model_name": "HTMLModel",
          "model_module_version": "1.5.0",
          "state": {
            "_dom_classes": [],
            "_model_module": "@jupyter-widgets/controls",
            "_model_module_version": "1.5.0",
            "_model_name": "HTMLModel",
            "_view_count": null,
            "_view_module": "@jupyter-widgets/controls",
            "_view_module_version": "1.5.0",
            "_view_name": "HTMLView",
            "description": "",
            "description_tooltip": null,
            "layout": "IPY_MODEL_28428b5c196f43ea82a29aed9433c696",
            "placeholder": "​",
            "style": "IPY_MODEL_294e1d81f1624307919dca417e822a9c",
            "value": "Render HTML: 100%"
          }
        },
        "d4c355ef624d4133ace883eede770b00": {
          "model_module": "@jupyter-widgets/controls",
          "model_name": "FloatProgressModel",
          "model_module_version": "1.5.0",
          "state": {
            "_dom_classes": [],
            "_model_module": "@jupyter-widgets/controls",
            "_model_module_version": "1.5.0",
            "_model_name": "FloatProgressModel",
            "_view_count": null,
            "_view_module": "@jupyter-widgets/controls",
            "_view_module_version": "1.5.0",
            "_view_name": "ProgressView",
            "bar_style": "success",
            "description": "",
            "description_tooltip": null,
            "layout": "IPY_MODEL_5477e16121fc4c96b8b6338cc3fc54e8",
            "max": 1,
            "min": 0,
            "orientation": "horizontal",
            "style": "IPY_MODEL_d42b0b5d2b6847c4a87c8bd28b1ca067",
            "value": 1
          }
        },
        "0f9e967a2b3e47089028f7d93bb3d072": {
          "model_module": "@jupyter-widgets/controls",
          "model_name": "HTMLModel",
          "model_module_version": "1.5.0",
          "state": {
            "_dom_classes": [],
            "_model_module": "@jupyter-widgets/controls",
            "_model_module_version": "1.5.0",
            "_model_name": "HTMLModel",
            "_view_count": null,
            "_view_module": "@jupyter-widgets/controls",
            "_view_module_version": "1.5.0",
            "_view_name": "HTMLView",
            "description": "",
            "description_tooltip": null,
            "layout": "IPY_MODEL_c6dcc198f78f4a4eb4096d260597737e",
            "placeholder": "​",
            "style": "IPY_MODEL_e9c16ed2cd8d45c1b3e9f156c6526a22",
            "value": " 1/1 [00:03&lt;00:00,  3.34s/it]"
          }
        },
        "c10a07d7c7b744938357ef7867b8ad5f": {
          "model_module": "@jupyter-widgets/base",
          "model_name": "LayoutModel",
          "model_module_version": "1.2.0",
          "state": {
            "_model_module": "@jupyter-widgets/base",
            "_model_module_version": "1.2.0",
            "_model_name": "LayoutModel",
            "_view_count": null,
            "_view_module": "@jupyter-widgets/base",
            "_view_module_version": "1.2.0",
            "_view_name": "LayoutView",
            "align_content": null,
            "align_items": null,
            "align_self": null,
            "border": null,
            "bottom": null,
            "display": null,
            "flex": null,
            "flex_flow": null,
            "grid_area": null,
            "grid_auto_columns": null,
            "grid_auto_flow": null,
            "grid_auto_rows": null,
            "grid_column": null,
            "grid_gap": null,
            "grid_row": null,
            "grid_template_areas": null,
            "grid_template_columns": null,
            "grid_template_rows": null,
            "height": null,
            "justify_content": null,
            "justify_items": null,
            "left": null,
            "margin": null,
            "max_height": null,
            "max_width": null,
            "min_height": null,
            "min_width": null,
            "object_fit": null,
            "object_position": null,
            "order": null,
            "overflow": null,
            "overflow_x": null,
            "overflow_y": null,
            "padding": null,
            "right": null,
            "top": null,
            "visibility": null,
            "width": null
          }
        },
        "28428b5c196f43ea82a29aed9433c696": {
          "model_module": "@jupyter-widgets/base",
          "model_name": "LayoutModel",
          "model_module_version": "1.2.0",
          "state": {
            "_model_module": "@jupyter-widgets/base",
            "_model_module_version": "1.2.0",
            "_model_name": "LayoutModel",
            "_view_count": null,
            "_view_module": "@jupyter-widgets/base",
            "_view_module_version": "1.2.0",
            "_view_name": "LayoutView",
            "align_content": null,
            "align_items": null,
            "align_self": null,
            "border": null,
            "bottom": null,
            "display": null,
            "flex": null,
            "flex_flow": null,
            "grid_area": null,
            "grid_auto_columns": null,
            "grid_auto_flow": null,
            "grid_auto_rows": null,
            "grid_column": null,
            "grid_gap": null,
            "grid_row": null,
            "grid_template_areas": null,
            "grid_template_columns": null,
            "grid_template_rows": null,
            "height": null,
            "justify_content": null,
            "justify_items": null,
            "left": null,
            "margin": null,
            "max_height": null,
            "max_width": null,
            "min_height": null,
            "min_width": null,
            "object_fit": null,
            "object_position": null,
            "order": null,
            "overflow": null,
            "overflow_x": null,
            "overflow_y": null,
            "padding": null,
            "right": null,
            "top": null,
            "visibility": null,
            "width": null
          }
        },
        "294e1d81f1624307919dca417e822a9c": {
          "model_module": "@jupyter-widgets/controls",
          "model_name": "DescriptionStyleModel",
          "model_module_version": "1.5.0",
          "state": {
            "_model_module": "@jupyter-widgets/controls",
            "_model_module_version": "1.5.0",
            "_model_name": "DescriptionStyleModel",
            "_view_count": null,
            "_view_module": "@jupyter-widgets/base",
            "_view_module_version": "1.2.0",
            "_view_name": "StyleView",
            "description_width": ""
          }
        },
        "5477e16121fc4c96b8b6338cc3fc54e8": {
          "model_module": "@jupyter-widgets/base",
          "model_name": "LayoutModel",
          "model_module_version": "1.2.0",
          "state": {
            "_model_module": "@jupyter-widgets/base",
            "_model_module_version": "1.2.0",
            "_model_name": "LayoutModel",
            "_view_count": null,
            "_view_module": "@jupyter-widgets/base",
            "_view_module_version": "1.2.0",
            "_view_name": "LayoutView",
            "align_content": null,
            "align_items": null,
            "align_self": null,
            "border": null,
            "bottom": null,
            "display": null,
            "flex": null,
            "flex_flow": null,
            "grid_area": null,
            "grid_auto_columns": null,
            "grid_auto_flow": null,
            "grid_auto_rows": null,
            "grid_column": null,
            "grid_gap": null,
            "grid_row": null,
            "grid_template_areas": null,
            "grid_template_columns": null,
            "grid_template_rows": null,
            "height": null,
            "justify_content": null,
            "justify_items": null,
            "left": null,
            "margin": null,
            "max_height": null,
            "max_width": null,
            "min_height": null,
            "min_width": null,
            "object_fit": null,
            "object_position": null,
            "order": null,
            "overflow": null,
            "overflow_x": null,
            "overflow_y": null,
            "padding": null,
            "right": null,
            "top": null,
            "visibility": null,
            "width": null
          }
        },
        "d42b0b5d2b6847c4a87c8bd28b1ca067": {
          "model_module": "@jupyter-widgets/controls",
          "model_name": "ProgressStyleModel",
          "model_module_version": "1.5.0",
          "state": {
            "_model_module": "@jupyter-widgets/controls",
            "_model_module_version": "1.5.0",
            "_model_name": "ProgressStyleModel",
            "_view_count": null,
            "_view_module": "@jupyter-widgets/base",
            "_view_module_version": "1.2.0",
            "_view_name": "StyleView",
            "bar_color": null,
            "description_width": ""
          }
        },
        "c6dcc198f78f4a4eb4096d260597737e": {
          "model_module": "@jupyter-widgets/base",
          "model_name": "LayoutModel",
          "model_module_version": "1.2.0",
          "state": {
            "_model_module": "@jupyter-widgets/base",
            "_model_module_version": "1.2.0",
            "_model_name": "LayoutModel",
            "_view_count": null,
            "_view_module": "@jupyter-widgets/base",
            "_view_module_version": "1.2.0",
            "_view_name": "LayoutView",
            "align_content": null,
            "align_items": null,
            "align_self": null,
            "border": null,
            "bottom": null,
            "display": null,
            "flex": null,
            "flex_flow": null,
            "grid_area": null,
            "grid_auto_columns": null,
            "grid_auto_flow": null,
            "grid_auto_rows": null,
            "grid_column": null,
            "grid_gap": null,
            "grid_row": null,
            "grid_template_areas": null,
            "grid_template_columns": null,
            "grid_template_rows": null,
            "height": null,
            "justify_content": null,
            "justify_items": null,
            "left": null,
            "margin": null,
            "max_height": null,
            "max_width": null,
            "min_height": null,
            "min_width": null,
            "object_fit": null,
            "object_position": null,
            "order": null,
            "overflow": null,
            "overflow_x": null,
            "overflow_y": null,
            "padding": null,
            "right": null,
            "top": null,
            "visibility": null,
            "width": null
          }
        },
        "e9c16ed2cd8d45c1b3e9f156c6526a22": {
          "model_module": "@jupyter-widgets/controls",
          "model_name": "DescriptionStyleModel",
          "model_module_version": "1.5.0",
          "state": {
            "_model_module": "@jupyter-widgets/controls",
            "_model_module_version": "1.5.0",
            "_model_name": "DescriptionStyleModel",
            "_view_count": null,
            "_view_module": "@jupyter-widgets/base",
            "_view_module_version": "1.2.0",
            "_view_name": "StyleView",
            "description_width": ""
          }
        },
        "81794215397b4a608b77a9336d6ab02d": {
          "model_module": "@jupyter-widgets/controls",
          "model_name": "HBoxModel",
          "model_module_version": "1.5.0",
          "state": {
            "_dom_classes": [],
            "_model_module": "@jupyter-widgets/controls",
            "_model_module_version": "1.5.0",
            "_model_name": "HBoxModel",
            "_view_count": null,
            "_view_module": "@jupyter-widgets/controls",
            "_view_module_version": "1.5.0",
            "_view_name": "HBoxView",
            "box_style": "",
            "children": [
              "IPY_MODEL_bd3eee35170645d38d4ae9467e900ec7",
              "IPY_MODEL_798dc6c35720484b818072793623fd68",
              "IPY_MODEL_154afdfa08964dbea4b3a5c243bea40f"
            ],
            "layout": "IPY_MODEL_5cf47719804d4255b4f0310180b2704b"
          }
        },
        "bd3eee35170645d38d4ae9467e900ec7": {
          "model_module": "@jupyter-widgets/controls",
          "model_name": "HTMLModel",
          "model_module_version": "1.5.0",
          "state": {
            "_dom_classes": [],
            "_model_module": "@jupyter-widgets/controls",
            "_model_module_version": "1.5.0",
            "_model_name": "HTMLModel",
            "_view_count": null,
            "_view_module": "@jupyter-widgets/controls",
            "_view_module_version": "1.5.0",
            "_view_name": "HTMLView",
            "description": "",
            "description_tooltip": null,
            "layout": "IPY_MODEL_77571b53ed35486381008de147f5052f",
            "placeholder": "​",
            "style": "IPY_MODEL_4f69c3d181eb43a784b37cb48215a575",
            "value": "Export report to file: 100%"
          }
        },
        "798dc6c35720484b818072793623fd68": {
          "model_module": "@jupyter-widgets/controls",
          "model_name": "FloatProgressModel",
          "model_module_version": "1.5.0",
          "state": {
            "_dom_classes": [],
            "_model_module": "@jupyter-widgets/controls",
            "_model_module_version": "1.5.0",
            "_model_name": "FloatProgressModel",
            "_view_count": null,
            "_view_module": "@jupyter-widgets/controls",
            "_view_module_version": "1.5.0",
            "_view_name": "ProgressView",
            "bar_style": "success",
            "description": "",
            "description_tooltip": null,
            "layout": "IPY_MODEL_2976607d523f4f6c9b76d4c37920dff6",
            "max": 1,
            "min": 0,
            "orientation": "horizontal",
            "style": "IPY_MODEL_44757b8457fb427d85beba05986b5943",
            "value": 1
          }
        },
        "154afdfa08964dbea4b3a5c243bea40f": {
          "model_module": "@jupyter-widgets/controls",
          "model_name": "HTMLModel",
          "model_module_version": "1.5.0",
          "state": {
            "_dom_classes": [],
            "_model_module": "@jupyter-widgets/controls",
            "_model_module_version": "1.5.0",
            "_model_name": "HTMLModel",
            "_view_count": null,
            "_view_module": "@jupyter-widgets/controls",
            "_view_module_version": "1.5.0",
            "_view_name": "HTMLView",
            "description": "",
            "description_tooltip": null,
            "layout": "IPY_MODEL_fff020af28ca4b53a1dff72b8f4d3ed8",
            "placeholder": "​",
            "style": "IPY_MODEL_3d062d4d737d4f43ba858ed9496c0ad5",
            "value": " 1/1 [00:00&lt;00:00, 11.96it/s]"
          }
        },
        "5cf47719804d4255b4f0310180b2704b": {
          "model_module": "@jupyter-widgets/base",
          "model_name": "LayoutModel",
          "model_module_version": "1.2.0",
          "state": {
            "_model_module": "@jupyter-widgets/base",
            "_model_module_version": "1.2.0",
            "_model_name": "LayoutModel",
            "_view_count": null,
            "_view_module": "@jupyter-widgets/base",
            "_view_module_version": "1.2.0",
            "_view_name": "LayoutView",
            "align_content": null,
            "align_items": null,
            "align_self": null,
            "border": null,
            "bottom": null,
            "display": null,
            "flex": null,
            "flex_flow": null,
            "grid_area": null,
            "grid_auto_columns": null,
            "grid_auto_flow": null,
            "grid_auto_rows": null,
            "grid_column": null,
            "grid_gap": null,
            "grid_row": null,
            "grid_template_areas": null,
            "grid_template_columns": null,
            "grid_template_rows": null,
            "height": null,
            "justify_content": null,
            "justify_items": null,
            "left": null,
            "margin": null,
            "max_height": null,
            "max_width": null,
            "min_height": null,
            "min_width": null,
            "object_fit": null,
            "object_position": null,
            "order": null,
            "overflow": null,
            "overflow_x": null,
            "overflow_y": null,
            "padding": null,
            "right": null,
            "top": null,
            "visibility": null,
            "width": null
          }
        },
        "77571b53ed35486381008de147f5052f": {
          "model_module": "@jupyter-widgets/base",
          "model_name": "LayoutModel",
          "model_module_version": "1.2.0",
          "state": {
            "_model_module": "@jupyter-widgets/base",
            "_model_module_version": "1.2.0",
            "_model_name": "LayoutModel",
            "_view_count": null,
            "_view_module": "@jupyter-widgets/base",
            "_view_module_version": "1.2.0",
            "_view_name": "LayoutView",
            "align_content": null,
            "align_items": null,
            "align_self": null,
            "border": null,
            "bottom": null,
            "display": null,
            "flex": null,
            "flex_flow": null,
            "grid_area": null,
            "grid_auto_columns": null,
            "grid_auto_flow": null,
            "grid_auto_rows": null,
            "grid_column": null,
            "grid_gap": null,
            "grid_row": null,
            "grid_template_areas": null,
            "grid_template_columns": null,
            "grid_template_rows": null,
            "height": null,
            "justify_content": null,
            "justify_items": null,
            "left": null,
            "margin": null,
            "max_height": null,
            "max_width": null,
            "min_height": null,
            "min_width": null,
            "object_fit": null,
            "object_position": null,
            "order": null,
            "overflow": null,
            "overflow_x": null,
            "overflow_y": null,
            "padding": null,
            "right": null,
            "top": null,
            "visibility": null,
            "width": null
          }
        },
        "4f69c3d181eb43a784b37cb48215a575": {
          "model_module": "@jupyter-widgets/controls",
          "model_name": "DescriptionStyleModel",
          "model_module_version": "1.5.0",
          "state": {
            "_model_module": "@jupyter-widgets/controls",
            "_model_module_version": "1.5.0",
            "_model_name": "DescriptionStyleModel",
            "_view_count": null,
            "_view_module": "@jupyter-widgets/base",
            "_view_module_version": "1.2.0",
            "_view_name": "StyleView",
            "description_width": ""
          }
        },
        "2976607d523f4f6c9b76d4c37920dff6": {
          "model_module": "@jupyter-widgets/base",
          "model_name": "LayoutModel",
          "model_module_version": "1.2.0",
          "state": {
            "_model_module": "@jupyter-widgets/base",
            "_model_module_version": "1.2.0",
            "_model_name": "LayoutModel",
            "_view_count": null,
            "_view_module": "@jupyter-widgets/base",
            "_view_module_version": "1.2.0",
            "_view_name": "LayoutView",
            "align_content": null,
            "align_items": null,
            "align_self": null,
            "border": null,
            "bottom": null,
            "display": null,
            "flex": null,
            "flex_flow": null,
            "grid_area": null,
            "grid_auto_columns": null,
            "grid_auto_flow": null,
            "grid_auto_rows": null,
            "grid_column": null,
            "grid_gap": null,
            "grid_row": null,
            "grid_template_areas": null,
            "grid_template_columns": null,
            "grid_template_rows": null,
            "height": null,
            "justify_content": null,
            "justify_items": null,
            "left": null,
            "margin": null,
            "max_height": null,
            "max_width": null,
            "min_height": null,
            "min_width": null,
            "object_fit": null,
            "object_position": null,
            "order": null,
            "overflow": null,
            "overflow_x": null,
            "overflow_y": null,
            "padding": null,
            "right": null,
            "top": null,
            "visibility": null,
            "width": null
          }
        },
        "44757b8457fb427d85beba05986b5943": {
          "model_module": "@jupyter-widgets/controls",
          "model_name": "ProgressStyleModel",
          "model_module_version": "1.5.0",
          "state": {
            "_model_module": "@jupyter-widgets/controls",
            "_model_module_version": "1.5.0",
            "_model_name": "ProgressStyleModel",
            "_view_count": null,
            "_view_module": "@jupyter-widgets/base",
            "_view_module_version": "1.2.0",
            "_view_name": "StyleView",
            "bar_color": null,
            "description_width": ""
          }
        },
        "fff020af28ca4b53a1dff72b8f4d3ed8": {
          "model_module": "@jupyter-widgets/base",
          "model_name": "LayoutModel",
          "model_module_version": "1.2.0",
          "state": {
            "_model_module": "@jupyter-widgets/base",
            "_model_module_version": "1.2.0",
            "_model_name": "LayoutModel",
            "_view_count": null,
            "_view_module": "@jupyter-widgets/base",
            "_view_module_version": "1.2.0",
            "_view_name": "LayoutView",
            "align_content": null,
            "align_items": null,
            "align_self": null,
            "border": null,
            "bottom": null,
            "display": null,
            "flex": null,
            "flex_flow": null,
            "grid_area": null,
            "grid_auto_columns": null,
            "grid_auto_flow": null,
            "grid_auto_rows": null,
            "grid_column": null,
            "grid_gap": null,
            "grid_row": null,
            "grid_template_areas": null,
            "grid_template_columns": null,
            "grid_template_rows": null,
            "height": null,
            "justify_content": null,
            "justify_items": null,
            "left": null,
            "margin": null,
            "max_height": null,
            "max_width": null,
            "min_height": null,
            "min_width": null,
            "object_fit": null,
            "object_position": null,
            "order": null,
            "overflow": null,
            "overflow_x": null,
            "overflow_y": null,
            "padding": null,
            "right": null,
            "top": null,
            "visibility": null,
            "width": null
          }
        },
        "3d062d4d737d4f43ba858ed9496c0ad5": {
          "model_module": "@jupyter-widgets/controls",
          "model_name": "DescriptionStyleModel",
          "model_module_version": "1.5.0",
          "state": {
            "_model_module": "@jupyter-widgets/controls",
            "_model_module_version": "1.5.0",
            "_model_name": "DescriptionStyleModel",
            "_view_count": null,
            "_view_module": "@jupyter-widgets/base",
            "_view_module_version": "1.2.0",
            "_view_name": "StyleView",
            "description_width": ""
          }
        }
      }
    }
  },
  "nbformat": 4,
  "nbformat_minor": 0
}