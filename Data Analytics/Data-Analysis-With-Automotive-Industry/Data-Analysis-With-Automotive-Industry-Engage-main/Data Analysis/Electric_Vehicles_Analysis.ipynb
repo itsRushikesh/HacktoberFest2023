{
  "cells": [
    {
      "cell_type": "markdown",
      "metadata": {
        "id": "view-in-github",
        "colab_type": "text"
      },
      "source": [
        "<a href=\"https://colab.research.google.com/github/KhushbooGupta2111/Data-Analysis-With-Automotive-Industry-Engage/blob/main/Electric_Vehicles_Analysis.ipynb\" target=\"_parent\"><img src=\"https://colab.research.google.com/assets/colab-badge.svg\" alt=\"Open In Colab\"/></a>"
      ]
    },
    {
      "cell_type": "markdown",
      "source": [
        "Importing Libraries"
      ],
      "metadata": {
        "id": "8UfUW8apkEVT"
      }
    },
    {
      "cell_type": "code",
      "execution_count": 26,
      "metadata": {
        "id": "WP6wbN2ID0e-"
      },
      "outputs": [],
      "source": [
        "import pandas as pd\n",
        "import numpy as np \n",
        "import seaborn as sns\n",
        "import matplotlib.pyplot as plt\n"
      ]
    },
    {
      "cell_type": "markdown",
      "metadata": {
        "id": "LME78YchxYTu"
      },
      "source": [
        "Importing Dataset"
      ]
    },
    {
      "cell_type": "code",
      "execution_count": 27,
      "metadata": {
        "colab": {
          "base_uri": "https://localhost:8080/"
        },
        "id": "lslTpaQXw9ui",
        "outputId": "0e3f7c19-cd78-4757-87e4-3c412d5f3b7a"
      },
      "outputs": [
        {
          "output_type": "stream",
          "name": "stdout",
          "text": [
            "Drive already mounted at /content/gdrive; to attempt to forcibly remount, call drive.mount(\"/content/gdrive\", force_remount=True).\n"
          ]
        }
      ],
      "source": [
        "from google.colab import drive \n",
        "drive.mount('/content/gdrive')"
      ]
    },
    {
      "cell_type": "code",
      "execution_count": 28,
      "metadata": {
        "id": "Qi7CGCVtxml5"
      },
      "outputs": [],
      "source": [
        "auto_data = pd.read_csv('gdrive/My Drive/Electric_Vehicles_India_Clean.csv')"
      ]
    },
    {
      "cell_type": "markdown",
      "metadata": {
        "id": "G7A1AkFGJAwX"
      },
      "source": [
        "Data Cleaning "
      ]
    },
    {
      "cell_type": "markdown",
      "metadata": {
        "id": "QRfhpoftvv2w"
      },
      "source": [
        "Function which removes all the values after the first spacebar in the column 🌻"
      ]
    },
    {
      "cell_type": "markdown",
      "metadata": {
        "id": "cHd1VpWF8qzI"
      },
      "source": [
        "Function Built for cleaning Delimiter 🌻\n",
        "\n",
        "(Note: This just removes the extra units. For converting the values from string to integer, run the string_to_numeric function, which is mentioned below)"
      ]
    },
    {
      "cell_type": "code",
      "execution_count": 29,
      "metadata": {
        "colab": {
          "base_uri": "https://localhost:8080/"
        },
        "id": "j2P6-hcEEUNd",
        "outputId": "807ac5ef-c71a-4a6d-f179-1f77503d71bf"
      },
      "outputs": [
        {
          "output_type": "execute_result",
          "data": {
            "text/plain": [
              "Car                0\n",
              "Style              0\n",
              "Range              0\n",
              "Transmission       0\n",
              "VehicleType        0\n",
              "PriceRange_Low     0\n",
              "PriceRange_High    0\n",
              "Capacity           0\n",
              "BootSpace          0\n",
              "BaseModel          0\n",
              "TopModel           0\n",
              "dtype: int64"
            ]
          },
          "metadata": {},
          "execution_count": 29
        }
      ],
      "source": [
        "auto_data.isnull().sum()"
      ]
    },
    {
      "cell_type": "code",
      "execution_count": 30,
      "metadata": {
        "colab": {
          "base_uri": "https://localhost:8080/",
          "height": 175
        },
        "id": "WEucjaRfKQx7",
        "outputId": "1696f27c-1148-4109-debe-b1e17ab5a71e"
      },
      "outputs": [
        {
          "output_type": "execute_result",
          "data": {
            "text/plain": [
              "                  Car        Style               Range Transmission  \\\n",
              "count              12           12                  12           12   \n",
              "unique             12            7                  12            1   \n",
              "top     Tata Nexon EV  Compact SUV  312 Km/Full Charge    Automatic   \n",
              "freq                1            6                   1           12   \n",
              "\n",
              "       VehicleType PriceRange_Low PriceRange_High   Capacity BootSpace  \\\n",
              "count           12             12              12         12        12   \n",
              "unique           1             12              12          2        10   \n",
              "top       Electric          13.99          17.4 L  5 Seater      350 L   \n",
              "freq            12              1               1         11         2   \n",
              "\n",
              "       BaseModel           TopModel  \n",
              "count         12                 12  \n",
              "unique        11                 12  \n",
              "top         STD   Dark XZ Plus LUX   \n",
              "freq           2                  1  "
            ],
            "text/html": [
              "\n",
              "  <div id=\"df-a64b8379-cf10-46d1-9ab7-2e551dd4641f\">\n",
              "    <div class=\"colab-df-container\">\n",
              "      <div>\n",
              "<style scoped>\n",
              "    .dataframe tbody tr th:only-of-type {\n",
              "        vertical-align: middle;\n",
              "    }\n",
              "\n",
              "    .dataframe tbody tr th {\n",
              "        vertical-align: top;\n",
              "    }\n",
              "\n",
              "    .dataframe thead th {\n",
              "        text-align: right;\n",
              "    }\n",
              "</style>\n",
              "<table border=\"1\" class=\"dataframe\">\n",
              "  <thead>\n",
              "    <tr style=\"text-align: right;\">\n",
              "      <th></th>\n",
              "      <th>Car</th>\n",
              "      <th>Style</th>\n",
              "      <th>Range</th>\n",
              "      <th>Transmission</th>\n",
              "      <th>VehicleType</th>\n",
              "      <th>PriceRange_Low</th>\n",
              "      <th>PriceRange_High</th>\n",
              "      <th>Capacity</th>\n",
              "      <th>BootSpace</th>\n",
              "      <th>BaseModel</th>\n",
              "      <th>TopModel</th>\n",
              "    </tr>\n",
              "  </thead>\n",
              "  <tbody>\n",
              "    <tr>\n",
              "      <th>count</th>\n",
              "      <td>12</td>\n",
              "      <td>12</td>\n",
              "      <td>12</td>\n",
              "      <td>12</td>\n",
              "      <td>12</td>\n",
              "      <td>12</td>\n",
              "      <td>12</td>\n",
              "      <td>12</td>\n",
              "      <td>12</td>\n",
              "      <td>12</td>\n",
              "      <td>12</td>\n",
              "    </tr>\n",
              "    <tr>\n",
              "      <th>unique</th>\n",
              "      <td>12</td>\n",
              "      <td>7</td>\n",
              "      <td>12</td>\n",
              "      <td>1</td>\n",
              "      <td>1</td>\n",
              "      <td>12</td>\n",
              "      <td>12</td>\n",
              "      <td>2</td>\n",
              "      <td>10</td>\n",
              "      <td>11</td>\n",
              "      <td>12</td>\n",
              "    </tr>\n",
              "    <tr>\n",
              "      <th>top</th>\n",
              "      <td>Tata Nexon EV</td>\n",
              "      <td>Compact SUV</td>\n",
              "      <td>312 Km/Full Charge</td>\n",
              "      <td>Automatic</td>\n",
              "      <td>Electric</td>\n",
              "      <td>13.99</td>\n",
              "      <td>17.4 L</td>\n",
              "      <td>5 Seater</td>\n",
              "      <td>350 L</td>\n",
              "      <td>STD</td>\n",
              "      <td>Dark XZ Plus LUX</td>\n",
              "    </tr>\n",
              "    <tr>\n",
              "      <th>freq</th>\n",
              "      <td>1</td>\n",
              "      <td>6</td>\n",
              "      <td>1</td>\n",
              "      <td>12</td>\n",
              "      <td>12</td>\n",
              "      <td>1</td>\n",
              "      <td>1</td>\n",
              "      <td>11</td>\n",
              "      <td>2</td>\n",
              "      <td>2</td>\n",
              "      <td>1</td>\n",
              "    </tr>\n",
              "  </tbody>\n",
              "</table>\n",
              "</div>\n",
              "      <button class=\"colab-df-convert\" onclick=\"convertToInteractive('df-a64b8379-cf10-46d1-9ab7-2e551dd4641f')\"\n",
              "              title=\"Convert this dataframe to an interactive table.\"\n",
              "              style=\"display:none;\">\n",
              "        \n",
              "  <svg xmlns=\"http://www.w3.org/2000/svg\" height=\"24px\"viewBox=\"0 0 24 24\"\n",
              "       width=\"24px\">\n",
              "    <path d=\"M0 0h24v24H0V0z\" fill=\"none\"/>\n",
              "    <path d=\"M18.56 5.44l.94 2.06.94-2.06 2.06-.94-2.06-.94-.94-2.06-.94 2.06-2.06.94zm-11 1L8.5 8.5l.94-2.06 2.06-.94-2.06-.94L8.5 2.5l-.94 2.06-2.06.94zm10 10l.94 2.06.94-2.06 2.06-.94-2.06-.94-.94-2.06-.94 2.06-2.06.94z\"/><path d=\"M17.41 7.96l-1.37-1.37c-.4-.4-.92-.59-1.43-.59-.52 0-1.04.2-1.43.59L10.3 9.45l-7.72 7.72c-.78.78-.78 2.05 0 2.83L4 21.41c.39.39.9.59 1.41.59.51 0 1.02-.2 1.41-.59l7.78-7.78 2.81-2.81c.8-.78.8-2.07 0-2.86zM5.41 20L4 18.59l7.72-7.72 1.47 1.35L5.41 20z\"/>\n",
              "  </svg>\n",
              "      </button>\n",
              "      \n",
              "  <style>\n",
              "    .colab-df-container {\n",
              "      display:flex;\n",
              "      flex-wrap:wrap;\n",
              "      gap: 12px;\n",
              "    }\n",
              "\n",
              "    .colab-df-convert {\n",
              "      background-color: #E8F0FE;\n",
              "      border: none;\n",
              "      border-radius: 50%;\n",
              "      cursor: pointer;\n",
              "      display: none;\n",
              "      fill: #1967D2;\n",
              "      height: 32px;\n",
              "      padding: 0 0 0 0;\n",
              "      width: 32px;\n",
              "    }\n",
              "\n",
              "    .colab-df-convert:hover {\n",
              "      background-color: #E2EBFA;\n",
              "      box-shadow: 0px 1px 2px rgba(60, 64, 67, 0.3), 0px 1px 3px 1px rgba(60, 64, 67, 0.15);\n",
              "      fill: #174EA6;\n",
              "    }\n",
              "\n",
              "    [theme=dark] .colab-df-convert {\n",
              "      background-color: #3B4455;\n",
              "      fill: #D2E3FC;\n",
              "    }\n",
              "\n",
              "    [theme=dark] .colab-df-convert:hover {\n",
              "      background-color: #434B5C;\n",
              "      box-shadow: 0px 1px 3px 1px rgba(0, 0, 0, 0.15);\n",
              "      filter: drop-shadow(0px 1px 2px rgba(0, 0, 0, 0.3));\n",
              "      fill: #FFFFFF;\n",
              "    }\n",
              "  </style>\n",
              "\n",
              "      <script>\n",
              "        const buttonEl =\n",
              "          document.querySelector('#df-a64b8379-cf10-46d1-9ab7-2e551dd4641f button.colab-df-convert');\n",
              "        buttonEl.style.display =\n",
              "          google.colab.kernel.accessAllowed ? 'block' : 'none';\n",
              "\n",
              "        async function convertToInteractive(key) {\n",
              "          const element = document.querySelector('#df-a64b8379-cf10-46d1-9ab7-2e551dd4641f');\n",
              "          const dataTable =\n",
              "            await google.colab.kernel.invokeFunction('convertToInteractive',\n",
              "                                                     [key], {});\n",
              "          if (!dataTable) return;\n",
              "\n",
              "          const docLinkHtml = 'Like what you see? Visit the ' +\n",
              "            '<a target=\"_blank\" href=https://colab.research.google.com/notebooks/data_table.ipynb>data table notebook</a>'\n",
              "            + ' to learn more about interactive tables.';\n",
              "          element.innerHTML = '';\n",
              "          dataTable['output_type'] = 'display_data';\n",
              "          await google.colab.output.renderOutput(dataTable, element);\n",
              "          const docLink = document.createElement('div');\n",
              "          docLink.innerHTML = docLinkHtml;\n",
              "          element.appendChild(docLink);\n",
              "        }\n",
              "      </script>\n",
              "    </div>\n",
              "  </div>\n",
              "  "
            ]
          },
          "metadata": {},
          "execution_count": 30
        }
      ],
      "source": [
        "auto_data.describe()"
      ]
    },
    {
      "cell_type": "code",
      "execution_count": 31,
      "metadata": {
        "colab": {
          "base_uri": "https://localhost:8080/"
        },
        "id": "FOEENt1bJahX",
        "outputId": "7c0e443a-2c0a-4af3-e713-e3a524fb46e9"
      },
      "outputs": [
        {
          "output_type": "execute_result",
          "data": {
            "text/plain": [
              "(12, 11)"
            ]
          },
          "metadata": {},
          "execution_count": 31
        }
      ],
      "source": [
        "auto_data.shape"
      ]
    },
    {
      "cell_type": "code",
      "execution_count": 32,
      "metadata": {
        "id": "j4m_UVovlt2n"
      },
      "outputs": [],
      "source": [
        "# This function is used to eliminate the delimiter values in the columns\n",
        "def unit_delimiter(column_name , removing_substring):\n",
        "  auto_data[column_name] = auto_data[column_name].apply(str).str.replace(' ' + removing_substring , '');"
      ]
    },
    {
      "cell_type": "markdown",
      "metadata": {
        "id": "weCB1P7C-VIy"
      },
      "source": [
        "Function Built for converting values from string to integer 🌻\n",
        "\n",
        "(Note: Run this after you have executed the function unit_delimiter)"
      ]
    },
    {
      "cell_type": "code",
      "execution_count": 33,
      "metadata": {
        "id": "E95v9fQNprAf"
      },
      "outputs": [],
      "source": [
        "def string_to_numeric(column_name):\n",
        "  auto_data[column_name] = auto_data[column_name].fillna(0)\n",
        "  auto_data[column_name] = auto_data[column_name].replace(\"nan\" , 0 , regex = True)\n",
        "  auto_data[column_name] = pd.to_numeric(auto_data[column_name] )"
      ]
    },
    {
      "cell_type": "markdown",
      "metadata": {
        "id": "GRooOKbmAXUh"
      },
      "source": [
        "A function which combines these 2 functions"
      ]
    },
    {
      "cell_type": "code",
      "execution_count": 34,
      "metadata": {
        "id": "n97mi69IAWxR"
      },
      "outputs": [],
      "source": [
        "def delimiter_and_numeric(column_name , removing_substring):\n",
        "  unit_delimiter(column_name , removing_substring)\n",
        "  string_to_numeric(column_name)"
      ]
    },
    {
      "cell_type": "code",
      "execution_count": 35,
      "metadata": {
        "id": "dcmrB8Y_uOaS"
      },
      "outputs": [],
      "source": [
        "def all_before_space(column_name):\n",
        "  auto_data[column_name] = auto_data[column_name].str.split(\" \" , n = 1 , expand = True)[0]"
      ]
    },
    {
      "cell_type": "markdown",
      "metadata": {
        "id": "trcHVP_hTCTd"
      },
      "source": [
        "Function which replaces any extra character from the column 🌻"
      ]
    },
    {
      "cell_type": "code",
      "execution_count": 36,
      "metadata": {
        "id": "7LjF_oVOQr7b"
      },
      "outputs": [],
      "source": [
        "def replace_extra_characters(column_name , character , replacement = ''):\n",
        "  auto_data[column_name] = auto_data[column_name].str.replace(character , replacement)"
      ]
    },
    {
      "cell_type": "code",
      "execution_count": 37,
      "metadata": {
        "id": "hpTGcynSFELH"
      },
      "outputs": [],
      "source": [
        "delimiter_and_numeric(\"Range\" , \"Km/Full Charge\")"
      ]
    },
    {
      "cell_type": "code",
      "execution_count": 38,
      "metadata": {
        "id": "CV80jF7eLrfQ"
      },
      "outputs": [],
      "source": [
        "delimiter_and_numeric(\"Capacity\" , \"Seater\")"
      ]
    },
    {
      "cell_type": "code",
      "execution_count": 39,
      "metadata": {
        "id": "qbsWxdDFMkjA"
      },
      "outputs": [],
      "source": [
        "replace_extra_characters(\"BootSpace\" , \"l\" , \"L\")"
      ]
    },
    {
      "cell_type": "code",
      "execution_count": 40,
      "metadata": {
        "id": "cH6fYqM2a2wZ"
      },
      "outputs": [],
      "source": [
        "auto_data[\"PriceRange_Low\"] = auto_data[\"PriceRange_Low\"].str.strip() "
      ]
    },
    {
      "cell_type": "code",
      "execution_count": 41,
      "metadata": {
        "id": "LSlZApE0Oxjj"
      },
      "outputs": [],
      "source": [
        "replace_extra_characters(\"PriceRange_High\" , \"Cr\" , \"L\")\n",
        "replace_extra_characters(\"PriceRange_Low\" , \"Cr\" , \"L\")"
      ]
    },
    {
      "cell_type": "code",
      "execution_count": 42,
      "metadata": {
        "id": "UTm3a5xwMr3j"
      },
      "outputs": [],
      "source": [
        "delimiter_and_numeric(\"PriceRange_High\" , \"L\")\n",
        "delimiter_and_numeric(\"PriceRange_Low\" , \"L\")"
      ]
    },
    {
      "cell_type": "markdown",
      "metadata": {
        "id": "rtkYENcyO5ar"
      },
      "source": [
        "Data Analysis\n"
      ]
    },
    {
      "cell_type": "markdown",
      "metadata": {
        "id": "OZB9WndDPL3D"
      },
      "source": [
        "Which car gives the maximum range on full charge?"
      ]
    },
    {
      "cell_type": "code",
      "execution_count": 43,
      "metadata": {
        "colab": {
          "base_uri": "https://localhost:8080/"
        },
        "id": "y9eHaXiOO8Nb",
        "outputId": "6ed0bb77-db3d-423a-8f2c-d2804edf89f3"
      },
      "outputs": [
        {
          "output_type": "execute_result",
          "data": {
            "text/plain": [
              "Car                   Tata Tigor EV\n",
              "Style              Subcompact Sedan\n",
              "Range                           471\n",
              "Transmission              Automatic\n",
              "VehicleType                Electric\n",
              "PriceRange_Low                29.15\n",
              "PriceRange_High               29.15\n",
              "Capacity                          5\n",
              "BootSpace                     660 L\n",
              "BaseModel                 xDrive 40\n",
              "TopModel                  xDrive 40\n",
              "dtype: object"
            ]
          },
          "metadata": {},
          "execution_count": 43
        }
      ],
      "source": [
        "auto_data.max()"
      ]
    },
    {
      "cell_type": "code",
      "execution_count": 44,
      "metadata": {
        "colab": {
          "base_uri": "https://localhost:8080/",
          "height": 609
        },
        "id": "F3EjVyK2P8-i",
        "outputId": "7fe48ac1-9f95-4e14-9419-dc178ec8d3e4"
      },
      "outputs": [
        {
          "output_type": "execute_result",
          "data": {
            "text/plain": [
              "<BarContainer object of 12 artists>"
            ]
          },
          "metadata": {},
          "execution_count": 44
        },
        {
          "output_type": "display_data",
          "data": {
            "text/plain": [
              "<Figure size 1440x720 with 1 Axes>"
            ],
            "image/png": "[encoded data removed]"
          },
          "metadata": {
            "needs_background": "light"
          }
        }
      ],
      "source": [
        "car = auto_data.Car\n",
        "style = auto_data.Style\n",
        "fig = plt.figure(figsize =(20,10))\n",
        "plt.bar(car,style)"
      ]
    },
    {
      "cell_type": "code",
      "execution_count": 45,
      "metadata": {
        "colab": {
          "base_uri": "https://localhost:8080/",
          "height": 265
        },
        "id": "B34LSdGnRLjp",
        "outputId": "cb950058-7f05-4b6c-9b19-bf58682a7a77"
      },
      "outputs": [
        {
          "output_type": "stream",
          "name": "stdout",
          "text": [
            "{'Compact SUV': 6, 'Subcompact Sedan': 1, 'Premium Midsize Sedan': 1, 'Premium Coupe': 1, 'Subcompact MPV': 1, 'Premium Fullsize SUV': 1, 'Premium Sports Sedan': 1}\n"
          ]
        },
        {
          "output_type": "display_data",
          "data": {
            "text/plain": [
              "<Figure size 432x288 with 1 Axes>"
            ],
            "image/png": "[encoded data removed]"
          },
          "metadata": {}
        }
      ],
      "source": [
        "car = auto_data[\"Style\"].value_counts().to_dict()\n",
        "car_dataframe = pd.DataFrame(car.items(), columns=['Company', 'Amount'])\n",
        "car_dataframe.groupby(['Company']).sum().plot(kind='pie', y='Amount' , legend=None , autopct='%1.1f%%')\n",
        "print(car)\n",
        "\n",
        "#style = auto_data.Style\n",
        "#fig = plt.figure(figsize =(20,10))\n",
        "#plt.pie(style)"
      ]
    },
    {
      "cell_type": "code",
      "execution_count": 46,
      "metadata": {
        "colab": {
          "base_uri": "https://localhost:8080/",
          "height": 606
        },
        "id": "061k77Z7TdSQ",
        "outputId": "8c4731f6-893d-41bf-8a9a-472cb21ca14e"
      },
      "outputs": [
        {
          "output_type": "display_data",
          "data": {
            "text/plain": [
              "<Figure size 1440x720 with 1 Axes>"
            ],
            "image/png": "[encoded data removed]"
          },
          "metadata": {
            "needs_background": "light"
          }
        }
      ],
      "source": [
        "plt.figure(figsize=(20,10))\n",
        "\n",
        "sns.barplot(x = 'Car',\n",
        "            y = 'Range',\n",
        "            color = 'olive',\n",
        "            data = auto_data)\n",
        " \n",
        "# Show the plot\n",
        "plt.show()"
      ]
    },
    {
      "cell_type": "code",
      "execution_count": 47,
      "metadata": {
        "colab": {
          "base_uri": "https://localhost:8080/",
          "height": 396
        },
        "id": "Y-Ohejv-VmsD",
        "outputId": "fcca2566-e7fa-4a42-e9cc-0a700ff3658b"
      },
      "outputs": [
        {
          "output_type": "execute_result",
          "data": {
            "text/plain": [
              "<matplotlib.axes._subplots.AxesSubplot at 0x7f92a42442d0>"
            ]
          },
          "metadata": {},
          "execution_count": 47
        },
        {
          "output_type": "display_data",
          "data": {
            "text/plain": [
              "<Figure size 432x288 with 1 Axes>"
            ],
            "image/png": "[encoded data removed]"
          },
          "metadata": {
            "needs_background": "light"
          }
        }
      ],
      "source": [
        "# plt.figure(figsize=(100,100))\n",
        "auto_data.plot(x = 'Car',\n",
        "            y = ['PriceRange_Low', 'PriceRange_High'],\n",
        "            kind = 'bar'\n",
        "            )"
      ]
    }
  ],
  "metadata": {
    "colab": {
      "collapsed_sections": [],
      "name": "Electric_Vehicles_Analysis.ipynb",
      "provenance": [],
      "include_colab_link": true
    },
    "kernelspec": {
      "display_name": "Python 3",
      "name": "python3"
    },
    "language_info": {
      "name": "python"
    }
  },
  "nbformat": 4,
  "nbformat_minor": 0
}