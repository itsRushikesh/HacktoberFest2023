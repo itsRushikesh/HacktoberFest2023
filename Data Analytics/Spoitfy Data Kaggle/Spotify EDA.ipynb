{
 "cells": [
  {
   "cell_type": "markdown",
   "id": "70eec517",
   "metadata": {},
   "source": [
    "# Dataset Features:\n",
    "Column Name\tDescription\n",
    "trackName\tThe name of the track.\n",
    "artistName\tThe name of the artist or band associated with the track.\n",
    "msPlayed\tThe duration in milliseconds that the track was played.\n",
    "    genre\tThe genre or genres associated with the track.\n",
    "danceability\tA measure of how suitable a track is for dancing.\n",
    "energy\t     The energy level of the track.\n",
    "        key\t The key of the track (e.g., C, D, E).\n",
    "loudness\t The overall loudness of the track in decibels (dB).\n",
    "    mode\t The modality of the track (1 = major, 0 = minor).\n",
    "speechiness\t The presence of spoken words in the track.\n",
    "acousticness\tThe acousticness of the track.\n",
    "instrumentalness\tThe probability of the track being instrumental.\n",
    "liveness\t A measure of the presence of a live audience in the track.\n",
    "valence\t     The musical positiveness or happiness conveyed by the track.\n",
    "tempo\t     The tempo of the track in beats per minute (BPM).\n",
    "type\t     The type of the Spotify track.\n",
    "    id\t     The unique identifier of the track.\n",
    "    uri\t     The Spotify URI for the track.\n",
    "track_href\t A link to the Spotify Web API endpoint for the track.\n",
    "analysis_url\tA link to the audio analysis of the track.\n",
    "duration_ms\t    The duration of the track in milliseconds.\n",
    "time_signature\tThe time signature of the track."
   ]
  },
  {
   "cell_type": "code",
   "execution_count": 1,
   "id": "76e29892",
   "metadata": {},
   "outputs": [],
   "source": [
    "import pandas as pd\n",
    "import numpy as np\n",
    "import matplotlib.pyplot as plt\n",
    "import seaborn as sns\n",
    "import warnings\n",
    "warnings.filterwarnings('ignore')"
   ]
  },
  {
   "cell_type": "code",
   "execution_count": 2,
   "id": "b24164c3",
   "metadata": {},
   "outputs": [
    {
     "data": {
      "text/html": [
       "<div>\n",
       "<style scoped>\n",
       "    .dataframe tbody tr th:only-of-type {\n",
       "        vertical-align: middle;\n",
       "    }\n",
       "\n",
       "    .dataframe tbody tr th {\n",
       "        vertical-align: top;\n",
       "    }\n",
       "\n",
       "    .dataframe thead th {\n",
       "        text-align: right;\n",
       "    }\n",
       "</style>\n",
       "<table border=\"1\" class=\"dataframe\">\n",
       "  <thead>\n",
       "    <tr style=\"text-align: right;\">\n",
       "      <th></th>\n",
       "      <th>trackName</th>\n",
       "      <th>artistName</th>\n",
       "      <th>msPlayed</th>\n",
       "      <th>genre</th>\n",
       "      <th>danceability</th>\n",
       "      <th>energy</th>\n",
       "      <th>key</th>\n",
       "      <th>loudness</th>\n",
       "      <th>mode</th>\n",
       "      <th>speechiness</th>\n",
       "      <th>acousticness</th>\n",
       "      <th>instrumentalness</th>\n",
       "      <th>liveness</th>\n",
       "      <th>valence</th>\n",
       "      <th>tempo</th>\n",
       "      <th>type</th>\n",
       "      <th>duration_ms</th>\n",
       "      <th>time_signature</th>\n",
       "    </tr>\n",
       "  </thead>\n",
       "  <tbody>\n",
       "    <tr>\n",
       "      <th>0</th>\n",
       "      <td>\"Honest\"</td>\n",
       "      <td>Nico Collins</td>\n",
       "      <td>191772</td>\n",
       "      <td>NaN</td>\n",
       "      <td>0.476</td>\n",
       "      <td>0.799</td>\n",
       "      <td>4.0</td>\n",
       "      <td>-4.939</td>\n",
       "      <td>0.0</td>\n",
       "      <td>0.2120</td>\n",
       "      <td>0.0162</td>\n",
       "      <td>0.000000</td>\n",
       "      <td>0.2570</td>\n",
       "      <td>0.577</td>\n",
       "      <td>162.139</td>\n",
       "      <td>audio_features</td>\n",
       "      <td>191948</td>\n",
       "      <td>4.0</td>\n",
       "    </tr>\n",
       "    <tr>\n",
       "      <th>1</th>\n",
       "      <td>\"In The Hall Of The Mountain King\" from Peer G...</td>\n",
       "      <td>London Symphony Orchestra</td>\n",
       "      <td>1806234</td>\n",
       "      <td>british orchestra</td>\n",
       "      <td>0.475</td>\n",
       "      <td>0.130</td>\n",
       "      <td>7.0</td>\n",
       "      <td>-17.719</td>\n",
       "      <td>1.0</td>\n",
       "      <td>0.0510</td>\n",
       "      <td>0.9160</td>\n",
       "      <td>0.956000</td>\n",
       "      <td>0.1010</td>\n",
       "      <td>0.122</td>\n",
       "      <td>112.241</td>\n",
       "      <td>audio_features</td>\n",
       "      <td>150827</td>\n",
       "      <td>4.0</td>\n",
       "    </tr>\n",
       "    <tr>\n",
       "      <th>2</th>\n",
       "      <td>#BrooklynBloodPop!</td>\n",
       "      <td>SyKo</td>\n",
       "      <td>145610</td>\n",
       "      <td>glitchcore</td>\n",
       "      <td>0.691</td>\n",
       "      <td>0.814</td>\n",
       "      <td>1.0</td>\n",
       "      <td>-3.788</td>\n",
       "      <td>0.0</td>\n",
       "      <td>0.1170</td>\n",
       "      <td>0.0164</td>\n",
       "      <td>0.000000</td>\n",
       "      <td>0.3660</td>\n",
       "      <td>0.509</td>\n",
       "      <td>132.012</td>\n",
       "      <td>audio_features</td>\n",
       "      <td>145611</td>\n",
       "      <td>4.0</td>\n",
       "    </tr>\n",
       "    <tr>\n",
       "      <th>3</th>\n",
       "      <td>$10</td>\n",
       "      <td>Good Morning</td>\n",
       "      <td>25058</td>\n",
       "      <td>experimental pop</td>\n",
       "      <td>0.624</td>\n",
       "      <td>0.596</td>\n",
       "      <td>4.0</td>\n",
       "      <td>-9.804</td>\n",
       "      <td>1.0</td>\n",
       "      <td>0.0314</td>\n",
       "      <td>0.4750</td>\n",
       "      <td>0.203000</td>\n",
       "      <td>0.1190</td>\n",
       "      <td>0.896</td>\n",
       "      <td>120.969</td>\n",
       "      <td>audio_features</td>\n",
       "      <td>89509</td>\n",
       "      <td>4.0</td>\n",
       "    </tr>\n",
       "    <tr>\n",
       "      <th>4</th>\n",
       "      <td>(I Just) Died In Your Arms</td>\n",
       "      <td>Cutting Crew</td>\n",
       "      <td>5504949</td>\n",
       "      <td>album rock</td>\n",
       "      <td>0.625</td>\n",
       "      <td>0.726</td>\n",
       "      <td>11.0</td>\n",
       "      <td>-11.402</td>\n",
       "      <td>0.0</td>\n",
       "      <td>0.0444</td>\n",
       "      <td>0.0158</td>\n",
       "      <td>0.000169</td>\n",
       "      <td>0.0625</td>\n",
       "      <td>0.507</td>\n",
       "      <td>124.945</td>\n",
       "      <td>audio_features</td>\n",
       "      <td>280400</td>\n",
       "      <td>4.0</td>\n",
       "    </tr>\n",
       "  </tbody>\n",
       "</table>\n",
       "</div>"
      ],
      "text/plain": [
       "                                           trackName  \\\n",
       "0                                           \"Honest\"   \n",
       "1  \"In The Hall Of The Mountain King\" from Peer G...   \n",
       "2                                 #BrooklynBloodPop!   \n",
       "3                                                $10   \n",
       "4                         (I Just) Died In Your Arms   \n",
       "\n",
       "                  artistName  msPlayed              genre  danceability  \\\n",
       "0               Nico Collins    191772                NaN         0.476   \n",
       "1  London Symphony Orchestra   1806234  british orchestra         0.475   \n",
       "2                       SyKo    145610         glitchcore         0.691   \n",
       "3               Good Morning     25058   experimental pop         0.624   \n",
       "4               Cutting Crew   5504949         album rock         0.625   \n",
       "\n",
       "   energy   key  loudness  mode  speechiness  acousticness  instrumentalness  \\\n",
       "0   0.799   4.0    -4.939   0.0       0.2120        0.0162          0.000000   \n",
       "1   0.130   7.0   -17.719   1.0       0.0510        0.9160          0.956000   \n",
       "2   0.814   1.0    -3.788   0.0       0.1170        0.0164          0.000000   \n",
       "3   0.596   4.0    -9.804   1.0       0.0314        0.4750          0.203000   \n",
       "4   0.726  11.0   -11.402   0.0       0.0444        0.0158          0.000169   \n",
       "\n",
       "   liveness  valence    tempo            type  duration_ms  time_signature  \n",
       "0    0.2570    0.577  162.139  audio_features       191948             4.0  \n",
       "1    0.1010    0.122  112.241  audio_features       150827             4.0  \n",
       "2    0.3660    0.509  132.012  audio_features       145611             4.0  \n",
       "3    0.1190    0.896  120.969  audio_features        89509             4.0  \n",
       "4    0.0625    0.507  124.945  audio_features       280400             4.0  "
      ]
     },
     "execution_count": 2,
     "metadata": {},
     "output_type": "execute_result"
    }
   ],
   "source": [
    "spotify=pd.read_csv('Spotify_Song_Attributes.csv')\n",
    "spotify.head()"
   ]
  },
  {
   "cell_type": "markdown",
   "id": "fc5beb03",
   "metadata": {},
   "source": [
    "spotify=spotify.drop_duplicates()"
   ]
  },
  {
   "cell_type": "markdown",
   "id": "e90cc194",
   "metadata": {},
   "source": [
    "spotify.to_csv('Spotify_Song_Attributes.csv',index=False)"
   ]
  },
  {
   "cell_type": "code",
   "execution_count": 3,
   "id": "569aa996",
   "metadata": {},
   "outputs": [
    {
     "name": "stdout",
     "output_type": "stream",
     "text": [
      "<class 'pandas.core.frame.DataFrame'>\n",
      "RangeIndex: 5040 entries, 0 to 5039\n",
      "Data columns (total 18 columns):\n",
      " #   Column            Non-Null Count  Dtype  \n",
      "---  ------            --------------  -----  \n",
      " 0   trackName         5040 non-null   object \n",
      " 1   artistName        5040 non-null   object \n",
      " 2   msPlayed          5040 non-null   int64  \n",
      " 3   genre             4290 non-null   object \n",
      " 4   danceability      4765 non-null   float64\n",
      " 5   energy            4765 non-null   float64\n",
      " 6   key               4765 non-null   float64\n",
      " 7   loudness          4765 non-null   float64\n",
      " 8   mode              4765 non-null   float64\n",
      " 9   speechiness       4765 non-null   float64\n",
      " 10  acousticness      4765 non-null   float64\n",
      " 11  instrumentalness  4765 non-null   float64\n",
      " 12  liveness          4765 non-null   float64\n",
      " 13  valence           4765 non-null   float64\n",
      " 14  tempo             4765 non-null   float64\n",
      " 15  type              4765 non-null   object \n",
      " 16  duration_ms       5040 non-null   int64  \n",
      " 17  time_signature    4765 non-null   float64\n",
      "dtypes: float64(12), int64(2), object(4)\n",
      "memory usage: 708.9+ KB\n"
     ]
    }
   ],
   "source": [
    "spotify.info()"
   ]
  },
  {
   "cell_type": "code",
   "execution_count": 4,
   "id": "ddbf8243",
   "metadata": {},
   "outputs": [
    {
     "data": {
      "text/plain": [
       "trackName             0\n",
       "artistName            0\n",
       "msPlayed              0\n",
       "genre               750\n",
       "danceability        275\n",
       "energy              275\n",
       "key                 275\n",
       "loudness            275\n",
       "mode                275\n",
       "speechiness         275\n",
       "acousticness        275\n",
       "instrumentalness    275\n",
       "liveness            275\n",
       "valence             275\n",
       "tempo               275\n",
       "type                275\n",
       "duration_ms           0\n",
       "time_signature      275\n",
       "dtype: int64"
      ]
     },
     "execution_count": 4,
     "metadata": {},
     "output_type": "execute_result"
    }
   ],
   "source": [
    "spotify.isna().sum()"
   ]
  },
  {
   "cell_type": "code",
   "execution_count": 5,
   "id": "c8543af4",
   "metadata": {},
   "outputs": [
    {
     "data": {
      "text/html": [
       "<div>\n",
       "<style scoped>\n",
       "    .dataframe tbody tr th:only-of-type {\n",
       "        vertical-align: middle;\n",
       "    }\n",
       "\n",
       "    .dataframe tbody tr th {\n",
       "        vertical-align: top;\n",
       "    }\n",
       "\n",
       "    .dataframe thead th {\n",
       "        text-align: right;\n",
       "    }\n",
       "</style>\n",
       "<table border=\"1\" class=\"dataframe\">\n",
       "  <thead>\n",
       "    <tr style=\"text-align: right;\">\n",
       "      <th></th>\n",
       "      <th>trackName</th>\n",
       "      <th>artistName</th>\n",
       "      <th>msPlayed</th>\n",
       "      <th>genre</th>\n",
       "      <th>danceability</th>\n",
       "      <th>energy</th>\n",
       "      <th>key</th>\n",
       "      <th>loudness</th>\n",
       "      <th>mode</th>\n",
       "      <th>speechiness</th>\n",
       "      <th>acousticness</th>\n",
       "      <th>instrumentalness</th>\n",
       "      <th>liveness</th>\n",
       "      <th>valence</th>\n",
       "      <th>tempo</th>\n",
       "      <th>type</th>\n",
       "      <th>duration_ms</th>\n",
       "      <th>time_signature</th>\n",
       "    </tr>\n",
       "  </thead>\n",
       "  <tbody>\n",
       "    <tr>\n",
       "      <th>0</th>\n",
       "      <td>\"Honest\"</td>\n",
       "      <td>Nico Collins</td>\n",
       "      <td>191772</td>\n",
       "      <td></td>\n",
       "      <td>0.476</td>\n",
       "      <td>0.799</td>\n",
       "      <td>4.0</td>\n",
       "      <td>-4.939</td>\n",
       "      <td>0.0</td>\n",
       "      <td>0.212</td>\n",
       "      <td>0.0162</td>\n",
       "      <td>0.0</td>\n",
       "      <td>0.257</td>\n",
       "      <td>0.577</td>\n",
       "      <td>162.139</td>\n",
       "      <td>audio_features</td>\n",
       "      <td>191948</td>\n",
       "      <td>4.0</td>\n",
       "    </tr>\n",
       "    <tr>\n",
       "      <th>1</th>\n",
       "      <td>\"In The Hall Of The Mountain King\" from Peer G...</td>\n",
       "      <td>London Symphony Orchestra</td>\n",
       "      <td>1806234</td>\n",
       "      <td>british orchestra</td>\n",
       "      <td>0.475</td>\n",
       "      <td>0.13</td>\n",
       "      <td>7.0</td>\n",
       "      <td>-17.719</td>\n",
       "      <td>1.0</td>\n",
       "      <td>0.051</td>\n",
       "      <td>0.916</td>\n",
       "      <td>0.956</td>\n",
       "      <td>0.101</td>\n",
       "      <td>0.122</td>\n",
       "      <td>112.241</td>\n",
       "      <td>audio_features</td>\n",
       "      <td>150827</td>\n",
       "      <td>4.0</td>\n",
       "    </tr>\n",
       "    <tr>\n",
       "      <th>2</th>\n",
       "      <td>#BrooklynBloodPop!</td>\n",
       "      <td>SyKo</td>\n",
       "      <td>145610</td>\n",
       "      <td>glitchcore</td>\n",
       "      <td>0.691</td>\n",
       "      <td>0.814</td>\n",
       "      <td>1.0</td>\n",
       "      <td>-3.788</td>\n",
       "      <td>0.0</td>\n",
       "      <td>0.117</td>\n",
       "      <td>0.0164</td>\n",
       "      <td>0.0</td>\n",
       "      <td>0.366</td>\n",
       "      <td>0.509</td>\n",
       "      <td>132.012</td>\n",
       "      <td>audio_features</td>\n",
       "      <td>145611</td>\n",
       "      <td>4.0</td>\n",
       "    </tr>\n",
       "    <tr>\n",
       "      <th>3</th>\n",
       "      <td>$10</td>\n",
       "      <td>Good Morning</td>\n",
       "      <td>25058</td>\n",
       "      <td>experimental pop</td>\n",
       "      <td>0.624</td>\n",
       "      <td>0.596</td>\n",
       "      <td>4.0</td>\n",
       "      <td>-9.804</td>\n",
       "      <td>1.0</td>\n",
       "      <td>0.0314</td>\n",
       "      <td>0.475</td>\n",
       "      <td>0.203</td>\n",
       "      <td>0.119</td>\n",
       "      <td>0.896</td>\n",
       "      <td>120.969</td>\n",
       "      <td>audio_features</td>\n",
       "      <td>89509</td>\n",
       "      <td>4.0</td>\n",
       "    </tr>\n",
       "    <tr>\n",
       "      <th>4</th>\n",
       "      <td>(I Just) Died In Your Arms</td>\n",
       "      <td>Cutting Crew</td>\n",
       "      <td>5504949</td>\n",
       "      <td>album rock</td>\n",
       "      <td>0.625</td>\n",
       "      <td>0.726</td>\n",
       "      <td>11.0</td>\n",
       "      <td>-11.402</td>\n",
       "      <td>0.0</td>\n",
       "      <td>0.0444</td>\n",
       "      <td>0.0158</td>\n",
       "      <td>0.000169</td>\n",
       "      <td>0.0625</td>\n",
       "      <td>0.507</td>\n",
       "      <td>124.945</td>\n",
       "      <td>audio_features</td>\n",
       "      <td>280400</td>\n",
       "      <td>4.0</td>\n",
       "    </tr>\n",
       "    <tr>\n",
       "      <th>...</th>\n",
       "      <td>...</td>\n",
       "      <td>...</td>\n",
       "      <td>...</td>\n",
       "      <td>...</td>\n",
       "      <td>...</td>\n",
       "      <td>...</td>\n",
       "      <td>...</td>\n",
       "      <td>...</td>\n",
       "      <td>...</td>\n",
       "      <td>...</td>\n",
       "      <td>...</td>\n",
       "      <td>...</td>\n",
       "      <td>...</td>\n",
       "      <td>...</td>\n",
       "      <td>...</td>\n",
       "      <td>...</td>\n",
       "      <td>...</td>\n",
       "      <td>...</td>\n",
       "    </tr>\n",
       "    <tr>\n",
       "      <th>5035</th>\n",
       "      <td>Younger with Time.</td>\n",
       "      <td>Ben Zaidi</td>\n",
       "      <td>668478</td>\n",
       "      <td>folk-pop</td>\n",
       "      <td>0.537</td>\n",
       "      <td>0.143</td>\n",
       "      <td>2.0</td>\n",
       "      <td>-16.992</td>\n",
       "      <td>1.0</td>\n",
       "      <td>0.0331</td>\n",
       "      <td>0.961</td>\n",
       "      <td>0.00572</td>\n",
       "      <td>0.11</td>\n",
       "      <td>0.245</td>\n",
       "      <td>131.118</td>\n",
       "      <td>audio_features</td>\n",
       "      <td>222827</td>\n",
       "      <td>3.0</td>\n",
       "    </tr>\n",
       "    <tr>\n",
       "      <th>5036</th>\n",
       "      <td>Your Latest Trick - Remastered 1996</td>\n",
       "      <td>Dire Straits</td>\n",
       "      <td>304382</td>\n",
       "      <td></td>\n",
       "      <td></td>\n",
       "      <td></td>\n",
       "      <td></td>\n",
       "      <td></td>\n",
       "      <td></td>\n",
       "      <td></td>\n",
       "      <td></td>\n",
       "      <td></td>\n",
       "      <td></td>\n",
       "      <td></td>\n",
       "      <td></td>\n",
       "      <td></td>\n",
       "      <td>0</td>\n",
       "      <td></td>\n",
       "    </tr>\n",
       "    <tr>\n",
       "      <th>5037</th>\n",
       "      <td>Your Love Is My Drug (8 Bit Slowed)</td>\n",
       "      <td>just valery</td>\n",
       "      <td>97600</td>\n",
       "      <td>sad lo-fi</td>\n",
       "      <td>0.282</td>\n",
       "      <td>0.158</td>\n",
       "      <td>6.0</td>\n",
       "      <td>-7.783</td>\n",
       "      <td>1.0</td>\n",
       "      <td>0.0311</td>\n",
       "      <td>0.438</td>\n",
       "      <td>0.134</td>\n",
       "      <td>0.474</td>\n",
       "      <td>0.248</td>\n",
       "      <td>65.152</td>\n",
       "      <td>audio_features</td>\n",
       "      <td>112582</td>\n",
       "      <td>4.0</td>\n",
       "    </tr>\n",
       "    <tr>\n",
       "      <th>5038</th>\n",
       "      <td>Your Power</td>\n",
       "      <td>Billie Eilish</td>\n",
       "      <td>988224</td>\n",
       "      <td>art pop</td>\n",
       "      <td>0.632</td>\n",
       "      <td>0.284</td>\n",
       "      <td>9.0</td>\n",
       "      <td>-14.025</td>\n",
       "      <td>0.0</td>\n",
       "      <td>0.0801</td>\n",
       "      <td>0.932</td>\n",
       "      <td>0.000476</td>\n",
       "      <td>0.233</td>\n",
       "      <td>0.208</td>\n",
       "      <td>129.642</td>\n",
       "      <td>audio_features</td>\n",
       "      <td>245897</td>\n",
       "      <td>4.0</td>\n",
       "    </tr>\n",
       "    <tr>\n",
       "      <th>5039</th>\n",
       "      <td>Your Voice / Bethel, NY</td>\n",
       "      <td>Jaden</td>\n",
       "      <td>213626</td>\n",
       "      <td>pop rap</td>\n",
       "      <td>0.56</td>\n",
       "      <td>0.344</td>\n",
       "      <td>3.0</td>\n",
       "      <td>-12.283</td>\n",
       "      <td>1.0</td>\n",
       "      <td>0.0306</td>\n",
       "      <td>0.866</td>\n",
       "      <td>0.00147</td>\n",
       "      <td>0.111</td>\n",
       "      <td>0.428</td>\n",
       "      <td>115.393</td>\n",
       "      <td>audio_features</td>\n",
       "      <td>213627</td>\n",
       "      <td>3.0</td>\n",
       "    </tr>\n",
       "  </tbody>\n",
       "</table>\n",
       "<p>5040 rows × 18 columns</p>\n",
       "</div>"
      ],
      "text/plain": [
       "                                              trackName  \\\n",
       "0                                              \"Honest\"   \n",
       "1     \"In The Hall Of The Mountain King\" from Peer G...   \n",
       "2                                    #BrooklynBloodPop!   \n",
       "3                                                   $10   \n",
       "4                            (I Just) Died In Your Arms   \n",
       "...                                                 ...   \n",
       "5035                                 Younger with Time.   \n",
       "5036                Your Latest Trick - Remastered 1996   \n",
       "5037                Your Love Is My Drug (8 Bit Slowed)   \n",
       "5038                                         Your Power   \n",
       "5039                            Your Voice / Bethel, NY   \n",
       "\n",
       "                     artistName  msPlayed              genre danceability  \\\n",
       "0                  Nico Collins    191772                           0.476   \n",
       "1     London Symphony Orchestra   1806234  british orchestra        0.475   \n",
       "2                          SyKo    145610         glitchcore        0.691   \n",
       "3                  Good Morning     25058   experimental pop        0.624   \n",
       "4                  Cutting Crew   5504949         album rock        0.625   \n",
       "...                         ...       ...                ...          ...   \n",
       "5035                  Ben Zaidi    668478           folk-pop        0.537   \n",
       "5036               Dire Straits    304382                                   \n",
       "5037                just valery     97600          sad lo-fi        0.282   \n",
       "5038              Billie Eilish    988224            art pop        0.632   \n",
       "5039                      Jaden    213626            pop rap         0.56   \n",
       "\n",
       "     energy   key loudness mode speechiness acousticness instrumentalness  \\\n",
       "0     0.799   4.0   -4.939  0.0       0.212       0.0162              0.0   \n",
       "1      0.13   7.0  -17.719  1.0       0.051        0.916            0.956   \n",
       "2     0.814   1.0   -3.788  0.0       0.117       0.0164              0.0   \n",
       "3     0.596   4.0   -9.804  1.0      0.0314        0.475            0.203   \n",
       "4     0.726  11.0  -11.402  0.0      0.0444       0.0158         0.000169   \n",
       "...     ...   ...      ...  ...         ...          ...              ...   \n",
       "5035  0.143   2.0  -16.992  1.0      0.0331        0.961          0.00572   \n",
       "5036                                                                        \n",
       "5037  0.158   6.0   -7.783  1.0      0.0311        0.438            0.134   \n",
       "5038  0.284   9.0  -14.025  0.0      0.0801        0.932         0.000476   \n",
       "5039  0.344   3.0  -12.283  1.0      0.0306        0.866          0.00147   \n",
       "\n",
       "     liveness valence    tempo            type  duration_ms time_signature  \n",
       "0       0.257   0.577  162.139  audio_features       191948            4.0  \n",
       "1       0.101   0.122  112.241  audio_features       150827            4.0  \n",
       "2       0.366   0.509  132.012  audio_features       145611            4.0  \n",
       "3       0.119   0.896  120.969  audio_features        89509            4.0  \n",
       "4      0.0625   0.507  124.945  audio_features       280400            4.0  \n",
       "...       ...     ...      ...             ...          ...            ...  \n",
       "5035     0.11   0.245  131.118  audio_features       222827            3.0  \n",
       "5036                                                      0                 \n",
       "5037    0.474   0.248   65.152  audio_features       112582            4.0  \n",
       "5038    0.233   0.208  129.642  audio_features       245897            4.0  \n",
       "5039    0.111   0.428  115.393  audio_features       213627            3.0  \n",
       "\n",
       "[5040 rows x 18 columns]"
      ]
     },
     "execution_count": 5,
     "metadata": {},
     "output_type": "execute_result"
    }
   ],
   "source": [
    "spotify.fillna('')"
   ]
  },
  {
   "cell_type": "code",
   "execution_count": 6,
   "id": "bffba613",
   "metadata": {},
   "outputs": [
    {
     "name": "stdout",
     "output_type": "stream",
     "text": [
      "The most listened genre on Spotify is: alt z    328\n",
      "Name: genre, dtype: int64\n"
     ]
    }
   ],
   "source": [
    "print(\"The most listened genre on Spotify is:\",spotify['genre'].value_counts().head(1))"
   ]
  },
  {
   "cell_type": "code",
   "execution_count": 7,
   "id": "4a610a78",
   "metadata": {},
   "outputs": [
    {
     "data": {
      "text/plain": [
       "audio_features    4765\n",
       "Name: type, dtype: int64"
      ]
     },
     "execution_count": 7,
     "metadata": {},
     "output_type": "execute_result"
    }
   ],
   "source": [
    "spotify['type'].value_counts()"
   ]
  },
  {
   "cell_type": "code",
   "execution_count": 8,
   "id": "f69ab732",
   "metadata": {},
   "outputs": [
    {
     "data": {
      "text/plain": [
       "Text(0.5, 1.0, 'Distribution of Time Signature')"
      ]
     },
     "execution_count": 8,
     "metadata": {},
     "output_type": "execute_result"
    },
    {
     "data": {
      "image/png": "[encoded data removed]",
      "text/plain": [
       "<Figure size 640x480 with 1 Axes>"
      ]
     },
     "metadata": {},
     "output_type": "display_data"
    }
   ],
   "source": [
    "sns.countplot(y=spotify['time_signature'],color='violet')\n",
    "plt.title('Distribution of Time Signature')"
   ]
  },
  {
   "cell_type": "code",
   "execution_count": 9,
   "id": "7318363b",
   "metadata": {},
   "outputs": [
    {
     "data": {
      "text/plain": [
       "blackbear            64\n",
       "Lauv                 50\n",
       "Linkin Park          47\n",
       "The Neighbourhood    43\n",
       "Kato                 39\n",
       "                     ..\n",
       "Morgan Page           1\n",
       "Mitraz                1\n",
       "Audrey Mika           1\n",
       "Empire of the Sun     1\n",
       "just valery           1\n",
       "Name: artistName, Length: 2312, dtype: int64"
      ]
     },
     "execution_count": 9,
     "metadata": {},
     "output_type": "execute_result"
    }
   ],
   "source": [
    "spotify['artistName'].value_counts()"
   ]
  },
  {
   "cell_type": "code",
   "execution_count": 10,
   "id": "9dc4bff4",
   "metadata": {},
   "outputs": [
    {
     "data": {
      "text/plain": [
       "Text(0.5, 1.0, 'Relation of time Signature and number of minutes of the song in ms')"
      ]
     },
     "execution_count": 10,
     "metadata": {},
     "output_type": "execute_result"
    },
    {
     "data": {
      "image/png": "[encoded data removed]",
      "text/plain": [
       "<Figure size 640x480 with 1 Axes>"
      ]
     },
     "metadata": {},
     "output_type": "display_data"
    }
   ],
   "source": [
    "sns.scatterplot(x=spotify['time_signature'],y=spotify['duration_ms'])\n",
    "plt.title('Relation of time Signature and number of minutes of the song in ms')"
   ]
  },
  {
   "cell_type": "code",
   "execution_count": 11,
   "id": "24b3bb2a",
   "metadata": {},
   "outputs": [
    {
     "name": "stdout",
     "output_type": "stream",
     "text": [
      "['pop']\n"
     ]
    }
   ],
   "source": [
    "lauv_songs=spotify[spotify['artistName']=='Lauv'].head()\n",
    "unique_genres=lauv_songs['genre'].unique()\n",
    "print(unique_genres)"
   ]
  },
  {
   "cell_type": "code",
   "execution_count": 12,
   "id": "1249dbe8",
   "metadata": {},
   "outputs": [
    {
     "name": "stdout",
     "output_type": "stream",
     "text": [
      "This shows that a tempo ranging from 150-200 has a higher danceability\n"
     ]
    },
    {
     "data": {
      "image/png": "[encoded data removed]",
      "text/plain": [
       "<Figure size 640x480 with 1 Axes>"
      ]
     },
     "metadata": {},
     "output_type": "display_data"
    }
   ],
   "source": [
    "\n",
    "plt.xlabel('Danceability')\n",
    "plt.ylabel('Tempo')\n",
    "plt.title('Distribution of Tempo VS Danceability')\n",
    "plt.scatter(x=spotify['danceability'],y=spotify['tempo'],s=1)\n",
    "print(\"This shows that a tempo ranging from 150-200 has a higher danceability\")"
   ]
  },
  {
   "cell_type": "code",
   "execution_count": 13,
   "id": "80cbc0de",
   "metadata": {},
   "outputs": [
    {
     "data": {
      "text/plain": [
       "Index(['trackName', 'artistName', 'msPlayed', 'genre', 'danceability',\n",
       "       'energy', 'key', 'loudness', 'mode', 'speechiness', 'acousticness',\n",
       "       'instrumentalness', 'liveness', 'valence', 'tempo', 'type',\n",
       "       'duration_ms', 'time_signature'],\n",
       "      dtype='object')"
      ]
     },
     "execution_count": 13,
     "metadata": {},
     "output_type": "execute_result"
    }
   ],
   "source": [
    "spotify.columns"
   ]
  },
  {
   "cell_type": "code",
   "execution_count": 14,
   "id": "ea5ee6e5",
   "metadata": {},
   "outputs": [
    {
     "data": {
      "image/png": "[encoded data removed]",
      "text/plain": [
       "<Figure size 640x480 with 1 Axes>"
      ]
     },
     "metadata": {},
     "output_type": "display_data"
    },
    {
     "data": {
      "image/png": "[encoded data removed]",
      "text/plain": [
       "<Figure size 640x480 with 1 Axes>"
      ]
     },
     "metadata": {},
     "output_type": "display_data"
    },
    {
     "data": {
      "image/png": "[encoded data removed]",
      "text/plain": [
       "<Figure size 640x480 with 1 Axes>"
      ]
     },
     "metadata": {},
     "output_type": "display_data"
    },
    {
     "data": {
      "image/png": "[encoded data removed]",
      "text/plain": [
       "<Figure size 640x480 with 1 Axes>"
      ]
     },
     "metadata": {},
     "output_type": "display_data"
    },
    {
     "data": {
      "image/png": "[encoded data removed]",
      "text/plain": [
       "<Figure size 640x480 with 1 Axes>"
      ]
     },
     "metadata": {},
     "output_type": "display_data"
    },
    {
     "data": {
      "image/png": "[encoded data removed]",
      "text/plain": [
       "<Figure size 640x480 with 1 Axes>"
      ]
     },
     "metadata": {},
     "output_type": "display_data"
    },
    {
     "data": {
      "image/png": "[encoded data removed]",
      "text/plain": [
       "<Figure size 640x480 with 1 Axes>"
      ]
     },
     "metadata": {},
     "output_type": "display_data"
    }
   ],
   "source": [
    "column=['danceability','loudness','speechiness','acousticness','instrumentalness','liveness','valence']\n",
    "for i in column:\n",
    "    sns.histplot(x=spotify[i],kde=True,color='violet')\n",
    "    plt.show()"
   ]
  },
  {
   "cell_type": "code",
   "execution_count": 15,
   "id": "1bb92dc2",
   "metadata": {},
   "outputs": [
    {
     "data": {
      "text/plain": [
       "158367130"
      ]
     },
     "execution_count": 15,
     "metadata": {},
     "output_type": "execute_result"
    }
   ],
   "source": [
    "max_msplayed=max(spotify['msPlayed'])\n",
    "max_msplayed\n"
   ]
  },
  {
   "cell_type": "code",
   "execution_count": 16,
   "id": "ea38a043",
   "metadata": {},
   "outputs": [
    {
     "name": "stdout",
     "output_type": "stream",
     "text": [
      "Song which was most played:                   trackName artistName   msPlayed\n",
      "4194  Sparkle - movie ver.   RADWIMPS  158367130\n"
     ]
    }
   ],
   "source": [
    "top_song=spotify[spotify['msPlayed']==max_msplayed]\n",
    "print(\"Song which was most played: \",top_song[['trackName','artistName','msPlayed']])"
   ]
  },
  {
   "cell_type": "code",
   "execution_count": 17,
   "id": "4ec09e68",
   "metadata": {},
   "outputs": [
    {
     "data": {
      "text/plain": [
       "array(['Nico Collins', 'London Symphony Orchestra', 'SyKo', ...,\n",
       "       'Charles Luciano', 'Dire Straits', 'just valery'], dtype=object)"
      ]
     },
     "execution_count": 17,
     "metadata": {},
     "output_type": "execute_result"
    }
   ],
   "source": [
    "spotify['artistName'].unique()"
   ]
  },
  {
   "cell_type": "code",
   "execution_count": 18,
   "id": "e9b81e77",
   "metadata": {},
   "outputs": [
    {
     "data": {
      "text/plain": [
       "Forever                    5\n",
       "Heaven                     5\n",
       "Goodbye                    4\n",
       "Control                    4\n",
       "Ghost                      4\n",
       "                          ..\n",
       "Eenie Meenie               1\n",
       "Eden                       1\n",
       "Echo-216                   1\n",
       "Echo (with KSHMR)          1\n",
       "Your Voice / Bethel, NY    1\n",
       "Name: trackName, Length: 4815, dtype: int64"
      ]
     },
     "execution_count": 18,
     "metadata": {},
     "output_type": "execute_result"
    }
   ],
   "source": [
    "spotify['trackName'].value_counts()"
   ]
  },
  {
   "cell_type": "markdown",
   "id": "982fc02f",
   "metadata": {},
   "source": [
    "# Dropping unnecessary columns"
   ]
  },
  {
   "cell_type": "markdown",
   "id": "aeeaad64",
   "metadata": {},
   "source": [
    "spotify=spotify.drop(['id','uri','track_href','analysis_url'],axis=1)"
   ]
  },
  {
   "cell_type": "code",
   "execution_count": 22,
   "id": "8708b8a9",
   "metadata": {},
   "outputs": [
    {
     "data": {
      "text/html": [
       "<div>\n",
       "<style scoped>\n",
       "    .dataframe tbody tr th:only-of-type {\n",
       "        vertical-align: middle;\n",
       "    }\n",
       "\n",
       "    .dataframe tbody tr th {\n",
       "        vertical-align: top;\n",
       "    }\n",
       "\n",
       "    .dataframe thead th {\n",
       "        text-align: right;\n",
       "    }\n",
       "</style>\n",
       "<table border=\"1\" class=\"dataframe\">\n",
       "  <thead>\n",
       "    <tr style=\"text-align: right;\">\n",
       "      <th></th>\n",
       "      <th>trackName</th>\n",
       "      <th>artistName</th>\n",
       "      <th>msPlayed</th>\n",
       "      <th>genre</th>\n",
       "      <th>danceability</th>\n",
       "      <th>energy</th>\n",
       "      <th>key</th>\n",
       "      <th>loudness</th>\n",
       "      <th>mode</th>\n",
       "      <th>speechiness</th>\n",
       "      <th>acousticness</th>\n",
       "      <th>instrumentalness</th>\n",
       "      <th>liveness</th>\n",
       "      <th>valence</th>\n",
       "      <th>tempo</th>\n",
       "      <th>type</th>\n",
       "      <th>duration_ms</th>\n",
       "      <th>time_signature</th>\n",
       "    </tr>\n",
       "  </thead>\n",
       "  <tbody>\n",
       "    <tr>\n",
       "      <th>0</th>\n",
       "      <td>\"Honest\"</td>\n",
       "      <td>Nico Collins</td>\n",
       "      <td>191772</td>\n",
       "      <td>NaN</td>\n",
       "      <td>0.476</td>\n",
       "      <td>0.799</td>\n",
       "      <td>4.0</td>\n",
       "      <td>-4.939</td>\n",
       "      <td>0.0</td>\n",
       "      <td>0.2120</td>\n",
       "      <td>0.0162</td>\n",
       "      <td>0.000</td>\n",
       "      <td>0.257</td>\n",
       "      <td>0.577</td>\n",
       "      <td>162.139</td>\n",
       "      <td>audio_features</td>\n",
       "      <td>191948</td>\n",
       "      <td>4.0</td>\n",
       "    </tr>\n",
       "    <tr>\n",
       "      <th>1</th>\n",
       "      <td>\"In The Hall Of The Mountain King\" from Peer G...</td>\n",
       "      <td>London Symphony Orchestra</td>\n",
       "      <td>1806234</td>\n",
       "      <td>british orchestra</td>\n",
       "      <td>0.475</td>\n",
       "      <td>0.130</td>\n",
       "      <td>7.0</td>\n",
       "      <td>-17.719</td>\n",
       "      <td>1.0</td>\n",
       "      <td>0.0510</td>\n",
       "      <td>0.9160</td>\n",
       "      <td>0.956</td>\n",
       "      <td>0.101</td>\n",
       "      <td>0.122</td>\n",
       "      <td>112.241</td>\n",
       "      <td>audio_features</td>\n",
       "      <td>150827</td>\n",
       "      <td>4.0</td>\n",
       "    </tr>\n",
       "    <tr>\n",
       "      <th>2</th>\n",
       "      <td>#BrooklynBloodPop!</td>\n",
       "      <td>SyKo</td>\n",
       "      <td>145610</td>\n",
       "      <td>glitchcore</td>\n",
       "      <td>0.691</td>\n",
       "      <td>0.814</td>\n",
       "      <td>1.0</td>\n",
       "      <td>-3.788</td>\n",
       "      <td>0.0</td>\n",
       "      <td>0.1170</td>\n",
       "      <td>0.0164</td>\n",
       "      <td>0.000</td>\n",
       "      <td>0.366</td>\n",
       "      <td>0.509</td>\n",
       "      <td>132.012</td>\n",
       "      <td>audio_features</td>\n",
       "      <td>145611</td>\n",
       "      <td>4.0</td>\n",
       "    </tr>\n",
       "    <tr>\n",
       "      <th>3</th>\n",
       "      <td>$10</td>\n",
       "      <td>Good Morning</td>\n",
       "      <td>25058</td>\n",
       "      <td>experimental pop</td>\n",
       "      <td>0.624</td>\n",
       "      <td>0.596</td>\n",
       "      <td>4.0</td>\n",
       "      <td>-9.804</td>\n",
       "      <td>1.0</td>\n",
       "      <td>0.0314</td>\n",
       "      <td>0.4750</td>\n",
       "      <td>0.203</td>\n",
       "      <td>0.119</td>\n",
       "      <td>0.896</td>\n",
       "      <td>120.969</td>\n",
       "      <td>audio_features</td>\n",
       "      <td>89509</td>\n",
       "      <td>4.0</td>\n",
       "    </tr>\n",
       "  </tbody>\n",
       "</table>\n",
       "</div>"
      ],
      "text/plain": [
       "                                           trackName  \\\n",
       "0                                           \"Honest\"   \n",
       "1  \"In The Hall Of The Mountain King\" from Peer G...   \n",
       "2                                 #BrooklynBloodPop!   \n",
       "3                                                $10   \n",
       "\n",
       "                  artistName  msPlayed              genre  danceability  \\\n",
       "0               Nico Collins    191772                NaN         0.476   \n",
       "1  London Symphony Orchestra   1806234  british orchestra         0.475   \n",
       "2                       SyKo    145610         glitchcore         0.691   \n",
       "3               Good Morning     25058   experimental pop         0.624   \n",
       "\n",
       "   energy  key  loudness  mode  speechiness  acousticness  instrumentalness  \\\n",
       "0   0.799  4.0    -4.939   0.0       0.2120        0.0162             0.000   \n",
       "1   0.130  7.0   -17.719   1.0       0.0510        0.9160             0.956   \n",
       "2   0.814  1.0    -3.788   0.0       0.1170        0.0164             0.000   \n",
       "3   0.596  4.0    -9.804   1.0       0.0314        0.4750             0.203   \n",
       "\n",
       "   liveness  valence    tempo            type  duration_ms  time_signature  \n",
       "0     0.257    0.577  162.139  audio_features       191948             4.0  \n",
       "1     0.101    0.122  112.241  audio_features       150827             4.0  \n",
       "2     0.366    0.509  132.012  audio_features       145611             4.0  \n",
       "3     0.119    0.896  120.969  audio_features        89509             4.0  "
      ]
     },
     "execution_count": 22,
     "metadata": {},
     "output_type": "execute_result"
    }
   ],
   "source": [
    "spotify.head(4)"
   ]
  },
  {
   "cell_type": "code",
   "execution_count": 23,
   "id": "e5a0e799",
   "metadata": {},
   "outputs": [
    {
     "data": {
      "text/plain": [
       "0              Unknown\n",
       "1    british orchestra\n",
       "2           glitchcore\n",
       "3     experimental pop\n",
       "4           album rock\n",
       "Name: genre, dtype: object"
      ]
     },
     "execution_count": 23,
     "metadata": {},
     "output_type": "execute_result"
    }
   ],
   "source": [
    "spotify['genre'].fillna('Unknown').head()"
   ]
  },
  {
   "cell_type": "code",
   "execution_count": 24,
   "id": "a9c2c0e9",
   "metadata": {},
   "outputs": [
    {
     "data": {
      "text/plain": [
       "<Axes: xlabel='duration_ms', ylabel='Count'>"
      ]
     },
     "execution_count": 24,
     "metadata": {},
     "output_type": "execute_result"
    },
    {
     "data": {
      "image/png": "[encoded data removed]",
      "text/plain": [
       "<Figure size 640x480 with 1 Axes>"
      ]
     },
     "metadata": {},
     "output_type": "display_data"
    }
   ],
   "source": [
    "sns.histplot(x=spotify['duration_ms'],kde=False,bins=30,color='blue')"
   ]
  },
  {
   "cell_type": "code",
   "execution_count": 25,
   "id": "36c7d31d",
   "metadata": {},
   "outputs": [
    {
     "data": {
      "text/plain": [
       "trackName            object\n",
       "artistName           object\n",
       "msPlayed              int64\n",
       "genre                object\n",
       "danceability        float64\n",
       "energy              float64\n",
       "key                 float64\n",
       "loudness            float64\n",
       "mode                float64\n",
       "speechiness         float64\n",
       "acousticness        float64\n",
       "instrumentalness    float64\n",
       "liveness            float64\n",
       "valence             float64\n",
       "tempo               float64\n",
       "type                 object\n",
       "duration_ms           int64\n",
       "time_signature      float64\n",
       "dtype: object"
      ]
     },
     "execution_count": 25,
     "metadata": {},
     "output_type": "execute_result"
    }
   ],
   "source": [
    "spotify.dtypes"
   ]
  },
  {
   "cell_type": "markdown",
   "id": "c633d42f",
   "metadata": {},
   "source": [
    "# Finding mathematical insights from the data"
   ]
  },
  {
   "cell_type": "code",
   "execution_count": 26,
   "id": "82b3eb89",
   "metadata": {},
   "outputs": [],
   "source": [
    "spotify['duration_ms'].isna().sum()\n",
    "spotify['duration_ms']=spotify['duration_ms'].fillna(0)"
   ]
  },
  {
   "cell_type": "code",
   "execution_count": 27,
   "id": "496b887b",
   "metadata": {},
   "outputs": [
    {
     "data": {
      "text/plain": [
       "0"
      ]
     },
     "execution_count": 27,
     "metadata": {},
     "output_type": "execute_result"
    }
   ],
   "source": [
    "spotify['duration_ms'].isna().sum()"
   ]
  },
  {
   "cell_type": "code",
   "execution_count": 28,
   "id": "1e1a5f2f",
   "metadata": {},
   "outputs": [
    {
     "name": "stdout",
     "output_type": "stream",
     "text": [
      "Mean of Duration of the songs played in milliseconds(ms): 191858.43174603174\n"
     ]
    }
   ],
   "source": [
    "import statistics\n",
    "mean_msplayed=statistics.mean(spotify['duration_ms'])\n",
    "print(\"Mean of Duration of the songs played in milliseconds(ms):\",mean_msplayed)"
   ]
  },
  {
   "cell_type": "code",
   "execution_count": 29,
   "id": "17714e69",
   "metadata": {},
   "outputs": [
    {
     "data": {
      "text/plain": [
       "<Axes: xlabel='mode', ylabel='count'>"
      ]
     },
     "execution_count": 29,
     "metadata": {},
     "output_type": "execute_result"
    },
    {
     "data": {
      "image/png": "[encoded data removed]",
      "text/plain": [
       "<Figure size 640x480 with 1 Axes>"
      ]
     },
     "metadata": {},
     "output_type": "display_data"
    }
   ],
   "source": [
    "sns.countplot(x=spotify['mode'],color='pink')"
   ]
  },
  {
   "cell_type": "code",
   "execution_count": 30,
   "id": "de2876ef",
   "metadata": {},
   "outputs": [
    {
     "data": {
      "text/plain": [
       "<Axes: xlabel='mode', ylabel='loudness'>"
      ]
     },
     "execution_count": 30,
     "metadata": {},
     "output_type": "execute_result"
    },
    {
     "data": {
      "image/png": "[encoded data removed]",
      "text/plain": [
       "<Figure size 640x480 with 1 Axes>"
      ]
     },
     "metadata": {},
     "output_type": "display_data"
    }
   ],
   "source": [
    "sns.boxplot(x=spotify['mode'],y=spotify['loudness'])"
   ]
  },
  {
   "cell_type": "code",
   "execution_count": 31,
   "id": "add4bc54",
   "metadata": {},
   "outputs": [
    {
     "data": {
      "text/plain": [
       "<Axes: xlabel='key', ylabel='count'>"
      ]
     },
     "execution_count": 31,
     "metadata": {},
     "output_type": "execute_result"
    },
    {
     "data": {
      "image/png": "[encoded data removed]",
      "text/plain": [
       "<Figure size 640x480 with 1 Axes>"
      ]
     },
     "metadata": {},
     "output_type": "display_data"
    }
   ],
   "source": [
    "sns.countplot(x=spotify['key'])"
   ]
  },
  {
   "cell_type": "code",
   "execution_count": 32,
   "id": "76e10abb",
   "metadata": {},
   "outputs": [
    {
     "data": {
      "text/plain": [
       "blackbear            64\n",
       "Lauv                 50\n",
       "Linkin Park          47\n",
       "The Neighbourhood    43\n",
       "Kato                 39\n",
       "                     ..\n",
       "Morgan Page           1\n",
       "Mitraz                1\n",
       "Audrey Mika           1\n",
       "Empire of the Sun     1\n",
       "just valery           1\n",
       "Name: artistName, Length: 2312, dtype: int64"
      ]
     },
     "execution_count": 32,
     "metadata": {},
     "output_type": "execute_result"
    }
   ],
   "source": [
    "spotify['artistName'].value_counts()"
   ]
  },
  {
   "cell_type": "code",
   "execution_count": 33,
   "id": "da4f48aa",
   "metadata": {},
   "outputs": [
    {
     "data": {
      "text/html": [
       "<div>\n",
       "<style scoped>\n",
       "    .dataframe tbody tr th:only-of-type {\n",
       "        vertical-align: middle;\n",
       "    }\n",
       "\n",
       "    .dataframe tbody tr th {\n",
       "        vertical-align: top;\n",
       "    }\n",
       "\n",
       "    .dataframe thead th {\n",
       "        text-align: right;\n",
       "    }\n",
       "</style>\n",
       "<table border=\"1\" class=\"dataframe\">\n",
       "  <thead>\n",
       "    <tr style=\"text-align: right;\">\n",
       "      <th></th>\n",
       "      <th>trackName</th>\n",
       "      <th>genre</th>\n",
       "      <th>instrumentalness</th>\n",
       "    </tr>\n",
       "  </thead>\n",
       "  <tbody>\n",
       "    <tr>\n",
       "      <th>29</th>\n",
       "      <td>2021</td>\n",
       "      <td>pop</td>\n",
       "      <td>0.000019</td>\n",
       "    </tr>\n",
       "    <tr>\n",
       "      <th>39</th>\n",
       "      <td>26</td>\n",
       "      <td>pop</td>\n",
       "      <td>0.000150</td>\n",
       "    </tr>\n",
       "    <tr>\n",
       "      <th>148</th>\n",
       "      <td>Adrenaline</td>\n",
       "      <td>pop</td>\n",
       "      <td>0.000003</td>\n",
       "    </tr>\n",
       "    <tr>\n",
       "      <th>183</th>\n",
       "      <td>All 4 Nothing (I'm So In Love)</td>\n",
       "      <td>pop</td>\n",
       "      <td>0.000000</td>\n",
       "    </tr>\n",
       "    <tr>\n",
       "      <th>396</th>\n",
       "      <td>Bad Trip</td>\n",
       "      <td>pop</td>\n",
       "      <td>0.000000</td>\n",
       "    </tr>\n",
       "    <tr>\n",
       "      <th>457</th>\n",
       "      <td>Believed</td>\n",
       "      <td>pop</td>\n",
       "      <td>0.000000</td>\n",
       "    </tr>\n",
       "    <tr>\n",
       "      <th>476</th>\n",
       "      <td>Better Than This</td>\n",
       "      <td>pop</td>\n",
       "      <td>0.000008</td>\n",
       "    </tr>\n",
       "    <tr>\n",
       "      <th>494</th>\n",
       "      <td>Billy</td>\n",
       "      <td>pop</td>\n",
       "      <td>0.000000</td>\n",
       "    </tr>\n",
       "    <tr>\n",
       "      <th>652</th>\n",
       "      <td>fuck, i'm lonely</td>\n",
       "      <td>pop</td>\n",
       "      <td>0.000000</td>\n",
       "    </tr>\n",
       "    <tr>\n",
       "      <th>712</th>\n",
       "      <td>i'm so tired...</td>\n",
       "      <td>NaN</td>\n",
       "      <td>NaN</td>\n",
       "    </tr>\n",
       "    <tr>\n",
       "      <th>1201</th>\n",
       "      <td>Canada (feat. Alessia Cara)</td>\n",
       "      <td>pop</td>\n",
       "      <td>0.000000</td>\n",
       "    </tr>\n",
       "    <tr>\n",
       "      <th>1255</th>\n",
       "      <td>Chasing Fire</td>\n",
       "      <td>pop</td>\n",
       "      <td>0.000000</td>\n",
       "    </tr>\n",
       "    <tr>\n",
       "      <th>1352</th>\n",
       "      <td>Comfortable</td>\n",
       "      <td>pop</td>\n",
       "      <td>0.000000</td>\n",
       "    </tr>\n",
       "    <tr>\n",
       "      <th>1571</th>\n",
       "      <td>Dishes - Acoustic</td>\n",
       "      <td>pop</td>\n",
       "      <td>0.000001</td>\n",
       "    </tr>\n",
       "    <tr>\n",
       "      <th>1601</th>\n",
       "      <td>Don't Matter - Recorded at Spotify Studios NYC</td>\n",
       "      <td>NaN</td>\n",
       "      <td>NaN</td>\n",
       "    </tr>\n",
       "    <tr>\n",
       "      <th>1660</th>\n",
       "      <td>Drugs &amp; The Internet</td>\n",
       "      <td>pop</td>\n",
       "      <td>0.000093</td>\n",
       "    </tr>\n",
       "    <tr>\n",
       "      <th>1797</th>\n",
       "      <td>Fake</td>\n",
       "      <td>pop</td>\n",
       "      <td>0.000000</td>\n",
       "    </tr>\n",
       "    <tr>\n",
       "      <th>1849</th>\n",
       "      <td>Feelings</td>\n",
       "      <td>pop</td>\n",
       "      <td>0.000000</td>\n",
       "    </tr>\n",
       "    <tr>\n",
       "      <th>1876</th>\n",
       "      <td>First Grade</td>\n",
       "      <td>pop</td>\n",
       "      <td>0.000000</td>\n",
       "    </tr>\n",
       "    <tr>\n",
       "      <th>1917</th>\n",
       "      <td>For Now</td>\n",
       "      <td>pop</td>\n",
       "      <td>0.000008</td>\n",
       "    </tr>\n",
       "    <tr>\n",
       "      <th>2234</th>\n",
       "      <td>Hey Ari</td>\n",
       "      <td>pop</td>\n",
       "      <td>0.000000</td>\n",
       "    </tr>\n",
       "    <tr>\n",
       "      <th>2344</th>\n",
       "      <td>I (Don't) Have A Problem</td>\n",
       "      <td>pop</td>\n",
       "      <td>0.000452</td>\n",
       "    </tr>\n",
       "    <tr>\n",
       "      <th>2387</th>\n",
       "      <td>I Like Me Better</td>\n",
       "      <td>pop</td>\n",
       "      <td>0.000003</td>\n",
       "    </tr>\n",
       "    <tr>\n",
       "      <th>2528</th>\n",
       "      <td>Invisible Things</td>\n",
       "      <td>pop</td>\n",
       "      <td>0.000008</td>\n",
       "    </tr>\n",
       "    <tr>\n",
       "      <th>2603</th>\n",
       "      <td>Julia</td>\n",
       "      <td>pop</td>\n",
       "      <td>0.000000</td>\n",
       "    </tr>\n",
       "    <tr>\n",
       "      <th>2684</th>\n",
       "      <td>Kids Are Born Stars</td>\n",
       "      <td>pop</td>\n",
       "      <td>0.000000</td>\n",
       "    </tr>\n",
       "    <tr>\n",
       "      <th>2893</th>\n",
       "      <td>Lonely Eyes</td>\n",
       "      <td>pop</td>\n",
       "      <td>0.000000</td>\n",
       "    </tr>\n",
       "    <tr>\n",
       "      <th>2941</th>\n",
       "      <td>Love Like That</td>\n",
       "      <td>pop</td>\n",
       "      <td>0.000010</td>\n",
       "    </tr>\n",
       "    <tr>\n",
       "      <th>2950</th>\n",
       "      <td>Love Somebody</td>\n",
       "      <td>pop</td>\n",
       "      <td>0.000000</td>\n",
       "    </tr>\n",
       "    <tr>\n",
       "      <th>3076</th>\n",
       "      <td>Mean It</td>\n",
       "      <td>pop</td>\n",
       "      <td>0.000000</td>\n",
       "    </tr>\n",
       "    <tr>\n",
       "      <th>3146</th>\n",
       "      <td>Mine (You Can't Find Love in Mollywood)</td>\n",
       "      <td>pop</td>\n",
       "      <td>0.000006</td>\n",
       "    </tr>\n",
       "    <tr>\n",
       "      <th>3150</th>\n",
       "      <td>Miss Me - Demo</td>\n",
       "      <td>pop</td>\n",
       "      <td>0.000000</td>\n",
       "    </tr>\n",
       "    <tr>\n",
       "      <th>3167</th>\n",
       "      <td>Modern Loneliness</td>\n",
       "      <td>pop</td>\n",
       "      <td>0.000000</td>\n",
       "    </tr>\n",
       "    <tr>\n",
       "      <th>3170</th>\n",
       "      <td>Molly In Mexico</td>\n",
       "      <td>pop</td>\n",
       "      <td>0.241000</td>\n",
       "    </tr>\n",
       "    <tr>\n",
       "      <th>3301</th>\n",
       "      <td>Never Not</td>\n",
       "      <td>pop</td>\n",
       "      <td>0.000000</td>\n",
       "    </tr>\n",
       "    <tr>\n",
       "      <th>3558</th>\n",
       "      <td>Paris in the Rain</td>\n",
       "      <td>pop</td>\n",
       "      <td>0.000008</td>\n",
       "    </tr>\n",
       "    <tr>\n",
       "      <th>3915</th>\n",
       "      <td>Sad Forever</td>\n",
       "      <td>pop</td>\n",
       "      <td>0.000000</td>\n",
       "    </tr>\n",
       "    <tr>\n",
       "      <th>4076</th>\n",
       "      <td>Sims</td>\n",
       "      <td>pop</td>\n",
       "      <td>0.000000</td>\n",
       "    </tr>\n",
       "    <tr>\n",
       "      <th>4229</th>\n",
       "      <td>Stay Together</td>\n",
       "      <td>pop</td>\n",
       "      <td>0.000018</td>\n",
       "    </tr>\n",
       "    <tr>\n",
       "      <th>4249</th>\n",
       "      <td>Stranger</td>\n",
       "      <td>pop</td>\n",
       "      <td>0.000005</td>\n",
       "    </tr>\n",
       "    <tr>\n",
       "      <th>4281</th>\n",
       "      <td>Summer Nights</td>\n",
       "      <td>pop</td>\n",
       "      <td>0.000061</td>\n",
       "    </tr>\n",
       "    <tr>\n",
       "      <th>4303</th>\n",
       "      <td>Superhero</td>\n",
       "      <td>pop</td>\n",
       "      <td>0.000000</td>\n",
       "    </tr>\n",
       "    <tr>\n",
       "      <th>4316</th>\n",
       "      <td>Sweatpants</td>\n",
       "      <td>pop</td>\n",
       "      <td>0.000000</td>\n",
       "    </tr>\n",
       "    <tr>\n",
       "      <th>4387</th>\n",
       "      <td>Tattoos Together</td>\n",
       "      <td>pop</td>\n",
       "      <td>0.000009</td>\n",
       "    </tr>\n",
       "    <tr>\n",
       "      <th>4402</th>\n",
       "      <td>Tell My Mama</td>\n",
       "      <td>pop</td>\n",
       "      <td>0.000000</td>\n",
       "    </tr>\n",
       "    <tr>\n",
       "      <th>4485</th>\n",
       "      <td>The Other - Stripped</td>\n",
       "      <td>pop</td>\n",
       "      <td>0.000000</td>\n",
       "    </tr>\n",
       "    <tr>\n",
       "      <th>4506</th>\n",
       "      <td>The Story Never Ends</td>\n",
       "      <td>pop</td>\n",
       "      <td>0.000001</td>\n",
       "    </tr>\n",
       "    <tr>\n",
       "      <th>4541</th>\n",
       "      <td>There's No Way (feat. Julia Michaels)</td>\n",
       "      <td>pop</td>\n",
       "      <td>0.000000</td>\n",
       "    </tr>\n",
       "    <tr>\n",
       "      <th>4583</th>\n",
       "      <td>Time After Time</td>\n",
       "      <td>pop</td>\n",
       "      <td>0.000098</td>\n",
       "    </tr>\n",
       "    <tr>\n",
       "      <th>4907</th>\n",
       "      <td>Who (feat. BTS)</td>\n",
       "      <td>pop</td>\n",
       "      <td>0.000000</td>\n",
       "    </tr>\n",
       "  </tbody>\n",
       "</table>\n",
       "</div>"
      ],
      "text/plain": [
       "                                           trackName genre  instrumentalness\n",
       "29                                              2021   pop          0.000019\n",
       "39                                                26   pop          0.000150\n",
       "148                                       Adrenaline   pop          0.000003\n",
       "183                   All 4 Nothing (I'm So In Love)   pop          0.000000\n",
       "396                                         Bad Trip   pop          0.000000\n",
       "457                                         Believed   pop          0.000000\n",
       "476                                 Better Than This   pop          0.000008\n",
       "494                                            Billy   pop          0.000000\n",
       "652                                 fuck, i'm lonely   pop          0.000000\n",
       "712                                  i'm so tired...   NaN               NaN\n",
       "1201                     Canada (feat. Alessia Cara)   pop          0.000000\n",
       "1255                                    Chasing Fire   pop          0.000000\n",
       "1352                                     Comfortable   pop          0.000000\n",
       "1571                               Dishes - Acoustic   pop          0.000001\n",
       "1601  Don't Matter - Recorded at Spotify Studios NYC   NaN               NaN\n",
       "1660                            Drugs & The Internet   pop          0.000093\n",
       "1797                                            Fake   pop          0.000000\n",
       "1849                                        Feelings   pop          0.000000\n",
       "1876                                     First Grade   pop          0.000000\n",
       "1917                                         For Now   pop          0.000008\n",
       "2234                                         Hey Ari   pop          0.000000\n",
       "2344                        I (Don't) Have A Problem   pop          0.000452\n",
       "2387                                I Like Me Better   pop          0.000003\n",
       "2528                                Invisible Things   pop          0.000008\n",
       "2603                                           Julia   pop          0.000000\n",
       "2684                             Kids Are Born Stars   pop          0.000000\n",
       "2893                                     Lonely Eyes   pop          0.000000\n",
       "2941                                  Love Like That   pop          0.000010\n",
       "2950                                   Love Somebody   pop          0.000000\n",
       "3076                                         Mean It   pop          0.000000\n",
       "3146         Mine (You Can't Find Love in Mollywood)   pop          0.000006\n",
       "3150                                  Miss Me - Demo   pop          0.000000\n",
       "3167                               Modern Loneliness   pop          0.000000\n",
       "3170                                 Molly In Mexico   pop          0.241000\n",
       "3301                                       Never Not   pop          0.000000\n",
       "3558                               Paris in the Rain   pop          0.000008\n",
       "3915                                     Sad Forever   pop          0.000000\n",
       "4076                                            Sims   pop          0.000000\n",
       "4229                                   Stay Together   pop          0.000018\n",
       "4249                                        Stranger   pop          0.000005\n",
       "4281                                   Summer Nights   pop          0.000061\n",
       "4303                                       Superhero   pop          0.000000\n",
       "4316                                      Sweatpants   pop          0.000000\n",
       "4387                                Tattoos Together   pop          0.000009\n",
       "4402                                    Tell My Mama   pop          0.000000\n",
       "4485                            The Other - Stripped   pop          0.000000\n",
       "4506                            The Story Never Ends   pop          0.000001\n",
       "4541           There's No Way (feat. Julia Michaels)   pop          0.000000\n",
       "4583                                 Time After Time   pop          0.000098\n",
       "4907                                 Who (feat. BTS)   pop          0.000000"
      ]
     },
     "execution_count": 33,
     "metadata": {},
     "output_type": "execute_result"
    }
   ],
   "source": [
    "lauv=spotify[spotify['artistName']=='Lauv']\n",
    "lauv[['trackName','genre','instrumentalness']]\n",
    "#print(\"The maximum instrumentaness for the song is:\",lauv['instrumentalness'].head(1))\n"
   ]
  },
  {
   "cell_type": "code",
   "execution_count": 34,
   "id": "8f165bba",
   "metadata": {},
   "outputs": [
    {
     "name": "stdout",
     "output_type": "stream",
     "text": [
      "Genre of Lauv Songs: genre\n",
      "pop      48\n",
      "dtype: int64\n"
     ]
    }
   ],
   "source": [
    "print(\"Genre of Lauv Songs:\",lauv[['genre']].value_counts())"
   ]
  },
  {
   "cell_type": "code",
   "execution_count": 35,
   "id": "37a067cc",
   "metadata": {},
   "outputs": [
    {
     "data": {
      "text/plain": [
       "0.241"
      ]
     },
     "execution_count": 35,
     "metadata": {},
     "output_type": "execute_result"
    }
   ],
   "source": [
    "max_instru=max(lauv['instrumentalness'])\n",
    "max_instru"
   ]
  },
  {
   "cell_type": "code",
   "execution_count": 36,
   "id": "1d01f4e9",
   "metadata": {},
   "outputs": [
    {
     "name": "stdout",
     "output_type": "stream",
     "text": [
      "Maximum instrumentalness for Lauv's Songs:      artistName        trackName genre\n",
      "3170       Lauv  Molly In Mexico   pop\n"
     ]
    }
   ],
   "source": [
    "lauv1=lauv[lauv['instrumentalness']==max_instru]\n",
    "print(\"Maximum instrumentalness for Lauv's Songs:\",lauv1[['artistName','trackName','genre']])"
   ]
  },
  {
   "cell_type": "code",
   "execution_count": 37,
   "id": "7b343c6a",
   "metadata": {},
   "outputs": [
    {
     "data": {
      "text/html": [
       "<div>\n",
       "<style scoped>\n",
       "    .dataframe tbody tr th:only-of-type {\n",
       "        vertical-align: middle;\n",
       "    }\n",
       "\n",
       "    .dataframe tbody tr th {\n",
       "        vertical-align: top;\n",
       "    }\n",
       "\n",
       "    .dataframe thead th {\n",
       "        text-align: right;\n",
       "    }\n",
       "</style>\n",
       "<table border=\"1\" class=\"dataframe\">\n",
       "  <thead>\n",
       "    <tr style=\"text-align: right;\">\n",
       "      <th></th>\n",
       "      <th>trackName</th>\n",
       "      <th>artistName</th>\n",
       "      <th>msPlayed</th>\n",
       "      <th>genre</th>\n",
       "      <th>danceability</th>\n",
       "      <th>energy</th>\n",
       "      <th>key</th>\n",
       "      <th>loudness</th>\n",
       "      <th>mode</th>\n",
       "      <th>speechiness</th>\n",
       "      <th>acousticness</th>\n",
       "      <th>instrumentalness</th>\n",
       "      <th>liveness</th>\n",
       "      <th>valence</th>\n",
       "      <th>tempo</th>\n",
       "      <th>type</th>\n",
       "      <th>duration_ms</th>\n",
       "      <th>time_signature</th>\n",
       "    </tr>\n",
       "  </thead>\n",
       "  <tbody>\n",
       "    <tr>\n",
       "      <th>211</th>\n",
       "      <td>All Time</td>\n",
       "      <td>Kurt Hugo Schneider</td>\n",
       "      <td>0</td>\n",
       "      <td>viral pop</td>\n",
       "      <td>0.303</td>\n",
       "      <td>0.393</td>\n",
       "      <td>0.0</td>\n",
       "      <td>-8.926</td>\n",
       "      <td>1.0</td>\n",
       "      <td>0.0458</td>\n",
       "      <td>0.7770</td>\n",
       "      <td>0.000102</td>\n",
       "      <td>0.1060</td>\n",
       "      <td>0.3960</td>\n",
       "      <td>180.230</td>\n",
       "      <td>audio_features</td>\n",
       "      <td>200972</td>\n",
       "      <td>4.0</td>\n",
       "    </tr>\n",
       "    <tr>\n",
       "      <th>673</th>\n",
       "      <td>happy for you</td>\n",
       "      <td>Jasmine Thompson</td>\n",
       "      <td>872315</td>\n",
       "      <td>viral pop</td>\n",
       "      <td>0.462</td>\n",
       "      <td>0.338</td>\n",
       "      <td>3.0</td>\n",
       "      <td>-8.788</td>\n",
       "      <td>1.0</td>\n",
       "      <td>0.0450</td>\n",
       "      <td>0.8240</td>\n",
       "      <td>0.000000</td>\n",
       "      <td>0.1290</td>\n",
       "      <td>0.4160</td>\n",
       "      <td>139.845</td>\n",
       "      <td>audio_features</td>\n",
       "      <td>165990</td>\n",
       "      <td>4.0</td>\n",
       "    </tr>\n",
       "    <tr>\n",
       "      <th>1042</th>\n",
       "      <td>Blueberry Eyes (feat. SUGA of BTS)</td>\n",
       "      <td>MAX</td>\n",
       "      <td>130545</td>\n",
       "      <td>viral pop</td>\n",
       "      <td>0.746</td>\n",
       "      <td>0.611</td>\n",
       "      <td>0.0</td>\n",
       "      <td>-7.034</td>\n",
       "      <td>0.0</td>\n",
       "      <td>0.1010</td>\n",
       "      <td>0.4540</td>\n",
       "      <td>0.000922</td>\n",
       "      <td>0.1330</td>\n",
       "      <td>0.4110</td>\n",
       "      <td>149.967</td>\n",
       "      <td>audio_features</td>\n",
       "      <td>172245</td>\n",
       "      <td>4.0</td>\n",
       "    </tr>\n",
       "    <tr>\n",
       "      <th>1145</th>\n",
       "      <td>Butterflies</td>\n",
       "      <td>MAX</td>\n",
       "      <td>2107024</td>\n",
       "      <td>viral pop</td>\n",
       "      <td>0.700</td>\n",
       "      <td>0.613</td>\n",
       "      <td>11.0</td>\n",
       "      <td>-4.041</td>\n",
       "      <td>1.0</td>\n",
       "      <td>0.0408</td>\n",
       "      <td>0.3850</td>\n",
       "      <td>0.000000</td>\n",
       "      <td>0.0887</td>\n",
       "      <td>0.4200</td>\n",
       "      <td>88.084</td>\n",
       "      <td>audio_features</td>\n",
       "      <td>191250</td>\n",
       "      <td>4.0</td>\n",
       "    </tr>\n",
       "    <tr>\n",
       "      <th>1539</th>\n",
       "      <td>Die For You</td>\n",
       "      <td>Joji</td>\n",
       "      <td>2434155</td>\n",
       "      <td>viral pop</td>\n",
       "      <td>0.472</td>\n",
       "      <td>0.518</td>\n",
       "      <td>8.0</td>\n",
       "      <td>-7.379</td>\n",
       "      <td>1.0</td>\n",
       "      <td>0.0510</td>\n",
       "      <td>0.3830</td>\n",
       "      <td>0.127000</td>\n",
       "      <td>0.2890</td>\n",
       "      <td>0.1540</td>\n",
       "      <td>147.805</td>\n",
       "      <td>audio_features</td>\n",
       "      <td>211667</td>\n",
       "      <td>4.0</td>\n",
       "    </tr>\n",
       "    <tr>\n",
       "      <th>1817</th>\n",
       "      <td>Falling In Love</td>\n",
       "      <td>Kurt Hugo Schneider</td>\n",
       "      <td>211436</td>\n",
       "      <td>viral pop</td>\n",
       "      <td>0.690</td>\n",
       "      <td>0.352</td>\n",
       "      <td>7.0</td>\n",
       "      <td>-10.348</td>\n",
       "      <td>1.0</td>\n",
       "      <td>0.0286</td>\n",
       "      <td>0.4710</td>\n",
       "      <td>0.000000</td>\n",
       "      <td>0.0955</td>\n",
       "      <td>0.2630</td>\n",
       "      <td>128.044</td>\n",
       "      <td>audio_features</td>\n",
       "      <td>211436</td>\n",
       "      <td>4.0</td>\n",
       "    </tr>\n",
       "    <tr>\n",
       "      <th>2024</th>\n",
       "      <td>Gimme Love</td>\n",
       "      <td>Joji</td>\n",
       "      <td>1086182</td>\n",
       "      <td>viral pop</td>\n",
       "      <td>0.484</td>\n",
       "      <td>0.632</td>\n",
       "      <td>5.0</td>\n",
       "      <td>-6.917</td>\n",
       "      <td>1.0</td>\n",
       "      <td>0.0976</td>\n",
       "      <td>0.6950</td>\n",
       "      <td>0.024300</td>\n",
       "      <td>0.2090</td>\n",
       "      <td>0.0736</td>\n",
       "      <td>126.384</td>\n",
       "      <td>audio_features</td>\n",
       "      <td>214558</td>\n",
       "      <td>3.0</td>\n",
       "    </tr>\n",
       "    <tr>\n",
       "      <th>2042</th>\n",
       "      <td>Glimpse of Us</td>\n",
       "      <td>Joji</td>\n",
       "      <td>21676335</td>\n",
       "      <td>viral pop</td>\n",
       "      <td>0.440</td>\n",
       "      <td>0.317</td>\n",
       "      <td>8.0</td>\n",
       "      <td>-9.258</td>\n",
       "      <td>1.0</td>\n",
       "      <td>0.0531</td>\n",
       "      <td>0.8910</td>\n",
       "      <td>0.000005</td>\n",
       "      <td>0.1410</td>\n",
       "      <td>0.2680</td>\n",
       "      <td>169.914</td>\n",
       "      <td>audio_features</td>\n",
       "      <td>233456</td>\n",
       "      <td>3.0</td>\n",
       "    </tr>\n",
       "    <tr>\n",
       "      <th>2611</th>\n",
       "      <td>Just A Dream</td>\n",
       "      <td>Joseph Vincent</td>\n",
       "      <td>148640</td>\n",
       "      <td>viral pop</td>\n",
       "      <td>0.757</td>\n",
       "      <td>0.363</td>\n",
       "      <td>6.0</td>\n",
       "      <td>-11.731</td>\n",
       "      <td>1.0</td>\n",
       "      <td>0.0578</td>\n",
       "      <td>0.4760</td>\n",
       "      <td>0.000000</td>\n",
       "      <td>0.0938</td>\n",
       "      <td>0.4560</td>\n",
       "      <td>90.025</td>\n",
       "      <td>audio_features</td>\n",
       "      <td>148677</td>\n",
       "      <td>4.0</td>\n",
       "    </tr>\n",
       "    <tr>\n",
       "      <th>3856</th>\n",
       "      <td>Run</td>\n",
       "      <td>Joji</td>\n",
       "      <td>3019467</td>\n",
       "      <td>viral pop</td>\n",
       "      <td>0.448</td>\n",
       "      <td>0.720</td>\n",
       "      <td>7.0</td>\n",
       "      <td>-3.954</td>\n",
       "      <td>1.0</td>\n",
       "      <td>0.0332</td>\n",
       "      <td>0.0427</td>\n",
       "      <td>0.000292</td>\n",
       "      <td>0.6140</td>\n",
       "      <td>0.3610</td>\n",
       "      <td>157.919</td>\n",
       "      <td>audio_features</td>\n",
       "      <td>195000</td>\n",
       "      <td>3.0</td>\n",
       "    </tr>\n",
       "    <tr>\n",
       "      <th>3888</th>\n",
       "      <td>SLOW DANCING IN THE DARK</td>\n",
       "      <td>Joji</td>\n",
       "      <td>210859</td>\n",
       "      <td>viral pop</td>\n",
       "      <td>0.515</td>\n",
       "      <td>0.479</td>\n",
       "      <td>3.0</td>\n",
       "      <td>-7.458</td>\n",
       "      <td>1.0</td>\n",
       "      <td>0.0261</td>\n",
       "      <td>0.5440</td>\n",
       "      <td>0.005980</td>\n",
       "      <td>0.1910</td>\n",
       "      <td>0.2840</td>\n",
       "      <td>88.964</td>\n",
       "      <td>audio_features</td>\n",
       "      <td>209274</td>\n",
       "      <td>4.0</td>\n",
       "    </tr>\n",
       "    <tr>\n",
       "      <th>3946</th>\n",
       "      <td>Sanctuary</td>\n",
       "      <td>Joji</td>\n",
       "      <td>15916</td>\n",
       "      <td>viral pop</td>\n",
       "      <td>0.552</td>\n",
       "      <td>0.638</td>\n",
       "      <td>1.0</td>\n",
       "      <td>-7.474</td>\n",
       "      <td>1.0</td>\n",
       "      <td>0.1100</td>\n",
       "      <td>0.3870</td>\n",
       "      <td>0.000140</td>\n",
       "      <td>0.3740</td>\n",
       "      <td>0.3320</td>\n",
       "      <td>167.834</td>\n",
       "      <td>audio_features</td>\n",
       "      <td>180019</td>\n",
       "      <td>4.0</td>\n",
       "    </tr>\n",
       "    <tr>\n",
       "      <th>4978</th>\n",
       "      <td>YEAH RIGHT</td>\n",
       "      <td>Joji</td>\n",
       "      <td>1432404</td>\n",
       "      <td>viral pop</td>\n",
       "      <td>0.672</td>\n",
       "      <td>0.588</td>\n",
       "      <td>1.0</td>\n",
       "      <td>-9.573</td>\n",
       "      <td>1.0</td>\n",
       "      <td>0.1330</td>\n",
       "      <td>0.6190</td>\n",
       "      <td>0.241000</td>\n",
       "      <td>0.0992</td>\n",
       "      <td>0.2040</td>\n",
       "      <td>169.033</td>\n",
       "      <td>audio_features</td>\n",
       "      <td>174358</td>\n",
       "      <td>4.0</td>\n",
       "    </tr>\n",
       "  </tbody>\n",
       "</table>\n",
       "</div>"
      ],
      "text/plain": [
       "                               trackName           artistName  msPlayed  \\\n",
       "211                             All Time  Kurt Hugo Schneider         0   \n",
       "673                        happy for you     Jasmine Thompson    872315   \n",
       "1042  Blueberry Eyes (feat. SUGA of BTS)                  MAX    130545   \n",
       "1145                         Butterflies                  MAX   2107024   \n",
       "1539                         Die For You                 Joji   2434155   \n",
       "1817                     Falling In Love  Kurt Hugo Schneider    211436   \n",
       "2024                          Gimme Love                 Joji   1086182   \n",
       "2042                       Glimpse of Us                 Joji  21676335   \n",
       "2611                        Just A Dream       Joseph Vincent    148640   \n",
       "3856                                 Run                 Joji   3019467   \n",
       "3888            SLOW DANCING IN THE DARK                 Joji    210859   \n",
       "3946                           Sanctuary                 Joji     15916   \n",
       "4978                          YEAH RIGHT                 Joji   1432404   \n",
       "\n",
       "          genre  danceability  energy   key  loudness  mode  speechiness  \\\n",
       "211   viral pop         0.303   0.393   0.0    -8.926   1.0       0.0458   \n",
       "673   viral pop         0.462   0.338   3.0    -8.788   1.0       0.0450   \n",
       "1042  viral pop         0.746   0.611   0.0    -7.034   0.0       0.1010   \n",
       "1145  viral pop         0.700   0.613  11.0    -4.041   1.0       0.0408   \n",
       "1539  viral pop         0.472   0.518   8.0    -7.379   1.0       0.0510   \n",
       "1817  viral pop         0.690   0.352   7.0   -10.348   1.0       0.0286   \n",
       "2024  viral pop         0.484   0.632   5.0    -6.917   1.0       0.0976   \n",
       "2042  viral pop         0.440   0.317   8.0    -9.258   1.0       0.0531   \n",
       "2611  viral pop         0.757   0.363   6.0   -11.731   1.0       0.0578   \n",
       "3856  viral pop         0.448   0.720   7.0    -3.954   1.0       0.0332   \n",
       "3888  viral pop         0.515   0.479   3.0    -7.458   1.0       0.0261   \n",
       "3946  viral pop         0.552   0.638   1.0    -7.474   1.0       0.1100   \n",
       "4978  viral pop         0.672   0.588   1.0    -9.573   1.0       0.1330   \n",
       "\n",
       "      acousticness  instrumentalness  liveness  valence    tempo  \\\n",
       "211         0.7770          0.000102    0.1060   0.3960  180.230   \n",
       "673         0.8240          0.000000    0.1290   0.4160  139.845   \n",
       "1042        0.4540          0.000922    0.1330   0.4110  149.967   \n",
       "1145        0.3850          0.000000    0.0887   0.4200   88.084   \n",
       "1539        0.3830          0.127000    0.2890   0.1540  147.805   \n",
       "1817        0.4710          0.000000    0.0955   0.2630  128.044   \n",
       "2024        0.6950          0.024300    0.2090   0.0736  126.384   \n",
       "2042        0.8910          0.000005    0.1410   0.2680  169.914   \n",
       "2611        0.4760          0.000000    0.0938   0.4560   90.025   \n",
       "3856        0.0427          0.000292    0.6140   0.3610  157.919   \n",
       "3888        0.5440          0.005980    0.1910   0.2840   88.964   \n",
       "3946        0.3870          0.000140    0.3740   0.3320  167.834   \n",
       "4978        0.6190          0.241000    0.0992   0.2040  169.033   \n",
       "\n",
       "                type  duration_ms  time_signature  \n",
       "211   audio_features       200972             4.0  \n",
       "673   audio_features       165990             4.0  \n",
       "1042  audio_features       172245             4.0  \n",
       "1145  audio_features       191250             4.0  \n",
       "1539  audio_features       211667             4.0  \n",
       "1817  audio_features       211436             4.0  \n",
       "2024  audio_features       214558             3.0  \n",
       "2042  audio_features       233456             3.0  \n",
       "2611  audio_features       148677             4.0  \n",
       "3856  audio_features       195000             3.0  \n",
       "3888  audio_features       209274             4.0  \n",
       "3946  audio_features       180019             4.0  \n",
       "4978  audio_features       174358             4.0  "
      ]
     },
     "execution_count": 37,
     "metadata": {},
     "output_type": "execute_result"
    }
   ],
   "source": [
    "viralpop=spotify[spotify['genre']=='viral pop']\n",
    "viralpop"
   ]
  },
  {
   "cell_type": "code",
   "execution_count": 38,
   "id": "178fe587",
   "metadata": {},
   "outputs": [
    {
     "name": "stdout",
     "output_type": "stream",
     "text": [
      "This plot shows the low level of loudness in Viral pop songs \n"
     ]
    },
    {
     "data": {
      "text/plain": [
       "Text(0.5, 1.0, 'Variation of loudness in Viral pop songs')"
      ]
     },
     "execution_count": 38,
     "metadata": {},
     "output_type": "execute_result"
    },
    {
     "data": {
      "image/png": "[encoded data removed]",
      "text/plain": [
       "<Figure size 640x480 with 1 Axes>"
      ]
     },
     "metadata": {},
     "output_type": "display_data"
    }
   ],
   "source": [
    "sns.histplot(x=viralpop['loudness'],kde=True,color='green')\n",
    "print(\"This plot shows the low level of loudness in Viral pop songs \")\n",
    "plt.title('Variation of loudness in Viral pop songs')"
   ]
  },
  {
   "cell_type": "code",
   "execution_count": 39,
   "id": "348013a3",
   "metadata": {},
   "outputs": [
    {
     "name": "stdout",
     "output_type": "stream",
     "text": [
      "Most listened song in Viral pop is:            trackName artistName\n",
      "2042  Glimpse of Us       Joji\n"
     ]
    }
   ],
   "source": [
    "maxplayedvpop=max(viralpop['msPlayed'])\n",
    "joji=viralpop[viralpop['msPlayed']==maxplayedvpop]\n",
    "print(\"Most listened song in Viral pop is: \",joji[['trackName','artistName']])"
   ]
  },
  {
   "cell_type": "code",
   "execution_count": 42,
   "id": "4548c977",
   "metadata": {},
   "outputs": [
    {
     "data": {
      "text/plain": [
       "<Axes: xlabel='artistName', ylabel='count'>"
      ]
     },
     "execution_count": 42,
     "metadata": {},
     "output_type": "execute_result"
    },
    {
     "data": {
      "image/png": "[encoded data removed]",
      "text/plain": [
       "<Figure size 640x480 with 1 Axes>"
      ]
     },
     "metadata": {},
     "output_type": "display_data"
    }
   ],
   "source": [
    "plt.xticks(rotation=35)\n",
    "sns.countplot(x=viralpop['artistName'],color='violet')"
   ]
  },
  {
   "cell_type": "code",
   "execution_count": 44,
   "id": "ec9ca0a1",
   "metadata": {},
   "outputs": [
    {
     "data": {
      "text/plain": [
       "<matplotlib.collections.PathCollection at 0x1c06bb16770>"
      ]
     },
     "execution_count": 44,
     "metadata": {},
     "output_type": "execute_result"
    },
    {
     "data": {
      "image/png": "[encoded data removed]",
      "text/plain": [
       "<Figure size 640x480 with 1 Axes>"
      ]
     },
     "metadata": {},
     "output_type": "display_data"
    }
   ],
   "source": [
    "plt.xlabel('Minutes Played')\n",
    "plt.ylabel('Duration in Ms')\n",
    "plt.scatter(x=viralpop['msPlayed'],y=viralpop['duration_ms'],cmap='coolwarm')"
   ]
  },
  {
   "cell_type": "code",
   "execution_count": 45,
   "id": "f0549b06",
   "metadata": {},
   "outputs": [
    {
     "data": {
      "text/html": [
       "<div>\n",
       "<style scoped>\n",
       "    .dataframe tbody tr th:only-of-type {\n",
       "        vertical-align: middle;\n",
       "    }\n",
       "\n",
       "    .dataframe tbody tr th {\n",
       "        vertical-align: top;\n",
       "    }\n",
       "\n",
       "    .dataframe thead th {\n",
       "        text-align: right;\n",
       "    }\n",
       "</style>\n",
       "<table border=\"1\" class=\"dataframe\">\n",
       "  <thead>\n",
       "    <tr style=\"text-align: right;\">\n",
       "      <th></th>\n",
       "      <th>trackName</th>\n",
       "      <th>artistName</th>\n",
       "      <th>msPlayed</th>\n",
       "      <th>genre</th>\n",
       "      <th>danceability</th>\n",
       "      <th>energy</th>\n",
       "      <th>key</th>\n",
       "      <th>loudness</th>\n",
       "      <th>mode</th>\n",
       "      <th>speechiness</th>\n",
       "      <th>acousticness</th>\n",
       "      <th>instrumentalness</th>\n",
       "      <th>liveness</th>\n",
       "      <th>valence</th>\n",
       "      <th>tempo</th>\n",
       "      <th>type</th>\n",
       "      <th>duration_ms</th>\n",
       "      <th>time_signature</th>\n",
       "    </tr>\n",
       "  </thead>\n",
       "  <tbody>\n",
       "    <tr>\n",
       "      <th>0</th>\n",
       "      <td>\"Honest\"</td>\n",
       "      <td>Nico Collins</td>\n",
       "      <td>191772</td>\n",
       "      <td></td>\n",
       "      <td>0.476</td>\n",
       "      <td>0.799</td>\n",
       "      <td>4.0</td>\n",
       "      <td>-4.939</td>\n",
       "      <td>0.0</td>\n",
       "      <td>0.212</td>\n",
       "      <td>0.0162</td>\n",
       "      <td>0.0</td>\n",
       "      <td>0.257</td>\n",
       "      <td>0.577</td>\n",
       "      <td>162.139</td>\n",
       "      <td>audio_features</td>\n",
       "      <td>191948</td>\n",
       "      <td>4.0</td>\n",
       "    </tr>\n",
       "    <tr>\n",
       "      <th>1</th>\n",
       "      <td>\"In The Hall Of The Mountain King\" from Peer G...</td>\n",
       "      <td>London Symphony Orchestra</td>\n",
       "      <td>1806234</td>\n",
       "      <td>british orchestra</td>\n",
       "      <td>0.475</td>\n",
       "      <td>0.13</td>\n",
       "      <td>7.0</td>\n",
       "      <td>-17.719</td>\n",
       "      <td>1.0</td>\n",
       "      <td>0.051</td>\n",
       "      <td>0.916</td>\n",
       "      <td>0.956</td>\n",
       "      <td>0.101</td>\n",
       "      <td>0.122</td>\n",
       "      <td>112.241</td>\n",
       "      <td>audio_features</td>\n",
       "      <td>150827</td>\n",
       "      <td>4.0</td>\n",
       "    </tr>\n",
       "    <tr>\n",
       "      <th>2</th>\n",
       "      <td>#BrooklynBloodPop!</td>\n",
       "      <td>SyKo</td>\n",
       "      <td>145610</td>\n",
       "      <td>glitchcore</td>\n",
       "      <td>0.691</td>\n",
       "      <td>0.814</td>\n",
       "      <td>1.0</td>\n",
       "      <td>-3.788</td>\n",
       "      <td>0.0</td>\n",
       "      <td>0.117</td>\n",
       "      <td>0.0164</td>\n",
       "      <td>0.0</td>\n",
       "      <td>0.366</td>\n",
       "      <td>0.509</td>\n",
       "      <td>132.012</td>\n",
       "      <td>audio_features</td>\n",
       "      <td>145611</td>\n",
       "      <td>4.0</td>\n",
       "    </tr>\n",
       "    <tr>\n",
       "      <th>3</th>\n",
       "      <td>$10</td>\n",
       "      <td>Good Morning</td>\n",
       "      <td>25058</td>\n",
       "      <td>experimental pop</td>\n",
       "      <td>0.624</td>\n",
       "      <td>0.596</td>\n",
       "      <td>4.0</td>\n",
       "      <td>-9.804</td>\n",
       "      <td>1.0</td>\n",
       "      <td>0.0314</td>\n",
       "      <td>0.475</td>\n",
       "      <td>0.203</td>\n",
       "      <td>0.119</td>\n",
       "      <td>0.896</td>\n",
       "      <td>120.969</td>\n",
       "      <td>audio_features</td>\n",
       "      <td>89509</td>\n",
       "      <td>4.0</td>\n",
       "    </tr>\n",
       "    <tr>\n",
       "      <th>4</th>\n",
       "      <td>(I Just) Died In Your Arms</td>\n",
       "      <td>Cutting Crew</td>\n",
       "      <td>5504949</td>\n",
       "      <td>album rock</td>\n",
       "      <td>0.625</td>\n",
       "      <td>0.726</td>\n",
       "      <td>11.0</td>\n",
       "      <td>-11.402</td>\n",
       "      <td>0.0</td>\n",
       "      <td>0.0444</td>\n",
       "      <td>0.0158</td>\n",
       "      <td>0.000169</td>\n",
       "      <td>0.0625</td>\n",
       "      <td>0.507</td>\n",
       "      <td>124.945</td>\n",
       "      <td>audio_features</td>\n",
       "      <td>280400</td>\n",
       "      <td>4.0</td>\n",
       "    </tr>\n",
       "    <tr>\n",
       "      <th>...</th>\n",
       "      <td>...</td>\n",
       "      <td>...</td>\n",
       "      <td>...</td>\n",
       "      <td>...</td>\n",
       "      <td>...</td>\n",
       "      <td>...</td>\n",
       "      <td>...</td>\n",
       "      <td>...</td>\n",
       "      <td>...</td>\n",
       "      <td>...</td>\n",
       "      <td>...</td>\n",
       "      <td>...</td>\n",
       "      <td>...</td>\n",
       "      <td>...</td>\n",
       "      <td>...</td>\n",
       "      <td>...</td>\n",
       "      <td>...</td>\n",
       "      <td>...</td>\n",
       "    </tr>\n",
       "    <tr>\n",
       "      <th>5035</th>\n",
       "      <td>Younger with Time.</td>\n",
       "      <td>Ben Zaidi</td>\n",
       "      <td>668478</td>\n",
       "      <td>folk-pop</td>\n",
       "      <td>0.537</td>\n",
       "      <td>0.143</td>\n",
       "      <td>2.0</td>\n",
       "      <td>-16.992</td>\n",
       "      <td>1.0</td>\n",
       "      <td>0.0331</td>\n",
       "      <td>0.961</td>\n",
       "      <td>0.00572</td>\n",
       "      <td>0.11</td>\n",
       "      <td>0.245</td>\n",
       "      <td>131.118</td>\n",
       "      <td>audio_features</td>\n",
       "      <td>222827</td>\n",
       "      <td>3.0</td>\n",
       "    </tr>\n",
       "    <tr>\n",
       "      <th>5036</th>\n",
       "      <td>Your Latest Trick - Remastered 1996</td>\n",
       "      <td>Dire Straits</td>\n",
       "      <td>304382</td>\n",
       "      <td></td>\n",
       "      <td></td>\n",
       "      <td></td>\n",
       "      <td></td>\n",
       "      <td></td>\n",
       "      <td></td>\n",
       "      <td></td>\n",
       "      <td></td>\n",
       "      <td></td>\n",
       "      <td></td>\n",
       "      <td></td>\n",
       "      <td></td>\n",
       "      <td></td>\n",
       "      <td>0</td>\n",
       "      <td></td>\n",
       "    </tr>\n",
       "    <tr>\n",
       "      <th>5037</th>\n",
       "      <td>Your Love Is My Drug (8 Bit Slowed)</td>\n",
       "      <td>just valery</td>\n",
       "      <td>97600</td>\n",
       "      <td>sad lo-fi</td>\n",
       "      <td>0.282</td>\n",
       "      <td>0.158</td>\n",
       "      <td>6.0</td>\n",
       "      <td>-7.783</td>\n",
       "      <td>1.0</td>\n",
       "      <td>0.0311</td>\n",
       "      <td>0.438</td>\n",
       "      <td>0.134</td>\n",
       "      <td>0.474</td>\n",
       "      <td>0.248</td>\n",
       "      <td>65.152</td>\n",
       "      <td>audio_features</td>\n",
       "      <td>112582</td>\n",
       "      <td>4.0</td>\n",
       "    </tr>\n",
       "    <tr>\n",
       "      <th>5038</th>\n",
       "      <td>Your Power</td>\n",
       "      <td>Billie Eilish</td>\n",
       "      <td>988224</td>\n",
       "      <td>art pop</td>\n",
       "      <td>0.632</td>\n",
       "      <td>0.284</td>\n",
       "      <td>9.0</td>\n",
       "      <td>-14.025</td>\n",
       "      <td>0.0</td>\n",
       "      <td>0.0801</td>\n",
       "      <td>0.932</td>\n",
       "      <td>0.000476</td>\n",
       "      <td>0.233</td>\n",
       "      <td>0.208</td>\n",
       "      <td>129.642</td>\n",
       "      <td>audio_features</td>\n",
       "      <td>245897</td>\n",
       "      <td>4.0</td>\n",
       "    </tr>\n",
       "    <tr>\n",
       "      <th>5039</th>\n",
       "      <td>Your Voice / Bethel, NY</td>\n",
       "      <td>Jaden</td>\n",
       "      <td>213626</td>\n",
       "      <td>pop rap</td>\n",
       "      <td>0.56</td>\n",
       "      <td>0.344</td>\n",
       "      <td>3.0</td>\n",
       "      <td>-12.283</td>\n",
       "      <td>1.0</td>\n",
       "      <td>0.0306</td>\n",
       "      <td>0.866</td>\n",
       "      <td>0.00147</td>\n",
       "      <td>0.111</td>\n",
       "      <td>0.428</td>\n",
       "      <td>115.393</td>\n",
       "      <td>audio_features</td>\n",
       "      <td>213627</td>\n",
       "      <td>3.0</td>\n",
       "    </tr>\n",
       "  </tbody>\n",
       "</table>\n",
       "<p>5040 rows × 18 columns</p>\n",
       "</div>"
      ],
      "text/plain": [
       "                                              trackName  \\\n",
       "0                                              \"Honest\"   \n",
       "1     \"In The Hall Of The Mountain King\" from Peer G...   \n",
       "2                                    #BrooklynBloodPop!   \n",
       "3                                                   $10   \n",
       "4                            (I Just) Died In Your Arms   \n",
       "...                                                 ...   \n",
       "5035                                 Younger with Time.   \n",
       "5036                Your Latest Trick - Remastered 1996   \n",
       "5037                Your Love Is My Drug (8 Bit Slowed)   \n",
       "5038                                         Your Power   \n",
       "5039                            Your Voice / Bethel, NY   \n",
       "\n",
       "                     artistName  msPlayed              genre danceability  \\\n",
       "0                  Nico Collins    191772                           0.476   \n",
       "1     London Symphony Orchestra   1806234  british orchestra        0.475   \n",
       "2                          SyKo    145610         glitchcore        0.691   \n",
       "3                  Good Morning     25058   experimental pop        0.624   \n",
       "4                  Cutting Crew   5504949         album rock        0.625   \n",
       "...                         ...       ...                ...          ...   \n",
       "5035                  Ben Zaidi    668478           folk-pop        0.537   \n",
       "5036               Dire Straits    304382                                   \n",
       "5037                just valery     97600          sad lo-fi        0.282   \n",
       "5038              Billie Eilish    988224            art pop        0.632   \n",
       "5039                      Jaden    213626            pop rap         0.56   \n",
       "\n",
       "     energy   key loudness mode speechiness acousticness instrumentalness  \\\n",
       "0     0.799   4.0   -4.939  0.0       0.212       0.0162              0.0   \n",
       "1      0.13   7.0  -17.719  1.0       0.051        0.916            0.956   \n",
       "2     0.814   1.0   -3.788  0.0       0.117       0.0164              0.0   \n",
       "3     0.596   4.0   -9.804  1.0      0.0314        0.475            0.203   \n",
       "4     0.726  11.0  -11.402  0.0      0.0444       0.0158         0.000169   \n",
       "...     ...   ...      ...  ...         ...          ...              ...   \n",
       "5035  0.143   2.0  -16.992  1.0      0.0331        0.961          0.00572   \n",
       "5036                                                                        \n",
       "5037  0.158   6.0   -7.783  1.0      0.0311        0.438            0.134   \n",
       "5038  0.284   9.0  -14.025  0.0      0.0801        0.932         0.000476   \n",
       "5039  0.344   3.0  -12.283  1.0      0.0306        0.866          0.00147   \n",
       "\n",
       "     liveness valence    tempo            type  duration_ms time_signature  \n",
       "0       0.257   0.577  162.139  audio_features       191948            4.0  \n",
       "1       0.101   0.122  112.241  audio_features       150827            4.0  \n",
       "2       0.366   0.509  132.012  audio_features       145611            4.0  \n",
       "3       0.119   0.896  120.969  audio_features        89509            4.0  \n",
       "4      0.0625   0.507  124.945  audio_features       280400            4.0  \n",
       "...       ...     ...      ...             ...          ...            ...  \n",
       "5035     0.11   0.245  131.118  audio_features       222827            3.0  \n",
       "5036                                                      0                 \n",
       "5037    0.474   0.248   65.152  audio_features       112582            4.0  \n",
       "5038    0.233   0.208  129.642  audio_features       245897            4.0  \n",
       "5039    0.111   0.428  115.393  audio_features       213627            3.0  \n",
       "\n",
       "[5040 rows x 18 columns]"
      ]
     },
     "execution_count": 45,
     "metadata": {},
     "output_type": "execute_result"
    }
   ],
   "source": [
    "spotify.fillna('')"
   ]
  },
  {
   "cell_type": "markdown",
   "id": "f4a5d869",
   "metadata": {},
   "source": []
  }
 ],
 "metadata": {
  "kernelspec": {
   "display_name": "Python 3 (ipykernel)",
   "language": "python",
   "name": "python3"
  },
  "language_info": {
   "codemirror_mode": {
    "name": "ipython",
    "version": 3
   },
   "file_extension": ".py",
   "mimetype": "text/x-python",
   "name": "python",
   "nbconvert_exporter": "python",
   "pygments_lexer": "ipython3",
   "version": "3.10.10"
  }
 },
 "nbformat": 4,
 "nbformat_minor": 5
}
